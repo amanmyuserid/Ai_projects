{
 "cells": [
  {
   "cell_type": "markdown",
   "metadata": {},
   "source": [
    "# Amazon Fine Food Reviews Analysis\n",
    "\n",
    "\n",
    "Data Source: https://www.kaggle.com/snap/amazon-fine-food-reviews <br>\n",
    "\n",
    "EDA: https://nycdatascience.com/blog/student-works/amazon-fine-foods-visualization/\n",
    "\n",
    "\n",
    "The Amazon Fine Food Reviews dataset consists of reviews of fine foods from Amazon.<br>\n",
    "\n",
    "Number of reviews: 568,454<br>\n",
    "Number of users: 256,059<br>\n",
    "Number of products: 74,258<br>\n",
    "Timespan: Oct 1999 - Oct 2012<br>\n",
    "Number of Attributes/Columns in data: 10 \n",
    "\n",
    "Attribute Information:\n",
    "\n",
    "1. Id\n",
    "2. ProductId - unique identifier for the product\n",
    "3. UserId - unqiue identifier for the user\n",
    "4. ProfileName\n",
    "5. HelpfulnessNumerator - number of users who found the review helpful\n",
    "6. HelpfulnessDenominator - number of users who indicated whether they found the review helpful or not\n",
    "7. Score - rating between 1 and 5\n",
    "8. Time - timestamp for the review\n",
    "9. Summary - brief summary of the review\n",
    "10. Text - text of the review\n",
    "\n",
    "\n",
    "#### Objective:\n",
    "Given a review, determine whether the review is positive (rating of 4 or 5) or negative (rating of 1 or 2).\n",
    "\n",
    "<br>\n",
    "[Q] How to determine if a review is positive or negative?<br>\n",
    "<br> \n",
    "[Ans] We could use Score/Rating. A rating of 4 or 5 can be cosnidered as a positive review. A rating of 1 or 2 can be considered as negative one. A review of rating 3 is considered nuetral and such reviews are ignored from our analysis. This is an approximate and proxy way of determining the polarity (positivity/negativity) of a review.\n",
    "\n",
    "\n"
   ]
  },
  {
   "cell_type": "markdown",
   "metadata": {},
   "source": [
    "# [1]. Reading Data"
   ]
  },
  {
   "cell_type": "markdown",
   "metadata": {},
   "source": [
    "## [1.1] Loading the data\n",
    "\n",
    "The dataset is available in two forms\n",
    "1. .csv file\n",
    "2. SQLite Database\n",
    "\n",
    "In order to load the data, We have used the SQLITE dataset as it is easier to query the data and visualise the data efficiently.\n",
    "<br> \n",
    "\n",
    "Here as we only want to get the global sentiment of the recommendations (positive or negative), we will purposefully ignore all Scores equal to 3. If the score is above 3, then the recommendation wil be set to \"positive\". Otherwise, it will be set to \"negative\"."
   ]
  },
  {
   "cell_type": "code",
   "execution_count": 4,
   "metadata": {},
   "outputs": [],
   "source": [
    "%matplotlib inline\n",
    "import warnings\n",
    "warnings.filterwarnings(\"ignore\")\n",
    "\n",
    "\n",
    "import sqlite3\n",
    "import pandas as pd\n",
    "import numpy as np\n",
    "import nltk\n",
    "import string\n",
    "import matplotlib.pyplot as plt\n",
    "import seaborn as sns\n",
    "from sklearn.feature_extraction.text import TfidfTransformer\n",
    "from sklearn.feature_extraction.text import TfidfVectorizer\n",
    "\n",
    "from sklearn.feature_extraction.text import CountVectorizer\n",
    "from sklearn.metrics import confusion_matrix\n",
    "from sklearn import metrics\n",
    "from sklearn.metrics import roc_curve, auc\n",
    "from nltk.stem.porter import PorterStemmer\n",
    "\n",
    "import re\n",
    "# Tutorial about Python regular expressions: https://pymotw.com/2/re/\n",
    "import string\n",
    "from nltk.corpus import stopwords\n",
    "from nltk.stem import PorterStemmer\n",
    "from nltk.stem.wordnet import WordNetLemmatizer\n",
    "\n",
    "from gensim.models import Word2Vec\n",
    "from gensim.models import KeyedVectors\n",
    "import pickle\n",
    "\n",
    "from tqdm import tqdm\n",
    "import os"
   ]
  },
  {
   "cell_type": "code",
   "execution_count": 2,
   "metadata": {},
   "outputs": [
    {
     "name": "stdout",
     "output_type": "stream",
     "text": [
      "Number of data points in our data (5000, 10)\n"
     ]
    },
    {
     "data": {
      "text/html": [
       "<div>\n",
       "<style scoped>\n",
       "    .dataframe tbody tr th:only-of-type {\n",
       "        vertical-align: middle;\n",
       "    }\n",
       "\n",
       "    .dataframe tbody tr th {\n",
       "        vertical-align: top;\n",
       "    }\n",
       "\n",
       "    .dataframe thead th {\n",
       "        text-align: right;\n",
       "    }\n",
       "</style>\n",
       "<table border=\"1\" class=\"dataframe\">\n",
       "  <thead>\n",
       "    <tr style=\"text-align: right;\">\n",
       "      <th></th>\n",
       "      <th>Id</th>\n",
       "      <th>ProductId</th>\n",
       "      <th>UserId</th>\n",
       "      <th>ProfileName</th>\n",
       "      <th>HelpfulnessNumerator</th>\n",
       "      <th>HelpfulnessDenominator</th>\n",
       "      <th>Score</th>\n",
       "      <th>Time</th>\n",
       "      <th>Summary</th>\n",
       "      <th>Text</th>\n",
       "    </tr>\n",
       "  </thead>\n",
       "  <tbody>\n",
       "    <tr>\n",
       "      <th>0</th>\n",
       "      <td>1</td>\n",
       "      <td>B001E4KFG0</td>\n",
       "      <td>A3SGXH7AUHU8GW</td>\n",
       "      <td>delmartian</td>\n",
       "      <td>1</td>\n",
       "      <td>1</td>\n",
       "      <td>1</td>\n",
       "      <td>1303862400</td>\n",
       "      <td>Good Quality Dog Food</td>\n",
       "      <td>I have bought several of the Vitality canned d...</td>\n",
       "    </tr>\n",
       "    <tr>\n",
       "      <th>1</th>\n",
       "      <td>2</td>\n",
       "      <td>B00813GRG4</td>\n",
       "      <td>A1D87F6ZCVE5NK</td>\n",
       "      <td>dll pa</td>\n",
       "      <td>0</td>\n",
       "      <td>0</td>\n",
       "      <td>0</td>\n",
       "      <td>1346976000</td>\n",
       "      <td>Not as Advertised</td>\n",
       "      <td>Product arrived labeled as Jumbo Salted Peanut...</td>\n",
       "    </tr>\n",
       "    <tr>\n",
       "      <th>2</th>\n",
       "      <td>3</td>\n",
       "      <td>B000LQOCH0</td>\n",
       "      <td>ABXLMWJIXXAIN</td>\n",
       "      <td>Natalia Corres \"Natalia Corres\"</td>\n",
       "      <td>1</td>\n",
       "      <td>1</td>\n",
       "      <td>1</td>\n",
       "      <td>1219017600</td>\n",
       "      <td>\"Delight\" says it all</td>\n",
       "      <td>This is a confection that has been around a fe...</td>\n",
       "    </tr>\n",
       "  </tbody>\n",
       "</table>\n",
       "</div>"
      ],
      "text/plain": [
       "   Id   ProductId          UserId                      ProfileName  \\\n",
       "0   1  B001E4KFG0  A3SGXH7AUHU8GW                       delmartian   \n",
       "1   2  B00813GRG4  A1D87F6ZCVE5NK                           dll pa   \n",
       "2   3  B000LQOCH0   ABXLMWJIXXAIN  Natalia Corres \"Natalia Corres\"   \n",
       "\n",
       "   HelpfulnessNumerator  HelpfulnessDenominator  Score        Time  \\\n",
       "0                     1                       1      1  1303862400   \n",
       "1                     0                       0      0  1346976000   \n",
       "2                     1                       1      1  1219017600   \n",
       "\n",
       "                 Summary                                               Text  \n",
       "0  Good Quality Dog Food  I have bought several of the Vitality canned d...  \n",
       "1      Not as Advertised  Product arrived labeled as Jumbo Salted Peanut...  \n",
       "2  \"Delight\" says it all  This is a confection that has been around a fe...  "
      ]
     },
     "execution_count": 2,
     "metadata": {},
     "output_type": "execute_result"
    }
   ],
   "source": [
    "# using SQLite Table to read data.\n",
    "con = sqlite3.connect('database.sqlite') \n",
    "\n",
    "# filtering only positive and negative reviews i.e. \n",
    "# not taking into consideration those reviews with Score=3\n",
    "# SELECT * FROM Reviews WHERE Score != 3 LIMIT 500000, will give top 500000 data points\n",
    "# you can change the number to any other number based on your computing power\n",
    "\n",
    "# filtered_data = pd.read_sql_query(\"\"\" SELECT * FROM Reviews WHERE Score != 3 LIMIT 500000\"\"\", con) \n",
    "# for tsne assignment you can take 5k data points\n",
    "\n",
    "filtered_data = pd.read_sql_query(\"\"\" SELECT * FROM Reviews WHERE Score != 3 LIMIT 5000\"\"\", con) \n",
    "\n",
    "# Give reviews with Score>3 a positive rating(1), and reviews with a score<3 a negative rating(0).\n",
    "def partition(x):\n",
    "    if x < 3:\n",
    "        return 0\n",
    "    return 1\n",
    "\n",
    "#changing reviews with score less than 3 to be positive and vice-versa\n",
    "actualScore = filtered_data['Score']\n",
    "positiveNegative = actualScore.map(partition) \n",
    "filtered_data['Score'] = positiveNegative\n",
    "print(\"Number of data points in our data\", filtered_data.shape)\n",
    "filtered_data.head(3)"
   ]
  },
  {
   "cell_type": "code",
   "execution_count": 3,
   "metadata": {},
   "outputs": [],
   "source": [
    "display = pd.read_sql_query(\"\"\"\n",
    "SELECT UserId, ProductId, ProfileName, Time, Score, Text, COUNT(*)\n",
    "FROM Reviews\n",
    "GROUP BY UserId\n",
    "HAVING COUNT(*)>1\n",
    "\"\"\", con)"
   ]
  },
  {
   "cell_type": "code",
   "execution_count": 4,
   "metadata": {
    "scrolled": true
   },
   "outputs": [
    {
     "name": "stdout",
     "output_type": "stream",
     "text": [
      "(80668, 7)\n"
     ]
    },
    {
     "data": {
      "text/html": [
       "<div>\n",
       "<style scoped>\n",
       "    .dataframe tbody tr th:only-of-type {\n",
       "        vertical-align: middle;\n",
       "    }\n",
       "\n",
       "    .dataframe tbody tr th {\n",
       "        vertical-align: top;\n",
       "    }\n",
       "\n",
       "    .dataframe thead th {\n",
       "        text-align: right;\n",
       "    }\n",
       "</style>\n",
       "<table border=\"1\" class=\"dataframe\">\n",
       "  <thead>\n",
       "    <tr style=\"text-align: right;\">\n",
       "      <th></th>\n",
       "      <th>UserId</th>\n",
       "      <th>ProductId</th>\n",
       "      <th>ProfileName</th>\n",
       "      <th>Time</th>\n",
       "      <th>Score</th>\n",
       "      <th>Text</th>\n",
       "      <th>COUNT(*)</th>\n",
       "    </tr>\n",
       "  </thead>\n",
       "  <tbody>\n",
       "    <tr>\n",
       "      <th>0</th>\n",
       "      <td>#oc-R115TNMSPFT9I7</td>\n",
       "      <td>B007Y59HVM</td>\n",
       "      <td>Breyton</td>\n",
       "      <td>1331510400</td>\n",
       "      <td>2</td>\n",
       "      <td>Overall its just OK when considering the price...</td>\n",
       "      <td>2</td>\n",
       "    </tr>\n",
       "    <tr>\n",
       "      <th>1</th>\n",
       "      <td>#oc-R11D9D7SHXIJB9</td>\n",
       "      <td>B005HG9ET0</td>\n",
       "      <td>Louis E. Emory \"hoppy\"</td>\n",
       "      <td>1342396800</td>\n",
       "      <td>5</td>\n",
       "      <td>My wife has recurring extreme muscle spasms, u...</td>\n",
       "      <td>3</td>\n",
       "    </tr>\n",
       "    <tr>\n",
       "      <th>2</th>\n",
       "      <td>#oc-R11DNU2NBKQ23Z</td>\n",
       "      <td>B007Y59HVM</td>\n",
       "      <td>Kim Cieszykowski</td>\n",
       "      <td>1348531200</td>\n",
       "      <td>1</td>\n",
       "      <td>This coffee is horrible and unfortunately not ...</td>\n",
       "      <td>2</td>\n",
       "    </tr>\n",
       "    <tr>\n",
       "      <th>3</th>\n",
       "      <td>#oc-R11O5J5ZVQE25C</td>\n",
       "      <td>B005HG9ET0</td>\n",
       "      <td>Penguin Chick</td>\n",
       "      <td>1346889600</td>\n",
       "      <td>5</td>\n",
       "      <td>This will be the bottle that you grab from the...</td>\n",
       "      <td>3</td>\n",
       "    </tr>\n",
       "    <tr>\n",
       "      <th>4</th>\n",
       "      <td>#oc-R12KPBODL2B5ZD</td>\n",
       "      <td>B007OSBE1U</td>\n",
       "      <td>Christopher P. Presta</td>\n",
       "      <td>1348617600</td>\n",
       "      <td>1</td>\n",
       "      <td>I didnt like this coffee. Instead of telling y...</td>\n",
       "      <td>2</td>\n",
       "    </tr>\n",
       "  </tbody>\n",
       "</table>\n",
       "</div>"
      ],
      "text/plain": [
       "               UserId   ProductId             ProfileName        Time  Score  \\\n",
       "0  #oc-R115TNMSPFT9I7  B007Y59HVM                 Breyton  1331510400      2   \n",
       "1  #oc-R11D9D7SHXIJB9  B005HG9ET0  Louis E. Emory \"hoppy\"  1342396800      5   \n",
       "2  #oc-R11DNU2NBKQ23Z  B007Y59HVM        Kim Cieszykowski  1348531200      1   \n",
       "3  #oc-R11O5J5ZVQE25C  B005HG9ET0           Penguin Chick  1346889600      5   \n",
       "4  #oc-R12KPBODL2B5ZD  B007OSBE1U   Christopher P. Presta  1348617600      1   \n",
       "\n",
       "                                                Text  COUNT(*)  \n",
       "0  Overall its just OK when considering the price...         2  \n",
       "1  My wife has recurring extreme muscle spasms, u...         3  \n",
       "2  This coffee is horrible and unfortunately not ...         2  \n",
       "3  This will be the bottle that you grab from the...         3  \n",
       "4  I didnt like this coffee. Instead of telling y...         2  "
      ]
     },
     "execution_count": 4,
     "metadata": {},
     "output_type": "execute_result"
    }
   ],
   "source": [
    "print(display.shape)\n",
    "display.head()"
   ]
  },
  {
   "cell_type": "code",
   "execution_count": 5,
   "metadata": {},
   "outputs": [
    {
     "data": {
      "text/html": [
       "<div>\n",
       "<style scoped>\n",
       "    .dataframe tbody tr th:only-of-type {\n",
       "        vertical-align: middle;\n",
       "    }\n",
       "\n",
       "    .dataframe tbody tr th {\n",
       "        vertical-align: top;\n",
       "    }\n",
       "\n",
       "    .dataframe thead th {\n",
       "        text-align: right;\n",
       "    }\n",
       "</style>\n",
       "<table border=\"1\" class=\"dataframe\">\n",
       "  <thead>\n",
       "    <tr style=\"text-align: right;\">\n",
       "      <th></th>\n",
       "      <th>UserId</th>\n",
       "      <th>ProductId</th>\n",
       "      <th>ProfileName</th>\n",
       "      <th>Time</th>\n",
       "      <th>Score</th>\n",
       "      <th>Text</th>\n",
       "      <th>COUNT(*)</th>\n",
       "    </tr>\n",
       "  </thead>\n",
       "  <tbody>\n",
       "    <tr>\n",
       "      <th>80638</th>\n",
       "      <td>AZY10LLTJ71NX</td>\n",
       "      <td>B006P7E5ZI</td>\n",
       "      <td>undertheshrine \"undertheshrine\"</td>\n",
       "      <td>1334707200</td>\n",
       "      <td>5</td>\n",
       "      <td>I was recommended to try green tea extract to ...</td>\n",
       "      <td>5</td>\n",
       "    </tr>\n",
       "  </tbody>\n",
       "</table>\n",
       "</div>"
      ],
      "text/plain": [
       "              UserId   ProductId                      ProfileName        Time  \\\n",
       "80638  AZY10LLTJ71NX  B006P7E5ZI  undertheshrine \"undertheshrine\"  1334707200   \n",
       "\n",
       "       Score                                               Text  COUNT(*)  \n",
       "80638      5  I was recommended to try green tea extract to ...         5  "
      ]
     },
     "execution_count": 5,
     "metadata": {},
     "output_type": "execute_result"
    }
   ],
   "source": [
    "display[display['UserId']=='AZY10LLTJ71NX']"
   ]
  },
  {
   "cell_type": "code",
   "execution_count": 6,
   "metadata": {},
   "outputs": [
    {
     "data": {
      "text/plain": [
       "393063"
      ]
     },
     "execution_count": 6,
     "metadata": {},
     "output_type": "execute_result"
    }
   ],
   "source": [
    "display['COUNT(*)'].sum()"
   ]
  },
  {
   "cell_type": "markdown",
   "metadata": {},
   "source": [
    "#  [2] Exploratory Data Analysis"
   ]
  },
  {
   "cell_type": "markdown",
   "metadata": {},
   "source": [
    "## [2.1] Data Cleaning: Deduplication\n",
    "\n",
    "It is observed (as shown in the table below) that the reviews data had many duplicate entries. Hence it was necessary to remove duplicates in order to get unbiased results for the analysis of the data.  Following is an example:"
   ]
  },
  {
   "cell_type": "code",
   "execution_count": 7,
   "metadata": {
    "scrolled": false
   },
   "outputs": [
    {
     "data": {
      "text/html": [
       "<div>\n",
       "<style scoped>\n",
       "    .dataframe tbody tr th:only-of-type {\n",
       "        vertical-align: middle;\n",
       "    }\n",
       "\n",
       "    .dataframe tbody tr th {\n",
       "        vertical-align: top;\n",
       "    }\n",
       "\n",
       "    .dataframe thead th {\n",
       "        text-align: right;\n",
       "    }\n",
       "</style>\n",
       "<table border=\"1\" class=\"dataframe\">\n",
       "  <thead>\n",
       "    <tr style=\"text-align: right;\">\n",
       "      <th></th>\n",
       "      <th>Id</th>\n",
       "      <th>ProductId</th>\n",
       "      <th>UserId</th>\n",
       "      <th>ProfileName</th>\n",
       "      <th>HelpfulnessNumerator</th>\n",
       "      <th>HelpfulnessDenominator</th>\n",
       "      <th>Score</th>\n",
       "      <th>Time</th>\n",
       "      <th>Summary</th>\n",
       "      <th>Text</th>\n",
       "    </tr>\n",
       "  </thead>\n",
       "  <tbody>\n",
       "    <tr>\n",
       "      <th>0</th>\n",
       "      <td>78445</td>\n",
       "      <td>B000HDL1RQ</td>\n",
       "      <td>AR5J8UI46CURR</td>\n",
       "      <td>Geetha Krishnan</td>\n",
       "      <td>2</td>\n",
       "      <td>2</td>\n",
       "      <td>5</td>\n",
       "      <td>1199577600</td>\n",
       "      <td>LOACKER QUADRATINI VANILLA WAFERS</td>\n",
       "      <td>DELICIOUS WAFERS. I FIND THAT EUROPEAN WAFERS ...</td>\n",
       "    </tr>\n",
       "    <tr>\n",
       "      <th>1</th>\n",
       "      <td>138317</td>\n",
       "      <td>B000HDOPYC</td>\n",
       "      <td>AR5J8UI46CURR</td>\n",
       "      <td>Geetha Krishnan</td>\n",
       "      <td>2</td>\n",
       "      <td>2</td>\n",
       "      <td>5</td>\n",
       "      <td>1199577600</td>\n",
       "      <td>LOACKER QUADRATINI VANILLA WAFERS</td>\n",
       "      <td>DELICIOUS WAFERS. I FIND THAT EUROPEAN WAFERS ...</td>\n",
       "    </tr>\n",
       "    <tr>\n",
       "      <th>2</th>\n",
       "      <td>138277</td>\n",
       "      <td>B000HDOPYM</td>\n",
       "      <td>AR5J8UI46CURR</td>\n",
       "      <td>Geetha Krishnan</td>\n",
       "      <td>2</td>\n",
       "      <td>2</td>\n",
       "      <td>5</td>\n",
       "      <td>1199577600</td>\n",
       "      <td>LOACKER QUADRATINI VANILLA WAFERS</td>\n",
       "      <td>DELICIOUS WAFERS. I FIND THAT EUROPEAN WAFERS ...</td>\n",
       "    </tr>\n",
       "    <tr>\n",
       "      <th>3</th>\n",
       "      <td>73791</td>\n",
       "      <td>B000HDOPZG</td>\n",
       "      <td>AR5J8UI46CURR</td>\n",
       "      <td>Geetha Krishnan</td>\n",
       "      <td>2</td>\n",
       "      <td>2</td>\n",
       "      <td>5</td>\n",
       "      <td>1199577600</td>\n",
       "      <td>LOACKER QUADRATINI VANILLA WAFERS</td>\n",
       "      <td>DELICIOUS WAFERS. I FIND THAT EUROPEAN WAFERS ...</td>\n",
       "    </tr>\n",
       "    <tr>\n",
       "      <th>4</th>\n",
       "      <td>155049</td>\n",
       "      <td>B000PAQ75C</td>\n",
       "      <td>AR5J8UI46CURR</td>\n",
       "      <td>Geetha Krishnan</td>\n",
       "      <td>2</td>\n",
       "      <td>2</td>\n",
       "      <td>5</td>\n",
       "      <td>1199577600</td>\n",
       "      <td>LOACKER QUADRATINI VANILLA WAFERS</td>\n",
       "      <td>DELICIOUS WAFERS. I FIND THAT EUROPEAN WAFERS ...</td>\n",
       "    </tr>\n",
       "  </tbody>\n",
       "</table>\n",
       "</div>"
      ],
      "text/plain": [
       "       Id   ProductId         UserId      ProfileName  HelpfulnessNumerator  \\\n",
       "0   78445  B000HDL1RQ  AR5J8UI46CURR  Geetha Krishnan                     2   \n",
       "1  138317  B000HDOPYC  AR5J8UI46CURR  Geetha Krishnan                     2   \n",
       "2  138277  B000HDOPYM  AR5J8UI46CURR  Geetha Krishnan                     2   \n",
       "3   73791  B000HDOPZG  AR5J8UI46CURR  Geetha Krishnan                     2   \n",
       "4  155049  B000PAQ75C  AR5J8UI46CURR  Geetha Krishnan                     2   \n",
       "\n",
       "   HelpfulnessDenominator  Score        Time  \\\n",
       "0                       2      5  1199577600   \n",
       "1                       2      5  1199577600   \n",
       "2                       2      5  1199577600   \n",
       "3                       2      5  1199577600   \n",
       "4                       2      5  1199577600   \n",
       "\n",
       "                             Summary  \\\n",
       "0  LOACKER QUADRATINI VANILLA WAFERS   \n",
       "1  LOACKER QUADRATINI VANILLA WAFERS   \n",
       "2  LOACKER QUADRATINI VANILLA WAFERS   \n",
       "3  LOACKER QUADRATINI VANILLA WAFERS   \n",
       "4  LOACKER QUADRATINI VANILLA WAFERS   \n",
       "\n",
       "                                                Text  \n",
       "0  DELICIOUS WAFERS. I FIND THAT EUROPEAN WAFERS ...  \n",
       "1  DELICIOUS WAFERS. I FIND THAT EUROPEAN WAFERS ...  \n",
       "2  DELICIOUS WAFERS. I FIND THAT EUROPEAN WAFERS ...  \n",
       "3  DELICIOUS WAFERS. I FIND THAT EUROPEAN WAFERS ...  \n",
       "4  DELICIOUS WAFERS. I FIND THAT EUROPEAN WAFERS ...  "
      ]
     },
     "execution_count": 7,
     "metadata": {},
     "output_type": "execute_result"
    }
   ],
   "source": [
    "display= pd.read_sql_query(\"\"\"\n",
    "SELECT *\n",
    "FROM Reviews\n",
    "WHERE Score != 3 AND UserId=\"AR5J8UI46CURR\"\n",
    "ORDER BY ProductID\n",
    "\"\"\", con)\n",
    "display.head()"
   ]
  },
  {
   "cell_type": "markdown",
   "metadata": {},
   "source": [
    "As it can be seen above that same user has multiple reviews with same values for HelpfulnessNumerator, HelpfulnessDenominator, Score, Time, Summary and Text and on doing analysis it was found that <br>\n",
    "<br> \n",
    "ProductId=B000HDOPZG was Loacker Quadratini Vanilla Wafer Cookies, 8.82-Ounce Packages (Pack of 8)<br>\n",
    "<br> \n",
    "ProductId=B000HDL1RQ was Loacker Quadratini Lemon Wafer Cookies, 8.82-Ounce Packages (Pack of 8) and so on<br>\n",
    "\n",
    "It was inferred after analysis that reviews with same parameters other than ProductId belonged to the same product just having different flavour or quantity. Hence in order to reduce redundancy it was decided to eliminate the rows having same parameters.<br>\n",
    "\n",
    "The method used for the same was that we first sort the data according to ProductId and then just keep the first similar product review and delelte the others. for eg. in the above just the review for ProductId=B000HDL1RQ remains. This method ensures that there is only one representative for each product and deduplication without sorting would lead to possibility of different representatives still existing for the same product."
   ]
  },
  {
   "cell_type": "code",
   "execution_count": 8,
   "metadata": {},
   "outputs": [],
   "source": [
    "#Sorting data according to ProductId in ascending order\n",
    "sorted_data=filtered_data.sort_values('ProductId', axis=0, ascending=True, inplace=False, kind='quicksort', na_position='last')"
   ]
  },
  {
   "cell_type": "code",
   "execution_count": 9,
   "metadata": {},
   "outputs": [
    {
     "data": {
      "text/plain": [
       "(4986, 10)"
      ]
     },
     "execution_count": 9,
     "metadata": {},
     "output_type": "execute_result"
    }
   ],
   "source": [
    "#Deduplication of entries\n",
    "final=sorted_data.drop_duplicates(subset={\"UserId\",\"ProfileName\",\"Time\",\"Text\"}, keep='first', inplace=False)\n",
    "final.shape"
   ]
  },
  {
   "cell_type": "code",
   "execution_count": 10,
   "metadata": {},
   "outputs": [
    {
     "data": {
      "text/plain": [
       "99.72"
      ]
     },
     "execution_count": 10,
     "metadata": {},
     "output_type": "execute_result"
    }
   ],
   "source": [
    "#Checking to see how much % of data still remains\n",
    "(final['Id'].size*1.0)/(filtered_data['Id'].size*1.0)*100"
   ]
  },
  {
   "cell_type": "markdown",
   "metadata": {},
   "source": [
    "<b>Observation:-</b> It was also seen that in two rows given below the value of HelpfulnessNumerator is greater than HelpfulnessDenominator which is not practically possible hence these two rows too are removed from calcualtions"
   ]
  },
  {
   "cell_type": "code",
   "execution_count": 11,
   "metadata": {},
   "outputs": [
    {
     "data": {
      "text/html": [
       "<div>\n",
       "<style scoped>\n",
       "    .dataframe tbody tr th:only-of-type {\n",
       "        vertical-align: middle;\n",
       "    }\n",
       "\n",
       "    .dataframe tbody tr th {\n",
       "        vertical-align: top;\n",
       "    }\n",
       "\n",
       "    .dataframe thead th {\n",
       "        text-align: right;\n",
       "    }\n",
       "</style>\n",
       "<table border=\"1\" class=\"dataframe\">\n",
       "  <thead>\n",
       "    <tr style=\"text-align: right;\">\n",
       "      <th></th>\n",
       "      <th>Id</th>\n",
       "      <th>ProductId</th>\n",
       "      <th>UserId</th>\n",
       "      <th>ProfileName</th>\n",
       "      <th>HelpfulnessNumerator</th>\n",
       "      <th>HelpfulnessDenominator</th>\n",
       "      <th>Score</th>\n",
       "      <th>Time</th>\n",
       "      <th>Summary</th>\n",
       "      <th>Text</th>\n",
       "    </tr>\n",
       "  </thead>\n",
       "  <tbody>\n",
       "    <tr>\n",
       "      <th>0</th>\n",
       "      <td>64422</td>\n",
       "      <td>B000MIDROQ</td>\n",
       "      <td>A161DK06JJMCYF</td>\n",
       "      <td>J. E. Stephens \"Jeanne\"</td>\n",
       "      <td>3</td>\n",
       "      <td>1</td>\n",
       "      <td>5</td>\n",
       "      <td>1224892800</td>\n",
       "      <td>Bought This for My Son at College</td>\n",
       "      <td>My son loves spaghetti so I didn't hesitate or...</td>\n",
       "    </tr>\n",
       "    <tr>\n",
       "      <th>1</th>\n",
       "      <td>44737</td>\n",
       "      <td>B001EQ55RW</td>\n",
       "      <td>A2V0I904FH7ABY</td>\n",
       "      <td>Ram</td>\n",
       "      <td>3</td>\n",
       "      <td>2</td>\n",
       "      <td>4</td>\n",
       "      <td>1212883200</td>\n",
       "      <td>Pure cocoa taste with crunchy almonds inside</td>\n",
       "      <td>It was almost a 'love at first bite' - the per...</td>\n",
       "    </tr>\n",
       "  </tbody>\n",
       "</table>\n",
       "</div>"
      ],
      "text/plain": [
       "      Id   ProductId          UserId              ProfileName  \\\n",
       "0  64422  B000MIDROQ  A161DK06JJMCYF  J. E. Stephens \"Jeanne\"   \n",
       "1  44737  B001EQ55RW  A2V0I904FH7ABY                      Ram   \n",
       "\n",
       "   HelpfulnessNumerator  HelpfulnessDenominator  Score        Time  \\\n",
       "0                     3                       1      5  1224892800   \n",
       "1                     3                       2      4  1212883200   \n",
       "\n",
       "                                        Summary  \\\n",
       "0             Bought This for My Son at College   \n",
       "1  Pure cocoa taste with crunchy almonds inside   \n",
       "\n",
       "                                                Text  \n",
       "0  My son loves spaghetti so I didn't hesitate or...  \n",
       "1  It was almost a 'love at first bite' - the per...  "
      ]
     },
     "execution_count": 11,
     "metadata": {},
     "output_type": "execute_result"
    }
   ],
   "source": [
    "display= pd.read_sql_query(\"\"\"\n",
    "SELECT *\n",
    "FROM Reviews\n",
    "WHERE Score != 3 AND Id=44737 OR Id=64422\n",
    "ORDER BY ProductID\n",
    "\"\"\", con)\n",
    "\n",
    "display.head()"
   ]
  },
  {
   "cell_type": "code",
   "execution_count": 12,
   "metadata": {},
   "outputs": [],
   "source": [
    "final=final[final.HelpfulnessNumerator<=final.HelpfulnessDenominator]"
   ]
  },
  {
   "cell_type": "code",
   "execution_count": 13,
   "metadata": {},
   "outputs": [
    {
     "name": "stdout",
     "output_type": "stream",
     "text": [
      "(4986, 10)\n"
     ]
    },
    {
     "data": {
      "text/plain": [
       "1    4178\n",
       "0     808\n",
       "Name: Score, dtype: int64"
      ]
     },
     "execution_count": 13,
     "metadata": {},
     "output_type": "execute_result"
    }
   ],
   "source": [
    "#Before starting the next phase of preprocessing lets see the number of entries left\n",
    "print(final.shape)\n",
    "\n",
    "#How many positive and negative reviews are present in our dataset?\n",
    "final['Score'].value_counts()"
   ]
  },
  {
   "cell_type": "markdown",
   "metadata": {},
   "source": [
    "#  [3] Preprocessing"
   ]
  },
  {
   "cell_type": "markdown",
   "metadata": {},
   "source": [
    "## [3.1].  Preprocessing Review Text\n",
    "\n",
    "Now that we have finished deduplication our data requires some preprocessing before we go on further with analysis and making the prediction model.\n",
    "\n",
    "Hence in the Preprocessing phase we do the following in the order below:-\n",
    "\n",
    "1. Begin by removing the html tags\n",
    "2. Remove any punctuations or limited set of special characters like , or . or # etc.\n",
    "3. Check if the word is made up of english letters and is not alpha-numeric\n",
    "4. Check to see if the length of the word is greater than 2 (as it was researched that there is no adjective in 2-letters)\n",
    "5. Convert the word to lowercase\n",
    "6. Remove Stopwords\n",
    "7. Finally Snowball Stemming the word (it was obsereved to be better than Porter Stemming)<br>\n",
    "\n",
    "After which we collect the words used to describe positive and negative reviews"
   ]
  },
  {
   "cell_type": "code",
   "execution_count": 14,
   "metadata": {},
   "outputs": [
    {
     "name": "stdout",
     "output_type": "stream",
     "text": [
      "Why is this $[...] when the same product is available for $[...] here?<br />http://www.amazon.com/VICTOR-FLY-MAGNET-BAIT-REFILL/dp/B00004RBDY<br /><br />The Victor M380 and M502 traps are unreal, of course -- total fly genocide. Pretty stinky, but only right nearby.\n",
      "==================================================\n",
      "I recently tried this flavor/brand and was surprised at how delicious these chips are.  The best thing was that there were a lot of \"brown\" chips in the bsg (my favorite), so I bought some more through amazon and shared with family and friends.  I am a little disappointed that there are not, so far, very many brown chips in these bags, but the flavor is still very good.  I like them better than the yogurt and green onion flavor because they do not seem to be as salty, and the onion flavor is better.  If you haven't eaten Kettle chips before, I recommend that you try a bag before buying bulk.  They are thicker and crunchier than Lays but just as fresh out of the bag.\n",
      "==================================================\n",
      "Wow.  So far, two two-star reviews.  One obviously had no idea what they were ordering; the other wants crispy cookies.  Hey, I'm sorry; but these reviews do nobody any good beyond reminding us to look  before ordering.<br /><br />These are chocolate-oatmeal cookies.  If you don't like that combination, don't order this type of cookie.  I find the combo quite nice, really.  The oatmeal sort of \"calms\" the rich chocolate flavor and gives the cookie sort of a coconut-type consistency.  Now let's also remember that tastes differ; so, I've given my opinion.<br /><br />Then, these are soft, chewy cookies -- as advertised.  They are not \"crispy\" cookies, or the blurb would say \"crispy,\" rather than \"chewy.\"  I happen to like raw cookie dough; however, I don't see where these taste like raw cookie dough.  Both are soft, however, so is this the confusion?  And, yes, they stick together.  Soft cookies tend to do that.  They aren't individually wrapped, which would add to the cost.  Oh yeah, chocolate chip cookies tend to be somewhat sweet.<br /><br />So, if you want something hard and crisp, I suggest Nabiso's Ginger Snaps.  If you want a cookie that's soft, chewy and tastes like a combination of chocolate and oatmeal, give these a try.  I'm here to place my second order.\n",
      "==================================================\n",
      "love to order my coffee on amazon.  easy and shows up quickly.<br />This k cup is great coffee.  dcaf is very good as well\n",
      "==================================================\n"
     ]
    }
   ],
   "source": [
    "# printing some random reviews\n",
    "sent_0 = final['Text'].values[0]\n",
    "print(sent_0)\n",
    "print(\"=\"*50)\n",
    "\n",
    "sent_1000 = final['Text'].values[1000]\n",
    "print(sent_1000)\n",
    "print(\"=\"*50)\n",
    "\n",
    "sent_1500 = final['Text'].values[1500]\n",
    "print(sent_1500)\n",
    "print(\"=\"*50)\n",
    "\n",
    "sent_4900 = final['Text'].values[4900]\n",
    "print(sent_4900)\n",
    "print(\"=\"*50)"
   ]
  },
  {
   "cell_type": "code",
   "execution_count": 15,
   "metadata": {},
   "outputs": [
    {
     "name": "stdout",
     "output_type": "stream",
     "text": [
      "Why is this $[...] when the same product is available for $[...] here?<br /> /><br />The Victor M380 and M502 traps are unreal, of course -- total fly genocide. Pretty stinky, but only right nearby.\n"
     ]
    }
   ],
   "source": [
    "# remove urls from text python: https://stackoverflow.com/a/40823105/4084039\n",
    "sent_0 = re.sub(r\"http\\S+\", \"\", sent_0)\n",
    "sent_1000 = re.sub(r\"http\\S+\", \"\", sent_1000)\n",
    "sent_150 = re.sub(r\"http\\S+\", \"\", sent_1500)\n",
    "sent_4900 = re.sub(r\"http\\S+\", \"\", sent_4900)\n",
    "\n",
    "print(sent_0)"
   ]
  },
  {
   "cell_type": "code",
   "execution_count": 16,
   "metadata": {},
   "outputs": [
    {
     "name": "stdout",
     "output_type": "stream",
     "text": [
      "Why is this $[...] when the same product is available for $[...] here? />The Victor M380 and M502 traps are unreal, of course -- total fly genocide. Pretty stinky, but only right nearby.\n",
      "==================================================\n",
      "I recently tried this flavor/brand and was surprised at how delicious these chips are.  The best thing was that there were a lot of \"brown\" chips in the bsg (my favorite), so I bought some more through amazon and shared with family and friends.  I am a little disappointed that there are not, so far, very many brown chips in these bags, but the flavor is still very good.  I like them better than the yogurt and green onion flavor because they do not seem to be as salty, and the onion flavor is better.  If you haven't eaten Kettle chips before, I recommend that you try a bag before buying bulk.  They are thicker and crunchier than Lays but just as fresh out of the bag.\n",
      "==================================================\n",
      "Wow.  So far, two two-star reviews.  One obviously had no idea what they were ordering; the other wants crispy cookies.  Hey, I'm sorry; but these reviews do nobody any good beyond reminding us to look  before ordering.These are chocolate-oatmeal cookies.  If you don't like that combination, don't order this type of cookie.  I find the combo quite nice, really.  The oatmeal sort of \"calms\" the rich chocolate flavor and gives the cookie sort of a coconut-type consistency.  Now let's also remember that tastes differ; so, I've given my opinion.Then, these are soft, chewy cookies -- as advertised.  They are not \"crispy\" cookies, or the blurb would say \"crispy,\" rather than \"chewy.\"  I happen to like raw cookie dough; however, I don't see where these taste like raw cookie dough.  Both are soft, however, so is this the confusion?  And, yes, they stick together.  Soft cookies tend to do that.  They aren't individually wrapped, which would add to the cost.  Oh yeah, chocolate chip cookies tend to be somewhat sweet.So, if you want something hard and crisp, I suggest Nabiso's Ginger Snaps.  If you want a cookie that's soft, chewy and tastes like a combination of chocolate and oatmeal, give these a try.  I'm here to place my second order.\n",
      "==================================================\n",
      "love to order my coffee on amazon.  easy and shows up quickly.This k cup is great coffee.  dcaf is very good as well\n"
     ]
    }
   ],
   "source": [
    "# https://stackoverflow.com/questions/16206380/python-beautifulsoup-how-to-remove-all-tags-from-an-element\n",
    "from bs4 import BeautifulSoup\n",
    "\n",
    "soup = BeautifulSoup(sent_0, 'lxml')\n",
    "text = soup.get_text()\n",
    "print(text)\n",
    "print(\"=\"*50)\n",
    "\n",
    "soup = BeautifulSoup(sent_1000, 'lxml')\n",
    "text = soup.get_text()\n",
    "print(text)\n",
    "print(\"=\"*50)\n",
    "\n",
    "soup = BeautifulSoup(sent_1500, 'lxml')\n",
    "text = soup.get_text()\n",
    "print(text)\n",
    "print(\"=\"*50)\n",
    "\n",
    "soup = BeautifulSoup(sent_4900, 'lxml')\n",
    "text = soup.get_text()\n",
    "print(text)"
   ]
  },
  {
   "cell_type": "code",
   "execution_count": 17,
   "metadata": {},
   "outputs": [],
   "source": [
    "# https://stackoverflow.com/a/47091490/4084039\n",
    "import re\n",
    "\n",
    "def decontracted(phrase):\n",
    "    # specific\n",
    "    phrase = re.sub(r\"won't\", \"will not\", phrase)\n",
    "    phrase = re.sub(r\"can\\'t\", \"can not\", phrase)\n",
    "\n",
    "    # general\n",
    "    phrase = re.sub(r\"n\\'t\", \" not\", phrase)\n",
    "    phrase = re.sub(r\"\\'re\", \" are\", phrase)\n",
    "    phrase = re.sub(r\"\\'s\", \" is\", phrase)\n",
    "    phrase = re.sub(r\"\\'d\", \" would\", phrase)\n",
    "    phrase = re.sub(r\"\\'ll\", \" will\", phrase)\n",
    "    phrase = re.sub(r\"\\'t\", \" not\", phrase)\n",
    "    phrase = re.sub(r\"\\'ve\", \" have\", phrase)\n",
    "    phrase = re.sub(r\"\\'m\", \" am\", phrase)\n",
    "    return phrase"
   ]
  },
  {
   "cell_type": "code",
   "execution_count": 18,
   "metadata": {},
   "outputs": [
    {
     "name": "stdout",
     "output_type": "stream",
     "text": [
      "Wow.  So far, two two-star reviews.  One obviously had no idea what they were ordering; the other wants crispy cookies.  Hey, I am sorry; but these reviews do nobody any good beyond reminding us to look  before ordering.<br /><br />These are chocolate-oatmeal cookies.  If you do not like that combination, do not order this type of cookie.  I find the combo quite nice, really.  The oatmeal sort of \"calms\" the rich chocolate flavor and gives the cookie sort of a coconut-type consistency.  Now let is also remember that tastes differ; so, I have given my opinion.<br /><br />Then, these are soft, chewy cookies -- as advertised.  They are not \"crispy\" cookies, or the blurb would say \"crispy,\" rather than \"chewy.\"  I happen to like raw cookie dough; however, I do not see where these taste like raw cookie dough.  Both are soft, however, so is this the confusion?  And, yes, they stick together.  Soft cookies tend to do that.  They are not individually wrapped, which would add to the cost.  Oh yeah, chocolate chip cookies tend to be somewhat sweet.<br /><br />So, if you want something hard and crisp, I suggest Nabiso is Ginger Snaps.  If you want a cookie that is soft, chewy and tastes like a combination of chocolate and oatmeal, give these a try.  I am here to place my second order.\n",
      "==================================================\n"
     ]
    }
   ],
   "source": [
    "sent_1500 = decontracted(sent_1500)\n",
    "print(sent_1500)\n",
    "print(\"=\"*50)"
   ]
  },
  {
   "cell_type": "code",
   "execution_count": 19,
   "metadata": {},
   "outputs": [
    {
     "name": "stdout",
     "output_type": "stream",
     "text": [
      "Why is this $[...] when the same product is available for $[...] here?<br /> /><br />The Victor  and  traps are unreal, of course -- total fly genocide. Pretty stinky, but only right nearby.\n"
     ]
    }
   ],
   "source": [
    "#remove words with numbers python: https://stackoverflow.com/a/18082370/4084039\n",
    "sent_0 = re.sub(\"\\S*\\d\\S*\", \"\", sent_0).strip()\n",
    "print(sent_0)"
   ]
  },
  {
   "cell_type": "code",
   "execution_count": 20,
   "metadata": {},
   "outputs": [
    {
     "name": "stdout",
     "output_type": "stream",
     "text": [
      "Wow So far two two star reviews One obviously had no idea what they were ordering the other wants crispy cookies Hey I am sorry but these reviews do nobody any good beyond reminding us to look before ordering br br These are chocolate oatmeal cookies If you do not like that combination do not order this type of cookie I find the combo quite nice really The oatmeal sort of calms the rich chocolate flavor and gives the cookie sort of a coconut type consistency Now let is also remember that tastes differ so I have given my opinion br br Then these are soft chewy cookies as advertised They are not crispy cookies or the blurb would say crispy rather than chewy I happen to like raw cookie dough however I do not see where these taste like raw cookie dough Both are soft however so is this the confusion And yes they stick together Soft cookies tend to do that They are not individually wrapped which would add to the cost Oh yeah chocolate chip cookies tend to be somewhat sweet br br So if you want something hard and crisp I suggest Nabiso is Ginger Snaps If you want a cookie that is soft chewy and tastes like a combination of chocolate and oatmeal give these a try I am here to place my second order \n"
     ]
    }
   ],
   "source": [
    "#remove spacial character: https://stackoverflow.com/a/5843547/4084039\n",
    "sent_1500 = re.sub('[^A-Za-z0-9]+', ' ', sent_1500)\n",
    "print(sent_1500)"
   ]
  },
  {
   "cell_type": "code",
   "execution_count": 21,
   "metadata": {},
   "outputs": [],
   "source": [
    "# https://gist.github.com/sebleier/554280\n",
    "# we are removing the words from the stop words list: 'no', 'nor', 'not'\n",
    "# <br /><br /> ==> after the above steps, we are getting \"br br\"\n",
    "# we are including them into stop words list\n",
    "# instead of <br /> if we have <br/> these tags would have revmoved in the 1st step\n",
    "\n",
    "stopwords= set(['br', 'the', 'i', 'me', 'my', 'myself', 'we', 'our', 'ours', 'ourselves', 'you', \"you're\", \"you've\",\\\n",
    "            \"you'll\", \"you'd\", 'your', 'yours', 'yourself', 'yourselves', 'he', 'him', 'his', 'himself', \\\n",
    "            'she', \"she's\", 'her', 'hers', 'herself', 'it', \"it's\", 'its', 'itself', 'they', 'them', 'their',\\\n",
    "            'theirs', 'themselves', 'what', 'which', 'who', 'whom', 'this', 'that', \"that'll\", 'these', 'those', \\\n",
    "            'am', 'is', 'are', 'was', 'were', 'be', 'been', 'being', 'have', 'has', 'had', 'having', 'do', 'does', \\\n",
    "            'did', 'doing', 'a', 'an', 'the', 'and', 'but', 'if', 'or', 'because', 'as', 'until', 'while', 'of', \\\n",
    "            'at', 'by', 'for', 'with', 'about', 'against', 'between', 'into', 'through', 'during', 'before', 'after',\\\n",
    "            'above', 'below', 'to', 'from', 'up', 'down', 'in', 'out', 'on', 'off', 'over', 'under', 'again', 'further',\\\n",
    "            'then', 'once', 'here', 'there', 'when', 'where', 'why', 'how', 'all', 'any', 'both', 'each', 'few', 'more',\\\n",
    "            'most', 'other', 'some', 'such', 'only', 'own', 'same', 'so', 'than', 'too', 'very', \\\n",
    "            's', 't', 'can', 'will', 'just', 'don', \"don't\", 'should', \"should've\", 'now', 'd', 'll', 'm', 'o', 're', \\\n",
    "            've', 'y', 'ain', 'aren', \"aren't\", 'couldn', \"couldn't\", 'didn', \"didn't\", 'doesn', \"doesn't\", 'hadn',\\\n",
    "            \"hadn't\", 'hasn', \"hasn't\", 'haven', \"haven't\", 'isn', \"isn't\", 'ma', 'mightn', \"mightn't\", 'mustn',\\\n",
    "            \"mustn't\", 'needn', \"needn't\", 'shan', \"shan't\", 'shouldn', \"shouldn't\", 'wasn', \"wasn't\", 'weren', \"weren't\", \\\n",
    "            'won', \"won't\", 'wouldn', \"wouldn't\"])"
   ]
  },
  {
   "cell_type": "code",
   "execution_count": 22,
   "metadata": {},
   "outputs": [
    {
     "name": "stderr",
     "output_type": "stream",
     "text": [
      "100%|████████████████████████████████████████████████████████████████████████████| 4986/4986 [00:01<00:00, 3137.37it/s]\n"
     ]
    }
   ],
   "source": [
    "# Combining all the above stundents \n",
    "from tqdm import tqdm\n",
    "preprocessed_reviews = []\n",
    "# tqdm is for printing the status bar\n",
    "for sentance in tqdm(final['Text'].values):\n",
    "    sentance = re.sub(r\"http\\S+\", \"\", sentance)\n",
    "    sentance = BeautifulSoup(sentance, 'lxml').get_text()\n",
    "    sentance = decontracted(sentance)\n",
    "    sentance = re.sub(\"\\S*\\d\\S*\", \"\", sentance).strip()\n",
    "    sentance = re.sub('[^A-Za-z]+', ' ', sentance)\n",
    "    # https://gist.github.com/sebleier/554280\n",
    "    sentance = ' '.join(e.lower() for e in sentance.split() if e.lower() not in stopwords)\n",
    "    preprocessed_reviews.append(sentance.strip())"
   ]
  },
  {
   "cell_type": "code",
   "execution_count": 23,
   "metadata": {},
   "outputs": [
    {
     "data": {
      "text/plain": [
       "'wow far two two star reviews one obviously no idea ordering wants crispy cookies hey sorry reviews nobody good beyond reminding us look ordering chocolate oatmeal cookies not like combination not order type cookie find combo quite nice really oatmeal sort calms rich chocolate flavor gives cookie sort coconut type consistency let also remember tastes differ given opinion soft chewy cookies advertised not crispy cookies blurb would say crispy rather chewy happen like raw cookie dough however not see taste like raw cookie dough soft however confusion yes stick together soft cookies tend not individually wrapped would add cost oh yeah chocolate chip cookies tend somewhat sweet want something hard crisp suggest nabiso ginger snaps want cookie soft chewy tastes like combination chocolate oatmeal give try place second order'"
      ]
     },
     "execution_count": 23,
     "metadata": {},
     "output_type": "execute_result"
    }
   ],
   "source": [
    "preprocessed_reviews[1500]"
   ]
  },
  {
   "cell_type": "markdown",
   "metadata": {},
   "source": [
    "<h2><font color='red'>[3.2] Preprocessing Review Summary</font></h2>"
   ]
  },
  {
   "cell_type": "code",
   "execution_count": 6,
   "metadata": {},
   "outputs": [],
   "source": [
    "## Similartly you can do preprocessing for review summary also."
   ]
  },
  {
   "cell_type": "markdown",
   "metadata": {},
   "source": [
    "# [4] Featurization"
   ]
  },
  {
   "cell_type": "markdown",
   "metadata": {},
   "source": [
    "## [4.1] BAG OF WORDS"
   ]
  },
  {
   "cell_type": "code",
   "execution_count": 25,
   "metadata": {},
   "outputs": [
    {
     "name": "stdout",
     "output_type": "stream",
     "text": [
      "some feature names  ['aa', 'aahhhs', 'aback', 'abandon', 'abates', 'abbott', 'abby', 'abdominal', 'abiding', 'ability']\n",
      "==================================================\n",
      "the type of count vectorizer  <class 'scipy.sparse.csr.csr_matrix'>\n",
      "the shape of out text BOW vectorizer  (4986, 12997)\n",
      "the number of unique words  12997\n"
     ]
    }
   ],
   "source": [
    "#BoW\n",
    "count_vect = CountVectorizer() #in scikit-learn\n",
    "count_vect.fit(preprocessed_reviews)\n",
    "print(\"some feature names \", count_vect.get_feature_names()[:10])\n",
    "print('='*50)\n",
    "\n",
    "final_counts = count_vect.transform(preprocessed_reviews)\n",
    "print(\"the type of count vectorizer \",type(final_counts))\n",
    "print(\"the shape of out text BOW vectorizer \",final_counts.get_shape())\n",
    "print(\"the number of unique words \", final_counts.get_shape()[1])"
   ]
  },
  {
   "cell_type": "markdown",
   "metadata": {},
   "source": [
    "## [4.2] Bi-Grams and n-Grams."
   ]
  },
  {
   "cell_type": "code",
   "execution_count": 26,
   "metadata": {},
   "outputs": [
    {
     "name": "stdout",
     "output_type": "stream",
     "text": [
      "the type of count vectorizer  <class 'scipy.sparse.csr.csr_matrix'>\n",
      "the shape of out text BOW vectorizer  (4986, 3144)\n",
      "the number of unique words including both unigrams and bigrams  3144\n"
     ]
    }
   ],
   "source": [
    "#bi-gram, tri-gram and n-gram\n",
    "\n",
    "#removing stop words like \"not\" should be avoided before building n-grams\n",
    "# count_vect = CountVectorizer(ngram_range=(1,2))\n",
    "# please do read the CountVectorizer documentation http://scikit-learn.org/stable/modules/generated/sklearn.feature_extraction.text.CountVectorizer.html\n",
    "\n",
    "# you can choose these numebrs min_df=10, max_features=5000, of your choice\n",
    "count_vect = CountVectorizer(ngram_range=(1,2), min_df=10, max_features=5000)\n",
    "final_bigram_counts = count_vect.fit_transform(preprocessed_reviews)\n",
    "print(\"the type of count vectorizer \",type(final_bigram_counts))\n",
    "print(\"the shape of out text BOW vectorizer \",final_bigram_counts.get_shape())\n",
    "print(\"the number of unique words including both unigrams and bigrams \", final_bigram_counts.get_shape()[1])"
   ]
  },
  {
   "cell_type": "markdown",
   "metadata": {},
   "source": [
    "## [4.3] TF-IDF"
   ]
  },
  {
   "cell_type": "code",
   "execution_count": 27,
   "metadata": {},
   "outputs": [
    {
     "name": "stdout",
     "output_type": "stream",
     "text": [
      "some sample features(unique words in the corpus) ['ability', 'able', 'able find', 'able get', 'absolute', 'absolutely', 'absolutely delicious', 'absolutely love', 'absolutely no', 'according']\n",
      "==================================================\n",
      "the type of count vectorizer  <class 'scipy.sparse.csr.csr_matrix'>\n",
      "the shape of out text TFIDF vectorizer  (4986, 3144)\n",
      "the number of unique words including both unigrams and bigrams  3144\n"
     ]
    }
   ],
   "source": [
    "tf_idf_vect = TfidfVectorizer(ngram_range=(1,2), min_df=10)\n",
    "tf_idf_vect.fit(preprocessed_reviews)\n",
    "print(\"some sample features(unique words in the corpus)\",tf_idf_vect.get_feature_names()[0:10])\n",
    "print('='*50)\n",
    "\n",
    "final_tf_idf = tf_idf_vect.transform(preprocessed_reviews)\n",
    "print(\"the type of count vectorizer \",type(final_tf_idf))\n",
    "print(\"the shape of out text TFIDF vectorizer \",final_tf_idf.get_shape())\n",
    "print(\"the number of unique words including both unigrams and bigrams \", final_tf_idf.get_shape()[1])"
   ]
  },
  {
   "cell_type": "markdown",
   "metadata": {},
   "source": [
    "## [4.4] Word2Vec"
   ]
  },
  {
   "cell_type": "code",
   "execution_count": 28,
   "metadata": {},
   "outputs": [],
   "source": [
    "# Train your own Word2Vec model using your own text corpus\n",
    "i=0\n",
    "list_of_sentance=[]\n",
    "for sentance in preprocessed_reviews:\n",
    "    list_of_sentance.append(sentance.split())"
   ]
  },
  {
   "cell_type": "code",
   "execution_count": 42,
   "metadata": {
    "scrolled": true
   },
   "outputs": [
    {
     "name": "stdout",
     "output_type": "stream",
     "text": [
      "[('snack', 0.9951335191726685), ('calorie', 0.9946465492248535), ('wonderful', 0.9946032166481018), ('excellent', 0.9944332838058472), ('especially', 0.9941144585609436), ('baked', 0.9940600395202637), ('salted', 0.994047224521637), ('alternative', 0.9937226176261902), ('tasty', 0.9936816692352295), ('healthy', 0.9936649799346924)]\n",
      "==================================================\n",
      "[('varieties', 0.9994194507598877), ('become', 0.9992934465408325), ('popcorn', 0.9992750883102417), ('de', 0.9992610216140747), ('miss', 0.9992451071739197), ('melitta', 0.999218761920929), ('choice', 0.9992102384567261), ('american', 0.9991837739944458), ('beef', 0.9991780519485474), ('finish', 0.9991567134857178)]\n"
     ]
    }
   ],
   "source": [
    "# Using Google News Word2Vectors\n",
    "\n",
    "# in this project we are using a pretrained model by google\n",
    "# its 3.3G file, once you load this into your memory \n",
    "# it occupies ~9Gb, so please do this step only if you have >12G of ram\n",
    "# we will provide a pickle file wich contains a dict , \n",
    "# and it contains all our courpus words as keys and  model[word] as values\n",
    "# To use this code-snippet, download \"GoogleNews-vectors-negative300.bin\" \n",
    "# from https://drive.google.com/file/d/0B7XkCwpI5KDYNlNUTTlSS21pQmM/edit\n",
    "# it's 1.9GB in size.\n",
    "\n",
    "\n",
    "# http://kavita-ganesan.com/gensim-word2vec-tutorial-starter-code/#.W17SRFAzZPY\n",
    "# you can comment this whole cell\n",
    "# or change these varible according to your need\n",
    "\n",
    "is_your_ram_gt_16g=False\n",
    "want_to_use_google_w2v = False\n",
    "want_to_train_w2v = True\n",
    "\n",
    "if want_to_train_w2v:\n",
    "    # min_count = 5 considers only words that occured atleast 5 times\n",
    "    w2v_model=Word2Vec(list_of_sentance,min_count=5,size=50, workers=4)\n",
    "    print(w2v_model.wv.most_similar('great'))\n",
    "    print('='*50)\n",
    "    print(w2v_model.wv.most_similar('worst'))\n",
    "    \n",
    "elif want_to_use_google_w2v and is_your_ram_gt_16g:\n",
    "    if os.path.isfile('GoogleNews-vectors-negative300.bin'):\n",
    "        w2v_model=KeyedVectors.load_word2vec_format('GoogleNews-vectors-negative300.bin', binary=True)\n",
    "        print(w2v_model.wv.most_similar('great'))\n",
    "        print(w2v_model.wv.most_similar('worst'))\n",
    "    else:\n",
    "        print(\"you don't have gogole's word2vec file, keep want_to_train_w2v = True, to train your own w2v \")"
   ]
  },
  {
   "cell_type": "code",
   "execution_count": 36,
   "metadata": {},
   "outputs": [
    {
     "name": "stdout",
     "output_type": "stream",
     "text": [
      "number of words that occured minimum 5 times  3817\n",
      "sample words  ['product', 'available', 'course', 'total', 'pretty', 'stinky', 'right', 'nearby', 'used', 'ca', 'not', 'beat', 'great', 'received', 'shipment', 'could', 'hardly', 'wait', 'try', 'love', 'call', 'instead', 'removed', 'easily', 'daughter', 'designed', 'printed', 'use', 'car', 'windows', 'beautifully', 'shop', 'program', 'going', 'lot', 'fun', 'everywhere', 'like', 'tv', 'computer', 'really', 'good', 'idea', 'final', 'outstanding', 'window', 'everybody', 'asks', 'bought', 'made']\n"
     ]
    }
   ],
   "source": [
    "w2v_words = list(w2v_model.wv.vocab)\n",
    "print(\"number of words that occured minimum 5 times \",len(w2v_words))\n",
    "print(\"sample words \", w2v_words[0:50])"
   ]
  },
  {
   "cell_type": "markdown",
   "metadata": {},
   "source": [
    "## [4.4.1] Converting text into vectors using Avg W2V, TFIDF-W2V"
   ]
  },
  {
   "cell_type": "markdown",
   "metadata": {},
   "source": [
    "#### [4.4.1.1] Avg W2v"
   ]
  },
  {
   "cell_type": "code",
   "execution_count": 38,
   "metadata": {},
   "outputs": [
    {
     "name": "stderr",
     "output_type": "stream",
     "text": [
      "100%|████████████████████████████████████████████████████████████████████████████| 4986/4986 [00:03<00:00, 1330.47it/s]\n"
     ]
    },
    {
     "name": "stdout",
     "output_type": "stream",
     "text": [
      "4986\n",
      "50\n"
     ]
    }
   ],
   "source": [
    "# average Word2Vec\n",
    "# compute average word2vec for each review.\n",
    "sent_vectors = []; # the avg-w2v for each sentence/review is stored in this list\n",
    "for sent in tqdm(list_of_sentance): # for each review/sentence\n",
    "    sent_vec = np.zeros(50) # as word vectors are of zero length 50, you might need to change this to 300 if you use google's w2v\n",
    "    cnt_words =0; # num of words with a valid vector in the sentence/review\n",
    "    for word in sent: # for each word in a review/sentence\n",
    "        if word in w2v_words:\n",
    "            vec = w2v_model.wv[word]\n",
    "            sent_vec += vec\n",
    "            cnt_words += 1\n",
    "    if cnt_words != 0:\n",
    "        sent_vec /= cnt_words\n",
    "    sent_vectors.append(sent_vec)\n",
    "print(len(sent_vectors))\n",
    "print(len(sent_vectors[0]))"
   ]
  },
  {
   "cell_type": "markdown",
   "metadata": {},
   "source": [
    "#### [4.4.1.2] TFIDF weighted W2v"
   ]
  },
  {
   "cell_type": "code",
   "execution_count": 39,
   "metadata": {},
   "outputs": [],
   "source": [
    "# S = [\"abc def pqr\", \"def def def abc\", \"pqr pqr def\"]\n",
    "model = TfidfVectorizer()\n",
    "tf_idf_matrix = model.fit_transform(preprocessed_reviews)\n",
    "# we are converting a dictionary with word as a key, and the idf as a value\n",
    "dictionary = dict(zip(model.get_feature_names(), list(model.idf_)))"
   ]
  },
  {
   "cell_type": "code",
   "execution_count": 41,
   "metadata": {
    "scrolled": true
   },
   "outputs": [
    {
     "name": "stderr",
     "output_type": "stream",
     "text": [
      "100%|█████████████████████████████████████████████████████████████████████████████| 4986/4986 [00:20<00:00, 245.63it/s]\n"
     ]
    }
   ],
   "source": [
    "# TF-IDF weighted Word2Vec\n",
    "tfidf_feat = model.get_feature_names() # tfidf words/col-names\n",
    "# final_tf_idf is the sparse matrix with row= sentence, col=word and cell_val = tfidf\n",
    "\n",
    "tfidf_sent_vectors = []; # the tfidf-w2v for each sentence/review is stored in this list\n",
    "row=0;\n",
    "for sent in tqdm(list_of_sentance): # for each review/sentence \n",
    "    sent_vec = np.zeros(50) # as word vectors are of zero length\n",
    "    weight_sum =0; # num of words with a valid vector in the sentence/review\n",
    "    for word in sent: # for each word in a review/sentence\n",
    "        if word in w2v_words and word in tfidf_feat:\n",
    "            vec = w2v_model.wv[word]\n",
    "#             tf_idf = tf_idf_matrix[row, tfidf_feat.index(word)]\n",
    "            # to reduce the computation we are \n",
    "            # dictionary[word] = idf value of word in whole courpus\n",
    "            # sent.count(word) = tf valeus of word in this review\n",
    "            tf_idf = dictionary[word]*(sent.count(word)/len(sent))\n",
    "            sent_vec += (vec * tf_idf)\n",
    "            weight_sum += tf_idf\n",
    "    if weight_sum != 0:\n",
    "        sent_vec /= weight_sum\n",
    "    tfidf_sent_vectors.append(sent_vec)\n",
    "    row += 1"
   ]
  },
  {
   "cell_type": "markdown",
   "metadata": {},
   "source": [
    "# [5] Assignment 7: SVM"
   ]
  },
  {
   "cell_type": "markdown",
   "metadata": {},
   "source": [
    "<ol>\n",
    "    <li><strong>Apply SVM on these feature sets</strong>\n",
    "        <ul>\n",
    "            <li><font color='red'>SET 1:</font>Review text, preprocessed one converted into vectors using (BOW)</li>\n",
    "            <li><font color='red'>SET 2:</font>Review text, preprocessed one converted into vectors using (TFIDF)</li>\n",
    "            <li><font color='red'>SET 3:</font>Review text, preprocessed one converted into vectors using (AVG W2v)</li>\n",
    "            <li><font color='red'>SET 4:</font>Review text, preprocessed one converted into vectors using (TFIDF W2v)</li>\n",
    "        </ul>\n",
    "    </li>\n",
    "    <br>\n",
    "    <li><strong>Procedure</strong>\n",
    "        <ul>\n",
    "    <li>You need to work with 2 versions of SVM\n",
    "        <ul><li>Linear kernel</li>\n",
    "            <li>RBF kernel</li></ul>\n",
    "    <li>When you are working with linear kernel, use SGDClassifier’ with hinge loss because it is computationally less expensive.</li>\n",
    "    <li>When you are working with ‘SGDClassifier’ with hinge loss and trying to find the AUC\n",
    "        score, you would have to use <a href='https://scikit-learn.org/stable/modules/generated/sklearn.calibration.CalibratedClassifierCV.html'>CalibratedClassifierCV</a></li>\n",
    "    <li>Similarly, like kdtree of knn, when you are working with RBF kernel it's better to reduce\n",
    "the number of dimensions. You can put min_df = 10, max_features = 500 and consider a sample size of 40k points.</li>                \n",
    "        </ul>\n",
    "    </li>\n",
    "    <br>\n",
    "    <li><strong>Hyper paramter tuning (find best alpha in range [10^-4 to 10^4], and the best penalty among 'l1', 'l2')</strong>\n",
    "        <ul>\n",
    "    <li>Find the best hyper parameter which will give the maximum <a href='https://www.appliedaicourse.com/course/applied-ai-course-online/lessons/receiver-operating-characteristic-curve-roc-curve-and-auc-1/'>AUC</a> value</li>\n",
    "    <li>Find the best hyper paramter using k-fold cross validation or simple cross validation data</li>\n",
    "    <li>Use gridsearch cv or randomsearch cv or you can also write your own for loops to do this task of hyperparameter tuning</li>          \n",
    "        </ul>\n",
    "    </li>\n",
    "    <br>\n",
    "    <li><strong>Feature importance</strong>\n",
    "        <ul>\n",
    "    <li>When you are working on the linear kernel with BOW or TFIDF please print the top 10 best\n",
    "features for each of the positive and negative classes.</li>\n",
    "        </ul>\n",
    "    </li>\n",
    "    <br>\n",
    "    <li><strong>Feature engineering</strong>\n",
    "        <ul>\n",
    "    <li>To increase the performance of your model, you can also experiment with with feature engineering like :</li>\n",
    "            <ul>\n",
    "            <li>Taking length of reviews as another feature.</li>\n",
    "            <li>Considering some features from review summary as well.</li>\n",
    "        </ul>\n",
    "        </ul>\n",
    "    </li>\n",
    "    <br>\n",
    "    <li><strong>Representation of results</strong>\n",
    "        <ul>\n",
    "    <li>You need to plot the performance of model both on train data and cross validation data for each hyper parameter, like shown in the figure.\n",
    "    <img src='train_cv_auc.JPG' width=300px></li>\n",
    "    <li>Once after you found the best hyper parameter, you need to train your model with it, and find the AUC on test data and plot the ROC curve on both train and test.\n",
    "    <img src='train_test_auc.JPG' width=300px></li>\n",
    "    <li>Along with plotting ROC curve, you need to print the <a href='https://www.appliedaicourse.com/course/applied-ai-course-online/lessons/confusion-matrix-tpr-fpr-fnr-tnr-1/'>confusion matrix</a> with predicted and original labels of test data points. Please visualize your confusion matrices using <a href='https://seaborn.pydata.org/generated/seaborn.heatmap.html'>seaborn heatmaps.\n",
    "    <img src='confusion_matrix.png' width=300px></li>\n",
    "        </ul>\n",
    "    </li>\n",
    "    <br>\n",
    "    <li><strong>Conclusion</strong>\n",
    "        <ul>\n",
    "    <li>You need to summarize the results at the end of the notebook, summarize it in the table format. To print out a table please refer to this prettytable library<a href='http://zetcode.com/python/prettytable/'>  link</a> \n",
    "        <img src='summary.JPG' width=400px>\n",
    "    </li>\n",
    "        </ul>\n",
    "</ol>"
   ]
  },
  {
   "cell_type": "markdown",
   "metadata": {},
   "source": [
    "<h4><font color='red'>Note: Data Leakage</font></h4>\n",
    "\n",
    "1. There will be an issue of data-leakage if you vectorize the entire data and then split it into train/cv/test.\n",
    "2. To avoid the issue of data-leakag, make sure to split your data first and then vectorize it. \n",
    "3. While vectorizing your data, apply the method fit_transform() on you train data, and apply the method transform() on cv/test data.\n",
    "4. For more details please go through this <a href='https://soundcloud.com/applied-ai-course/leakage-bow-and-tfidf'>link.</a>"
   ]
  },
  {
   "cell_type": "markdown",
   "metadata": {},
   "source": [
    "# Applying SVM"
   ]
  },
  {
   "cell_type": "markdown",
   "metadata": {},
   "source": [
    "## [5.1] Linear SVM"
   ]
  },
  {
   "cell_type": "code",
   "execution_count": 1,
   "metadata": {},
   "outputs": [],
   "source": [
    "#importing important libarary\n",
    "\n",
    "%matplotlib inline\n",
    "import warnings\n",
    "warnings.filterwarnings(\"ignore\")\n",
    "\n",
    "\n",
    "\n",
    "import sqlite3\n",
    "import pandas as pd\n",
    "import numpy as np\n",
    "import nltk\n",
    "import string\n",
    "import matplotlib.pyplot as plt\n",
    "import seaborn as sns\n",
    "from sklearn.feature_extraction.text import TfidfTransformer\n",
    "from sklearn.feature_extraction.text import TfidfVectorizer\n",
    "\n",
    "from sklearn.feature_extraction.text import CountVectorizer\n",
    "from sklearn.metrics import confusion_matrix\n",
    "from sklearn import metrics\n",
    "from sklearn.metrics import roc_curve, auc\n",
    "from nltk.stem.porter import PorterStemmer\n",
    "\n",
    "import re\n",
    "# Tutorial about Python regular expressions: https://pymotw.com/2/re/\n",
    "from nltk.corpus import stopwords\n",
    "from nltk.stem import PorterStemmer\n",
    "from nltk.stem.wordnet import WordNetLemmatizer\n",
    "\n",
    "from gensim.models import Word2Vec\n",
    "from gensim.models import KeyedVectors\n",
    "import pickle\n",
    "\n",
    "from tqdm import tqdm\n",
    "import os\n",
    "from bs4 import BeautifulSoup\n",
    "from sklearn.model_selection import train_test_split"
   ]
  },
  {
   "cell_type": "code",
   "execution_count": 2,
   "metadata": {},
   "outputs": [],
   "source": [
    "from sklearn import linear_model\n",
    "from sklearn.calibration import CalibratedClassifierCV\n",
    "import math"
   ]
  },
  {
   "cell_type": "code",
   "execution_count": 3,
   "metadata": {},
   "outputs": [],
   "source": [
    "con = sqlite3.connect(\"database.sqlite\")"
   ]
  },
  {
   "cell_type": "code",
   "execution_count": 45,
   "metadata": {},
   "outputs": [],
   "source": [
    "amzn = pd.read_sql_query('''SELECT * \n",
    "                            FROM Reviews \n",
    "                            WHERE Score != 3 \n",
    "                            ORDER BY Time''', con)"
   ]
  },
  {
   "cell_type": "code",
   "execution_count": 46,
   "metadata": {},
   "outputs": [],
   "source": [
    "def partition(score):\n",
    "    if score < 3:\n",
    "        return 0\n",
    "    else : \n",
    "        return 1\n",
    "amzn_score = amzn[\"Score\"] \n",
    "filter_amzn = amzn_score.map(partition)\n",
    "amzn['Score'] = filter_amzn"
   ]
  },
  {
   "cell_type": "code",
   "execution_count": 47,
   "metadata": {},
   "outputs": [],
   "source": [
    "#sorting data\n",
    "sorted_data = amzn.sort_values(\"ProductId\", axis = 0, ascending = True, \\\n",
    "                       inplace = False, na_position = 'last')"
   ]
  },
  {
   "cell_type": "code",
   "execution_count": 48,
   "metadata": {},
   "outputs": [
    {
     "data": {
      "text/plain": [
       "(364173, 10)"
      ]
     },
     "execution_count": 48,
     "metadata": {},
     "output_type": "execute_result"
    }
   ],
   "source": [
    "#Deduplication of entries\n",
    "final=sorted_data.drop_duplicates(subset={\"UserId\",\"ProfileName\",\"Time\",\"Text\"}, keep='first', inplace=False)\n",
    "final.shape"
   ]
  },
  {
   "cell_type": "code",
   "execution_count": 49,
   "metadata": {},
   "outputs": [
    {
     "data": {
      "text/plain": [
       "1    307063\n",
       "0     57110\n",
       "Name: Score, dtype: int64"
      ]
     },
     "execution_count": 49,
     "metadata": {},
     "output_type": "execute_result"
    }
   ],
   "source": [
    "final['Score'].value_counts()"
   ]
  },
  {
   "cell_type": "code",
   "execution_count": 50,
   "metadata": {},
   "outputs": [],
   "source": [
    "final = final.iloc[0:100000]"
   ]
  },
  {
   "cell_type": "code",
   "execution_count": 51,
   "metadata": {},
   "outputs": [],
   "source": [
    "# https://stackoverflow.com/a/47091490/4084039\n",
    "import re\n",
    "\n",
    "def decontracted(phrase):\n",
    "    # specific\n",
    "    phrase = re.sub(r\"won't\", \"will not\", phrase)\n",
    "    phrase = re.sub(r\"can\\'t\", \"can not\", phrase)\n",
    "\n",
    "    # general\n",
    "    phrase = re.sub(r\"n\\'t\", \" not\", phrase)\n",
    "    phrase = re.sub(r\"\\'re\", \" are\", phrase)\n",
    "    phrase = re.sub(r\"\\'s\", \" is\", phrase)\n",
    "    phrase = re.sub(r\"\\'d\", \" would\", phrase)\n",
    "    phrase = re.sub(r\"\\'ll\", \" will\", phrase)\n",
    "    phrase = re.sub(r\"\\'t\", \" not\", phrase)\n",
    "    phrase = re.sub(r\"\\'ve\", \" have\", phrase)\n",
    "    phrase = re.sub(r\"\\'m\", \" am\", phrase)\n",
    "    return phrase"
   ]
  },
  {
   "cell_type": "code",
   "execution_count": 52,
   "metadata": {},
   "outputs": [],
   "source": [
    "# https://gist.github.com/sebleier/554280\n",
    "# we are removing the words from the stop words list: 'no', 'nor', 'not'\n",
    "# <br /><br /> ==> after the above steps, we are getting \"br br\"\n",
    "# we are including them into stop words list\n",
    "# instead of <br /> if we have <br/> these tags would have revmoved in the 1st step\n",
    "\n",
    "stopwords= set(['br', 'the', 'i', 'me', 'my', 'myself', 'we', 'our', 'ours', 'ourselves', 'you', \"you're\", \"you've\",\\\n",
    "            \"you'll\", \"you'd\", 'your', 'yours', 'yourself', 'yourselves', 'he', 'him', 'his', 'himself', \\\n",
    "            'she', \"she's\", 'her', 'hers', 'herself', 'it', \"it's\", 'its', 'itself', 'they', 'them', 'their',\\\n",
    "            'theirs', 'themselves', 'what', 'which', 'who', 'whom', 'this', 'that', \"that'll\", 'these', 'those', \\\n",
    "            'am', 'is', 'are', 'was', 'were', 'be', 'been', 'being', 'have', 'has', 'had', 'having', 'do', 'does', \\\n",
    "            'did', 'doing', 'a', 'an', 'the', 'and', 'but', 'if', 'or', 'because', 'as', 'until', 'while', 'of', \\\n",
    "            'at', 'by', 'for', 'with', 'about', 'against', 'between', 'into', 'through', 'during', 'before', 'after',\\\n",
    "            'above', 'below', 'to', 'from', 'up', 'down', 'in', 'out', 'on', 'off', 'over', 'under', 'again', 'further',\\\n",
    "            'then', 'once', 'here', 'there', 'when', 'where', 'why', 'how', 'all', 'any', 'both', 'each', 'few', 'more',\\\n",
    "            'most', 'other', 'some', 'such', 'only', 'own', 'same', 'so', 'than', 'too', 'very', \\\n",
    "            's', 't', 'can', 'will', 'just', 'don', \"don't\", 'should', \"should've\", 'now', 'd', 'll', 'm', 'o', 're', \\\n",
    "            've', 'y', 'ain', 'aren', \"aren't\", 'couldn', \"couldn't\", 'didn', \"didn't\", 'doesn', \"doesn't\", 'hadn',\\\n",
    "            \"hadn't\", 'hasn', \"hasn't\", 'haven', \"haven't\", 'isn', \"isn't\", 'ma', 'mightn', \"mightn't\", 'mustn',\\\n",
    "            \"mustn't\", 'needn', \"needn't\", 'shan', \"shan't\", 'shouldn', \"shouldn't\", 'wasn', \"wasn't\", 'weren', \"weren't\", \\\n",
    "            'won', \"won't\", 'wouldn', \"wouldn't\"])"
   ]
  },
  {
   "cell_type": "code",
   "execution_count": 53,
   "metadata": {},
   "outputs": [
    {
     "name": "stderr",
     "output_type": "stream",
     "text": [
      "100%|█████████████████████████████████| 100000/100000 [03:26<00:00, 483.81it/s]\n"
     ]
    }
   ],
   "source": [
    "# Combining all the above stundents \n",
    "from tqdm import tqdm\n",
    "preprocessed_reviews = []\n",
    "# tqdm is for printing the status bar\n",
    "for sentance in tqdm(final['Text'].values):\n",
    "    sentance = re.sub(r\"http\\S+\", \"\", sentance)\n",
    "    sentance = BeautifulSoup(sentance, 'lxml').get_text()\n",
    "    sentance = decontracted(sentance)\n",
    "    sentance = re.sub(\"\\S*\\d\\S*\", \"\", sentance).strip()\n",
    "    sentance = re.sub('[^A-Za-z]+', ' ', sentance)\n",
    "    # https://gist.github.com/sebleier/554280\n",
    "    sentance = ' '.join(e.lower() for e in sentance.split() if e.lower() not in stopwords)\n",
    "    preprocessed_reviews.append(sentance.strip())"
   ]
  },
  {
   "cell_type": "code",
   "execution_count": 54,
   "metadata": {},
   "outputs": [],
   "source": [
    "#splitting data into train and test\n",
    "x_train = preprocessed_reviews[slice(0,70000)]\n",
    "x_cv = preprocessed_reviews[slice(70000, 85000)]\n",
    "x_test = preprocessed_reviews[slice(85000, 100000)]\n",
    "y_train = final.iloc[:70000, 6]\n",
    "y_cv = final.iloc[70000:85000, 6]\n",
    "y_test = final.iloc[85000:100000, 6]"
   ]
  },
  {
   "cell_type": "markdown",
   "metadata": {},
   "source": [
    "### [5.1.1] Applying Linear SVM on BOW,<font color='red'> SET 1</font>"
   ]
  },
  {
   "cell_type": "code",
   "execution_count": 55,
   "metadata": {},
   "outputs": [],
   "source": [
    "# Please write all the code with proper documentation"
   ]
  },
  {
   "cell_type": "code",
   "execution_count": 56,
   "metadata": {},
   "outputs": [
    {
     "name": "stderr",
     "output_type": "stream",
     "text": [
      "100%|████████████████████████████████████████████| 8/8 [00:24<00:00,  3.10s/it]\n",
      "100%|████████████████████████████████████████████| 8/8 [00:09<00:00,  1.11s/it]\n"
     ]
    },
    {
     "name": "stdout",
     "output_type": "stream",
     "text": [
      "l2 gives better accuracy whith difference of 1.0\n"
     ]
    },
    {
     "data": {
      "image/png": "[encoded data removed]",
      "text/plain": [
       "<Figure size 432x288 with 1 Axes>"
      ]
     },
     "metadata": {},
     "output_type": "display_data"
    },
    {
     "data": {
      "image/png": "[encoded data removed]",
      "text/plain": [
       "<Figure size 432x288 with 1 Axes>"
      ]
     },
     "metadata": {},
     "output_type": "display_data"
    },
    {
     "data": {
      "image/png": "[encoded data removed]",
      "text/plain": [
       "<Figure size 432x288 with 1 Axes>"
      ]
     },
     "metadata": {},
     "output_type": "display_data"
    },
    {
     "data": {
      "image/png": "[encoded data removed]",
      "text/plain": [
       "<Figure size 432x288 with 1 Axes>"
      ]
     },
     "metadata": {},
     "output_type": "display_data"
    }
   ],
   "source": [
    "# Please write all the code with proper documentation\n",
    "#defining function for Bag of words\n",
    "def bow(para, bow_x_cv, bow_x_test):  \n",
    "    count_vect = CountVectorizer() #in scikit-learn\n",
    "    bow_x_train = count_vect.fit_transform(para)\n",
    "    bow_x_cv = count_vect.transform(x_cv)\n",
    "    bow_x_test = count_vect.transform(x_test)\n",
    "    return bow_x_train, bow_x_cv, bow_x_test, count_vect\n",
    "\n",
    "\n",
    "\n",
    "#vectorizing using above function\n",
    "bow_x_train, bow_x_cv, bow_x_test, count_vect = bow(x_train, x_cv, x_test)\n",
    "\n",
    "\n",
    "\n",
    "auc_cvl1 = []\n",
    "auc_testl1 = []\n",
    "alpha = [0.0001, 0.001, 0.01, 0.1, 1, 10, 100, 1000]\n",
    "for i in tqdm(alpha):\n",
    "    # instantiate learning model (k = 30)\n",
    "    clf = linear_model.SGDClassifier(loss = \"hinge\", penalty = \"l1\", alpha = i)\n",
    "    bow_clfl1    = CalibratedClassifierCV(clf, method='isotonic')\n",
    "\n",
    "    # fitting the model on crossvalidation train\n",
    "    bow_clfl1.fit(bow_x_train, y_train)\n",
    "\n",
    "    \n",
    "    y_pred_proba = bow_clfl1.predict_proba(bow_x_cv)[::,1]\n",
    "    fpr, tpr, _ = metrics.roc_curve(y_cv,  y_pred_proba)\n",
    "    auc_cvl1.append(np.round(metrics.roc_auc_score(y_cv, y_pred_proba)*100))\n",
    "    \n",
    "    y_pred_proba1 = bow_clfl1.predict_proba(bow_x_test)[::,1]\n",
    "    fpr, tpr, _ = metrics.roc_curve(y_test,  y_pred_proba1)\n",
    "    auc_testl1.append(np.round(metrics.roc_auc_score(y_test, y_pred_proba1)*100))\n",
    "    \n",
    "    \n",
    "    \n",
    "    \n",
    "auc_cvl2 = []\n",
    "auc_testl2 = []\n",
    "alpha = [0.0001, 0.001, 0.01, 0.1, 1, 10, 100, 1000]\n",
    "for i in tqdm(alpha):\n",
    "    # instantiate learning model (k = 30)\n",
    "    clf = linear_model.SGDClassifier(loss = \"hinge\", penalty = \"l2\", alpha = i)\n",
    "    bow_clfl2    = CalibratedClassifierCV(clf, method='isotonic')\n",
    "\n",
    "    # fitting the model on crossvalidation train\n",
    "    bow_clfl2.fit(bow_x_train, y_train)\n",
    "\n",
    "    \n",
    "    y_pred_proba = bow_clfl2.predict_proba(bow_x_cv)[::,1]\n",
    "    fpr, tpr, _ = metrics.roc_curve(y_cv,  y_pred_proba)\n",
    "    auc_cvl2.append(np.round(metrics.roc_auc_score(y_cv, y_pred_proba)*100))\n",
    "    \n",
    "    y_pred_proba1 = bow_clfl2.predict_proba(bow_x_test)[::,1]\n",
    "    fpr, tpr, _ = metrics.roc_curve(y_test,  y_pred_proba1)\n",
    "    auc_testl2.append(np.round(metrics.roc_auc_score(y_test, y_pred_proba1)*100))\n",
    "    \n",
    "        \n",
    "        \n",
    "        \n",
    "if max(auc_cvl1) > max(auc_cvl2):\n",
    "    auc_cv = auc_cvl1\n",
    "    auc_test = auc_cvl1\n",
    "    bow_lin_opt_reg = 'l1'\n",
    "    print(\"l1 gives better accuracy whith difference of\" , max(auc_cvl1) - max(auc_cvl2))\n",
    "else:\n",
    "    auc_cv = auc_cvl2\n",
    "    auc_test = auc_cvl2\n",
    "    bow_lin_opt_reg = 'l2'\n",
    "    print(\"l2 gives better accuracy whith difference of\" , max(auc_cvl2) - max(auc_cvl1))   \n",
    "\n",
    "    \n",
    "    \n",
    "    \n",
    "bl_optimal_alpha = alpha[(auc_cv.index(max(auc_cv)))]\n",
    "\n",
    "\n",
    "\n",
    "#Taking log of alpha value to print easely on graph with correcsponding auc\n",
    "log_alpha = []\n",
    "for i in alpha:\n",
    "    log_alpha.append(math.log10(i))\n",
    "log_alpha    \n",
    "\n",
    "\n",
    "\n",
    "#printing all Auc value of corresponding k on validation and test data\n",
    "df = pd.DataFrame({\n",
    "                  'training': auc_cv,\n",
    "                  'test': auc_test\n",
    "                  }, index = log_alpha)\n",
    "lines = df.plot.line()\n",
    "plt.xlabel(\"alpha Hyper Parameter\")\n",
    "plt.ylabel(\"Area under ROC curve\")\n",
    "plt.title(\"ROC curve of BOW with linear kernel and {} regularization\".format(bow_lin_opt_reg))\n",
    "plt.grid()\n",
    "plt.show()\n",
    "\n",
    "\n",
    "\n",
    "clf = linear_model.SGDClassifier(loss = \"hinge\", penalty = bow_lin_opt_reg , alpha =bl_optimal_alpha )\n",
    "bow_clf  = CalibratedClassifierCV(clf, method='isotonic')\n",
    "clf.fit(bow_x_train, y_train)\n",
    "bow_clf.fit(bow_x_train, y_train)\n",
    "\n",
    "\n",
    "\n",
    "#auc curve of optimal k on validation and test data\n",
    "y_predk_proba = bow_clf.predict_proba(bow_x_cv)[::,1]\n",
    "fpr, tpr, _ = metrics.roc_curve(y_cv,  y_predk_proba)\n",
    "auc = np.round(metrics.roc_auc_score(y_cv, y_predk_proba)*100, 2)\n",
    "bl_tr_auc = auc\n",
    "\n",
    "plt.plot(fpr,tpr,label=\"Validation Auc = \"+str(auc))\n",
    "y_predk_proba = bow_clf.predict_proba(bow_x_test)[::,1]\n",
    "fpr, tpr, _ = metrics.roc_curve(y_test,  y_predk_proba)\n",
    "auc = np.round(metrics.roc_auc_score(y_test, y_predk_proba)*100, 2)\n",
    "bl_ts_auc = auc\n",
    "\n",
    "plt.plot(fpr,tpr,label=\"Test Auc = \"+str(auc))\n",
    "plt.legend(loc=4)\n",
    "plt.plot([x/10 for x in range(0, 11)],[x/10 for x in range(0, 11)], color='grey')\n",
    "plt.title(\"ROC Curve of BOW with linear kernel and {} regularization\".format(bow_lin_opt_reg))\n",
    "plt.axis([0, 1, 0, 1])\n",
    "plt.xlabel(\"False Positive Rate\")\n",
    "plt.ylabel(\"True Positive Rate\")\n",
    "plt.show()\n",
    "\n",
    "\n",
    "\n",
    "y_pred_test = bow_clf.predict(bow_x_test)\n",
    "y_pred_cv = bow_clf.predict(bow_x_cv)\n",
    "\n",
    "\n",
    "\n",
    "# http://www.tarekatwan.com/index.php/2017/12/how-to-plot-a-confusion-matrix-in-python/\n",
    "cm = confusion_matrix(y_cv,y_pred_cv)\n",
    "plt.clf()\n",
    "plt.imshow(cm, interpolation='nearest', cmap=plt.cm.Wistia)\n",
    "classNames = ['0','1']\n",
    "plt.title(\"Traiining : Confusion Matrix of Bag of Words with linear kernel and {} regularization\".format(bow_lin_opt_reg))\n",
    "plt.ylabel('True label')\n",
    "plt.xlabel('Predicted label')\n",
    "tick_marks = np.arange(len(classNames))\n",
    "plt.xticks(tick_marks, classNames, rotation=45)\n",
    "plt.yticks(tick_marks, classNames)\n",
    "s = [['TN','FP'], ['FN', 'TP']]\n",
    " \n",
    "for i in range(2):\n",
    "    for j in range(2):\n",
    "        plt.text(j,i, str(s[i][j])+\" = \"+str(cm[i][j]))\n",
    "plt.show()\n",
    "\n",
    "\n",
    "\n",
    "# http://www.tarekatwan.com/index.php/2017/12/how-to-plot-a-confusion-matrix-in-python/\n",
    "cm = confusion_matrix(y_test,y_pred_test)\n",
    "plt.clf()\n",
    "plt.imshow(cm, interpolation='nearest', cmap=plt.cm.Wistia)\n",
    "classNames = ['0','1']\n",
    "plt.title(\"Test : Confusion Matrix of Bag of Words with linear kernel and {} regularization\".format(bow_lin_opt_reg))\n",
    "plt.ylabel('True label')\n",
    "plt.xlabel('Predicted label')\n",
    "tick_marks = np.arange(len(classNames))\n",
    "plt.xticks(tick_marks, classNames, rotation=45)\n",
    "plt.yticks(tick_marks, classNames)\n",
    "s = [['TN','FP'], ['FN', 'TP']]\n",
    " \n",
    "for i in range(2):\n",
    "    for j in range(2):\n",
    "        plt.text(j,i, str(s[i][j])+\" = \"+str(cm[i][j]))\n",
    "plt.show()"
   ]
  },
  {
   "cell_type": "markdown",
   "metadata": {},
   "source": [
    "#  Top 10 important features of positive class from BoW with Linear Kernel"
   ]
  },
  {
   "cell_type": "code",
   "execution_count": 57,
   "metadata": {},
   "outputs": [],
   "source": [
    "bow_features_prob = clf.coef_"
   ]
  },
  {
   "cell_type": "code",
   "execution_count": 58,
   "metadata": {},
   "outputs": [],
   "source": [
    "bow_pos_df = pd.DataFrame({'log prob': bow_features_prob[0],\n",
    "                   'word': count_vect.get_feature_names()[:]\n",
    "                  })\n",
    "bow_pos_largest_10= bow_pos_df.nlargest(10, 'log prob')"
   ]
  },
  {
   "cell_type": "code",
   "execution_count": 59,
   "metadata": {},
   "outputs": [
    {
     "name": "stdout",
     "output_type": "stream",
     "text": [
      "Top Ten features belonging to class positive or 1 of BOW \n",
      "+-----------------+--------------------------+-----------+\n",
      "| Top ten fetures | Features Log Probability |    Word   |\n",
      "+-----------------+--------------------------+-----------+\n",
      "|        1        |    0.6054084196448085    | delicious |\n",
      "|        2        |    0.5797071188108313    | excellent |\n",
      "|        3        |    0.5425830176061969    |    best   |\n",
      "|        4        |    0.5254488170502093    |   loves   |\n",
      "|        5        |    0.5168817167722181    |  perfect  |\n",
      "|        6        |    0.4997475162162331    |   great   |\n",
      "|        7        |   0.49689181612356853    |   highly  |\n",
      "|        8        |   0.48546901575291196    |  awesome  |\n",
      "|        9        |    0.4540563147336044    |  amazing  |\n",
      "|        10       |    0.4483449145482777    |  pleased  |\n",
      "+-----------------+--------------------------+-----------+\n"
     ]
    }
   ],
   "source": [
    "from prettytable import PrettyTable\n",
    "    \n",
    "x = PrettyTable()\n",
    "print(\"Top Ten features belonging to class positive or 1 of BOW \")\n",
    "x.field_names = [\"Top ten fetures\", \"Features Log Probability\", \"Word\"]\n",
    "for i in range(0, 10):\n",
    "    x.add_row([i+1, bow_pos_largest_10[\"log prob\"].values[i] ,\\\n",
    "               bow_pos_largest_10[\"word\"].values[i]])\n",
    "\n",
    "print(x)"
   ]
  },
  {
   "cell_type": "markdown",
   "metadata": {},
   "source": [
    "#  Top 10 important features of negative class from BoW with Linear Kernel"
   ]
  },
  {
   "cell_type": "code",
   "execution_count": 60,
   "metadata": {},
   "outputs": [],
   "source": [
    "bow_neg_df = pd.DataFrame({'log prob': bow_features_prob[0],\n",
    "                   'word': count_vect.get_feature_names()[:]\n",
    "                  })\n",
    "bow_neg_largest_10= bow_neg_df.nsmallest(10, 'log prob')\n"
   ]
  },
  {
   "cell_type": "code",
   "execution_count": 61,
   "metadata": {},
   "outputs": [
    {
     "name": "stdout",
     "output_type": "stream",
     "text": [
      "Top Ten features belonging to class negative or 0 of BOW\n",
      "+-----------------+--------------------------+----------------+\n",
      "| Top ten fetures | Features Log Probability |      Word      |\n",
      "+-----------------+--------------------------+----------------+\n",
      "|        1        |   -1.0137735328957866    |     worst      |\n",
      "|        2        |   -0.9138240296525417    | disappointing  |\n",
      "|        3        |   -0.8338644270579456    |    terrible    |\n",
      "|        4        |   -0.7367706239073605    |  disappointed  |\n",
      "|        5        |   -0.7310592237220321    |     awful      |\n",
      "|        6        |   -0.7196364233513761    | disappointment |\n",
      "|        7        |    -0.711069323073384    |     threw      |\n",
      "|        8        |   -0.6453882209421067    |    horrible    |\n",
      "|        9        |   -0.6111198198301354    | unfortunately  |\n",
      "|        10       |   -0.5797071188108304    |     money      |\n",
      "+-----------------+--------------------------+----------------+\n"
     ]
    }
   ],
   "source": [
    "from prettytable import PrettyTable\n",
    "    \n",
    "x = PrettyTable()\n",
    "print(\"Top Ten features belonging to class negative or 0 of BOW\")\n",
    "x.field_names = [\"Top ten fetures\", \"Features Log Probability\", \"Word\"]\n",
    "for i in range(0, 10):\n",
    "    x.add_row([i+1, bow_neg_largest_10[\"log prob\"].values[i] , \\\n",
    "                    bow_neg_largest_10[\"word\"].values[i]])\n",
    "\n",
    "print(x)"
   ]
  },
  {
   "cell_type": "markdown",
   "metadata": {},
   "source": [
    "### [5.1.2] Applying Linear SVM on TFIDF,<font color='red'> SET 2</font>"
   ]
  },
  {
   "cell_type": "code",
   "execution_count": 62,
   "metadata": {},
   "outputs": [],
   "source": [
    "# Please write all the code with proper documentation"
   ]
  },
  {
   "cell_type": "code",
   "execution_count": 63,
   "metadata": {},
   "outputs": [
    {
     "name": "stderr",
     "output_type": "stream",
     "text": [
      "100%|████████████████████████████████████████████| 8/8 [00:17<00:00,  2.20s/it]\n",
      "100%|████████████████████████████████████████████| 8/8 [00:12<00:00,  1.53s/it]\n"
     ]
    },
    {
     "name": "stdout",
     "output_type": "stream",
     "text": [
      "l2 gives better accuracy whith difference of 1.0\n"
     ]
    },
    {
     "data": {
      "image/png": "[encoded data removed]",
      "text/plain": [
       "<Figure size 432x288 with 1 Axes>"
      ]
     },
     "metadata": {},
     "output_type": "display_data"
    },
    {
     "data": {
      "image/png": "[encoded data removed]",
      "text/plain": [
       "<Figure size 432x288 with 1 Axes>"
      ]
     },
     "metadata": {},
     "output_type": "display_data"
    },
    {
     "data": {
      "image/png": "[encoded data removed]",
      "text/plain": [
       "<Figure size 432x288 with 1 Axes>"
      ]
     },
     "metadata": {},
     "output_type": "display_data"
    },
    {
     "data": {
      "image/png": "[encoded data removed]",
      "text/plain": [
       "<Figure size 432x288 with 1 Axes>"
      ]
     },
     "metadata": {},
     "output_type": "display_data"
    }
   ],
   "source": [
    "def tfidf(preprocessed_reviews, x_cv, x_test):\n",
    "    tf_idf_vect = TfidfVectorizer()\n",
    "    vectorizer = tf_idf_vect.fit_transform(preprocessed_reviews)\n",
    "    tfidf_x_cv = tf_idf_vect.transform(x_cv)\n",
    "    tfidf_x_test = tf_idf_vect.transform(x_test)\n",
    "    return vectorizer, tfidf_x_cv, tfidf_x_test, tf_idf_vect\n",
    "\n",
    "\n",
    "tfidf_x_train, tfidf_x_cv, tfidf_x_test, tfidf_vect = tfidf(x_train, x_cv, x_test)\n",
    "\n",
    "\n",
    "\n",
    "auc_cvl1 = []\n",
    "auc_testl1 = []\n",
    "alpha = [0.0001, 0.001, 0.01, 0.1, 1, 10, 100, 1000]\n",
    "for i in tqdm(alpha):\n",
    "    # instantiate learning model (k = 30)\n",
    "    clf = linear_model.SGDClassifier(loss = \"hinge\", penalty = \"l1\", alpha = i)\n",
    "    tfidf_clfl1    = CalibratedClassifierCV(clf, method='isotonic')\n",
    "\n",
    "    # fitting the model on crossvalidation train\n",
    "    tfidf_clfl1.fit(tfidf_x_train, y_train)\n",
    "\n",
    "    \n",
    "    y_pred_proba = tfidf_clfl1.predict_proba(tfidf_x_cv)[::,1]\n",
    "    fpr, tpr, _ = metrics.roc_curve(y_cv,  y_pred_proba)\n",
    "    auc_cvl1.append(np.round(metrics.roc_auc_score(y_cv, y_pred_proba)*100))\n",
    "    \n",
    "    y_pred_proba1 = tfidf_clfl1.predict_proba(tfidf_x_test)[::,1]\n",
    "    fpr, tpr, _ = metrics.roc_curve(y_test,  y_pred_proba1)\n",
    "    auc_testl1.append(np.round(metrics.roc_auc_score(y_test, y_pred_proba1)*100))\n",
    "\n",
    "    \n",
    "    \n",
    "\n",
    "auc_cvl2 = []\n",
    "auc_testl2 = []\n",
    "alpha = [0.0001, 0.001, 0.01, 0.1, 1, 10, 100, 1000]\n",
    "for i in tqdm(alpha):\n",
    "    # instantiate learning model (k = 30)\n",
    "    clf = linear_model.SGDClassifier(loss = \"hinge\", penalty = \"l2\", alpha = i)\n",
    "    tfidf_clfl2    = CalibratedClassifierCV(clf, method='isotonic')\n",
    "\n",
    "    # fitting the model on crossvalidation train\n",
    "    tfidf_clfl2.fit(tfidf_x_train, y_train)\n",
    "\n",
    "    \n",
    "    y_pred_proba = tfidf_clfl2.predict_proba(tfidf_x_cv)[::,1]\n",
    "    fpr, tpr, _ = metrics.roc_curve(y_cv,  y_pred_proba)\n",
    "    auc_cvl2.append(np.round(metrics.roc_auc_score(y_cv, y_pred_proba)*100))\n",
    "    \n",
    "    y_pred_proba1 = tfidf_clfl2.predict_proba(tfidf_x_test)[::,1]\n",
    "    fpr, tpr, _ = metrics.roc_curve(y_test,  y_pred_proba1)\n",
    "    auc_testl2.append(np.round(metrics.roc_auc_score(y_test, y_pred_proba1)*100))\n",
    "    \n",
    "        \n",
    "\n",
    "\n",
    "if max(auc_cvl1) > max(auc_cvl2):\n",
    "    auc_cv = auc_cvl1\n",
    "    auc_test = auc_cvl1\n",
    "    tfidf_lin_opt_reg = 'l1'\n",
    "    print(\"l1 gives better accuracy whith difference of\" , max(auc_cvl1) - max(auc_cvl2))\n",
    "else:\n",
    "    auc_cv = auc_cvl2\n",
    "    auc_test = auc_cvl2\n",
    "    tfidf_lin_opt_reg = 'l2'\n",
    "    print(\"l2 gives better accuracy whith difference of\" , max(auc_cvl2) - max(auc_cvl1))  \n",
    "    \n",
    "    \n",
    "    \n",
    "    \n",
    "tl_optimal_alpha = alpha[(auc_cv.index(max(auc_cv)))]    \n",
    "\n",
    "#Taking log of alpha value to print easely on graph with correcsponding auc\n",
    "log_alpha = []\n",
    "for i in alpha:\n",
    "    log_alpha.append(math.log10(i))\n",
    "log_alpha    \n",
    "\n",
    "\n",
    "\n",
    "#printing all Auc value of corresponding k on validation and test data\n",
    "df = pd.DataFrame({\n",
    "                  'training': auc_cv,\n",
    "                  'test': auc_test\n",
    "                  }, index = log_alpha)\n",
    "lines = df.plot.line()\n",
    "plt.xlabel(\"alpha Hyper Parameter\")\n",
    "plt.ylabel(\"Area under ROC curve\")\n",
    "plt.title(\"ROC curve of tfidf with linear kernel and {} regularization\".format(tfidf_lin_opt_reg))\n",
    "plt.grid()\n",
    "plt.show()\n",
    "\n",
    "\n",
    "\n",
    "clf = linear_model.SGDClassifier(loss = \"hinge\", penalty = tfidf_lin_opt_reg , alpha = tl_optimal_alpha )\n",
    "tfidf_clf  = CalibratedClassifierCV(clf, method='isotonic')\n",
    "clf.fit(tfidf_x_train, y_train)\n",
    "tfidf_clf.fit(tfidf_x_train, y_train)\n",
    "\n",
    "\n",
    "\n",
    "#auc curve of optimal k on validation and test data\n",
    "y_predk_proba = tfidf_clf.predict_proba(tfidf_x_cv)[::,1]\n",
    "fpr, tpr, _ = metrics.roc_curve(y_cv,  y_predk_proba)\n",
    "auc = np.round(metrics.roc_auc_score(y_cv, y_predk_proba)*100, 2)\n",
    "tl_tr_auc = auc\n",
    "\n",
    "plt.plot(fpr,tpr,label=\"Validation Auc = \"+str(auc))\n",
    "y_predk_proba = tfidf_clf.predict_proba(tfidf_x_test)[::,1]\n",
    "fpr, tpr, _ = metrics.roc_curve(y_test,  y_predk_proba)\n",
    "auc = np.round(metrics.roc_auc_score(y_test, y_predk_proba)*100, 2)\n",
    "tl_ts_auc = auc\n",
    "\n",
    "plt.plot(fpr,tpr,label=\"Test Auc = \"+str(auc))\n",
    "plt.legend(loc=4)\n",
    "plt.plot([x/10 for x in range(0, 11)],[x/10 for x in range(0, 11)], color='grey')\n",
    "plt.title(\"ROC Curve of tfidf with linear kernel and {} regularization\".format(tfidf_lin_opt_reg))\n",
    "plt.axis([0, 1, 0, 1])\n",
    "plt.xlabel(\"False Positive Rate\")\n",
    "plt.ylabel(\"True Positive Rate\")\n",
    "plt.show()\n",
    "\n",
    "\n",
    "\n",
    "y_pred_test = tfidf_clf.predict(tfidf_x_test)\n",
    "y_pred_cv = tfidf_clf.predict(tfidf_x_cv)\n",
    "\n",
    "\n",
    "\n",
    "# http://www.tarekatwan.com/index.php/2017/12/how-to-plot-a-confusion-matrix-in-python/\n",
    "cm = confusion_matrix(y_cv,y_pred_cv)\n",
    "plt.clf()\n",
    "plt.imshow(cm, interpolation='nearest', cmap=plt.cm.Wistia)\n",
    "classNames = ['0','1']\n",
    "plt.title(\"Traiining : Confusion Matrix of tfidf with linear kernel and {} regularization\".format(tfidf_lin_opt_reg))\n",
    "plt.ylabel('True label')\n",
    "plt.xlabel('Predicted label')\n",
    "tick_marks = np.arange(len(classNames))\n",
    "plt.xticks(tick_marks, classNames, rotation=45)\n",
    "plt.yticks(tick_marks, classNames)\n",
    "s = [['TN','FP'], ['FN', 'TP']]\n",
    " \n",
    "for i in range(2):\n",
    "    for j in range(2):\n",
    "        plt.text(j,i, str(s[i][j])+\" = \"+str(cm[i][j]))\n",
    "plt.show()\n",
    "\n",
    "\n",
    "\n",
    "# http://www.tarekatwan.com/index.php/2017/12/how-to-plot-a-confusion-matrix-in-python/\n",
    "cm = confusion_matrix(y_test,y_pred_test)\n",
    "plt.clf()\n",
    "plt.imshow(cm, interpolation='nearest', cmap=plt.cm.Wistia)\n",
    "classNames = ['0','1']\n",
    "plt.title(\"Test : Confusion Matrix of tfidf with linear kernel and {} regularization\".format(tfidf_lin_opt_reg))\n",
    "plt.ylabel('True label')\n",
    "plt.xlabel('Predicted label')\n",
    "tick_marks = np.arange(len(classNames))\n",
    "plt.xticks(tick_marks, classNames, rotation=45)\n",
    "plt.yticks(tick_marks, classNames)\n",
    "s = [['TN','FP'], ['FN', 'TP']]\n",
    " \n",
    "for i in range(2):\n",
    "    for j in range(2):\n",
    "        plt.text(j,i, str(s[i][j])+\" = \"+str(cm[i][j]))\n",
    "plt.show()"
   ]
  },
  {
   "cell_type": "markdown",
   "metadata": {},
   "source": [
    "# Top 10 important features of positive class from TFIDF with Linear Kernel"
   ]
  },
  {
   "cell_type": "code",
   "execution_count": 64,
   "metadata": {},
   "outputs": [],
   "source": [
    "tfidf_features_prob = clf.coef_"
   ]
  },
  {
   "cell_type": "code",
   "execution_count": 65,
   "metadata": {},
   "outputs": [],
   "source": [
    "tfidf_pos_df = pd.DataFrame({'log prob': tfidf_features_prob[0],\n",
    "                   'word': tfidf_vect.get_feature_names()[:]\n",
    "                  })\n",
    "tfidf_pos_largest_10= tfidf_pos_df.nlargest(10, 'log prob')\n"
   ]
  },
  {
   "cell_type": "code",
   "execution_count": 66,
   "metadata": {},
   "outputs": [
    {
     "name": "stdout",
     "output_type": "stream",
     "text": [
      "Top Ten features belonging to class positive or 1 of tfidf\n",
      "+-----------------+--------------------------+-----------+\n",
      "| Top ten fetures | Features Log Probability |    Word   |\n",
      "+-----------------+--------------------------+-----------+\n",
      "|        1        |    3.7320859313023615    |   great   |\n",
      "|        2        |    3.104394916768576     |    best   |\n",
      "|        3        |    2.6341865343691913    | delicious |\n",
      "|        4        |    2.2594036059066642    |    love   |\n",
      "|        5        |    2.2409881607138935    | excellent |\n",
      "|        6        |    2.2144076236499037    |   loves   |\n",
      "|        7        |    2.205968184455521     |    good   |\n",
      "|        8        |    2.121345657661638     |  perfect  |\n",
      "|        9        |    1.9406062542126894    | wonderful |\n",
      "|        10       |    1.7573178983482987    |    nice   |\n",
      "+-----------------+--------------------------+-----------+\n"
     ]
    }
   ],
   "source": [
    "from prettytable import PrettyTable\n",
    "    \n",
    "x = PrettyTable()\n",
    "print(\"Top Ten features belonging to class positive or 1 of tfidf\")\n",
    "x.field_names = [\"Top ten fetures\", \"Features Log Probability\", \"Word\"]\n",
    "for i in range(0, 10):\n",
    "    x.add_row([i+1, tfidf_pos_largest_10[\"log prob\"].values[i] ,\\\n",
    "               tfidf_pos_largest_10[\"word\"].values[i]])\n",
    "\n",
    "print(x)"
   ]
  },
  {
   "cell_type": "markdown",
   "metadata": {},
   "source": [
    "# Top 10 important features of negative class from TFIDF with Linear Kernel"
   ]
  },
  {
   "cell_type": "code",
   "execution_count": 67,
   "metadata": {},
   "outputs": [],
   "source": [
    "tfidf_neg_df = pd.DataFrame({'log prob': tfidf_features_prob[0],\n",
    "                   'word': tfidf_vect.get_feature_names()[:]\n",
    "                  })\n",
    "tfidf_neg_largest_10= tfidf_neg_df.nsmallest(10, 'log prob')\n"
   ]
  },
  {
   "cell_type": "code",
   "execution_count": 68,
   "metadata": {},
   "outputs": [
    {
     "name": "stdout",
     "output_type": "stream",
     "text": [
      "Top Ten features belonging to class negative or 0 of tfidf\n",
      "+-----------------+--------------------------+----------------+\n",
      "| Top ten fetures | Features Log Probability |      Word      |\n",
      "+-----------------+--------------------------+----------------+\n",
      "|        1        |    -3.764755822910777    |     worst      |\n",
      "|        2        |   -3.2988007294332817    |  disappointed  |\n",
      "|        3        |    -3.238896351520117    |      not       |\n",
      "|        4        |    -3.218849765733173    |    terrible    |\n",
      "|        5        |    -3.012936822705141    |     threw      |\n",
      "|        6        |   -2.9550734830136656    |     awful      |\n",
      "|        7        |    -2.87494671183764     | disappointing  |\n",
      "|        8        |   -2.7588520319463767    |    horrible    |\n",
      "|        9        |    -2.620257828222368    |     money      |\n",
      "|        10       |    -2.519404802859417    | disappointment |\n",
      "+-----------------+--------------------------+----------------+\n"
     ]
    }
   ],
   "source": [
    "from prettytable import PrettyTable\n",
    "    \n",
    "x = PrettyTable()\n",
    "print(\"Top Ten features belonging to class negative or 0 of tfidf\")\n",
    "x.field_names = [\"Top ten fetures\", \"Features Log Probability\", \"Word\"]\n",
    "for i in range(0, 10):\n",
    "    x.add_row([i+1, tfidf_neg_largest_10[\"log prob\"].values[i] , \\\n",
    "                    tfidf_neg_largest_10[\"word\"].values[i]])\n",
    "\n",
    "print(x)"
   ]
  },
  {
   "cell_type": "markdown",
   "metadata": {},
   "source": [
    "### [5.1.3]  Applying Linear SVM on AVG W2V,<font color='red'> SET 3</font>"
   ]
  },
  {
   "cell_type": "code",
   "execution_count": 69,
   "metadata": {},
   "outputs": [],
   "source": [
    "# Please write all the code with proper documentation"
   ]
  },
  {
   "cell_type": "code",
   "execution_count": 70,
   "metadata": {},
   "outputs": [
    {
     "name": "stderr",
     "output_type": "stream",
     "text": [
      "100%|████████████████████████████████████| 70000/70000 [14:12<00:00, 82.12it/s]\n",
      "100%|████████████████████████████████████| 15000/15000 [02:58<00:00, 84.07it/s]\n",
      "100%|████████████████████████████████████| 15000/15000 [03:10<00:00, 86.31it/s]\n",
      "100%|████████████████████████████████████████████| 8/8 [00:15<00:00,  2.15s/it]\n",
      "100%|████████████████████████████████████████████| 8/8 [00:10<00:00,  1.33s/it]\n"
     ]
    },
    {
     "name": "stdout",
     "output_type": "stream",
     "text": [
      "l2 gives better accuracy whith difference of 0.0\n"
     ]
    },
    {
     "data": {
      "image/png": "[encoded data removed]",
      "text/plain": [
       "<Figure size 432x288 with 1 Axes>"
      ]
     },
     "metadata": {},
     "output_type": "display_data"
    },
    {
     "data": {
      "image/png": "[encoded data removed]",
      "text/plain": [
       "<Figure size 432x288 with 1 Axes>"
      ]
     },
     "metadata": {},
     "output_type": "display_data"
    },
    {
     "data": {
      "image/png": "[encoded data removed]",
      "text/plain": [
       "<Figure size 432x288 with 1 Axes>"
      ]
     },
     "metadata": {},
     "output_type": "display_data"
    },
    {
     "data": {
      "image/png": "[encoded data removed]",
      "text/plain": [
       "<Figure size 432x288 with 1 Axes>"
      ]
     },
     "metadata": {},
     "output_type": "display_data"
    }
   ],
   "source": [
    "# Please write all the code with proper documentation\n",
    "def avg_w2v(preprocessed_reviews, x, w2v_model):\n",
    "    i=0\n",
    "    list_of_sentance=[]\n",
    "    for sentance in preprocessed_reviews:\n",
    "        list_of_sentance.append(sentance.split())\n",
    "                            \n",
    "    is_your_ram_gt_16g=False\n",
    "    want_to_use_google_w2v = False\n",
    "    want_to_train_w2v = True\n",
    "    if 1 == x:\n",
    "        if want_to_train_w2v:\n",
    "            # min_count = 5 considers only words that occured atleast 5 times\n",
    "            w2v_model=Word2Vec(list_of_sentance,min_count=5,size=50, workers=4)\n",
    "        elif want_to_use_google_w2v and is_your_ram_gt_16g:\n",
    "            if os.path.isfile('GoogleNews-vectors-negative300.bin'):\n",
    "                w2v_model=KeyedVectors.load_word2vec_format('GoogleNews-vectors-negative300.bin', binary=True)\n",
    "                print(w2v_model.wv.most_similar('great'))\n",
    "                print(w2v_model.wv.most_similar('worst'))\n",
    "        else:\n",
    "            print(\"you don't have gogole's word2vec file, keep want_to_train_w2v = True, to train your own w2v \")\n",
    "\n",
    "    w2v_words = list(w2v_model.wv.vocab)                      \n",
    "\n",
    "    # average Word2Vec\n",
    "    # compute average word2vec for each review.\n",
    "    sent_vectors = []; # the avg-w2v for each sentence/review is stored in this list\n",
    "    for sent in tqdm(list_of_sentance): # for each review/sentence\n",
    "        sent_vec = np.zeros(50) # as word vectors are of zero length 50, you might need to change this to 300 if you use google's w2v\n",
    "        cnt_words =0; # num of words with a valid vector in the sentence/review\n",
    "        for word in sent: # for each word in a review/sentence\n",
    "            if word in w2v_words:\n",
    "                vec = w2v_model.wv[word]\n",
    "                sent_vec += vec\n",
    "                cnt_words += 1\n",
    "        if cnt_words != 0:\n",
    "            sent_vec /= cnt_words\n",
    "        sent_vectors.append(sent_vec) \n",
    "    \n",
    "    return sent_vectors, list_of_sentance, w2v_model                          \n",
    "\n",
    "\n",
    "#vectorizing using above function\n",
    "avg_w2v_x_train, los_train, w2v_model = avg_w2v(x_train, 1, None)\n",
    "avg_w2v_x_cv, los_cv, w2v_model = avg_w2v(x_cv, 0, w2v_model)\n",
    "avg_w2v_x_test, los_test, w2v_model = avg_w2v(x_test, 0, w2v_model)\n",
    "\n",
    "\n",
    "\n",
    "auc_cvl1 = []\n",
    "auc_testl1 = []\n",
    "alpha = [0.0001, 0.001, 0.01, 0.1, 1, 10, 100, 1000]\n",
    "for i in tqdm(alpha):\n",
    "    # instantiate learning model (k = 30)\n",
    "    svm = linear_model.SGDClassifier(loss = \"hinge\", penalty = \"l1\", alpha = i)\n",
    "    clfl1    = CalibratedClassifierCV(svm, method='isotonic')\n",
    "\n",
    "    # fitting the model on crossvalidation train\n",
    "    clfl1.fit(avg_w2v_x_train, y_train)\n",
    "\n",
    "    \n",
    "    y_pred_proba = clfl1.predict_proba(avg_w2v_x_cv)[::,1]\n",
    "    fpr, tpr, _ = metrics.roc_curve(y_cv,  y_pred_proba)\n",
    "    auc_cvl1.append(np.round(metrics.roc_auc_score(y_cv, y_pred_proba)*100))\n",
    "    \n",
    "    y_pred_proba1 = clfl1.predict_proba(avg_w2v_x_test)[::,1]\n",
    "    fpr, tpr, _ = metrics.roc_curve(y_test,  y_pred_proba1)\n",
    "    auc_testl1.append(np.round(metrics.roc_auc_score(y_test, y_pred_proba1)*100))\n",
    "    \n",
    "\n",
    "    \n",
    "auc_cvl2 = []\n",
    "auc_testl2 = []\n",
    "alpha = [0.0001, 0.001, 0.01, 0.1, 1, 10, 100, 1000]\n",
    "for i in tqdm(alpha):\n",
    "    # instantiate learning model (k = 30)\n",
    "    svm = linear_model.SGDClassifier(loss = \"hinge\", penalty = \"l2\", alpha = i)\n",
    "    clfl2    = CalibratedClassifierCV(svm, method='isotonic')\n",
    "\n",
    "    # fitting the model on crossvalidation train\n",
    "    clfl2.fit(avg_w2v_x_train, y_train)\n",
    "\n",
    "    \n",
    "    y_pred_proba = clfl2.predict_proba(avg_w2v_x_cv)[::,1]\n",
    "    fpr, tpr, _ = metrics.roc_curve(y_cv,  y_pred_proba)\n",
    "    auc_cvl2.append(np.round(metrics.roc_auc_score(y_cv, y_pred_proba)*100))\n",
    "    \n",
    "    y_pred_proba1 = clfl2.predict_proba(avg_w2v_x_test)[::,1]\n",
    "    fpr, tpr, _ = metrics.roc_curve(y_test,  y_pred_proba1)\n",
    "    auc_testl2.append(np.round(metrics.roc_auc_score(y_test, y_pred_proba1)*100))\n",
    "\n",
    "    \n",
    "    \n",
    "if max(auc_cvl1) > max(auc_cvl2):\n",
    "    auc_cv = auc_cvl1\n",
    "    auc_test = auc_cvl1\n",
    "    avg_w2v_lin_opt_reg = 'l1'\n",
    "    print(\"l1 gives better accuracy whith difference of\" , max(auc_cvl1) - max(auc_cvl2))\n",
    "else:\n",
    "    auc_cv = auc_cvl2\n",
    "    auc_test = auc_cvl2\n",
    "    avg_w2v_lin_opt_reg = 'l2'\n",
    "    print(\"l2 gives better accuracy whith difference of\" , max(auc_cvl2) - max(auc_cvl1))  \n",
    "    \n",
    "    \n",
    "    \n",
    "awl_optimal_alpha = alpha[(auc_cv.index(max(auc_cv)))]\n",
    "\n",
    "\n",
    "\n",
    "#printing all Auc value of corresponding k on validation and test data\n",
    "df = pd.DataFrame({\n",
    "                  'training': auc_cv,\n",
    "                  'test': auc_test\n",
    "                  }, index = log_alpha)\n",
    "lines = df.plot.line()\n",
    "plt.xlabel(\"alpha Hyper Parameter\")\n",
    "plt.ylabel(\"Area under ROC curve\")\n",
    "plt.title(\"ROC curve of tfidf with linear kernel and {} regularization\".format(avg_w2v_lin_opt_reg))\n",
    "plt.grid()\n",
    "plt.show()\n",
    "\n",
    "\n",
    "\n",
    "svm = linear_model.SGDClassifier(loss = \"hinge\", penalty = avg_w2v_lin_opt_reg , alpha = awl_optimal_alpha )\n",
    "clf  = CalibratedClassifierCV(svm, method='isotonic')\n",
    "clf.fit(avg_w2v_x_train, y_train)\n",
    "\n",
    "\n",
    "\n",
    "#auc curve of optimal k on validation and test data\n",
    "y_predk_proba = clf.predict_proba(avg_w2v_x_cv)[::,1]\n",
    "fpr, tpr, _ = metrics.roc_curve(y_cv,  y_predk_proba)\n",
    "auc = np.round(metrics.roc_auc_score(y_cv, y_predk_proba)*100, 2)\n",
    "awl_tr_auc = auc\n",
    "\n",
    "plt.plot(fpr,tpr,label=\"Validation Auc = \"+str(auc))\n",
    "y_predk_proba = clf.predict_proba(avg_w2v_x_test)[::,1]\n",
    "fpr, tpr, _ = metrics.roc_curve(y_test,  y_predk_proba)\n",
    "auc = np.round(metrics.roc_auc_score(y_test, y_predk_proba)*100, 2)\n",
    "awl_ts_auc = auc\n",
    "\n",
    "plt.plot(fpr,tpr,label=\"Test Auc = \"+str(auc))\n",
    "plt.legend(loc=4)\n",
    "plt.plot([x/10 for x in range(0, 11)],[x/10 for x in range(0, 11)], color='grey')\n",
    "plt.title(\"ROC Curve of tfidf with linear kernel and {} regularization\".format(avg_w2v_lin_opt_reg))\n",
    "plt.axis([0, 1, 0, 1])\n",
    "plt.xlabel(\"False Positive Rate\")\n",
    "plt.ylabel(\"True Positive Rate\")\n",
    "plt.show()\n",
    "\n",
    "\n",
    "\n",
    "y_pred_test = clf.predict(avg_w2v_x_test)\n",
    "y_pred_cv = clf.predict(avg_w2v_x_cv)\n",
    "\n",
    "\n",
    "\n",
    "# http://www.tarekatwan.com/index.php/2017/12/how-to-plot-a-confusion-matrix-in-python/\n",
    "cm = confusion_matrix(y_cv,y_pred_cv)\n",
    "plt.clf()\n",
    "plt.imshow(cm, interpolation='nearest', cmap=plt.cm.Wistia)\n",
    "classNames = ['0','1']\n",
    "plt.title(\"Traiining : Confusion Matrix of avg word2vec with linear kernel and {} regularization\".format(avg_w2v_lin_opt_reg))\n",
    "plt.ylabel('True label')\n",
    "plt.xlabel('Predicted label')\n",
    "tick_marks = np.arange(len(classNames))\n",
    "plt.xticks(tick_marks, classNames, rotation=45)\n",
    "plt.yticks(tick_marks, classNames)\n",
    "s = [['TN','FP'], ['FN', 'TP']]\n",
    " \n",
    "for i in range(2):\n",
    "    for j in range(2):\n",
    "        plt.text(j,i, str(s[i][j])+\" = \"+str(cm[i][j]))\n",
    "plt.show()\n",
    "\n",
    "\n",
    "\n",
    "# http://www.tarekatwan.com/index.php/2017/12/how-to-plot-a-confusion-matrix-in-python/\n",
    "cm = confusion_matrix(y_test,y_pred_test)\n",
    "plt.clf()\n",
    "plt.imshow(cm, interpolation='nearest', cmap=plt.cm.Wistia)\n",
    "classNames = ['0','1']\n",
    "plt.title(\"Test : Confusion Matrix of word2vec with linear kernel and {} regularization\".format(avg_w2v_lin_opt_reg))\n",
    "plt.ylabel('True label')\n",
    "plt.xlabel('Predicted label')\n",
    "tick_marks = np.arange(len(classNames))\n",
    "plt.xticks(tick_marks, classNames, rotation=45)\n",
    "plt.yticks(tick_marks, classNames)\n",
    "s = [['TN','FP'], ['FN', 'TP']]\n",
    " \n",
    "for i in range(2):\n",
    "    for j in range(2):\n",
    "        plt.text(j,i, str(s[i][j])+\" = \"+str(cm[i][j]))\n",
    "plt.show()"
   ]
  },
  {
   "cell_type": "markdown",
   "metadata": {},
   "source": [
    "### [5.1.4]  Applying Linear SVM on TFIDF W2V,<font color='red'> SET 4</font>"
   ]
  },
  {
   "cell_type": "code",
   "execution_count": 71,
   "metadata": {},
   "outputs": [],
   "source": [
    "# Please write all the code with proper documentation"
   ]
  },
  {
   "cell_type": "code",
   "execution_count": 72,
   "metadata": {},
   "outputs": [
    {
     "name": "stderr",
     "output_type": "stream",
     "text": [
      "100%|██████████████████████████████████| 70000/70000 [2:26:40<00:00,  8.26it/s]\n",
      "100%|████████████████████████████████████| 15000/15000 [28:26<00:00,  8.79it/s]\n",
      "100%|████████████████████████████████████| 15000/15000 [29:20<00:00,  8.52it/s]\n",
      "100%|████████████████████████████████████████████| 8/8 [00:18<00:00,  2.44s/it]\n",
      "100%|████████████████████████████████████████████| 8/8 [00:11<00:00,  1.52s/it]\n"
     ]
    },
    {
     "name": "stdout",
     "output_type": "stream",
     "text": [
      "l2 gives better accuracy whith difference of 0.0\n"
     ]
    },
    {
     "data": {
      "image/png": "[encoded data removed]",
      "text/plain": [
       "<Figure size 432x288 with 1 Axes>"
      ]
     },
     "metadata": {},
     "output_type": "display_data"
    },
    {
     "data": {
      "image/png": "[encoded data removed]",
      "text/plain": [
       "<Figure size 432x288 with 1 Axes>"
      ]
     },
     "metadata": {},
     "output_type": "display_data"
    },
    {
     "data": {
      "image/png": "[encoded data removed]",
      "text/plain": [
       "<Figure size 432x288 with 1 Axes>"
      ]
     },
     "metadata": {},
     "output_type": "display_data"
    },
    {
     "data": {
      "image/png": "[encoded data removed]",
      "text/plain": [
       "<Figure size 432x288 with 1 Axes>"
      ]
     },
     "metadata": {},
     "output_type": "display_data"
    }
   ],
   "source": [
    "def tfidf_w2v(preprocessed_reviews, list_of_sentance, w2v_model, w2v_words, x, model):\n",
    "    if 1 == x:\n",
    "        model = TfidfVectorizer()\n",
    "        tf_idf_matrix = model.fit_transform(preprocessed_reviews)\n",
    "        # we are converting a dictionary with word as a key, and the idf as a value\n",
    "        dictionary = dict(zip(model.get_feature_names(), list(model.idf_)))\n",
    "        # TF-IDF weighted Word2Vec\n",
    "        tfidf_feat = model.get_feature_names() # tfidf words/col-names\n",
    "        # final_tf_idf is the sparse matrix with row= sentence, col=word and cell_val = tfidf\n",
    "    else: \n",
    "        tf_idf_matrix = model.transform(preprocessed_reviews)\n",
    "        dictionary = dict(zip(model.get_feature_names(), list(model.idf_)))\n",
    "        tfidf_feat = model.get_feature_names()\n",
    "        \n",
    "    tfidf_sent_vectors = []; # the tfidf-w2v for each sentence/review is stored in this list\n",
    "    row=0;\n",
    "    for sent in tqdm(list_of_sentance): # for each review/sentence \n",
    "        sent_vec = np.zeros(50) # as word vectors are of zero length\n",
    "        weight_sum =0; # num of words with a valid vector in the sentence/review\n",
    "        for word in sent: # for each word in a review/sentence\n",
    "            if word in w2v_words and word in tfidf_feat:\n",
    "                vec = w2v_model.wv[word]\n",
    "                # tf_idf = tf_idf_matrix[row, tfidf_feat.index(word)]\n",
    "                # to reduce the computation we are  \n",
    "                # dictionary[word] = idf value of word in whole courpus\n",
    "                # sent.count(word) = tf valeus of word in this review\n",
    "                tf_idf = dictionary[word]*(sent.count(word)/len(sent))\n",
    "                sent_vec += (vec * tf_idf)\n",
    "                weight_sum += tf_idf\n",
    "        if weight_sum != 0:\n",
    "            sent_vec /= weight_sum\n",
    "        tfidf_sent_vectors.append(sent_vec)\n",
    "        row += 1\n",
    "    return tfidf_sent_vectors, model               \n",
    "\n",
    "\n",
    "#vectorizing using above function\n",
    "tfidf_w2v_x_train, model = tfidf_w2v(x_train, los_train, w2v_model, list(w2v_model.wv.vocab), 1, None)\n",
    "tfidf_w2v_x_cv, model = tfidf_w2v(x_cv, los_cv, w2v_model, list(w2v_model.wv.vocab), 0, model)\n",
    "tfidf_w2v_x_test, model = tfidf_w2v(x_test, los_test, w2v_model, list(w2v_model.wv.vocab), 0, model)\n",
    "\n",
    "\n",
    "auc_cvl1 = []\n",
    "auc_testl1 = []\n",
    "for i in tqdm(alpha):\n",
    "    # instantiate learning model (k = 30)\n",
    "    svm = linear_model.SGDClassifier(loss = \"hinge\", penalty = \"l1\", alpha = i)\n",
    "    clfl1    = CalibratedClassifierCV(svm, method='isotonic')\n",
    "    # fitting the model on crossvalidation train\n",
    "    clfl1.fit(tfidf_w2v_x_train, y_train)\n",
    "\n",
    "    # predict the response on the crossvalidation train\n",
    "    pred_cv = clfl1.predict(tfidf_w2v_x_train)\n",
    "    \n",
    "    y_pred_proba = clfl1.predict_proba(tfidf_w2v_x_cv)[::,1]\n",
    "    fpr, tpr, _ = metrics.roc_curve(y_cv,  y_pred_proba)\n",
    "    auc_cvl1.append(np.round(metrics.roc_auc_score(y_cv, y_pred_proba)*100))\n",
    "    \n",
    "    y_pred_proba1 = clfl1.predict_proba(tfidf_w2v_x_test)[::,1]\n",
    "    fpr, tpr, _ = metrics.roc_curve(y_test,  y_pred_proba1)\n",
    "    auc_testl1.append(np.round(metrics.roc_auc_score(y_test, y_pred_proba1)*100))\n",
    "\n",
    "\n",
    "auc_cvl2 = []\n",
    "auc_testl2 = []\n",
    "for i in tqdm(alpha):\n",
    "    # instantiate learning model (k = 30)\n",
    "    svm = linear_model.SGDClassifier(loss = \"hinge\", penalty = \"l2\", alpha = i)\n",
    "    clfl2    = CalibratedClassifierCV(svm, method='isotonic')\n",
    "    # fitting the model on crossvalidation train\n",
    "    clfl2.fit(tfidf_w2v_x_train, y_train)\n",
    "\n",
    "    # predict the response on the crossvalidation train\n",
    "    pred_cv = clfl2.predict(tfidf_w2v_x_train)\n",
    "    \n",
    "    y_pred_proba = clfl2.predict_proba(tfidf_w2v_x_cv)[::,1]\n",
    "    fpr, tpr, _ = metrics.roc_curve(y_cv,  y_pred_proba)\n",
    "    auc_cvl2.append(np.round(metrics.roc_auc_score(y_cv, y_pred_proba)*100))\n",
    "    \n",
    "    y_pred_proba1 = clfl2.predict_proba(tfidf_w2v_x_test)[::,1]\n",
    "    fpr, tpr, _ = metrics.roc_curve(y_test,  y_pred_proba1)\n",
    "    auc_testl2.append(np.round(metrics.roc_auc_score(y_test, y_pred_proba1)*100))\n",
    "    \n",
    "    \n",
    "    \n",
    "    \n",
    "if max(auc_cvl1) > max(auc_cvl2):\n",
    "    auc_cv = auc_cvl1\n",
    "    auc_test = auc_cvl1\n",
    "    tw2v_lin_opt_reg = 'l1'\n",
    "    print(\"l1 gives better accuracy whith difference of\" , max(auc_cvl1) - max(auc_cvl2))\n",
    "else:\n",
    "    auc_cv = auc_cvl2\n",
    "    auc_test = auc_cvl2\n",
    "    tw2v_lin_opt_reg = 'l2'\n",
    "    print(\"l2 gives better accuracy whith difference of\" , max(auc_cvl2) - max(auc_cvl1))  \n",
    "    \n",
    "    \n",
    "\n",
    "twl_optimal_alpha = alpha[(auc_cv.index(max(auc_cv)))]    \n",
    "\n",
    "\n",
    "#printing all Auc value of corresponding k on validation and test data\n",
    "df = pd.DataFrame({\n",
    "                  'training': auc_cv,\n",
    "                  'test': auc_test\n",
    "                  }, index = log_alpha)\n",
    "lines = df.plot.line()\n",
    "plt.xlabel(\"alpha Hyper Parameter\")\n",
    "plt.ylabel(\"Area under ROC curve\")\n",
    "plt.title(\"ROC curve of tfidf word2vec with linear kernel and {} regularization\".format(tw2v_lin_opt_reg))\n",
    "plt.grid()\n",
    "plt.show()\n",
    "\n",
    "\n",
    "svm = linear_model.SGDClassifier(loss = \"hinge\", penalty = tw2v_lin_opt_reg , alpha =twl_optimal_alpha )\n",
    "clf  = CalibratedClassifierCV(svm, method='isotonic')\n",
    "clf.fit(tfidf_w2v_x_train, y_train)\n",
    "\n",
    "\n",
    "\n",
    "#auc curve of optimal k on validation and test data\n",
    "y_predk_proba = clf.predict_proba(tfidf_w2v_x_cv)[::,1]\n",
    "fpr, tpr, _ = metrics.roc_curve(y_cv,  y_predk_proba)\n",
    "auc = np.round(metrics.roc_auc_score(y_cv, y_predk_proba)*100, 2)\n",
    "twl_tr_auc = auc\n",
    "plt.plot(fpr,tpr,label=\"Validation Auc = \"+str(auc))\n",
    "\n",
    "y_predk_proba = clf.predict_proba(tfidf_w2v_x_test)[::,1]\n",
    "fpr, tpr, _ = metrics.roc_curve(y_test,  y_predk_proba)\n",
    "auc = np.round(metrics.roc_auc_score(y_test, y_predk_proba)*100, 2)\n",
    "twl_ts_auc = auc\n",
    "plt.plot(fpr,tpr,label=\"Test Auc = \"+str(auc))\n",
    "\n",
    "plt.legend(loc=4)\n",
    "plt.plot([x/10 for x in range(0, 11)],[x/10 for x in range(0, 11)], color='grey')\n",
    "plt.title(\"ROC Curve of  tfidf word2vec with linear kernel and {} regularization\".format(tw2v_lin_opt_reg))\n",
    "plt.axis([0, 1, 0, 1])\n",
    "plt.xlabel(\"False Positive Rate\")\n",
    "plt.ylabel(\"True Positive Rate\")\n",
    "plt.show()\n",
    "\n",
    "\n",
    "\n",
    "y_pred_test = clf.predict(tfidf_w2v_x_test)\n",
    "y_pred_cv = clf.predict(tfidf_w2v_x_cv)\n",
    "\n",
    "\n",
    "\n",
    "# http://www.tarekatwan.com/index.php/2017/12/how-to-plot-a-confusion-matrix-in-python/\n",
    "cm = confusion_matrix(y_cv,y_pred_cv)\n",
    "plt.clf()\n",
    "plt.imshow(cm, interpolation='nearest', cmap=plt.cm.Wistia)\n",
    "classNames = ['0','1']\n",
    "plt.title(\"Traiining : Confusion Matrix of tfidf with linear kernel and {} regularization\".format(tw2v_lin_opt_reg))\n",
    "plt.ylabel('True label')\n",
    "plt.xlabel('Predicted label')\n",
    "tick_marks = np.arange(len(classNames))\n",
    "plt.xticks(tick_marks, classNames, rotation=45)\n",
    "plt.yticks(tick_marks, classNames)\n",
    "s = [['TN','FP'], ['FN', 'TP']]\n",
    " \n",
    "for i in range(2):\n",
    "    for j in range(2):\n",
    "        plt.text(j,i, str(s[i][j])+\" = \"+str(cm[i][j]))\n",
    "plt.show()\n",
    "\n",
    "\n",
    "\n",
    "# http://www.tarekatwan.com/index.php/2017/12/how-to-plot-a-confusion-matrix-in-python/\n",
    "cm = confusion_matrix(y_test,y_pred_test)\n",
    "plt.clf()\n",
    "plt.imshow(cm, interpolation='nearest', cmap=plt.cm.Wistia)\n",
    "classNames = ['0','1']\n",
    "plt.title(\"Test : Confusion Matrix of tfidf with linear kernel and {} regularization\".format(tw2v_lin_opt_reg))\n",
    "plt.ylabel('True label')\n",
    "plt.xlabel('Predicted label')\n",
    "tick_marks = np.arange(len(classNames))\n",
    "plt.xticks(tick_marks, classNames, rotation=45)\n",
    "plt.yticks(tick_marks, classNames)\n",
    "s = [['TN','FP'], ['FN', 'TP']]\n",
    " \n",
    "for i in range(2):\n",
    "    for j in range(2):\n",
    "        plt.text(j,i, str(s[i][j])+\" = \"+str(cm[i][j]))\n",
    "plt.show()"
   ]
  },
  {
   "cell_type": "markdown",
   "metadata": {},
   "source": [
    "## [5.2] RBF SVM"
   ]
  },
  {
   "cell_type": "code",
   "execution_count": 73,
   "metadata": {},
   "outputs": [],
   "source": [
    "#splitting data into train and test\n",
    "x_train = preprocessed_reviews[slice(0,12000)]\n",
    "x_cv = preprocessed_reviews[slice(12000, 16000)]\n",
    "x_test = preprocessed_reviews[slice(16000, 20000)]\n",
    "y_train = final.iloc[:12000, 6]\n",
    "y_cv = final.iloc[12000:16000, 6]\n",
    "y_test = final.iloc[16000:20000, 6]\n"
   ]
  },
  {
   "cell_type": "code",
   "execution_count": 74,
   "metadata": {},
   "outputs": [],
   "source": [
    "from sklearn.svm import SVC"
   ]
  },
  {
   "cell_type": "markdown",
   "metadata": {},
   "source": [
    "### [5.2.1] Applying RBF SVM on BOW,<font color='red'> SET 1</font>"
   ]
  },
  {
   "cell_type": "code",
   "execution_count": 75,
   "metadata": {},
   "outputs": [
    {
     "data": {
      "text/plain": [
       "19095036"
      ]
     },
     "execution_count": 75,
     "metadata": {},
     "output_type": "execute_result"
    }
   ],
   "source": [
    "85025 + 19010011"
   ]
  },
  {
   "cell_type": "code",
   "execution_count": 76,
   "metadata": {},
   "outputs": [],
   "source": [
    "# Please write all the code with proper documentation"
   ]
  },
  {
   "cell_type": "code",
   "execution_count": 77,
   "metadata": {},
   "outputs": [
    {
     "name": "stderr",
     "output_type": "stream",
     "text": [
      "100%|███████████████████████████████████████████| 8/8 [16:17<00:00, 130.29s/it]\n"
     ]
    },
    {
     "data": {
      "image/png": "[encoded data removed]",
      "text/plain": [
       "<Figure size 432x288 with 1 Axes>"
      ]
     },
     "metadata": {},
     "output_type": "display_data"
    },
    {
     "data": {
      "image/png": "[encoded data removed]",
      "text/plain": [
       "<Figure size 432x288 with 1 Axes>"
      ]
     },
     "metadata": {},
     "output_type": "display_data"
    },
    {
     "data": {
      "image/png": "[encoded data removed]",
      "text/plain": [
       "<Figure size 432x288 with 1 Axes>"
      ]
     },
     "metadata": {},
     "output_type": "display_data"
    },
    {
     "data": {
      "image/png": "[encoded data removed]",
      "text/plain": [
       "<Figure size 432x288 with 1 Axes>"
      ]
     },
     "metadata": {},
     "output_type": "display_data"
    }
   ],
   "source": [
    "# Please write all the code with proper documentation\n",
    "#defining function for Bag of words\n",
    "def bow(para, bow_x_cv, bow_x_test):  \n",
    "    count_vect = CountVectorizer(min_df = 10, max_features = 500) #in scikit-learn\n",
    "    bow_x_train = count_vect.fit_transform(para)\n",
    "    bow_x_cv = count_vect.transform(x_cv)\n",
    "    bow_x_test = count_vect.transform(x_test)\n",
    "    return bow_x_train, bow_x_cv, bow_x_test\n",
    "\n",
    "\n",
    "\n",
    "#vectorizing using above function\n",
    "bow_x_train, bow_x_cv, bow_x_test = bow(x_train, x_cv, x_test)\n",
    "\n",
    "\n",
    "\n",
    "auc_cv = []\n",
    "auc_test = []\n",
    "alpha = [0.0001, 0.001, 0.01, 0.1, 1, 10, 100, 1000]\n",
    "for i in tqdm(alpha):\n",
    "    # instantiate learning model (k = 30)\n",
    "    svc =  SVC(kernel='rbf', C = i)\n",
    "    clf =  CalibratedClassifierCV(svc, method='isotonic')\n",
    "    \n",
    "    \n",
    "    # fitting the model on crossvalidation train\n",
    "    clf.fit(bow_x_train, y_train)\n",
    "\n",
    "    \n",
    "    y_pred_proba = clf.predict_proba(bow_x_cv)[::,1]\n",
    "    fpr, tpr, _ = metrics.roc_curve(y_cv,  y_pred_proba)\n",
    "    auc_cv.append(np.round(metrics.roc_auc_score(y_cv, y_pred_proba)*100))\n",
    "    \n",
    "    y_pred_proba1 = clf.predict_proba(bow_x_test)[::,1]\n",
    "    fpr, tpr, _ = metrics.roc_curve(y_test,  y_pred_proba1)\n",
    "    auc_test.append(np.round(metrics.roc_auc_score(y_test, y_pred_proba1)*100))\n",
    "    \n",
    "    \n",
    "    \n",
    "    \n",
    "br_optimal_alpha = alpha[(auc_cv.index(max(auc_cv)))]\n",
    "\n",
    "\n",
    "\n",
    "#Taking log of alpha value to print easely on graph with correcsponding auc\n",
    "log_alpha = []\n",
    "for i in alpha:\n",
    "    log_alpha.append(math.log10(i))\n",
    "log_alpha    \n",
    "\n",
    "\n",
    "\n",
    "#printing all Auc value of corresponding k on validation and test data\n",
    "df = pd.DataFrame({\n",
    "                  'training': auc_cv,\n",
    "                  'test': auc_test\n",
    "                  }, index = log_alpha)\n",
    "lines = df.plot.line()\n",
    "plt.xlabel(\"alpha Hyper Parameter\")\n",
    "plt.ylabel(\"Area under ROC curve\")\n",
    "plt.title(\"ROC curve of BOW with rbf kernel and \")\n",
    "plt.grid()\n",
    "plt.show()\n",
    "\n",
    "\n",
    "\n",
    "clf = SVC(kernel =\"rbf\" , C = br_optimal_alpha )\n",
    "bow_clf  = CalibratedClassifierCV(clf, method='isotonic')\n",
    "bow_clf.fit(bow_x_train, y_train)\n",
    "\n",
    "\n",
    "\n",
    "#auc curve of optimal k on validation and test data\n",
    "y_predk_proba = bow_clf.predict_proba(bow_x_cv)[::,1]\n",
    "fpr, tpr, _ = metrics.roc_curve(y_cv,  y_predk_proba)\n",
    "auc = np.round(metrics.roc_auc_score(y_cv, y_predk_proba)*100, 2)\n",
    "br_tr_auc = auc\n",
    "\n",
    "plt.plot(fpr,tpr,label=\"Validation Auc = \"+str(auc))\n",
    "y_predk_proba = bow_clf.predict_proba(bow_x_test)[::,1]\n",
    "fpr, tpr, _ = metrics.roc_curve(y_test,  y_predk_proba)\n",
    "auc = np.round(metrics.roc_auc_score(y_test, y_predk_proba)*100, 2)\n",
    "br_ts_auc = auc\n",
    "\n",
    "plt.plot(fpr,tpr,label=\"Test Auc = \"+str(auc))\n",
    "plt.legend(loc=4)\n",
    "plt.plot([x/10 for x in range(0, 11)],[x/10 for x in range(0, 11)], color='grey')\n",
    "plt.title(\"ROC Curve of BOW with rbf kernel and regularization\")\n",
    "plt.axis([0, 1, 0, 1])\n",
    "plt.xlabel(\"False Positive Rate\")\n",
    "plt.ylabel(\"True Positive Rate\")\n",
    "plt.show()\n",
    "\n",
    "\n",
    "\n",
    "y_pred_test = bow_clf.predict(bow_x_test)\n",
    "y_pred_cv = bow_clf.predict(bow_x_cv)\n",
    "\n",
    "\n",
    "\n",
    "# http://www.tarekatwan.com/index.php/2017/12/how-to-plot-a-confusion-matrix-in-python/\n",
    "cm = confusion_matrix(y_cv,y_pred_cv)\n",
    "plt.clf()\n",
    "plt.imshow(cm, interpolation='nearest', cmap=plt.cm.Wistia)\n",
    "classNames = ['0','1']\n",
    "plt.title(\"Traiining : Confusion Matrix of Bag of Words with rbf kernel and regularization\")\n",
    "plt.ylabel('True label')\n",
    "plt.xlabel('Predicted label')\n",
    "tick_marks = np.arange(len(classNames))\n",
    "plt.xticks(tick_marks, classNames, rotation=45)\n",
    "plt.yticks(tick_marks, classNames)\n",
    "s = [['TN','FP'], ['FN', 'TP']]\n",
    " \n",
    "for i in range(2):\n",
    "    for j in range(2):\n",
    "        plt.text(j,i, str(s[i][j])+\" = \"+str(cm[i][j]))\n",
    "plt.show()\n",
    "\n",
    "\n",
    "\n",
    "# http://www.tarekatwan.com/index.php/2017/12/how-to-plot-a-confusion-matrix-in-python/\n",
    "cm = confusion_matrix(y_test,y_pred_test)\n",
    "plt.clf()\n",
    "plt.imshow(cm, interpolation='nearest', cmap=plt.cm.Wistia)\n",
    "classNames = ['0','1']\n",
    "plt.title(\"Test : Confusion Matrix of Bag of Words with rbf kernel and  regularization\")\n",
    "plt.ylabel('True label')\n",
    "plt.xlabel('Predicted label')\n",
    "tick_marks = np.arange(len(classNames))\n",
    "plt.xticks(tick_marks, classNames, rotation=45)\n",
    "plt.yticks(tick_marks, classNames)\n",
    "s = [['TN','FP'], ['FN', 'TP']]\n",
    " \n",
    "for i in range(2):\n",
    "    for j in range(2):\n",
    "        plt.text(j,i, str(s[i][j])+\" = \"+str(cm[i][j]))\n",
    "plt.show()"
   ]
  },
  {
   "cell_type": "markdown",
   "metadata": {},
   "source": [
    "### [5.2.2] Applying RBF SVM on TFIDF,<font color='red'> SET 2</font>"
   ]
  },
  {
   "cell_type": "code",
   "execution_count": 78,
   "metadata": {},
   "outputs": [],
   "source": [
    "# Please write all the code with proper documentation"
   ]
  },
  {
   "cell_type": "code",
   "execution_count": 79,
   "metadata": {},
   "outputs": [
    {
     "name": "stderr",
     "output_type": "stream",
     "text": [
      "100%|███████████████████████████████████████████| 8/8 [26:43<00:00, 218.52s/it]\n"
     ]
    },
    {
     "data": {
      "image/png": "[encoded data removed]",
      "text/plain": [
       "<Figure size 432x288 with 1 Axes>"
      ]
     },
     "metadata": {},
     "output_type": "display_data"
    },
    {
     "data": {
      "image/png": "[encoded data removed]",
      "text/plain": [
       "<Figure size 432x288 with 1 Axes>"
      ]
     },
     "metadata": {},
     "output_type": "display_data"
    },
    {
     "data": {
      "image/png": "[encoded data removed]",
      "text/plain": [
       "<Figure size 432x288 with 1 Axes>"
      ]
     },
     "metadata": {},
     "output_type": "display_data"
    },
    {
     "data": {
      "image/png": "[encoded data removed]",
      "text/plain": [
       "<Figure size 432x288 with 1 Axes>"
      ]
     },
     "metadata": {},
     "output_type": "display_data"
    }
   ],
   "source": [
    "def tfidf(preprocessed_reviews, x_cv, x_test):\n",
    "    tf_idf_vect = TfidfVectorizer()\n",
    "    vectorizer = tf_idf_vect.fit_transform(preprocessed_reviews)\n",
    "    tfidf_x_cv = tf_idf_vect.transform(x_cv)\n",
    "    tfidf_x_test = tf_idf_vect.transform(x_test)\n",
    "    return vectorizer, tfidf_x_cv, tfidf_x_test\n",
    "\n",
    "\n",
    "tfidf_x_train, tfidf_x_cv, tfidf_x_test = tfidf(x_train, x_cv, x_test)\n",
    "\n",
    "\n",
    "\n",
    "auc_cv = []\n",
    "auc_test = []\n",
    "alpha = [0.0001, 0.001, 0.01, 0.1, 1, 10, 100, 1000]\n",
    "for i in tqdm(alpha):\n",
    "    # instantiate learning model (k = 30)\n",
    "    clf = SVC(kernel = 'rbf', C = i)\n",
    "    tfidf_clf    = CalibratedClassifierCV(clf, method='isotonic')\n",
    "\n",
    "    # fitting the model on crossvalidation train\n",
    "    tfidf_clf.fit(tfidf_x_train, y_train)\n",
    "\n",
    "    \n",
    "    y_pred_proba = tfidf_clf.predict_proba(tfidf_x_cv)[::,1]\n",
    "    fpr, tpr, _ = metrics.roc_curve(y_cv,  y_pred_proba)\n",
    "    auc_cv.append(np.round(metrics.roc_auc_score(y_cv, y_pred_proba)*100))\n",
    "    \n",
    "    y_pred_proba1 = tfidf_clf.predict_proba(tfidf_x_test)[::,1]\n",
    "    fpr, tpr, _ = metrics.roc_curve(y_test,  y_pred_proba1)\n",
    "    auc_test.append(np.round(metrics.roc_auc_score(y_test, y_pred_proba1)*100))\n",
    "\n",
    "    \n",
    "    \n",
    "    \n",
    "    \n",
    "tr_optimal_alpha = alpha[(auc_cv.index(max(auc_cv)))]    \n",
    "\n",
    "#Taking log of alpha value to print easely on graph with correcsponding auc\n",
    "log_alpha = []\n",
    "for i in alpha:\n",
    "    log_alpha.append(math.log10(i))\n",
    "log_alpha    \n",
    "\n",
    "\n",
    "\n",
    "#printing all Auc value of corresponding k on validation and test data\n",
    "df = pd.DataFrame({\n",
    "                  'training': auc_cv,\n",
    "                  'test': auc_test\n",
    "                  }, index = log_alpha)\n",
    "lines = df.plot.line()\n",
    "plt.xlabel(\"alpha Hyper Parameter\")\n",
    "plt.ylabel(\"Area under ROC curve\")\n",
    "plt.title(\"ROC curve of tfidf with linear kernel and  regularization\")\n",
    "plt.grid()\n",
    "plt.show()\n",
    "\n",
    "\n",
    "\n",
    "clf = SVC(kernel = 'rbf', C = tr_optimal_alpha)\n",
    "tfidf_clf  = CalibratedClassifierCV(clf, method='isotonic')\n",
    "tfidf_clf.fit(tfidf_x_train, y_train)\n",
    "\n",
    "\n",
    "\n",
    "#auc curve of optimal k on validation and test data\n",
    "y_predk_proba = tfidf_clf.predict_proba(tfidf_x_cv)[::,1]\n",
    "fpr, tpr, _ = metrics.roc_curve(y_cv,  y_predk_proba)\n",
    "auc = np.round(metrics.roc_auc_score(y_cv, y_predk_proba)*100, 2)\n",
    "tr_tr_auc = auc\n",
    "\n",
    "plt.plot(fpr,tpr,label=\"Validation Auc = \"+str(auc))\n",
    "y_predk_proba = tfidf_clf.predict_proba(tfidf_x_test)[::,1]\n",
    "fpr, tpr, _ = metrics.roc_curve(y_test,  y_predk_proba)\n",
    "auc = np.round(metrics.roc_auc_score(y_test, y_predk_proba)*100, 2)\n",
    "tr_ts_auc = auc\n",
    "\n",
    "plt.plot(fpr,tpr,label=\"Test Auc = \"+str(auc))\n",
    "plt.legend(loc=4)\n",
    "plt.plot([x/10 for x in range(0, 11)],[x/10 for x in range(0, 11)], color='grey')\n",
    "plt.title(\"ROC Curve of tfidf with rbf kernel and regularization\")\n",
    "plt.axis([0, 1, 0, 1])\n",
    "plt.xlabel(\"False Positive Rate\")\n",
    "plt.ylabel(\"True Positive Rate\")\n",
    "plt.show()\n",
    "\n",
    "\n",
    "\n",
    "y_pred_test = tfidf_clf.predict(tfidf_x_test)\n",
    "y_pred_cv = tfidf_clf.predict(tfidf_x_cv)\n",
    "\n",
    "\n",
    "\n",
    "# http://www.tarekatwan.com/index.php/2017/12/how-to-plot-a-confusion-matrix-in-python/\n",
    "cm = confusion_matrix(y_cv,y_pred_cv)\n",
    "plt.clf()\n",
    "plt.imshow(cm, interpolation='nearest', cmap=plt.cm.Wistia)\n",
    "classNames = ['0','1']\n",
    "plt.title(\"Traiining : Confusion Matrix of tfidf with rbf kernel and regularization\")\n",
    "plt.ylabel('True label')\n",
    "plt.xlabel('Predicted label')\n",
    "tick_marks = np.arange(len(classNames))\n",
    "plt.xticks(tick_marks, classNames, rotation=45)\n",
    "plt.yticks(tick_marks, classNames)\n",
    "s = [['TN','FP'], ['FN', 'TP']]\n",
    " \n",
    "for i in range(2):\n",
    "    for j in range(2):\n",
    "        plt.text(j,i, str(s[i][j])+\" = \"+str(cm[i][j]))\n",
    "plt.show()\n",
    "\n",
    "\n",
    "\n",
    "# http://www.tarekatwan.com/index.php/2017/12/how-to-plot-a-confusion-matrix-in-python/\n",
    "cm = confusion_matrix(y_test,y_pred_test)\n",
    "plt.clf()\n",
    "plt.imshow(cm, interpolation='nearest', cmap=plt.cm.Wistia)\n",
    "classNames = ['0','1']\n",
    "plt.title(\"Test : Confusion Matrix of tfidf with rbf kernel and regularization\")\n",
    "plt.ylabel('True label')\n",
    "plt.xlabel('Predicted label')\n",
    "tick_marks = np.arange(len(classNames))\n",
    "plt.xticks(tick_marks, classNames, rotation=45)\n",
    "plt.yticks(tick_marks, classNames)\n",
    "s = [['TN','FP'], ['FN', 'TP']]\n",
    " \n",
    "for i in range(2):\n",
    "    for j in range(2):\n",
    "        plt.text(j,i, str(s[i][j])+\" = \"+str(cm[i][j]))\n",
    "plt.show()"
   ]
  },
  {
   "cell_type": "markdown",
   "metadata": {},
   "source": [
    "### [5.2.3]  Applying RBF SVM on AVG W2V,<font color='red'> SET 3</font>"
   ]
  },
  {
   "cell_type": "code",
   "execution_count": 80,
   "metadata": {},
   "outputs": [],
   "source": [
    "# Please write all the code with proper documentation"
   ]
  },
  {
   "cell_type": "code",
   "execution_count": 81,
   "metadata": {},
   "outputs": [
    {
     "name": "stderr",
     "output_type": "stream",
     "text": [
      "100%|███████████████████████████████████| 12000/12000 [01:36<00:00, 124.78it/s]\n",
      "100%|█████████████████████████████████████| 4000/4000 [00:29<00:00, 134.17it/s]\n",
      "100%|█████████████████████████████████████| 4000/4000 [00:34<00:00, 110.42it/s]\n",
      "100%|████████████████████████████████████████████| 8/8 [07:34<00:00, 63.06s/it]\n"
     ]
    },
    {
     "data": {
      "image/png": "[encoded data removed]",
      "text/plain": [
       "<Figure size 432x288 with 1 Axes>"
      ]
     },
     "metadata": {},
     "output_type": "display_data"
    },
    {
     "data": {
      "image/png": "[encoded data removed]",
      "text/plain": [
       "<Figure size 432x288 with 1 Axes>"
      ]
     },
     "metadata": {},
     "output_type": "display_data"
    },
    {
     "data": {
      "image/png": "[encoded data removed]",
      "text/plain": [
       "<Figure size 432x288 with 1 Axes>"
      ]
     },
     "metadata": {},
     "output_type": "display_data"
    },
    {
     "data": {
      "image/png": "[encoded data removed]",
      "text/plain": [
       "<Figure size 432x288 with 1 Axes>"
      ]
     },
     "metadata": {},
     "output_type": "display_data"
    }
   ],
   "source": [
    "# Please write all the code with proper documentation\n",
    "def avg_w2v(preprocessed_reviews, x, w2v_model):\n",
    "    i=0\n",
    "    list_of_sentance=[]\n",
    "    for sentance in preprocessed_reviews:\n",
    "        list_of_sentance.append(sentance.split())\n",
    "                            \n",
    "    is_your_ram_gt_16g=False\n",
    "    want_to_use_google_w2v = False\n",
    "    want_to_train_w2v = True\n",
    "    if 1 == x:\n",
    "        if want_to_train_w2v:\n",
    "            # min_count = 5 considers only words that occured atleast 5 times\n",
    "            w2v_model=Word2Vec(list_of_sentance,min_count=5,size=50, workers=4)\n",
    "        elif want_to_use_google_w2v and is_your_ram_gt_16g:\n",
    "            if os.path.isfile('GoogleNews-vectors-negative300.bin'):\n",
    "                w2v_model=KeyedVectors.load_word2vec_format('GoogleNews-vectors-negative300.bin', binary=True)\n",
    "                print(w2v_model.wv.most_similar('great'))\n",
    "                print(w2v_model.wv.most_similar('worst'))\n",
    "        else:\n",
    "            print(\"you don't have gogole's word2vec file, keep want_to_train_w2v = True, to train your own w2v \")\n",
    "\n",
    "    w2v_words = list(w2v_model.wv.vocab)                      \n",
    "\n",
    "    # average Word2Vec\n",
    "    # compute average word2vec for each review.\n",
    "    sent_vectors = []; # the avg-w2v for each sentence/review is stored in this list\n",
    "    for sent in tqdm(list_of_sentance): # for each review/sentence\n",
    "        sent_vec = np.zeros(50) # as word vectors are of zero length 50, you might need to change this to 300 if you use google's w2v\n",
    "        cnt_words =0; # num of words with a valid vector in the sentence/review\n",
    "        for word in sent: # for each word in a review/sentence\n",
    "            if word in w2v_words:\n",
    "                vec = w2v_model.wv[word]\n",
    "                sent_vec += vec\n",
    "                cnt_words += 1\n",
    "        if cnt_words != 0:\n",
    "            sent_vec /= cnt_words\n",
    "        sent_vectors.append(sent_vec) \n",
    "    \n",
    "    return sent_vectors, list_of_sentance, w2v_model                          \n",
    "\n",
    "\n",
    "#vectorizing using above function\n",
    "avg_w2v_x_train, los_train, w2v_model = avg_w2v(x_train, 1, None)\n",
    "avg_w2v_x_cv, los_cv, w2v_model = avg_w2v(x_cv, 0, w2v_model)\n",
    "avg_w2v_x_test, los_test, w2v_model = avg_w2v(x_test, 0, w2v_model)\n",
    "\n",
    "\n",
    "\n",
    "auc_cv = []\n",
    "auc_test = []\n",
    "alpha = [0.0001, 0.001, 0.01, 0.1, 1, 10, 100, 1000]\n",
    "for i in tqdm(alpha):\n",
    "    # instantiate learning model (k = 30)\n",
    "    svm = SVC(kernel = \"rbf\", C = i)\n",
    "    clfl1    = CalibratedClassifierCV(svm, method='isotonic')\n",
    "\n",
    "    # fitting the model on crossvalidation train\n",
    "    clfl1.fit(avg_w2v_x_train, y_train)\n",
    "\n",
    "    \n",
    "    y_pred_proba = clfl1.predict_proba(avg_w2v_x_cv)[::,1]\n",
    "    fpr, tpr, _ = metrics.roc_curve(y_cv,  y_pred_proba)\n",
    "    auc_cv.append(np.round(metrics.roc_auc_score(y_cv, y_pred_proba)*100))\n",
    "    \n",
    "    y_pred_proba1 = clfl1.predict_proba(avg_w2v_x_test)[::,1]\n",
    "    fpr, tpr, _ = metrics.roc_curve(y_test,  y_pred_proba1)\n",
    "    auc_test.append(np.round(metrics.roc_auc_score(y_test, y_pred_proba1)*100))\n",
    "    \n",
    "\n",
    "    \n",
    "\n",
    "       \n",
    "    \n",
    "    \n",
    "awr_optimal_alpha = alpha[(auc_cv.index(max(auc_cv)))]\n",
    "\n",
    "\n",
    "\n",
    "#printing all Auc value of corresponding k on validation and test data\n",
    "df = pd.DataFrame({\n",
    "                  'training': auc_cv,\n",
    "                  'test': auc_test\n",
    "                  }, index = log_alpha)\n",
    "lines = df.plot.line()\n",
    "plt.xlabel(\"alpha Hyper Parameter\")\n",
    "plt.ylabel(\"Area under ROC curve\")\n",
    "plt.title(\"ROC curve of tfidf with rbf kernel\")\n",
    "plt.grid()\n",
    "plt.show()\n",
    "\n",
    "\n",
    "\n",
    "svm = SVC(kernel = \"rbf\", C = awr_optimal_alpha )\n",
    "clf  = CalibratedClassifierCV(svm, method='isotonic')\n",
    "clf.fit(avg_w2v_x_train, y_train)\n",
    "\n",
    "\n",
    "\n",
    "#auc curve of optimal k on validation and test data\n",
    "y_predk_proba = clf.predict_proba(avg_w2v_x_cv)[::,1]\n",
    "fpr, tpr, _ = metrics.roc_curve(y_cv,  y_predk_proba)\n",
    "auc = np.round(metrics.roc_auc_score(y_cv, y_predk_proba)*100, 2)\n",
    "awr_tr_auc = auc\n",
    "\n",
    "plt.plot(fpr,tpr,label=\"Validation Auc = \"+str(auc))\n",
    "y_predk_proba = clf.predict_proba(avg_w2v_x_test)[::,1]\n",
    "fpr, tpr, _ = metrics.roc_curve(y_test,  y_predk_proba)\n",
    "auc = np.round(metrics.roc_auc_score(y_test, y_predk_proba)*100, 2)\n",
    "awr_ts_auc = auc\n",
    "\n",
    "plt.plot(fpr,tpr,label=\"Test Auc = \"+str(auc))\n",
    "plt.legend(loc=4)\n",
    "plt.plot([x/10 for x in range(0, 11)],[x/10 for x in range(0, 11)], color='grey')\n",
    "plt.title(\"ROC Curve of tfidf with rbf kernel \")\n",
    "plt.axis([0, 1, 0, 1])\n",
    "plt.xlabel(\"False Positive Rate\")\n",
    "plt.ylabel(\"True Positive Rate\")\n",
    "plt.show()\n",
    "\n",
    "\n",
    "\n",
    "y_pred_test = clf.predict(avg_w2v_x_test)\n",
    "y_pred_cv = clf.predict(avg_w2v_x_cv)\n",
    "\n",
    "\n",
    "\n",
    "# http://www.tarekatwan.com/index.php/2017/12/how-to-plot-a-confusion-matrix-in-python/\n",
    "cm = confusion_matrix(y_cv,y_pred_cv)\n",
    "plt.clf()\n",
    "plt.imshow(cm, interpolation='nearest', cmap=plt.cm.Wistia)\n",
    "classNames = ['0','1']\n",
    "plt.title(\"Traiining : Confusion Matrix of avg word2vec with rbf kernel\")\n",
    "plt.ylabel('True label')\n",
    "plt.xlabel('Predicted label')\n",
    "tick_marks = np.arange(len(classNames))\n",
    "plt.xticks(tick_marks, classNames, rotation=45)\n",
    "plt.yticks(tick_marks, classNames)\n",
    "s = [['TN','FP'], ['FN', 'TP']]\n",
    " \n",
    "for i in range(2):\n",
    "    for j in range(2):\n",
    "        plt.text(j,i, str(s[i][j])+\" = \"+str(cm[i][j]))\n",
    "plt.show()\n",
    "\n",
    "\n",
    "\n",
    "# http://www.tarekatwan.com/index.php/2017/12/how-to-plot-a-confusion-matrix-in-python/\n",
    "cm = confusion_matrix(y_test,y_pred_test)\n",
    "plt.clf()\n",
    "plt.imshow(cm, interpolation='nearest', cmap=plt.cm.Wistia)\n",
    "classNames = ['0','1']\n",
    "plt.title(\"Test : Confusion Matrix of word2vec with rbf kernel \")\n",
    "plt.ylabel('True label')\n",
    "plt.xlabel('Predicted label')\n",
    "tick_marks = np.arange(len(classNames))\n",
    "plt.xticks(tick_marks, classNames, rotation=45)\n",
    "plt.yticks(tick_marks, classNames)\n",
    "s = [['TN','FP'], ['FN', 'TP']]\n",
    " \n",
    "for i in range(2):\n",
    "    for j in range(2):\n",
    "        plt.text(j,i, str(s[i][j])+\" = \"+str(cm[i][j]))\n",
    "plt.show()"
   ]
  },
  {
   "cell_type": "markdown",
   "metadata": {},
   "source": [
    "### [5.2.4]  Applying RBF SVM on TFIDF W2V,<font color='red'> SET 4</font>"
   ]
  },
  {
   "cell_type": "code",
   "execution_count": 82,
   "metadata": {},
   "outputs": [],
   "source": [
    "# Please write all the code with proper documentation"
   ]
  },
  {
   "cell_type": "code",
   "execution_count": 83,
   "metadata": {},
   "outputs": [
    {
     "name": "stderr",
     "output_type": "stream",
     "text": [
      "100%|████████████████████████████████████| 12000/12000 [11:20<00:00, 17.64it/s]\n",
      "100%|██████████████████████████████████████| 4000/4000 [03:25<00:00, 19.50it/s]\n",
      "100%|██████████████████████████████████████| 4000/4000 [03:46<00:00, 22.41it/s]\n",
      "100%|████████████████████████████████████████████| 8/8 [11:21<00:00, 93.99s/it]\n"
     ]
    },
    {
     "data": {
      "image/png": "[encoded data removed]",
      "text/plain": [
       "<Figure size 432x288 with 1 Axes>"
      ]
     },
     "metadata": {},
     "output_type": "display_data"
    },
    {
     "data": {
      "image/png": "[encoded data removed]",
      "text/plain": [
       "<Figure size 432x288 with 1 Axes>"
      ]
     },
     "metadata": {},
     "output_type": "display_data"
    },
    {
     "data": {
      "image/png": "[encoded data removed]",
      "text/plain": [
       "<Figure size 432x288 with 1 Axes>"
      ]
     },
     "metadata": {},
     "output_type": "display_data"
    },
    {
     "data": {
      "image/png": "[encoded data removed]",
      "text/plain": [
       "<Figure size 432x288 with 1 Axes>"
      ]
     },
     "metadata": {},
     "output_type": "display_data"
    }
   ],
   "source": [
    "def tfidf_w2v(preprocessed_reviews, list_of_sentance, w2v_model, w2v_words, x, model):\n",
    "    if 1 == x:\n",
    "        model = TfidfVectorizer()\n",
    "        tf_idf_matrix = model.fit_transform(preprocessed_reviews)\n",
    "        # we are converting a dictionary with word as a key, and the idf as a value\n",
    "        dictionary = dict(zip(model.get_feature_names(), list(model.idf_)))\n",
    "        # TF-IDF weighted Word2Vec\n",
    "        tfidf_feat = model.get_feature_names() # tfidf words/col-names\n",
    "        # final_tf_idf is the sparse matrix with row= sentence, col=word and cell_val = tfidf\n",
    "    else: \n",
    "        tf_idf_matrix = model.transform(preprocessed_reviews)\n",
    "        dictionary = dict(zip(model.get_feature_names(), list(model.idf_)))\n",
    "        tfidf_feat = model.get_feature_names()\n",
    "        \n",
    "    tfidf_sent_vectors = []; # the tfidf-w2v for each sentence/review is stored in this list\n",
    "    row=0;\n",
    "    for sent in tqdm(list_of_sentance): # for each review/sentence \n",
    "        sent_vec = np.zeros(50) # as word vectors are of zero length\n",
    "        weight_sum =0; # num of words with a valid vector in the sentence/review\n",
    "        for word in sent: # for each word in a review/sentence\n",
    "            if word in w2v_words and word in tfidf_feat:\n",
    "                vec = w2v_model.wv[word]\n",
    "                # tf_idf = tf_idf_matrix[row, tfidf_feat.index(word)]\n",
    "                # to reduce the computation we are  \n",
    "                # dictionary[word] = idf value of word in whole courpus\n",
    "                # sent.count(word) = tf valeus of word in this review\n",
    "                tf_idf = dictionary[word]*(sent.count(word)/len(sent))\n",
    "                sent_vec += (vec * tf_idf)\n",
    "                weight_sum += tf_idf\n",
    "        if weight_sum != 0:\n",
    "            sent_vec /= weight_sum\n",
    "        tfidf_sent_vectors.append(sent_vec)\n",
    "        row += 1\n",
    "    return tfidf_sent_vectors, model               \n",
    "\n",
    "\n",
    "#vectorizing using above function\n",
    "tfidf_w2v_x_train, model = tfidf_w2v(x_train, los_train, w2v_model, list(w2v_model.wv.vocab), 1, None)\n",
    "tfidf_w2v_x_cv, model = tfidf_w2v(x_cv, los_cv, w2v_model, list(w2v_model.wv.vocab), 0, model)\n",
    "tfidf_w2v_x_test, model = tfidf_w2v(x_test, los_test, w2v_model, list(w2v_model.wv.vocab), 0, model)\n",
    "\n",
    "\n",
    "auc_cv = []\n",
    "auc_test = []\n",
    "for i in tqdm(alpha):\n",
    "    # instantiate learning model (k = 30)\n",
    "    svm = SVC(kernel = \"rbf\", C = i)\n",
    "    clfl1    = CalibratedClassifierCV(svm, method='isotonic')\n",
    "    # fitting the model on crossvalidation train\n",
    "    clfl1.fit(tfidf_w2v_x_train, y_train)\n",
    "\n",
    "    # predict the response on the crossvalidation train\n",
    "    pred_cv = clfl1.predict(tfidf_w2v_x_train)\n",
    "    \n",
    "    y_pred_proba = clfl1.predict_proba(tfidf_w2v_x_cv)[::,1]\n",
    "    fpr, tpr, _ = metrics.roc_curve(y_cv,  y_pred_proba)\n",
    "    auc_cv.append(np.round(metrics.roc_auc_score(y_cv, y_pred_proba)*100))\n",
    "    \n",
    "    y_pred_proba1 = clfl1.predict_proba(tfidf_w2v_x_test)[::,1]\n",
    "    fpr, tpr, _ = metrics.roc_curve(y_test,  y_pred_proba1)\n",
    "    auc_test.append(np.round(metrics.roc_auc_score(y_test, y_pred_proba1)*100))\n",
    "\n",
    "\n",
    "    \n",
    "    \n",
    "\n",
    "twr_optimal_alpha = alpha[(auc_cv.index(max(auc_cv)))]    \n",
    "\n",
    "\n",
    "#printing all Auc value of corresponding k on validation and test data\n",
    "df = pd.DataFrame({\n",
    "                  'training': auc_cv,\n",
    "                  'test': auc_test\n",
    "                  }, index = log_alpha)\n",
    "lines = df.plot.line()\n",
    "plt.xlabel(\"alpha Hyper Parameter\")\n",
    "plt.ylabel(\"Area under ROC curve\")\n",
    "plt.title(\"ROC curve of tfidf word2vec with rbf kernel \")\n",
    "plt.grid()\n",
    "plt.show()\n",
    "\n",
    "\n",
    "svm = SVC(kernel = \"rbf\" , C =twr_optimal_alpha )\n",
    "clf  = CalibratedClassifierCV(svm, method='isotonic')\n",
    "clf.fit(tfidf_w2v_x_train, y_train)\n",
    "\n",
    "\n",
    "\n",
    "#auc curve of optimal k on validation and test data\n",
    "y_predk_proba = clf.predict_proba(tfidf_w2v_x_cv)[::,1]\n",
    "fpr, tpr, _ = metrics.roc_curve(y_cv,  y_predk_proba)\n",
    "auc = np.round(metrics.roc_auc_score(y_cv, y_predk_proba)*100, 2)\n",
    "twr_tr_auc = auc\n",
    "plt.plot(fpr,tpr,label=\"Validation Auc = \"+str(auc))\n",
    "\n",
    "y_predk_proba = clf.predict_proba(tfidf_w2v_x_test)[::,1]\n",
    "fpr, tpr, _ = metrics.roc_curve(y_test,  y_predk_proba)\n",
    "auc = np.round(metrics.roc_auc_score(y_test, y_predk_proba)*100, 2)\n",
    "twr_ts_auc = auc\n",
    "plt.plot(fpr,tpr,label=\"Test Auc = \"+str(auc))\n",
    "\n",
    "plt.legend(loc=4)\n",
    "plt.plot([x/10 for x in range(0, 11)],[x/10 for x in range(0, 11)], color='grey')\n",
    "plt.title(\"ROC Curve of  tfidf word2vec with rbf kernel \")\n",
    "plt.axis([0, 1, 0, 1])\n",
    "plt.xlabel(\"False Positive Rate\")\n",
    "plt.ylabel(\"True Positive Rate\")\n",
    "plt.show()\n",
    "\n",
    "\n",
    "\n",
    "y_pred_test = clf.predict(tfidf_w2v_x_test)\n",
    "y_pred_cv = clf.predict(tfidf_w2v_x_cv)\n",
    "\n",
    "\n",
    "\n",
    "# http://www.tarekatwan.com/index.php/2017/12/how-to-plot-a-confusion-matrix-in-python/\n",
    "cm = confusion_matrix(y_cv,y_pred_cv)\n",
    "plt.clf()\n",
    "plt.imshow(cm, interpolation='nearest', cmap=plt.cm.Wistia)\n",
    "classNames = ['0','1']\n",
    "plt.title(\"Traiining : Confusion Matrix of tfidf with rbf kernel\")\n",
    "plt.ylabel('True label')\n",
    "plt.xlabel('Predicted label')\n",
    "tick_marks = np.arange(len(classNames))\n",
    "plt.xticks(tick_marks, classNames, rotation=45)\n",
    "plt.yticks(tick_marks, classNames)\n",
    "s = [['TN','FP'], ['FN', 'TP']]\n",
    " \n",
    "for i in range(2):\n",
    "    for j in range(2):\n",
    "        plt.text(j,i, str(s[i][j])+\" = \"+str(cm[i][j]))\n",
    "plt.show()\n",
    "\n",
    "\n",
    "\n",
    "# http://www.tarekatwan.com/index.php/2017/12/how-to-plot-a-confusion-matrix-in-python/\n",
    "cm = confusion_matrix(y_test,y_pred_test)\n",
    "plt.clf()\n",
    "plt.imshow(cm, interpolation='nearest', cmap=plt.cm.Wistia)\n",
    "classNames = ['0','1']\n",
    "plt.title(\"Test : Confusion Matrix of tfidf with rbf kernel\")\n",
    "plt.ylabel('True label')\n",
    "plt.xlabel('Predicted label')\n",
    "tick_marks = np.arange(len(classNames))\n",
    "plt.xticks(tick_marks, classNames, rotation=45)\n",
    "plt.yticks(tick_marks, classNames)\n",
    "s = [['TN','FP'], ['FN', 'TP']]\n",
    " \n",
    "for i in range(2):\n",
    "    for j in range(2):\n",
    "        plt.text(j,i, str(s[i][j])+\" = \"+str(cm[i][j]))\n",
    "plt.show()"
   ]
  },
  {
   "cell_type": "markdown",
   "metadata": {},
   "source": [
    "# [6] Conclusions"
   ]
  },
  {
   "cell_type": "code",
   "execution_count": 84,
   "metadata": {},
   "outputs": [],
   "source": [
    "# Please compare all your models using Prettytable library"
   ]
  },
  {
   "cell_type": "code",
   "execution_count": 85,
   "metadata": {},
   "outputs": [
    {
     "name": "stdout",
     "output_type": "stream",
     "text": [
      "+-----------------+--------+------------+--------------+----------+\n",
      "| Model Technique | Kernel | alpha or C | Training Auc | Test Auc |\n",
      "+-----------------+--------+------------+--------------+----------+\n",
      "|   Bag of words  | Linear |   0.001    |    94.75     |  94.23   |\n",
      "|      Tfidf      | Linear |   0.0001   |    95.28     |  94.91   |\n",
      "|   Avg Word2vec  | Linear |   0.001    |    91.57     |  90.63   |\n",
      "|  Tfidf Word2vec | Linear |   0.001    |    89.01     |  87.95   |\n",
      "|   Bag of words  |  RBF   |     10     |    88.15     |  87.18   |\n",
      "|      Tfidf      |  RBF   |     10     |    92.32     |  90.37   |\n",
      "|   Avg Word2vec  |  RBF   |    1000    |    84.95     |  84.17   |\n",
      "|  Tfidf Word2vec |  RBF   |    100     |    81.57     |  81.61   |\n",
      "+-----------------+--------+------------+--------------+----------+\n"
     ]
    }
   ],
   "source": [
    "from prettytable import PrettyTable\n",
    "    \n",
    "x = PrettyTable()\n",
    "\n",
    "x.field_names = [\"Model Technique\", \"Kernel\", \"alpha or C\", \"Training Auc\", \"Test Auc\"]\n",
    "\n",
    "x.add_row([\"Bag of words\", \"Linear\", bl_optimal_alpha, bl_tr_auc, bl_ts_auc ])\n",
    "x.add_row([\"Tfidf\", \"Linear\", tl_optimal_alpha, tl_tr_auc, tl_ts_auc])\n",
    "x.add_row([\"Avg Word2vec\", \"Linear\", awl_optimal_alpha, awl_tr_auc, awl_ts_auc])\n",
    "x.add_row([\"Tfidf Word2vec\", \"Linear\", twl_optimal_alpha, twl_tr_auc, twl_ts_auc])\n",
    "x.add_row([\"Bag of words\", \"RBF\", br_optimal_alpha, br_tr_auc, br_ts_auc])\n",
    "x.add_row([\"Tfidf\", \"RBF\", tr_optimal_alpha, tr_tr_auc, tr_ts_auc])\n",
    "x.add_row([\"Avg Word2vec\", \"RBF\", awr_optimal_alpha, awr_tr_auc, awr_ts_auc])\n",
    "x.add_row([\"Tfidf Word2vec\", \"RBF\", twr_optimal_alpha, twr_tr_auc, twr_ts_auc])\n",
    "print(x)"
   ]
  },
  {
   "cell_type": "markdown",
   "metadata": {},
   "source": [
    "# Step for alll code:"
   ]
  },
  {
   "cell_type": "code",
   "execution_count": null,
   "metadata": {},
   "outputs": [],
   "source": [
    "Preprocessing of the code:\n",
    "    1. Importing all important library\n",
    "    2. Loading data using sqlite3\n",
    "    3. Making balanced data set\n",
    "    4. Removing html, punctuation, from text and so on to fit into model\n",
    "    5. dividing data into 3 part train test cv\n",
    "Bow and tfidf and avg word2vec and tfidf word2vec with linear kernel:\n",
    "    1. fitting train to bow model and transforming with train and cv and test\n",
    "    2. taking  c value from 0.0001 to 1000 with increement  multiple of 10\n",
    "    3. comparing with l1 and l2 which one goves better accuracy and applied for classifier\n",
    "    4. ploting all alpha with corresponding with auc so thatcan visualize optimal alpha\n",
    "    3. finding c optimal \n",
    "    4. plotting roc curve of cv and test \n",
    "    5. plottinng confusion matrix of cv and test     \n",
    "Bow and tfidf and avg word2vec and tfidf word2vec with rbf kernel:    \n",
    "    1. fitting train to bow model and transforming with train and cv and test\n",
    "    2. taking  c value from 0.0001 to 1000 with increement  multiple of 10 and gamma is auto tuned\n",
    "    3. ploting all alpha with corresponding with auc so thatcan visualize optimal alpha\n",
    "    4. finding c optimal \n",
    "    5. again fitiing the model with classifier.\n",
    "    6. plotting roc curve of cv and test \n",
    "    7. plottinng confusion matrix of cv and test "
   ]
  }
 ],
 "metadata": {
  "kernelspec": {
   "display_name": "Python 3",
   "language": "python",
   "name": "python3"
  },
  "language_info": {
   "codemirror_mode": {
    "name": "ipython",
    "version": 3
   },
   "file_extension": ".py",
   "mimetype": "text/x-python",
   "name": "python",
   "nbconvert_exporter": "python",
   "pygments_lexer": "ipython3",
   "version": "3.6.5"
  }
 },
 "nbformat": 4,
 "nbformat_minor": 2
}
