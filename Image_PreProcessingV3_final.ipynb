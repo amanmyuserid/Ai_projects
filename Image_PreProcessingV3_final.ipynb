{
 "cells": [
  {
   "cell_type": "markdown",
   "metadata": {},
   "source": [
    "### Description- This notebook contains code related to image preprocessing.\n"
   ]
  },
  {
   "cell_type": "code",
   "execution_count": 1,
   "metadata": {},
   "outputs": [
    {
     "data": {
      "text/plain": [
       "'\\n/* Copyright (C) 2019 Advenio Tecnosys Pvt. Ltd.\\n\\n*        All Rights Reserved\\n\\n*\\n\\n * NOTICE: \\n\\n * All information contained herein is, and remains\\n\\n* the property of Advenio Tecnosys and its suppliers,\\n\\n* if any.  The intellectual and technical concepts contained\\n\\n* herein are proprietary to Advenio Tecnosys\\n\\n* and its suppliers and may be covered by Indian, U.S. and Foreign Patents,\\n\\n* patents in process, and are protected by trade secret or copyright law.\\n\\n* Appropriation, redistribution, dissemination of this information or reproduction\\n\\n* of this material is strictly forbidden unless prior written permission is obtained\\n\\n* from Advenio Tecnosys Pvt. Ltd.\\n\\n*\\n\\n* Author: Anjani Suman\\n\\n*/\\n\\n'"
      ]
     },
     "execution_count": 1,
     "metadata": {},
     "output_type": "execute_result"
    }
   ],
   "source": [
    "\"\"\"\n",
    "/* Copyright (C) 2019 Advenio Tecnosys Pvt. Ltd.\n",
    "\n",
    "*        All Rights Reserved\n",
    "\n",
    "*\n",
    "\n",
    " * NOTICE: \n",
    "\n",
    " * All information contained herein is, and remains\n",
    "\n",
    "* the property of Advenio Tecnosys and its suppliers,\n",
    "\n",
    "* if any.  The intellectual and technical concepts contained\n",
    "\n",
    "* herein are proprietary to Advenio Tecnosys\n",
    "\n",
    "* and its suppliers and may be covered by Indian, U.S. and Foreign Patents,\n",
    "\n",
    "* patents in process, and are protected by trade secret or copyright law.\n",
    "\n",
    "* Appropriation, redistribution, dissemination of this information or reproduction\n",
    "\n",
    "* of this material is strictly forbidden unless prior written permission is obtained\n",
    "\n",
    "* from Advenio Tecnosys Pvt. Ltd.\n",
    "\n",
    "*\n",
    "\n",
    "* Author: Anjani Suman\n",
    "\n",
    "*/\n",
    "\n",
    "\"\"\"\n",
    " "
   ]
  },
  {
   "cell_type": "code",
   "execution_count": null,
   "metadata": {},
   "outputs": [],
   "source": []
  },
  {
   "cell_type": "markdown",
   "metadata": {},
   "source": [
    "### Importing Library "
   ]
  },
  {
   "cell_type": "code",
   "execution_count": 2,
   "metadata": {},
   "outputs": [
    {
     "name": "stderr",
     "output_type": "stream",
     "text": [
      "Using TensorFlow backend.\n"
     ]
    }
   ],
   "source": [
    "#from preprocess import *\n",
    "import os\n",
    "import cv2\n",
    "import numpy as np\n",
    "import peakutils\n",
    "import math\n",
    "from scipy.signal import convolve2d\n",
    "import matplotlib.pyplot as plt\n",
    "import enhance_denoise as ED\n",
    "from PIL import Image\n",
    "import pandas as pd\n",
    "from enhance_denoise import Timer\n",
    "from keras.preprocessing.image import img_to_array,array_to_img\n",
    "import shutil"
   ]
  },
  {
   "cell_type": "code",
   "execution_count": null,
   "metadata": {},
   "outputs": [],
   "source": []
  },
  {
   "cell_type": "code",
   "execution_count": null,
   "metadata": {},
   "outputs": [],
   "source": []
  },
  {
   "cell_type": "markdown",
   "metadata": {},
   "source": [
    "### Normalization"
   ]
  },
  {
   "cell_type": "code",
   "execution_count": 3,
   "metadata": {},
   "outputs": [],
   "source": [
    "def NormalizeSingle(img, lambda_avg):\n",
    "    \n",
    "    count = len(lambda_avg)\n",
    "\n",
    "    h_size = 2\n",
    "    sigma = 0.5\n",
    "\n",
    "    IO = img.copy()\n",
    "    IO1 = img.copy()\n",
    "    rows, cols = img.shape\n",
    "    I = np.zeros((rows, cols, count))\n",
    "\n",
    "    # Convolutions\n",
    "    for i in range(count):\n",
    "        kernelX = cv2.getGaussianKernel(h_size, 0.5).astype(np.float64)\n",
    "        kernel = kernelX * kernelX.T\n",
    "\n",
    "        temp = convolve2d(IO, kernel, \"same\")\n",
    "\n",
    "        I[:,:,i] = temp.copy()\n",
    "        h_size = h_size + 1\n",
    "        sigma = sigma + 0.5\n",
    "        IO = temp.copy()\n",
    "\n",
    "    temp = convolve2d( I[:,:,count-1], kernel, \"same\")\n",
    "    \n",
    "    Ifreq = np.zeros((rows, cols, count))\n",
    "\n",
    "    # Difference of Gaussian\n",
    "    for k in range(count):\n",
    "        temp1 = I[:,:,k]\n",
    "        Ifreq[:,:,k] = IO1 - temp1\n",
    "        IO1 = I[:,:,k]\n",
    "    \n",
    "    I1 = temp\n",
    "    \n",
    "    # Normalize\n",
    "    for k in reversed(range(count)):\n",
    "        f1 = Ifreq[:,:,k]\n",
    "        temp2 = I1 + (f1 * lambda_avg[k])\n",
    "\n",
    "        temp2 = 255 * (temp2 - np.min(temp2.ravel())) / np.max(temp2.ravel() - np.min(temp2.ravel()))\n",
    "        I1 = temp2\n",
    "\n",
    "    # /*round off values of arma mat*/\n",
    "    imNorm1 = np.round(I1)\n",
    "    \n",
    "    return imNorm1.copy()"
   ]
  },
  {
   "cell_type": "code",
   "execution_count": 4,
   "metadata": {},
   "outputs": [],
   "source": [
    "def NormalizeImage(img):\n",
    "    img = img.astype(np.float64)\n",
    "\n",
    "    lvalueg = np.array([0.292761914578325, 0.364846438109161, 0.409420565254059])\n",
    "\n",
    "    lvaluer = np.array([0.275757818668329, 0.355687956171273, 0.382670600656154])\n",
    "\n",
    "    # /*perform normalization on green and red channel*/\n",
    "    Ign = NormalizeSingle(img[:,:,1], lvalueg)\n",
    "    Irn = NormalizeSingle(img[:,:,2], lvaluer)\n",
    "\n",
    "    norm_img = img.copy()\n",
    "    norm_img[:,:,1] = Ign\n",
    "    norm_img[:,:,2] = Irn\n",
    "\n",
    "    return norm_img\n"
   ]
  },
  {
   "cell_type": "markdown",
   "metadata": {},
   "source": [
    "###  CLAHE Implementation"
   ]
  },
  {
   "cell_type": "code",
   "execution_count": 5,
   "metadata": {},
   "outputs": [],
   "source": [
    "def clahe(img, clip_limit, tile_grid_size):\n",
    "    try:  \n",
    "        enhanced_img = np.zeros(img.shape)\n",
    "    except Exception:  \n",
    "        return None  # if img is not an image\n",
    "\n",
    "\n",
    "    clahe_obj = cv2.createCLAHE(clipLimit=clip_limit, tileGridSize=tile_grid_size)\n",
    "    #img=cv2.cvtColor(img.copy(), cv2.COLOR_BGR2LAB)\n",
    "    enhanced_img = img.copy()\n",
    "    for i in range(0,1):\n",
    "        try:  \n",
    "            enhanced_img[:, :] = clahe_obj.apply(img[:, :])\n",
    "        except Exception:  \n",
    "            return None  # if no_of_channels != 3\n",
    "\n",
    "    #enhanced_img=cv2.cvtColor(enhanced_img.copy(), cv2.COLOR_LAB2BGR)\n",
    "    return enhanced_img\n"
   ]
  },
  {
   "cell_type": "markdown",
   "metadata": {},
   "source": [
    "### Cropping the Image"
   ]
  },
  {
   "cell_type": "code",
   "execution_count": 6,
   "metadata": {},
   "outputs": [],
   "source": [
    "def __crop_minAreaRect(img, rect):\n",
    "    # rotate img\n",
    "    angle = rect[2]\n",
    "    rows,cols = img.shape[0], img.shape[1]\n",
    "    M = cv2.getRotationMatrix2D((cols/2,rows/2),angle,1)\n",
    "    img_rot = cv2.warpAffine(img,M,(cols,rows))\n",
    "    # rotate bounding box\n",
    "    rect0 = (rect[0], rect[1], 0.0)\n",
    "    box = cv2.boxPoints(rect)\n",
    "    pts = np.int0(cv2.transform(np.array([box]), M))[0]    \n",
    "    pts[pts < 0] = 0\n",
    "    # crop\n",
    "    img_crop = img_rot[pts[1][1]:pts[0][1], \n",
    "                       pts[1][0]:pts[2][0]]        \n",
    "    return img_crop\n"
   ]
  },
  {
   "cell_type": "markdown",
   "metadata": {},
   "source": [
    "### mask_crop_adaptive_rotate"
   ]
  },
  {
   "cell_type": "code",
   "execution_count": 51,
   "metadata": {},
   "outputs": [],
   "source": [
    "def mask_crop_adaptive_rotate(img, bins=256):\n",
    "\n",
    "    # con_green = clahe(img[:,:,1], 1.2, tile_grid_size=(8,8))\n",
    "    con_green = cv2.cvtColor(img, cv2.COLOR_BGR2GRAY)\n",
    "    con_green = clahe(con_green, 1.2, tile_grid_size=(8,8))\n",
    "\n",
    "    #hist = ([con_green], [0], None, [bins], [0, 256])\n",
    "    hist,binn = np.histogram(con_green,256,[0,256])\n",
    "    # Invert the histogram (minima will become maxima and vice versa)\n",
    "    hist_inv = hist.max() - hist\n",
    "    indexes = peakutils.indexes(hist_inv.flatten())\n",
    "    indexes=np.sort(indexes)\n",
    "\n",
    "    # First maxima (i.e. first minima in original histogram)\n",
    "    thresh_vals = np.linspace(0, 256, num=bins)\n",
    "    thresh_mask = thresh_vals[indexes[0]]\n",
    "    \n",
    "    _, thresh = cv2.threshold(con_green, thresh_mask, 255, cv2.THRESH_BINARY)\n",
    "    \n",
    "    kernel = cv2.getStructuringElement(shape=cv2.MORPH_RECT, ksize=(21,21))\n",
    "    thresh = cv2.morphologyEx(thresh, cv2.MORPH_OPEN, kernel)\n",
    "\n",
    "    contours,hierarchy= cv2.findContours(thresh, cv2.RETR_TREE, cv2.CHAIN_APPROX_SIMPLE)\n",
    "    print(contours)\n",
    "    \n",
    "    contours_area = [cv2.contourArea(contour) for contour in contours]\n",
    "\n",
    "    # Max area contour in our case is Fundus\n",
    "    max_contour_area_index = np.array(contours_area).argmax()\n",
    "    x, y, w, h = cv2.boundingRect(contours[max_contour_area_index])\n",
    "    mask = np.zeros_like(img)\n",
    "    mask = cv2.drawContours(img,contours,max_contour_area_index,(1,1,1),-1)\n",
    "    plt.imshow(mask)\n",
    "#     rot_box = cv2.minAreaRect(contours[max_contour_area_index])\n",
    "#     img_cropped = __crop_minAreaRect(img, rot_box)\n",
    "#     mask_cropped = __crop_minAreaRect(mask, rot_box)\n",
    "\n",
    "#     masked = cv2.multiply(img_cropped, mask_cropped)\n",
    "\n",
    "#     # Contour Properties\n",
    "#     perimeter = cv2.arcLength(contours[max_contour_area_index], True)\n",
    "#     area = cv2.contourArea(contours[max_contour_area_index])\n",
    "\n",
    "#     equi_diameter = np.sqrt(4*area/np.pi)\n",
    "#     circularity = 4*math.pi*(area/(perimeter*perimeter))\n",
    "\n",
    "#     rect_area = w*h\n",
    "#     extent = float(area)/rect_area\n",
    "\n",
    "#     aspect_ratio = w/h\n",
    "\n",
    "#     try:\n",
    "#         (x,y),(MA,ma),angle = cv2.fitEllipse(contours[max_contour_area_index])\n",
    "#     except:\n",
    "#         (x,y),(MA,ma),angle = (None, None), (None, None), None\n",
    "\n",
    "#     return masked, mask_cropped, circularity, equi_diameter, extent, aspect_ratio, MA, ma, angle, hist, thresh_vals,mask"
   ]
  },
  {
   "cell_type": "code",
   "execution_count": 52,
   "metadata": {},
   "outputs": [
    {
     "name": "stdout",
     "output_type": "stream",
     "text": [
      "[array([[[ 290,    0]],\n",
      "\n",
      "       [[ 290,    2]],\n",
      "\n",
      "       [[ 289,    3]],\n",
      "\n",
      "       ...,\n",
      "\n",
      "       [[1191,    1]],\n",
      "\n",
      "       [[1190,    1]],\n",
      "\n",
      "       [[1189,    0]]], dtype=int32)]\n"
     ]
    },
    {
     "data": {
      "image/png": "[encoded data removed]",
      "text/plain": [
       "<Figure size 432x288 with 1 Axes>"
      ]
     },
     "metadata": {
      "needs_background": "light"
     },
     "output_type": "display_data"
    }
   ],
   "source": [
    "mask_crop_adaptive_rotate(cv2.imread('enhanced_img.png'))"
   ]
  },
  {
   "cell_type": "code",
   "execution_count": null,
   "metadata": {},
   "outputs": [],
   "source": []
  },
  {
   "cell_type": "markdown",
   "metadata": {},
   "source": [
    "### Preprocessing of Image"
   ]
  },
  {
   "cell_type": "code",
   "execution_count": 29,
   "metadata": {},
   "outputs": [],
   "source": [
    "def preprocess(_X):\n",
    "    '''\n",
    "    _X :: 8UC3, BGR\n",
    "    returns :: 8UC3, BGR\n",
    "    '''\n",
    "    X_hsv = cv2.cvtColor(_X, cv2.COLOR_BGR2HSV_FULL)\n",
    "    V = X_hsv[:, :, 2].copy()\n",
    "    V_f = V.astype(np.float64)\n",
    "    V_norm = np.ones_like(V_f)\n",
    "    V_norm  = cv2.normalize(V_f, V_norm, 0.0, 1.0, cv2.NORM_MINMAX, cv2.CV_64F)\n",
    "    V_norm_int = (V_norm * 255).astype(np.uint8)\n",
    "    X_hsv[:,:,2] = V_norm_int\n",
    "    Y = cv2.cvtColor(X_hsv, cv2.COLOR_HSV2BGR_FULL)\n",
    "    return Y"
   ]
  },
  {
   "cell_type": "markdown",
   "metadata": {},
   "source": [
    "### Resize by Maintaining aspect ratio"
   ]
  },
  {
   "cell_type": "code",
   "execution_count": 30,
   "metadata": {},
   "outputs": [],
   "source": [
    "# def resize(img, size, padColor=0):\n",
    "#     h, w = img.shape[:2]\n",
    "#     sh, sw = size\n",
    "\n",
    "#     # interpolation method\n",
    "#     if h > sh or w > sw: # shrinking image\n",
    "#         interp = cv2.INTER_AREA\n",
    "\n",
    "#     else: # stretching image\n",
    "#         interp = cv2.INTER_CUBIC\n",
    "\n",
    "#     # aspect ratio of image\n",
    "#     aspect = float(w)/h \n",
    "#     saspect = float(sw)/sh\n",
    "\n",
    "#     if (saspect > aspect) or ((saspect == 1) and (aspect <= 1)):  # new horizontal image\n",
    "#         new_h = sh\n",
    "#         new_w = np.round(new_h * aspect).astype(int)\n",
    "# #         pad_horz = float(sw - new_w) / 2\n",
    "# #         pad_left, pad_right = np.floor(pad_horz).astype(int), np.ceil(pad_horz).astype(int)\n",
    "# #         pad_top, pad_bot = 0, 0\n",
    "\n",
    "#     elif (saspect < aspect) or ((saspect == 1) and (aspect >= 1)):  # new vertical image\n",
    "#         new_w = sw\n",
    "#         new_h = np.round(float(new_w) / aspect).astype(int)\n",
    "# #         pad_vert = float(sh - new_h) / 2\n",
    "# #         pad_top, pad_bot = np.floor(pad_vert).astype(int), np.ceil(pad_vert).astype(int)\n",
    "# #         pad_left, pad_right = 0, 0\n",
    "\n",
    "#     # set pad color\n",
    "# #     if len(img.shape) is 3 and not isinstance(padColor, (list, tuple, np.ndarray)): # color image but only one color provided\n",
    "# #         padColor = [padColor]*3\n",
    "\n",
    "#     # scale and pad\n",
    "#     scaled_img = cv2.resize(img, (new_w, new_h), interpolation=interp)\n",
    "#     #scaled_img = cv2.copyMakeBorder(scaled_img, pad_top, pad_bot, pad_left, pad_right, borderType=cv2.BORDER_CONSTANT, value=padColor)\n",
    "\n",
    "#     return scaled_img\n"
   ]
  },
  {
   "cell_type": "markdown",
   "metadata": {},
   "source": [
    "### White area removal by binary thresholding "
   ]
  },
  {
   "cell_type": "code",
   "execution_count": 31,
   "metadata": {},
   "outputs": [],
   "source": [
    "\n",
    "# def white_area_remove(img_hi2):\n",
    "#     #img_hi2=cv2.imread('f1_edited.png')\n",
    "\n",
    "#     #plt.imshow(img_hi2)\n",
    "#     #img_hi2_c=img_hi2.copy()\n",
    "#     img_hi=cv2.cvtColor(img_hi2,cv2.COLOR_BGR2GRAY)\n",
    "\n",
    "#     ### CLAHE for histogram equilizer \n",
    "#     clahe_obj = cv2.createCLAHE(clipLimit=1.2, tileGridSize=(8,8))\n",
    "#     con_green=clahe_obj.apply(img_hi)\n",
    "\n",
    "#     ## Plotting histogram \n",
    "#     #plt.hist(con_green.flat,bins=10,range=(0,255))\n",
    "\n",
    "#     ### Here threshhold is 210 \n",
    "#     ret,thersh_1=cv2.threshold(img_hi,210,255,cv2.THRESH_BINARY)\n",
    "\n",
    "#     ### OTSU automatically finds the threshold without histogram\n",
    "#     #ret,thersh_1=cv2.threshold(img_hi,0,255,cv2.THRESH_BINARY+cv2.THRESH_OTSU)\n",
    "#     ### It gives the threshold value\n",
    "#     #print(ret)\n",
    "\n",
    "#     #plt.imshow(thersh_1)\n",
    "\n",
    "#     ### Converting GRAY to BGR \n",
    "#     thersh_1=cv2.cvtColor(thersh_1,cv2.COLOR_GRAY2BGR)\n",
    "\n",
    "#     ### Masking the image with threshold values \n",
    "#     masked = cv2.subtract(img_hi2,thersh_1)\n",
    "    \n",
    "#     masked_img, mask, circularity, equi_diameter, extent, aspect_ratio, MA, ma, angle, hist, threshold = mask_crop_adaptive_rotate(masked, bins=50)\n",
    "\n",
    "    \n",
    "# #     titles = ['Image','Masked']\n",
    "# #     images = [img_hi2,masked_img]\n",
    "# #     for i in range(len(images)):\n",
    "# #         plt.subplot(2, 2, i+1), plt.imshow(images[i], 'gray')\n",
    "# #         plt.title(titles[i])\n",
    "# #         plt.xticks([]),plt.yticks([])\n",
    "\n",
    "# #     plt.show()\n",
    "    \n",
    "# #     cv2.imshow('masked',masked)\n",
    "# #     cv2.imshow('Original Image',img_hi2)\n",
    "# #     cv2.waitKey(0)\n",
    "# #     cv2.destroyAllWindows()\n",
    "\n",
    "# #     plt.imshow(masked)\n",
    "\n",
    "#     #cv2.imwrite('after_white_removed_1_hsv-org.png',masked_img)\n",
    "#     return masked_img"
   ]
  },
  {
   "cell_type": "markdown",
   "metadata": {},
   "source": [
    "### Prepare Image Files"
   ]
  },
  {
   "cell_type": "code",
   "execution_count": 35,
   "metadata": {},
   "outputs": [
    {
     "name": "stdout",
     "output_type": "stream",
     "text": [
      "[array([[[ 296,    0]],\n",
      "\n",
      "       [[ 294,    2]],\n",
      "\n",
      "       [[ 293,    2]],\n",
      "\n",
      "       ...,\n",
      "\n",
      "       [[1188,    1]],\n",
      "\n",
      "       [[1187,    1]],\n",
      "\n",
      "       [[1186,    0]]], dtype=int32)]\n",
      "aspect_ratio = 1.2361111111111112\n"
     ]
    },
    {
     "data": {
      "image/png": "[encoded data removed]",
      "text/plain": [
       "<Figure size 432x288 with 4 Axes>"
      ]
     },
     "metadata": {},
     "output_type": "display_data"
    }
   ],
   "source": [
    "def prep_image():\n",
    "    \n",
    "    img = cv2.imread('enhanced_img.png')\n",
    "    \n",
    "            # Contrast 50 Bins\n",
    "    masked_img, mask, circularity, equi_diameter, extent, aspect_ratio, MA, ma, angle, hist, threshold,mask_im = mask_crop_adaptive_rotate(img, bins=50)\n",
    "        #outdir = os.path.dirname(path)\n",
    "#         mask_dir = outdir + \"/Gray_Contrast_Mask50/\"\n",
    "#         os.makedirs(mask_dir, exist_ok=True)\n",
    "#         cv2.imwrite(mask_dir + file + \"_mask.png\",mask * 255)\n",
    "        \n",
    "#     cv2.imwrite ('_mask.png',mask*255)\n",
    "    print(\"aspect_ratio =\",aspect_ratio)\n",
    "    #masked_img=cv2.cvtColor(masked_img,cv2.COLOR_BGR2RGB)    \n",
    "    m_img = cv2.resize(masked_img, (512, 512)) \n",
    "    #m_img=image_resize(masked_img,width = 512, height = 512)\n",
    "    #m_img=resizeAndPad(masked_img,(512,512))\n",
    "    #white_area_remove(preprocess(masked_img))\n",
    "    \n",
    "#         prep_dir = outdir + \"/HSV_eq/\"\n",
    "#         os.makedirs(prep_dir, exist_ok=True)\n",
    "#         cv2.imwrite(prep_dir + file+\"_hsv_img.png\", preprocess(m_img))\n",
    "    #cv2.imwrite('unpf1ap_hsv_img.png',preprocess(m_img))\n",
    "\n",
    "        # cv2.imwrite('masked.png', masked_img)\n",
    "#         det_dir = outdir + \"/detail_enhance/\"\n",
    "#         os.makedirs(det_dir, exist_ok=True)\n",
    "    enh_img = ED.enhance_fundus_denoise(m_img)[2]\n",
    "#     cv2.imshow(\"enh_image\",enh_img)\n",
    "#     cv2.waitKey(0)\n",
    "#     cv2.destroyAllWindows()\n",
    "#         cv2.imwrite(det_dir + file+\"_det_enh.png\", enh_img)\n",
    "\n",
    "#     cv2.imwrite('_det_enh.png',enh_img)\n",
    "        # rez_enh_img = cv2.resize(enh_img, (512,512))\n",
    "        # det_img = Image.fromarray(enh_img)\n",
    "        # det_img.save(det_dir + file+\"_det_enh.png\")\n",
    "        \n",
    "      ##Edge Smoothing using averaging\n",
    "    \n",
    "#     pre_img=white_area_remove(preprocess(m_img))\n",
    "#     pre_img=resize(pre_img,(512,512))\n",
    "#     kernel = np.ones((5,5),np.float32)/25\n",
    "#     dst = cv2.filter2D(pre_img,-1,kernel)\n",
    "#     cv2.imwrite('edge_smoothing.png',dst)    \n",
    "    \n",
    "    \n",
    "    #cv2.imwrite('enh_hsv_img.png', resize(white_area_remove(preprocess(m_img)),(512,512)))\n",
    "\n",
    "    \n",
    "#         norm_dir = outdir + \"/Normalized/\"\n",
    "#         os.makedirs(norm_dir, exist_ok=True)\n",
    "#         #print(norm_dir)\n",
    "#         cv2.imwrite(norm_dir + file+\"_norm_img.png\", NormalizeImage(m_img))\n",
    "#     cv2.imwrite('_norm_img.png',NormalizeImage(m_img))\n",
    "    #img=cv2.cvtColor(img,cv2.COLOR_BGR2RGB)\n",
    "    #thersh_1=cv2.cvtColor(mask*255,cv2.COLOR_GRAY2BGR)\n",
    "    #img_masked = cv2.subtract(img,thersh_1)\n",
    "    \n",
    "    titles = ['original image','mask','det_enh','hsv_img','contour']\n",
    "    images = [img,mask*255,enh_img,mask_im]\n",
    "    for i in range(len(images)):\n",
    "        plt.subplot(2, 2, i+1), plt.imshow(images[i], 'gray')\n",
    "        plt.title(titles[i])\n",
    "        plt.xticks([]),plt.yticks([])\n",
    "\n",
    "    plt.show()\n",
    "    \n",
    "prep_image()"
   ]
  },
  {
   "cell_type": "code",
   "execution_count": 42,
   "metadata": {},
   "outputs": [],
   "source": [
    "img = cv2.imread('enhanced_img.png', 0)\n",
    "\n",
    "ret, thres = cv2.threshold(img, 0, 255, cv2.THRESH_BINARY+cv2.THRESH_OTSU)\n",
    "c, h = cv2.findContours(thres, cv2.RETR_TREE, cv2.CHAIN_APPROX_SIMPLE)"
   ]
  },
  {
   "cell_type": "code",
   "execution_count": 45,
   "metadata": {},
   "outputs": [
    {
     "data": {
      "text/plain": [
       "<matplotlib.image.AxesImage at 0x7fe63b4d63d0>"
      ]
     },
     "execution_count": 45,
     "metadata": {},
     "output_type": "execute_result"
    },
    {
     "data": {
      "image/png": "[encoded data removed]",
      "text/plain": [
       "<Figure size 432x288 with 1 Axes>"
      ]
     },
     "metadata": {
      "needs_background": "light"
     },
     "output_type": "display_data"
    }
   ],
   "source": [
    "plt.imshow(thres)"
   ]
  },
  {
   "cell_type": "code",
   "execution_count": null,
   "metadata": {},
   "outputs": [],
   "source": []
  },
  {
   "cell_type": "code",
   "execution_count": null,
   "metadata": {},
   "outputs": [],
   "source": []
  },
  {
   "cell_type": "code",
   "execution_count": null,
   "metadata": {},
   "outputs": [],
   "source": []
  },
  {
   "cell_type": "code",
   "execution_count": null,
   "metadata": {},
   "outputs": [],
   "source": []
  },
  {
   "cell_type": "code",
   "execution_count": null,
   "metadata": {},
   "outputs": [],
   "source": []
  },
  {
   "cell_type": "code",
   "execution_count": null,
   "metadata": {},
   "outputs": [],
   "source": []
  },
  {
   "cell_type": "code",
   "execution_count": null,
   "metadata": {},
   "outputs": [],
   "source": []
  },
  {
   "cell_type": "code",
   "execution_count": null,
   "metadata": {},
   "outputs": [],
   "source": []
  },
  {
   "cell_type": "code",
   "execution_count": 12,
   "metadata": {},
   "outputs": [],
   "source": [
    "# #### Maintaining aspect ratio \n",
    "# def crop_and_resize(img, w, h):\n",
    "#         im_h, im_w, channels = img.shape\n",
    "#         print(channels)\n",
    "#         res_aspect_ratio = w/h\n",
    "#         input_aspect_ratio = im_w/im_h\n",
    "\n",
    "#         if input_aspect_ratio > res_aspect_ratio:\n",
    "#             im_w_r = int(input_aspect_ratio*h)\n",
    "#             im_h_r = h\n",
    "#             img = cv2.resize(img, (im_w_r , im_h_r))\n",
    "#             x1 = int((im_w_r - w)/2)\n",
    "#             x2 = x1 + w\n",
    "#             img = img[:, x1:x2, :]\n",
    "#         if input_aspect_ratio < res_aspect_ratio:\n",
    "#             im_w_r = w\n",
    "#             im_h_r = int(w/input_aspect_ratio)\n",
    "#             img = cv2.resize(img, (im_w_r , im_h_r))\n",
    "#             y1 = int((im_h_r - h)/2)\n",
    "#             y2 = y1 + h\n",
    "#             img = img[y1:y2, :, :]\n",
    "#         if input_aspect_ratio == res_aspect_ratio:\n",
    "#             img = cv2.resize(img, (w, h))\n",
    "\n",
    "#         return img"
   ]
  },
  {
   "cell_type": "code",
   "execution_count": 13,
   "metadata": {},
   "outputs": [],
   "source": [
    "# img = cv2.imread('f1.jpg')\n",
    "# plt.imshow(crop_and_resize(img, 512, 512))"
   ]
  },
  {
   "cell_type": "code",
   "execution_count": 14,
   "metadata": {},
   "outputs": [],
   "source": [
    "# cv2.imwrite('maintaining_aspect_ratio.png',crop_and_resize(img, 512, 512))"
   ]
  },
  {
   "cell_type": "code",
   "execution_count": 15,
   "metadata": {},
   "outputs": [],
   "source": [
    "# def image_resize(image, width = None, height = None, inter = cv2.INTER_AREA):\n",
    "#     # initialize the dimensions of the image to be resized and\n",
    "#     # grab the image size\n",
    "#     dim = None\n",
    "#     (h, w) = image.shape[:2]\n",
    "\n",
    "#     # if both the width and height are None, then return the\n",
    "#     # original image\n",
    "#     if width is None and height is None:\n",
    "#         return image\n",
    "\n",
    "#     # check to see if the width is None\n",
    "#     if width is None:\n",
    "#         # calculate the ratio of the height and construct the\n",
    "#         # dimensions\n",
    "#         r = height / float(h)\n",
    "#         dim = (int(w * r), height)\n",
    "\n",
    "#     # otherwise, the height is None\n",
    "#     else:\n",
    "#         # calculate the ratio of the width and construct the\n",
    "#         # dimensions\n",
    "#         r = width / float(w)\n",
    "#         dim = (width, int(h * r))\n",
    "\n",
    "#     # resize the image\n",
    "#     resized = cv2.resize(image, dim, interpolation = inter)\n",
    "\n",
    "#     # return the resized image\n",
    "#     return resized"
   ]
  },
  {
   "cell_type": "code",
   "execution_count": 16,
   "metadata": {},
   "outputs": [],
   "source": [
    "# img = cv2.imread('f1.jpg')"
   ]
  },
  {
   "cell_type": "code",
   "execution_count": 17,
   "metadata": {},
   "outputs": [],
   "source": [
    "# cv2.imwrite(\"reszied_image.png\",image_resize(img, width = 512, height = 512))"
   ]
  },
  {
   "cell_type": "code",
   "execution_count": null,
   "metadata": {},
   "outputs": [],
   "source": []
  },
  {
   "cell_type": "code",
   "execution_count": 1,
   "metadata": {},
   "outputs": [],
   "source": [
    "#import cv2 as cv\n",
    "import cv2\n",
    "import numpy as np\n",
    "import os\n",
    "import matplotlib.pyplot as plt\n",
    "%matplotlib inline \n",
    "import peakutils"
   ]
  },
  {
   "cell_type": "code",
   "execution_count": 2,
   "metadata": {},
   "outputs": [],
   "source": [
    "# img_seg=cv2.imread('wpf1.jpg')\n",
    "img_seg = cv2.imread(\"enhanced_img.png\")"
   ]
  },
  {
   "cell_type": "code",
   "execution_count": 4,
   "metadata": {},
   "outputs": [
    {
     "data": {
      "image/png": "[encoded data removed]",
      "text/plain": [
       "<Figure size 432x288 with 2 Axes>"
      ]
     },
     "metadata": {},
     "output_type": "display_data"
    }
   ],
   "source": [
    "con_green = cv2.cvtColor(img_seg, cv2.COLOR_BGR2GRAY)\n",
    "clahe_obj = cv2.createCLAHE(clipLimit=1.2, tileGridSize=(8,8))\n",
    "con_green=clahe_obj.apply(con_green)\n",
    "titles = ['image', 'con_green']\n",
    "images = [img_seg, con_green]\n",
    "for i in range(2):\n",
    "    plt.subplot(2, 2, i+1), plt.imshow(images[i], 'gray')\n",
    "    plt.title(titles[i])\n",
    "    plt.xticks([]),plt.yticks([])\n",
    "plt.show()"
   ]
  },
  {
   "cell_type": "code",
   "execution_count": 7,
   "metadata": {},
   "outputs": [
    {
     "ename": "SyntaxError",
     "evalue": "invalid character in identifier (<ipython-input-7-7c4887c7ecbf>, line 2)",
     "output_type": "error",
     "traceback": [
      "\u001b[0;36m  File \u001b[0;32m\"<ipython-input-7-7c4887c7ecbf>\"\u001b[0;36m, line \u001b[0;32m2\u001b[0m\n\u001b[0;31m    \u001b[0m\n\u001b[0m    ^\u001b[0m\n\u001b[0;31mSyntaxError\u001b[0m\u001b[0;31m:\u001b[0m invalid character in identifier\n"
     ]
    }
   ],
   "source": [
    "hist,binn = np.histogram(con_green,256,[0,256])\n",
    " \n",
    "## Plotting histogram \n",
    "plt.hist(con_green.flat,bins=10,range=(0,255))\n",
    " \n",
    "hist_inv = hist.max() - hist\n",
    "#print(hist_inv)\n",
    "indexes = peakutils.indexes(hist_inv.flatten())\n",
    "#print(indexes)\n",
    "indexes=np.sort(indexes);indexes\n",
    " \n",
    "thresh_vals = np.linspace(0, 256, num=256)\n",
    "#print(thresh_vals)\n",
    "thresh_mask = thresh_vals[indexes[0]]; thresh_mask\n",
    " \n",
    "ret, thresh = cv2.threshold(con_green, thresh_mask, 255, cv2.THRESH_BINARY)\n",
    "print(ret)\n",
    " \n",
    "#plt.imshow(thresh)\n",
    "#ret,thresh=cv2.threshold(con_green,0,255,cv2.THRESH_BINARY+cv2.THRESH_OTSU)\n",
    "#print(ret) \n",
    " \n",
    "kernel = cv2.getStructuringElement(shape=cv2.MORPH_RECT, ksize=(21,21))\n",
    " \n",
    "### morphological opening operations are performed here \n",
    "thresh = cv2.morphologyEx(thresh, cv2.MORPH_OPEN, kernel)\n",
    " \n",
    "contours,hierarchy= cv2.findContours(thresh, cv2.RETR_TREE, cv2.CHAIN_APPROX_SIMPLE)\n",
    "contours_area = [cv2.contourArea(contour) for contour in contours]\n",
    " \n",
    "\n",
    "### length of contours\n",
    "len(contours)\n",
    " \n",
    "#plt.imshow(cv2.drawContours(img_seg,contours,-1,(0,255,0),3))\n",
    " \n",
    "# Max area contour in our case is Fundus\n",
    "max_contour_area_index = np.array(contours_area).argmax()\n",
    "#print(max_contour_area_index)\n",
    "x, y, w, h = cv2.boundingRect(contours[max_contour_area_index])\n",
    "print(x,y,w,h)\n",
    "mask = np.zeros_like(img_seg)\n",
    "mask = cv2.drawContours(mask,contours,max_contour_area_index,(1,1,1),-1)\n",
    " \n",
    "plt.imshow(mask)\n",
    "titles = ['thresh', 'mask']\n",
    "images = [thresh, mask]\n",
    " \n",
    "for i in range(len(images)):\n",
    "    plt.subplot(2, 2, i+1), plt.imshow(images[i], 'gray')\n",
    "    plt.title(titles[i])\n",
    "    plt.xticks([]),plt.yticks([])\n",
    "plt.show()\n",
    " \n",
    "# Mask Overlayed Image\n",
    "img_mask_overlay = cv2.drawContours(img_seg.copy(),contours,max_contour_area_index,(0,255,0),3)\n",
    " \n",
    "\n",
    "plt.imshow(img_mask_overlay)\n"
   ]
  },
  {
   "cell_type": "code",
   "execution_count": null,
   "metadata": {},
   "outputs": [],
   "source": []
  },
  {
   "cell_type": "code",
   "execution_count": null,
   "metadata": {},
   "outputs": [],
   "source": []
  },
  {
   "cell_type": "code",
   "execution_count": null,
   "metadata": {},
   "outputs": [],
   "source": []
  }
 ],
 "metadata": {
  "kernelspec": {
   "display_name": "Python 3",
   "language": "python",
   "name": "python3"
  },
  "language_info": {
   "codemirror_mode": {
    "name": "ipython",
    "version": 3
   },
   "file_extension": ".py",
   "mimetype": "text/x-python",
   "name": "python",
   "nbconvert_exporter": "python",
   "pygments_lexer": "ipython3",
   "version": "3.7.4"
  }
 },
 "nbformat": 4,
 "nbformat_minor": 2
}
