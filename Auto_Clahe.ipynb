{
 "cells": [
  {
   "cell_type": "markdown",
   "metadata": {},
   "source": [
    "# * Copyright (C) 2019-20 Advenio Tecnosys Pvt. Ltd.: (All Rights Reserved).\n",
    "\n",
    "*                                                        NOTICE: \n",
    "\n",
    "* All information contained herein is, and remains the property of Advenio Tecnosys and its suppliers,  if any.  The intellectual and technical concepts contained\n",
    "\n",
    "* herein are proprietary to Advenio Tecnosys and its suppliers and may be covered by Indian, U.S. and Foreign Patents, patents in process, and are protected by trade secret or copyright law.\n",
    "\n",
    "* Appropriation, redistribution, dissemination of this information or reproduction of this material is strictly forbidden unless prior written permission is obtained from Advenio Tecnosys Pvt. Ltd.\n",
    "\n",
    "*\n",
    "\n",
    "* Author: Aman Kumar\n",
    "\n",
    "*"
   ]
  },
  {
   "cell_type": "code",
   "execution_count": 4,
   "metadata": {},
   "outputs": [],
   "source": [
    "import os\n",
    "import cv2\n",
    "import pandas as pd\n",
    "import numpy as np\n",
    "from tqdm import tqdm\n",
    "import glob "
   ]
  },
  {
   "cell_type": "code",
   "execution_count": 5,
   "metadata": {},
   "outputs": [],
   "source": [
    "# please give you path name to enhance image example is given make sure you follow same path\n",
    "\n",
    "your_path = \"/home/harsh/amk/Image_Quality_Dataset/Test/Good Quality\""
   ]
  },
  {
   "cell_type": "code",
   "execution_count": 22,
   "metadata": {},
   "outputs": [
    {
     "name": "stdout",
     "output_type": "stream",
     "text": [
      "Your enhanced images saving path will be  /home/harsh/amk/Image_Quality_Dataset/Test/Good Quality after clahe/\n"
     ]
    }
   ],
   "source": [
    "saved_path = your_path + \" after clahe\"\n",
    "made_folder = saved_path[-len(saved_path.split(\"/\")[-1]):]\n",
    "\n",
    "if made_folder in os.listdir(saved_path[:-len(saved_path.split(\"/\")[-1])]):\n",
    "    deleting_folder_path = saved_path[:-len(saved_path.split(\"/\")[-1])]+made_folder+\"/\"\n",
    "    for del_img_path in glob.glob(deleting_folder_path+'*'):\n",
    "        os.remove(del_img_path)\n",
    "    saved_path = saved_path+'/'    \n",
    "else:\n",
    "    os.mkdir(saved_path)\n",
    "    saved_path = saved_path+'/'\n",
    "\n",
    "print(\"Your enhanced images saving path will be \", saved_path)    "
   ]
  },
  {
   "cell_type": "code",
   "execution_count": null,
   "metadata": {},
   "outputs": [],
   "source": []
  },
  {
   "cell_type": "code",
   "execution_count": 23,
   "metadata": {},
   "outputs": [
    {
     "name": "stdout",
     "output_type": "stream",
     "text": [
      "Do you want to get original and enhanced image together press Y/y for yes and N/n for No y\n",
      "Do you want to get kerenl and clip limt press Y/y for yes and N/n for No y\n"
     ]
    },
    {
     "name": "stderr",
     "output_type": "stream",
     "text": [
      "100%|██████████| 66/66 [00:16<00:00,  4.08it/s]"
     ]
    },
    {
     "name": "stdout",
     "output_type": "stream",
     "text": [
      "Your enhanced path location is  /home/harsh/amk/Image_Quality_Dataset/Test/Good Quality after clahe/\n"
     ]
    },
    {
     "name": "stderr",
     "output_type": "stream",
     "text": [
      "\n"
     ]
    }
   ],
   "source": [
    "kernel_size_list = [26, 29]\n",
    "\n",
    "def psnr(img1, img2):\n",
    "    mse = np.mean( (img1 - img2) ** 2 )\n",
    "    if mse == 0:\n",
    "        return 100\n",
    "    PIXEL_MAX = 255.0\n",
    "    return 20 * np.log10(PIXEL_MAX / np.sqrt(mse))\n",
    "\n",
    "inp = input(\"Do you want to get original and enhanced image together press Y/y for yes and N/n for No \")\n",
    "\n",
    "ori_and_clahe = False\n",
    "\n",
    "if inp ==\"Y\" or inp == \"y\":\n",
    "    ori_and_clahe = True\n",
    "else:\n",
    "    ori_and_clahe = False\n",
    "\n",
    "inp = input(\"Do you want to get kerenl and clip limt press Y/y for yes and N/n for No \")\n",
    "\n",
    "kernel_and_optim_cl = False\n",
    "\n",
    "if inp ==\"Y\" or inp == \"y\":\n",
    "    kernel_and_optim_cl = True\n",
    "else:\n",
    "    kernel_and_optim_cl = False\n",
    "    \n",
    "\n",
    "for i, img_path in enumerate(tqdm(glob.glob(your_path+\"/*\")[50:900:13])):\n",
    "    optim_cl_wrt_kernel = []\n",
    "    for kernel_size in kernel_size_list:\n",
    "\n",
    "        clip_limit = [np.round(i/100, 1) for i in range(10,310,10)]\n",
    "        psnr_value_wrt_cl = []\n",
    "\n",
    "        org_img = cv2.imread(img_path)\n",
    "\n",
    "        if org_img.any() == None:\n",
    "            continue\n",
    "\n",
    "        for j, cl in enumerate((clip_limit)):\n",
    "\n",
    "            #Resize image\n",
    "            org_img = cv2.resize(org_img, (512,512))\n",
    "\n",
    "            lab = cv2.cvtColor(org_img, cv2.COLOR_BGR2LAB)\n",
    "\n",
    "            lab_planes = cv2.split(lab)\n",
    "\n",
    "            img_before_clahe = lab_planes[0]\n",
    "\n",
    "            clahe = cv2.createCLAHE(clipLimit=cl,tileGridSize=(kernel_size, kernel_size))\n",
    "\n",
    "            img_after_clahe = clahe.apply(lab_planes[0])\n",
    "\n",
    "            psnr_value_wrt_cl.append(psnr(img_before_clahe, img_after_clahe))\n",
    "        \n",
    "        optim_cl = clip_limit[::-1][psnr_value_wrt_cl[::-1].index(max(psnr_value_wrt_cl[::-1]))]\n",
    "        optim_cl_wrt_kernel.append(optim_cl)\n",
    "        \n",
    "        if kernel_size == kernel_size_list[-1]:\n",
    "            \n",
    "            optim_cl = max(optim_cl_wrt_kernel[::-1])\n",
    "            kernel_size = kernel_size_list[optim_cl_wrt_kernel.index(optim_cl)]\n",
    "            \n",
    "            if kernel_size == 26 and optim_cl > 1.5:\n",
    "                optim_cl = optim_cl + 0.1\n",
    "\n",
    "            clahe = cv2.createCLAHE(clipLimit=optim_cl,tileGridSize=(kernel_size,kernel_size))\n",
    "\n",
    "            lab_planes[0] = clahe.apply(lab_planes[0])\n",
    "\n",
    "            lab = cv2.merge(lab_planes)\n",
    "\n",
    "            enhance_img = cv2.cvtColor(lab, cv2.COLOR_LAB2BGR)\n",
    "\n",
    "            img_name = img_path.split(\"/\")[-1]\n",
    "            len_of_img_format = len(img_name.split('.')[-1])+1\n",
    "            len_of_img_format\n",
    "            \n",
    "            if kernel_and_optim_cl == True:\n",
    "                kernel_cl = \"[\" + str(kernel_size)+ ','+ str(optim_cl)+ \"]\"\n",
    "            else:\n",
    "                kernel_cl = ''\n",
    "\n",
    "            if  ori_and_clahe == True:\n",
    "\n",
    "                concat_img = np.concatenate((org_img, enhance_img), axis=1)\n",
    "                cv2.imwrite(saved_path+img_name[:-len_of_img_format]+kernel_cl+img_name[-len_of_img_format:], concat_img)\n",
    "            else:\n",
    "                cv2.imwrite(saved_path+img_name[:-len_of_img_format]+kernel_cl+img_name[-len_of_img_format:], enhance_img)\n",
    "\n",
    "print(\"Your enhanced path location is \", saved_path)"
   ]
  },
  {
   "cell_type": "code",
   "execution_count": null,
   "metadata": {},
   "outputs": [],
   "source": []
  },
  {
   "cell_type": "code",
   "execution_count": null,
   "metadata": {},
   "outputs": [],
   "source": []
  },
  {
   "cell_type": "code",
   "execution_count": null,
   "metadata": {},
   "outputs": [],
   "source": []
  }
 ],
 "metadata": {
  "kernelspec": {
   "display_name": "Python 3",
   "language": "python",
   "name": "python3"
  },
  "language_info": {
   "codemirror_mode": {
    "name": "ipython",
    "version": 3
   },
   "file_extension": ".py",
   "mimetype": "text/x-python",
   "name": "python",
   "nbconvert_exporter": "python",
   "pygments_lexer": "ipython3",
   "version": "3.7.4"
  }
 },
 "nbformat": 4,
 "nbformat_minor": 2
}
