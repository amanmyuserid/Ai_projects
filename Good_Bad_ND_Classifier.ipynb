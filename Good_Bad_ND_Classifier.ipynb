{
 "cells": [
  {
   "cell_type": "markdown",
   "metadata": {},
   "source": [
    "# * Copyright (C) 2019-20 Advenio Tecnosys Pvt. Ltd.: (All Rights Reserved).\n",
    "\n",
    "*                                                        NOTICE: \n",
    "\n",
    "* All information contained herein is, and remains the property of Advenio Tecnosys and its suppliers,  if any.  The intellectual and technical concepts contained\n",
    "\n",
    "* herein are proprietary to Advenio Tecnosys and its suppliers and may be covered by Indian, U.S. and Foreign Patents, patents in process, and are protected by trade secret or copyright law.\n",
    "\n",
    "* Appropriation, redistribution, dissemination of this information or reproduction of this material is strictly forbidden unless prior written permission is obtained from Advenio Tecnosys Pvt. Ltd.\n",
    "\n",
    "*\n",
    "\n",
    "* Author: Aman Kumar\n",
    "\n",
    "*"
   ]
  },
  {
   "cell_type": "code",
   "execution_count": 1,
   "metadata": {},
   "outputs": [],
   "source": [
    "from tqdm import tqdm\n",
    "import glob\n",
    "import torch\n",
    "import pandas as pd\n",
    "from fastai.vision import *"
   ]
  },
  {
   "cell_type": "code",
   "execution_count": 2,
   "metadata": {},
   "outputs": [],
   "source": [
    "# give like this /home/harsh/amk/test/*\n",
    "img_path_to_be_predicted = '/home/harsh/amk/test/*'\n",
    "\n",
    "# path where you model is available, give like this '/home/harsh/amk/128*128_GOOD_BAD_ND_MausumiData_for_train/'\n",
    "src_path = '/home/harsh/amk/128*128_GOOD_BAD_ND_MausumiData_for_train/'\n",
    "\n",
    "# model name to be loaded, give like this \"acc_91_recall_90_precision_90_gq,bq,nd_128_on_resnet18_with_2k_data\"\n",
    "model_name = \"acc_91_recall_90_precision_90_gq,bq,nd_128_on_resnet18_with_2k_data\""
   ]
  },
  {
   "cell_type": "code",
   "execution_count": 3,
   "metadata": {},
   "outputs": [
    {
     "name": "stderr",
     "output_type": "stream",
     "text": [
      "100%|██████████| 363/363 [00:04<00:00, 74.29it/s]\n"
     ]
    }
   ],
   "source": [
    "quality_check_df = pd.DataFrame(columns = [\"quality of image\", \"prob of pred\", \"prob of all cls pred\", \"img path\"])\n",
    "\n",
    "learn = load_learner(src_path, model_name)\n",
    "defaults.device = torch.device('cuda')\n",
    "\n",
    "for i, img_path in enumerate(tqdm(glob.glob(img_path_to_be_predicted))):\n",
    "    img = open_image(img_path)\n",
    "    prediction = learn.predict(img)\n",
    "    \n",
    "    #prediction\n",
    "    quality_check_df.loc[i, \"prob of pred\"] = np.round(torch.max(prediction[2]).item(), 2)\n",
    "    \n",
    "    \n",
    "    per_cls_pred= [np.round(prediction[2][0].item(), 2), np.round(prediction[2][1].item(), 2), np.round(prediction[2][2].item(), 2)]\n",
    "   \n",
    "    per_cls_pred[0] = 'BQ '+str(per_cls_pred[0])\n",
    "\n",
    "    per_cls_pred[1] = 'GQ '+str(per_cls_pred[1])\n",
    "\n",
    "    per_cls_pred[2] = 'ND '+str(per_cls_pred[2])\n",
    "    \n",
    "    quality_check_df.loc[i, \"prob of all cls pred\"] = per_cls_pred\n",
    "    \n",
    "    quality_check_df.loc[i, \"img path\"] = img_path\n",
    "    \n",
    "    quality_check_df.loc[i, \"quality of image\"] = str(prediction[0])\n",
    "    "
   ]
  },
  {
   "cell_type": "code",
   "execution_count": 4,
   "metadata": {},
   "outputs": [
    {
     "name": "stdout",
     "output_type": "stream",
     "text": [
      "your predicted saved csv location is /home/harsh/amk/test_quality_check.csv\n"
     ]
    }
   ],
   "source": [
    "saved_loc = img_path_to_be_predicted[:-2]+'_quality_check.csv'\n",
    "quality_check_df.to_csv(saved_loc)\n",
    "print(f\"your predicted saved csv location is {saved_loc}\")"
   ]
  },
  {
   "cell_type": "code",
   "execution_count": null,
   "metadata": {},
   "outputs": [],
   "source": []
  }
 ],
 "metadata": {
  "kernelspec": {
   "display_name": "Python 3",
   "language": "python",
   "name": "python3"
  },
  "language_info": {
   "codemirror_mode": {
    "name": "ipython",
    "version": 3
   },
   "file_extension": ".py",
   "mimetype": "text/x-python",
   "name": "python",
   "nbconvert_exporter": "python",
   "pygments_lexer": "ipython3",
   "version": "3.7.4"
  }
 },
 "nbformat": 4,
 "nbformat_minor": 2
}
