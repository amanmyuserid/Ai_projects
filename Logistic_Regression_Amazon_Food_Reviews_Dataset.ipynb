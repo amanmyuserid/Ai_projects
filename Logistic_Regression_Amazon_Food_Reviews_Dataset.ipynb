{
 "cells": [
  {
   "cell_type": "markdown",
   "metadata": {
    "colab_type": "text",
    "id": "AM7jsfwALPlp"
   },
   "source": [
    "# Amazon Fine Food Reviews Analysis\n",
    "\n",
    "\n",
    "Data Source: https://www.kaggle.com/snap/amazon-fine-food-reviews <br>\n",
    "\n",
    "EDA: https://nycdatascience.com/blog/student-works/amazon-fine-foods-visualization/\n",
    "\n",
    "\n",
    "The Amazon Fine Food Reviews dataset consists of reviews of fine foods from Amazon.<br>\n",
    "\n",
    "Number of reviews: 568,454<br>\n",
    "Number of users: 256,059<br>\n",
    "Number of products: 74,258<br>\n",
    "Timespan: Oct 1999 - Oct 2012<br>\n",
    "Number of Attributes/Columns in data: 10 \n",
    "\n",
    "Attribute Information:\n",
    "\n",
    "1. Id\n",
    "2. ProductId - unique identifier for the product\n",
    "3. UserId - unqiue identifier for the user\n",
    "4. ProfileName\n",
    "5. HelpfulnessNumerator - number of users who found the review helpful\n",
    "6. HelpfulnessDenominator - number of users who indicated whether they found the review helpful or not\n",
    "7. Score - rating between 1 and 5\n",
    "8. Time - timestamp for the review\n",
    "9. Summary - brief summary of the review\n",
    "10. Text - text of the review\n",
    "\n",
    "\n",
    "#### Objective:\n",
    "Given a review, determine whether the review is positive (rating of 4 or 5) or negative (rating of 1 or 2).\n",
    "\n",
    "<br>\n",
    "[Q] How to determine if a review is positive or negative?<br>\n",
    "<br> \n",
    "[Ans] We could use Score/Rating. A rating of 4 or 5 can be cosnidered as a positive review. A rating of 1 or 2 can be considered as negative one. A review of rating 3 is considered nuetral and such reviews are ignored from our analysis. This is an approximate and proxy way of determining the polarity (positivity/negativity) of a review.\n",
    "\n",
    "\n"
   ]
  },
  {
   "cell_type": "markdown",
   "metadata": {
    "colab_type": "text",
    "id": "CaQ7XJ4OLPls"
   },
   "source": [
    "# [1]. Reading Data"
   ]
  },
  {
   "cell_type": "markdown",
   "metadata": {
    "colab_type": "text",
    "id": "5VnEBjKRLPlu"
   },
   "source": [
    "## [1.1] Loading the data\n",
    "\n",
    "The dataset is available in two forms\n",
    "1. .csv file\n",
    "2. SQLite Database\n",
    "\n",
    "In order to load the data, We have used the SQLITE dataset as it is easier to query the data and visualise the data efficiently.\n",
    "<br> \n",
    "\n",
    "Here as we only want to get the global sentiment of the recommendations (positive or negative), we will purposefully ignore all Scores equal to 3. If the score is above 3, then the recommendation wil be set to \"positive\". Otherwise, it will be set to \"negative\"."
   ]
  },
  {
   "cell_type": "code",
   "execution_count": 1,
   "metadata": {},
   "outputs": [],
   "source": [
    "#importing important libarary\n",
    "%matplotlib inline\n",
    "import warnings\n",
    "warnings.filterwarnings(\"ignore\")\n",
    "\n",
    "\n",
    "\n",
    "import sqlite3\n",
    "import pandas as pd\n",
    "import numpy as np\n",
    "import nltk\n",
    "import string\n",
    "import matplotlib.pyplot as plt\n",
    "import seaborn as sns\n",
    "from sklearn.feature_extraction.text import TfidfTransformer\n",
    "from sklearn.feature_extraction.text import TfidfVectorizer\n",
    "\n",
    "from sklearn.feature_extraction.text import CountVectorizer\n",
    "from sklearn.metrics import confusion_matrix\n",
    "from sklearn import metrics\n",
    "from sklearn.metrics import roc_curve, auc\n",
    "from nltk.stem.porter import PorterStemmer\n",
    "\n",
    "import re\n",
    "# Tutorial about Python regular expressions: https://pymotw.com/2/re/\n",
    "from nltk.corpus import stopwords\n",
    "from nltk.stem import PorterStemmer\n",
    "from nltk.stem.wordnet import WordNetLemmatizer\n",
    "\n",
    "from gensim.models import Word2Vec\n",
    "from gensim.models import KeyedVectors\n",
    "import pickle\n",
    "\n",
    "from tqdm import tqdm\n",
    "\n",
    "from progiter import ProgIter\n",
    "import os\n",
    "from bs4 import BeautifulSoup\n",
    "from sklearn.model_selection import train_test_split"
   ]
  },
  {
   "cell_type": "code",
   "execution_count": 2,
   "metadata": {},
   "outputs": [],
   "source": [
    "import math\n",
    "from sklearn.linear_model import LogisticRegression\n",
    "from sklearn.preprocessing import StandardScaler\n",
    "import random"
   ]
  },
  {
   "cell_type": "code",
   "execution_count": 3,
   "metadata": {},
   "outputs": [],
   "source": [
    "con = sqlite3.connect(\"database.sqlite\")"
   ]
  },
  {
   "cell_type": "code",
   "execution_count": 4,
   "metadata": {},
   "outputs": [],
   "source": [
    "amzn = pd.read_sql_query('''SELECT * \n",
    "                            FROM Reviews \n",
    "                            WHERE Score != 3 \n",
    "                            ORDER BY Time ''', con)"
   ]
  },
  {
   "cell_type": "code",
   "execution_count": 5,
   "metadata": {},
   "outputs": [],
   "source": [
    "def partition(score):\n",
    "    if score < 3:\n",
    "        return 0\n",
    "    else : \n",
    "        return 1\n",
    "amzn_score = amzn[\"Score\"] \n",
    "filter_amzn = amzn_score.map(partition)\n",
    "amzn['Score'] = filter_amzn"
   ]
  },
  {
   "cell_type": "code",
   "execution_count": 6,
   "metadata": {},
   "outputs": [
    {
     "data": {
      "text/plain": [
       "(364173, 10)"
      ]
     },
     "execution_count": 6,
     "metadata": {},
     "output_type": "execute_result"
    }
   ],
   "source": [
    "#Deduplication of entries\n",
    "final= amzn.drop_duplicates(subset={\"UserId\",\"ProfileName\",\"Time\",\"Text\"}, keep='first', inplace=False)\n",
    "final.shape"
   ]
  },
  {
   "cell_type": "code",
   "execution_count": 7,
   "metadata": {},
   "outputs": [],
   "source": [
    "del amzn"
   ]
  },
  {
   "cell_type": "code",
   "execution_count": 8,
   "metadata": {},
   "outputs": [
    {
     "data": {
      "text/plain": [
       "1    307063\n",
       "0     57110\n",
       "Name: Score, dtype: int64"
      ]
     },
     "execution_count": 8,
     "metadata": {},
     "output_type": "execute_result"
    }
   ],
   "source": [
    "final['Score'].value_counts()"
   ]
  },
  {
   "cell_type": "code",
   "execution_count": 9,
   "metadata": {},
   "outputs": [],
   "source": [
    "final = final.iloc[0:100000]"
   ]
  },
  {
   "cell_type": "code",
   "execution_count": 10,
   "metadata": {},
   "outputs": [],
   "source": [
    "# https://stackoverflow.com/a/47091490/4084039\n",
    "import re\n",
    "\n",
    "def decontracted(phrase):\n",
    "    # specific\n",
    "    phrase = re.sub(r\"won't\", \"will not\", phrase)\n",
    "    phrase = re.sub(r\"can\\'t\", \"can not\", phrase)\n",
    "\n",
    "    # general\n",
    "    phrase = re.sub(r\"n\\'t\", \" not\", phrase)\n",
    "    phrase = re.sub(r\"\\'re\", \" are\", phrase)\n",
    "    phrase = re.sub(r\"\\'s\", \" is\", phrase)\n",
    "    phrase = re.sub(r\"\\'d\", \" would\", phrase)\n",
    "    phrase = re.sub(r\"\\'ll\", \" will\", phrase)\n",
    "    phrase = re.sub(r\"\\'t\", \" not\", phrase)\n",
    "    phrase = re.sub(r\"\\'ve\", \" have\", phrase)\n",
    "    phrase = re.sub(r\"\\'m\", \" am\", phrase)\n",
    "    return phrase"
   ]
  },
  {
   "cell_type": "code",
   "execution_count": 11,
   "metadata": {},
   "outputs": [],
   "source": [
    "# https://gist.github.com/sebleier/554280\n",
    "# we are removing the words from the stop words list: 'no', 'nor', 'not'\n",
    "# <br /><br /> ==> after the above steps, we are getting \"br br\"\n",
    "# we are including them into stop words list\n",
    "# instead of <br /> if we have <br/> these tags would have revmoved in the 1st step\n",
    "\n",
    "stopwords= set(['br', 'the', 'i', 'me', 'my', 'myself', 'we', 'our', 'ours', 'ourselves', 'you', \"you're\", \"you've\",\\\n",
    "            \"you'll\", \"you'd\", 'your', 'yours', 'yourself', 'yourselves', 'he', 'him', 'his', 'himself', \\\n",
    "            'she', \"she's\", 'her', 'hers', 'herself', 'it', \"it's\", 'its', 'itself', 'they', 'them', 'their',\\\n",
    "            'theirs', 'themselves', 'what', 'which', 'who', 'whom', 'this', 'that', \"that'll\", 'these', 'those', \\\n",
    "            'am', 'is', 'are', 'was', 'were', 'be', 'been', 'being', 'have', 'has', 'had', 'having', 'do', 'does', \\\n",
    "            'did', 'doing', 'a', 'an', 'the', 'and', 'but', 'if', 'or', 'because', 'as', 'until', 'while', 'of', \\\n",
    "            'at', 'by', 'for', 'with', 'about', 'against', 'between', 'into', 'through', 'during', 'before', 'after',\\\n",
    "            'above', 'below', 'to', 'from', 'up', 'down', 'in', 'out', 'on', 'off', 'over', 'under', 'again', 'further',\\\n",
    "            'then', 'once', 'here', 'there', 'when', 'where', 'why', 'how', 'all', 'any', 'both', 'each', 'few', 'more',\\\n",
    "            'most', 'other', 'some', 'such', 'only', 'own', 'same', 'so', 'than', 'too', 'very', \\\n",
    "            's', 't', 'can', 'will', 'just', 'don', \"don't\", 'should', \"should've\", 'now', 'd', 'll', 'm', 'o', 're', \\\n",
    "            've', 'y', 'ain', 'aren', \"aren't\", 'couldn', \"couldn't\", 'didn', \"didn't\", 'doesn', \"doesn't\", 'hadn',\\\n",
    "            \"hadn't\", 'hasn', \"hasn't\", 'haven', \"haven't\", 'isn', \"isn't\", 'ma', 'mightn', \"mightn't\", 'mustn',\\\n",
    "            \"mustn't\", 'needn', \"needn't\", 'shan', \"shan't\", 'shouldn', \"shouldn't\", 'wasn', \"wasn't\", 'weren', \"weren't\", \\\n",
    "            'won', \"won't\", 'wouldn', \"wouldn't\"])"
   ]
  },
  {
   "cell_type": "code",
   "execution_count": 12,
   "metadata": {},
   "outputs": [
    {
     "name": "stderr",
     "output_type": "stream",
     "text": [
      "100%|█████████████████████████████████| 100000/100000 [03:12<00:00, 520.14it/s]\n"
     ]
    }
   ],
   "source": [
    "# Combining all the above stundents \n",
    "preprocessed_reviews = []\n",
    "# tqdm is for printing the status bar\n",
    "for sentance in tqdm(final['Text'].values):\n",
    "    sentance = re.sub(r\"http\\S+\", \"\", sentance)\n",
    "    sentance = BeautifulSoup(sentance, 'lxml').get_text()\n",
    "    sentance = decontracted(sentance)\n",
    "    sentance = re.sub(\"\\S*\\d\\S*\", \"\", sentance).strip()\n",
    "    sentance = re.sub('[^A-Za-z]+', ' ', sentance)\n",
    "    # https://gist.github.com/sebleier/554280\n",
    "    sentance = ' '.join(e.lower() for e in sentance.split() if e.lower() not in stopwords)\n",
    "    preprocessed_reviews.append(sentance.strip())"
   ]
  },
  {
   "cell_type": "code",
   "execution_count": 13,
   "metadata": {},
   "outputs": [
    {
     "data": {
      "text/plain": [
       "'len_of_review = []\\nfor i in range(0, len(preprocessed_reviews)):\\n    len_of_review.append(len(preprocessed_reviews[i]))\\n'"
      ]
     },
     "execution_count": 13,
     "metadata": {},
     "output_type": "execute_result"
    }
   ],
   "source": [
    "'''len_of_review = []\n",
    "for i in range(0, len(preprocessed_reviews)):\n",
    "    len_of_review.append(len(preprocessed_reviews[i]))\n",
    "'''"
   ]
  },
  {
   "cell_type": "code",
   "execution_count": 14,
   "metadata": {},
   "outputs": [
    {
     "data": {
      "text/plain": [
       "'\\nxtr_len_rvw = np.asarray((len_of_review[slice(0,40000)])).reshape(-1,1)\\nxcv_len_rvw = np.asarray((len_of_review[slice(40000,47000)])).reshape(-1,1)\\nxts_len_rvw = np.asarray((len_of_review[slice(47000,54000)])).reshape(-1,1)\\n'"
      ]
     },
     "execution_count": 14,
     "metadata": {},
     "output_type": "execute_result"
    }
   ],
   "source": [
    "'''\n",
    "xtr_len_rvw = np.asarray((len_of_review[slice(0,40000)])).reshape(-1,1)\n",
    "xcv_len_rvw = np.asarray((len_of_review[slice(40000,47000)])).reshape(-1,1)\n",
    "xts_len_rvw = np.asarray((len_of_review[slice(47000,54000)])).reshape(-1,1)\n",
    "'''"
   ]
  },
  {
   "cell_type": "code",
   "execution_count": 15,
   "metadata": {},
   "outputs": [],
   "source": [
    "#splitting data into train and test\n",
    "x_train = preprocessed_reviews[slice(0,70000)]\n",
    "x_cv = preprocessed_reviews[slice(70000, 85000)]\n",
    "x_test = preprocessed_reviews[slice(85000, 100000)]\n",
    "y_train = final.iloc[:70000, 6]\n",
    "y_cv = final.iloc[70000:85000, 6]\n",
    "y_test = final.iloc[85000:100000, 6]\n",
    "\n"
   ]
  },
  {
   "cell_type": "markdown",
   "metadata": {
    "colab_type": "text",
    "id": "LE_XPVZJLPo4"
   },
   "source": [
    "## [5.1] Logistic Regression on BOW,<font color='red'> SET 1</font>"
   ]
  },
  {
   "cell_type": "markdown",
   "metadata": {
    "colab_type": "text",
    "id": "_iciJvj2LPo4"
   },
   "source": [
    "### [5.1.1] Applying Logistic Regression with L1 regularization on BOW,<font color='red'> SET 1</font>"
   ]
  },
  {
   "cell_type": "code",
   "execution_count": 16,
   "metadata": {
    "colab": {},
    "colab_type": "code",
    "id": "MyOVi-xYLPo5"
   },
   "outputs": [],
   "source": [
    "# Please write all the code with proper documentation"
   ]
  },
  {
   "cell_type": "code",
   "execution_count": 17,
   "metadata": {},
   "outputs": [],
   "source": [
    "# Please write all the code with proper documentation\n",
    "#defining function for Bag of words\n",
    "def bow(para, bow_x_cv, bow_x_test):  \n",
    "    bow_vect = CountVectorizer() #in scikit-learn\n",
    "    bow_x_train = bow_vect.fit_transform(para)\n",
    "    bow_x_cv = bow_vect.transform(x_cv)\n",
    "    bow_x_test = bow_vect.transform(x_test)\n",
    "    return bow_x_train, bow_x_cv, bow_x_test , bow_vect\n"
   ]
  },
  {
   "cell_type": "code",
   "execution_count": 18,
   "metadata": {},
   "outputs": [],
   "source": [
    "bow_x_train, bow_x_cv, bow_x_test , bow_vect = bow(x_train, x_cv, x_test)"
   ]
  },
  {
   "cell_type": "code",
   "execution_count": 19,
   "metadata": {},
   "outputs": [
    {
     "data": {
      "text/plain": [
       "<70000x49452 sparse matrix of type '<class 'numpy.int64'>'\n",
       "\twith 2190336 stored elements in Compressed Sparse Row format>"
      ]
     },
     "execution_count": 19,
     "metadata": {},
     "output_type": "execute_result"
    }
   ],
   "source": [
    "bow_x_train"
   ]
  },
  {
   "cell_type": "code",
   "execution_count": 20,
   "metadata": {},
   "outputs": [],
   "source": [
    "%matplotlib inline\n",
    "import warnings\n",
    "warnings.filterwarnings(\"ignore\")\n",
    "\n",
    "stdize = StandardScaler(with_mean=False)\n",
    "bow_x_train = stdize.fit_transform(bow_x_train)\n",
    "bow_x_cv = stdize.transform(bow_x_cv)\n",
    "bow_x_test = stdize.transform(bow_x_test)"
   ]
  },
  {
   "cell_type": "code",
   "execution_count": 21,
   "metadata": {},
   "outputs": [
    {
     "data": {
      "text/plain": [
       "<70000x49452 sparse matrix of type '<class 'numpy.float64'>'\n",
       "\twith 2190336 stored elements in Compressed Sparse Row format>"
      ]
     },
     "execution_count": 21,
     "metadata": {},
     "output_type": "execute_result"
    }
   ],
   "source": [
    "bow_x_train"
   ]
  },
  {
   "cell_type": "code",
   "execution_count": 22,
   "metadata": {},
   "outputs": [
    {
     "name": "stderr",
     "output_type": "stream",
     "text": [
      "100%|████████████████████████████████████████| 8/8 [3:04:31<00:00, 2886.25s/it]\n"
     ]
    }
   ],
   "source": [
    "auc_cv = []\n",
    "auc_test = []\n",
    "c = [0.0001, 0.001, 0.01, 0.1, 1, 10, 100, 1000]\n",
    "for i in tqdm(c):\n",
    "    \n",
    "    # instantiate learning model (k = 30)\n",
    "    bow_clf = LogisticRegression(penalty='l1', C = i)\n",
    "    # fitting the model on crossvalidation train\n",
    "    bow_clf.fit(bow_x_train, y_train)\n",
    "    \n",
    "    y_pred_proba = bow_clf.predict_proba(bow_x_cv)[::,1]\n",
    "    fpr, tpr, _ = metrics.roc_curve(y_cv,  y_pred_proba)\n",
    "    auc_cv.append(np.round(metrics.roc_auc_score(y_cv, y_pred_proba)*100))\n",
    "    \n",
    "    y_pred_proba1 = bow_clf.predict_proba(bow_x_test)[::,1]\n",
    "    fpr, tpr, _ = metrics.roc_curve(y_test,  y_pred_proba1)\n",
    "    auc_test.append(np.round(metrics.roc_auc_score(y_test, y_pred_proba1)*100))\n",
    "    "
   ]
  },
  {
   "cell_type": "code",
   "execution_count": 23,
   "metadata": {},
   "outputs": [],
   "source": [
    "bowl1_optimal_c = c[(auc_cv.index(max(auc_cv)))]"
   ]
  },
  {
   "cell_type": "code",
   "execution_count": 24,
   "metadata": {},
   "outputs": [
    {
     "data": {
      "text/plain": [
       "[-4.0, -3.0, -2.0, -1.0, 0.0, 1.0, 2.0, 3.0]"
      ]
     },
     "execution_count": 24,
     "metadata": {},
     "output_type": "execute_result"
    }
   ],
   "source": [
    "#Taking log of alpha value to print easely on graph with correcsponding auc\n",
    "log_c = []\n",
    "for i in c:\n",
    "    log_c.append(math.log10(i))\n",
    "log_c    "
   ]
  },
  {
   "cell_type": "code",
   "execution_count": 25,
   "metadata": {},
   "outputs": [
    {
     "data": {
      "image/png": "[encoded data removed]",
      "text/plain": [
       "<Figure size 432x288 with 1 Axes>"
      ]
     },
     "metadata": {},
     "output_type": "display_data"
    }
   ],
   "source": [
    "#printing all Auc value of corresponding k on validation and test data\n",
    "df = pd.DataFrame({\n",
    "                  'training': auc_cv,\n",
    "                  'test': auc_test\n",
    "                  }, index= log_c )\n",
    "\n",
    "lines = df.plot.line()\n",
    "plt.xlabel(\" Log alpha Hyper Parameter\")\n",
    "plt.ylabel(\"Area under ROC curve\")\n",
    "plt.title(\"ROC curve of BOW using l1\")\n",
    "plt.grid()\n",
    "plt.show()"
   ]
  },
  {
   "cell_type": "code",
   "execution_count": 26,
   "metadata": {},
   "outputs": [
    {
     "data": {
      "text/plain": [
       "LogisticRegression(C=0.01, class_weight=None, dual=False, fit_intercept=True,\n",
       "          intercept_scaling=1, max_iter=100, multi_class='ovr', n_jobs=1,\n",
       "          penalty='l1', random_state=None, solver='liblinear', tol=0.0001,\n",
       "          verbose=0, warm_start=False)"
      ]
     },
     "execution_count": 26,
     "metadata": {},
     "output_type": "execute_result"
    }
   ],
   "source": [
    "bow_clf = LogisticRegression(penalty= 'l1',C = bowl1_optimal_c)\n",
    "bow_clfl1 = bow_clf\n",
    "bow_clf.fit(bow_x_train, y_train)"
   ]
  },
  {
   "cell_type": "code",
   "execution_count": 27,
   "metadata": {},
   "outputs": [
    {
     "data": {
      "image/png": "[encoded data removed]",
      "text/plain": [
       "<Figure size 432x288 with 1 Axes>"
      ]
     },
     "metadata": {},
     "output_type": "display_data"
    }
   ],
   "source": [
    "#auc curve of optimal k on validation and test data\n",
    "y_predk_proba = bow_clf.predict_proba(bow_x_cv)[::,1]\n",
    "fpr, tpr, _ = metrics.roc_curve(y_cv,  y_predk_proba)\n",
    "auc = np.round(metrics.roc_auc_score(y_cv, y_predk_proba)*100, 2)\n",
    "bowl1_tr_auc = auc\n",
    "\n",
    "plt.plot(fpr,tpr,label=\"Training Auc = \"+str(auc))\n",
    "y_predk_proba = bow_clf.predict_proba(bow_x_test)[::,1]\n",
    "fpr, tpr, _ = metrics.roc_curve(y_test,  y_predk_proba)\n",
    "auc = np.round(metrics.roc_auc_score(y_test, y_predk_proba)*100, 2)\n",
    "bowl1_ts_auc = auc\n",
    "\n",
    "plt.plot(fpr,tpr,label=\"Test Auc = \"+str(auc))\n",
    "plt.legend(loc=4)\n",
    "plt.plot([x/10 for x in range(0, 11)],[x/10 for x in range(0, 11)], color='grey')\n",
    "plt.title(\"ROC Curve of BOW using l1\")\n",
    "plt.axis([0, 1, 0, 1])\n",
    "plt.xlabel(\"False Positive Rate\")\n",
    "plt.ylabel(\"True Positive Rate\")\n",
    "plt.show()"
   ]
  },
  {
   "cell_type": "code",
   "execution_count": 28,
   "metadata": {},
   "outputs": [],
   "source": [
    "y_pred_test = bow_clf.predict(bow_x_test)"
   ]
  },
  {
   "cell_type": "code",
   "execution_count": 29,
   "metadata": {},
   "outputs": [],
   "source": [
    "y_pred_cv = bow_clf.predict(bow_x_cv)"
   ]
  },
  {
   "cell_type": "code",
   "execution_count": 30,
   "metadata": {},
   "outputs": [
    {
     "data": {
      "image/png": "[encoded data removed]",
      "text/plain": [
       "<Figure size 432x288 with 1 Axes>"
      ]
     },
     "metadata": {},
     "output_type": "display_data"
    }
   ],
   "source": [
    "# http://www.tarekatwan.com/index.php/2017/12/how-to-plot-a-confusion-matrix-in-python/\n",
    "cm = confusion_matrix(y_cv,y_pred_cv)\n",
    "plt.clf()\n",
    "plt.imshow(cm, interpolation='nearest', cmap=plt.cm.Wistia)\n",
    "classNames = ['0','1']\n",
    "plt.title(' Training data : Confusion Matrix of Bag of Words using l1')\n",
    "plt.ylabel('True label')\n",
    "plt.xlabel('Predicted label')\n",
    "tick_marks = np.arange(len(classNames))\n",
    "plt.xticks(tick_marks, classNames, rotation=45)\n",
    "plt.yticks(tick_marks, classNames)\n",
    "s = [['TN','FP'], ['FN', 'TP']]\n",
    " \n",
    "for i in range(2):\n",
    "    for j in range(2):\n",
    "        plt.text(j,i, str(s[i][j])+\" = \"+str(cm[i][j]))\n",
    "plt.show()"
   ]
  },
  {
   "cell_type": "code",
   "execution_count": 31,
   "metadata": {},
   "outputs": [
    {
     "data": {
      "image/png": "[encoded data removed]",
      "text/plain": [
       "<Figure size 432x288 with 1 Axes>"
      ]
     },
     "metadata": {},
     "output_type": "display_data"
    }
   ],
   "source": [
    "# http://www.tarekatwan.com/index.php/2017/12/how-to-plot-a-confusion-matrix-in-python/\n",
    "cm = confusion_matrix(y_test,y_pred_test)\n",
    "plt.clf()\n",
    "plt.imshow(cm, interpolation='nearest', cmap=plt.cm.Wistia)\n",
    "classNames = ['0','1']\n",
    "plt.title(' Test data : Confusion Matrix of Bag of Words using l1')\n",
    "plt.ylabel('True label')\n",
    "plt.xlabel('Predicted label')\n",
    "tick_marks = np.arange(len(classNames))\n",
    "plt.xticks(tick_marks, classNames, rotation=45)\n",
    "plt.yticks(tick_marks, classNames)\n",
    "s = [['TN','FP'], ['FN', 'TP']]\n",
    " \n",
    "for i in range(2):\n",
    "    for j in range(2):\n",
    "        plt.text(j,i, str(s[i][j])+\" = \"+str(cm[i][j]))\n",
    "plt.show()"
   ]
  },
  {
   "cell_type": "markdown",
   "metadata": {
    "colab_type": "text",
    "id": "5h4NhywcLPo7"
   },
   "source": [
    "#### [5.1.1.1] Calculating sparsity on weight vector obtained using L1 regularization on BOW,<font color='red'> SET 1</font>"
   ]
  },
  {
   "cell_type": "code",
   "execution_count": 32,
   "metadata": {
    "colab": {},
    "colab_type": "code",
    "id": "-mmdLzUALPo-"
   },
   "outputs": [],
   "source": [
    "# Please write all the code with proper documentation"
   ]
  },
  {
   "cell_type": "code",
   "execution_count": 33,
   "metadata": {},
   "outputs": [
    {
     "data": {
      "text/plain": [
       "numpy.ndarray"
      ]
     },
     "execution_count": 33,
     "metadata": {},
     "output_type": "execute_result"
    }
   ],
   "source": [
    "#Saving all weight corresponding to fearure or word into an array\n",
    "bow_wgt_vec = bow_clf.coef_\n",
    "type(bow_wgt_vec)"
   ]
  },
  {
   "cell_type": "code",
   "execution_count": 34,
   "metadata": {
    "scrolled": true
   },
   "outputs": [
    {
     "name": "stderr",
     "output_type": "stream",
     "text": [
      "100%|██████████████████████████████████| 49452/49452 [2:35:52<00:00,  5.54it/s]\n"
     ]
    }
   ],
   "source": [
    "sparse_wgt = []\n",
    "not_sparse_wgt = []\n",
    "k = 0\n",
    "for w in bow_wgt_vec: \n",
    "    for w in tqdm(w):     \n",
    "        if 0 == w :\n",
    "            sparse_wgt.append(bow_vect.get_feature_names()[k])\n",
    "            k = k+1\n",
    "        else :\n",
    "            not_sparse_wgt.append(bow_vect.get_feature_names()[k])\n",
    "            k = k+1"
   ]
  },
  {
   "cell_type": "code",
   "execution_count": 35,
   "metadata": {},
   "outputs": [
    {
     "data": {
      "text/plain": [
       "49452"
      ]
     },
     "execution_count": 35,
     "metadata": {},
     "output_type": "execute_result"
    }
   ],
   "source": [
    "len(sparse_wgt)+len(not_sparse_wgt)"
   ]
  },
  {
   "cell_type": "code",
   "execution_count": 36,
   "metadata": {},
   "outputs": [
    {
     "name": "stdout",
     "output_type": "stream",
     "text": [
      "Total number of sparse weight :  45398\n",
      "Total number of non sparse weight :  4054\n"
     ]
    }
   ],
   "source": [
    "# printing total of number of sparse weight while using l1 regularization\n",
    "print(\"Total number of sparse weight : \", len(sparse_wgt))\n",
    "print(\"Total number of non sparse weight : \", len(not_sparse_wgt))"
   ]
  },
  {
   "cell_type": "code",
   "execution_count": 37,
   "metadata": {},
   "outputs": [
    {
     "name": "stdout",
     "output_type": "stream",
     "text": [
      "50 words which have sparse or 0 weight :\n",
      " ['aa', 'aaa', 'aaaa', 'aaaaaa', 'aaaaaaaaaaaaa', 'aaaaaaaaaaaaaaa', 'aaaaaaaaagghh', 'aaaaaah', 'aaaaah', 'aaaaahhhhhhhhhhhhhhhh', 'aaaah', 'aaah', 'aaahs', 'aachen', 'aad', 'aadp', 'aafco', 'aahhed', 'aahing', 'aand', 'aash', 'ab', 'aback', 'abandoned', 'abaolutely', 'abattoir', 'abba', 'abbey', 'abbreviated', 'abbreviation', 'abby', 'abc', 'abcs', 'abcstores', 'abd', 'abdomen', 'abdominal', 'abeneficial', 'aberdeen', 'abernook', 'aberration', 'abhor', 'abhorrent', 'abi', 'abid', 'abide', 'abigirl', 'abilities', 'ability', 'abit']\n"
     ]
    }
   ],
   "source": [
    "# There are 6581 sparse weight, printing all is not good choice. so we going \n",
    "# to print only 50 words\n",
    "print(\"50 words which have sparse or 0 weight :\\n\", sparse_wgt[0:50])\n"
   ]
  },
  {
   "cell_type": "code",
   "execution_count": 38,
   "metadata": {},
   "outputs": [
    {
     "name": "stdout",
     "output_type": "stream",
     "text": [
      "50 words which have non sparse or not 0 weight : \n",
      " ['aaaaa', 'aagh', 'aardvark', 'abandon', 'abandoning', 'ablaze', 'able', 'abortions', 'absurd', 'abysmal', 'acai', 'acceleradetests', 'accepeted', 'acclimating', 'accordng', 'accpetable', 'accuracy', 'accurate', 'accused', 'achiote', 'acidification', 'acidity', 'acknowledgement', 'acquired', 'across', 'activated', 'activations', 'adavance', 'add', 'addage', 'addams', 'addicitve', 'addicted', 'addicting', 'addiction', 'addictive', 'addressed', 'adds', 'ade', 'adhesive', 'admit', 'adopted', 'adored', 'adovada', 'adress', 'adrift', 'ads', 'adulterated', 'adulturated', 'advantix']\n"
     ]
    }
   ],
   "source": [
    "# There are 1780  non sparse weight, printing all is not good choice. so we going \n",
    "# to print only 50 words\n",
    "print(\"50 words which have non sparse or not 0 weight : \\n\", not_sparse_wgt[0:50])\n"
   ]
  },
  {
   "cell_type": "code",
   "execution_count": 39,
   "metadata": {},
   "outputs": [],
   "source": [
    "del sparse_wgt\n",
    "del not_sparse_wgt"
   ]
  },
  {
   "cell_type": "markdown",
   "metadata": {
    "colab_type": "text",
    "id": "aRHMa52qLPpA"
   },
   "source": [
    "### [5.1.2] Applying Logistic Regression with L2 regularization on BOW,<font color='red'> SET 1</font>"
   ]
  },
  {
   "cell_type": "code",
   "execution_count": 40,
   "metadata": {
    "colab": {},
    "colab_type": "code",
    "id": "GBbb9lxlLPpB"
   },
   "outputs": [],
   "source": [
    "# Please write all the code with proper documentation"
   ]
  },
  {
   "cell_type": "code",
   "execution_count": 41,
   "metadata": {},
   "outputs": [
    {
     "name": "stderr",
     "output_type": "stream",
     "text": [
      "100%|████████████████████████████████████████████| 8/8 [05:36<00:00, 54.81s/it]\n"
     ]
    }
   ],
   "source": [
    "auc_cv = []\n",
    "auc_test = []\n",
    "c = [0.0001, 0.001, 0.01, 0.1, 1, 10, 100, 1000]\n",
    "for i in tqdm(c):\n",
    "    \n",
    "    # instantiate learning model (k = 30)\n",
    "    bow_clf = LogisticRegression(penalty='l2', C = i)\n",
    "    # fitting the model on crossvalidation train\n",
    "    bow_clf.fit(bow_x_train, y_train)\n",
    "    \n",
    "    y_pred_proba = bow_clf.predict_proba(bow_x_cv)[::,1]\n",
    "    fpr, tpr, _ = metrics.roc_curve(y_cv,  y_pred_proba)\n",
    "    auc_cv.append(np.round(metrics.roc_auc_score(y_cv, y_pred_proba)*100))\n",
    "    \n",
    "    y_pred_proba1 = bow_clf.predict_proba(bow_x_test)[::,1]\n",
    "    fpr, tpr, _ = metrics.roc_curve(y_test,  y_pred_proba1)\n",
    "    auc_test.append(np.round(metrics.roc_auc_score(y_test, y_pred_proba1)*100))\n",
    "    "
   ]
  },
  {
   "cell_type": "code",
   "execution_count": 42,
   "metadata": {},
   "outputs": [],
   "source": [
    "bowl2_optimal_c = c[(auc_cv.index(max(auc_cv)))]"
   ]
  },
  {
   "cell_type": "code",
   "execution_count": 43,
   "metadata": {},
   "outputs": [
    {
     "data": {
      "image/png": "[encoded data removed]",
      "text/plain": [
       "<Figure size 432x288 with 1 Axes>"
      ]
     },
     "metadata": {},
     "output_type": "display_data"
    }
   ],
   "source": [
    "#printing all Auc value of corresponding k on validation and test data\n",
    "df = pd.DataFrame({\n",
    "                  'training': auc_cv,\n",
    "                  'test': auc_test\n",
    "                  }, index= log_c )\n",
    "\n",
    "lines = df.plot.line()\n",
    "plt.xlabel(\" Log c Hyper Parameter\")\n",
    "plt.ylabel(\"Area under ROC curve\")\n",
    "plt.title(\"ROC curve of BOW with L2\")\n",
    "plt.grid()\n",
    "plt.show()"
   ]
  },
  {
   "cell_type": "code",
   "execution_count": 44,
   "metadata": {},
   "outputs": [
    {
     "data": {
      "text/plain": [
       "LogisticRegression(C=0.001, class_weight=None, dual=False, fit_intercept=True,\n",
       "          intercept_scaling=1, max_iter=100, multi_class='ovr', n_jobs=1,\n",
       "          penalty='l2', random_state=None, solver='liblinear', tol=0.0001,\n",
       "          verbose=0, warm_start=False)"
      ]
     },
     "execution_count": 44,
     "metadata": {},
     "output_type": "execute_result"
    }
   ],
   "source": [
    "bow_clf = LogisticRegression(penalty= 'l2',C = bowl2_optimal_c)\n",
    "bow_clfl2 = bow_clf\n",
    "bow_clf.fit(bow_x_train, y_train)"
   ]
  },
  {
   "cell_type": "code",
   "execution_count": 45,
   "metadata": {},
   "outputs": [
    {
     "data": {
      "image/png": "[encoded data removed]",
      "text/plain": [
       "<Figure size 432x288 with 1 Axes>"
      ]
     },
     "metadata": {},
     "output_type": "display_data"
    }
   ],
   "source": [
    "#auc curve of optimal k on validation and test data\n",
    "y_predk_proba = bow_clf.predict_proba(bow_x_cv)[::,1]\n",
    "fpr, tpr, _ = metrics.roc_curve(y_cv,  y_predk_proba)\n",
    "auc = np.round(metrics.roc_auc_score(y_cv, y_predk_proba)*100, 2)\n",
    "bowl2_tr_auc = auc\n",
    "\n",
    "plt.plot(fpr,tpr,label=\"Training Auc = \"+str(auc))\n",
    "y_predk_proba = bow_clf.predict_proba(bow_x_test)[::,1]\n",
    "fpr, tpr, _ = metrics.roc_curve(y_test,  y_predk_proba)\n",
    "auc = np.round(metrics.roc_auc_score(y_test, y_predk_proba)*100, 2)\n",
    "bowl2_ts_auc = auc\n",
    "\n",
    "plt.plot(fpr,tpr,label=\"Test Auc = \"+str(auc))\n",
    "plt.legend(loc=4)\n",
    "plt.plot([x/10 for x in range(0, 11)],[x/10 for x in range(0, 11)], color='grey')\n",
    "plt.title(\"ROC Curve of BOW with using l2\")\n",
    "plt.axis([0, 1, 0, 1])\n",
    "plt.xlabel(\"False Positive Rate\")\n",
    "plt.ylabel(\"True Positive Rate\")\n",
    "plt.show()"
   ]
  },
  {
   "cell_type": "code",
   "execution_count": 46,
   "metadata": {},
   "outputs": [],
   "source": [
    "y_pred_test = bow_clf.predict(bow_x_test)"
   ]
  },
  {
   "cell_type": "code",
   "execution_count": 47,
   "metadata": {},
   "outputs": [],
   "source": [
    "y_pred_cv = bow_clf.predict(bow_x_cv)"
   ]
  },
  {
   "cell_type": "code",
   "execution_count": 48,
   "metadata": {},
   "outputs": [
    {
     "data": {
      "image/png": "[encoded data removed]",
      "text/plain": [
       "<Figure size 432x288 with 1 Axes>"
      ]
     },
     "metadata": {},
     "output_type": "display_data"
    }
   ],
   "source": [
    "# http://www.tarekatwan.com/index.php/2017/12/how-to-plot-a-confusion-matrix-in-python/\n",
    "cm = confusion_matrix(y_cv,y_pred_cv)\n",
    "plt.clf()\n",
    "plt.imshow(cm, interpolation='nearest', cmap=plt.cm.Wistia)\n",
    "classNames = ['0','1']\n",
    "plt.title(' Training data : Confusion Matrix of Bag of Words using l2')\n",
    "plt.ylabel('True label')\n",
    "plt.xlabel('Predicted label')\n",
    "tick_marks = np.arange(len(classNames))\n",
    "plt.xticks(tick_marks, classNames, rotation=45)\n",
    "plt.yticks(tick_marks, classNames)\n",
    "s = [['TN','FP'], ['FN', 'TP']]\n",
    " \n",
    "for i in range(2):\n",
    "    for j in range(2):\n",
    "        plt.text(j,i, str(s[i][j])+\" = \"+str(cm[i][j]))\n",
    "plt.show()"
   ]
  },
  {
   "cell_type": "code",
   "execution_count": 49,
   "metadata": {},
   "outputs": [
    {
     "data": {
      "image/png": "[encoded data removed]",
      "text/plain": [
       "<Figure size 432x288 with 1 Axes>"
      ]
     },
     "metadata": {},
     "output_type": "display_data"
    }
   ],
   "source": [
    "# http://www.tarekatwan.com/index.php/2017/12/how-to-plot-a-confusion-matrix-in-python/\n",
    "cm = confusion_matrix(y_test,y_pred_test)\n",
    "plt.clf()\n",
    "plt.imshow(cm, interpolation='nearest', cmap=plt.cm.Wistia)\n",
    "classNames = ['0','1']\n",
    "plt.title(' Test data : Confusion Matrix of Bag of Words using l2')\n",
    "plt.ylabel('True label')\n",
    "plt.xlabel('Predicted label')\n",
    "tick_marks = np.arange(len(classNames))\n",
    "plt.xticks(tick_marks, classNames, rotation=45)\n",
    "plt.yticks(tick_marks, classNames)\n",
    "s = [['TN','FP'], ['FN', 'TP']]\n",
    " \n",
    "for i in range(2):\n",
    "    for j in range(2):\n",
    "        plt.text(j,i, str(s[i][j])+\" = \"+str(cm[i][j]))\n",
    "plt.show()"
   ]
  },
  {
   "cell_type": "code",
   "execution_count": null,
   "metadata": {},
   "outputs": [],
   "source": []
  },
  {
   "cell_type": "markdown",
   "metadata": {
    "colab_type": "text",
    "id": "UaJkugTKLPpE"
   },
   "source": [
    "#### [5.1.2.1] Performing pertubation test (multicollinearity check) on BOW,<font color='red'> SET 1</font>"
   ]
  },
  {
   "cell_type": "code",
   "execution_count": 50,
   "metadata": {
    "colab": {},
    "colab_type": "code",
    "id": "E1c5B1nELPpF"
   },
   "outputs": [],
   "source": [
    "# Please write all the code with proper documentation"
   ]
  },
  {
   "cell_type": "code",
   "execution_count": 51,
   "metadata": {},
   "outputs": [],
   "source": [
    "bow_x_train.data = bow_x_train.data.astype(float)\n",
    "bow_x_cv.data = bow_x_cv.data.astype(float)\n",
    "bow_x_test.data = bow_x_test.data.astype(float)"
   ]
  },
  {
   "cell_type": "code",
   "execution_count": 52,
   "metadata": {},
   "outputs": [],
   "source": [
    "bow_x_train.data += 0.00004\n",
    "bow_x_cv.data += 0.00004\n",
    "bow_x_test.data += 0.00004"
   ]
  },
  {
   "cell_type": "code",
   "execution_count": 53,
   "metadata": {},
   "outputs": [
    {
     "name": "stderr",
     "output_type": "stream",
     "text": [
      "100%|████████████████████████████████████████████| 8/8 [05:57<00:00, 59.86s/it]\n"
     ]
    }
   ],
   "source": [
    "auc_cv = []\n",
    "auc_test = []\n",
    "c = [0.0001, 0.001, 0.01, 0.1, 1, 10, 100, 1000]\n",
    "for i in tqdm(c):\n",
    "    \n",
    "    # instantiate learning model (k = 30)\n",
    "    bow_clf = LogisticRegression(penalty='l2', C = i)\n",
    "    # fitting the model on crossvalidation train\n",
    "    bow_clf.fit(bow_x_train, y_train)\n",
    "    \n",
    "    y_pred_proba = bow_clf.predict_proba(bow_x_cv)[::,1]\n",
    "    fpr, tpr, _ = metrics.roc_curve(y_cv,  y_pred_proba)\n",
    "    auc_cv.append(np.round(metrics.roc_auc_score(y_cv, y_pred_proba)*100))\n",
    "    \n",
    "    y_pred_proba1 = bow_clf.predict_proba(bow_x_test)[::,1]\n",
    "    fpr, tpr, _ = metrics.roc_curve(y_test,  y_pred_proba1)\n",
    "    auc_test.append(np.round(metrics.roc_auc_score(y_test, y_pred_proba1)*100))\n",
    "    "
   ]
  },
  {
   "cell_type": "code",
   "execution_count": 54,
   "metadata": {},
   "outputs": [],
   "source": [
    "bowptl2_optimal_c = c[(auc_cv.index(max(auc_cv)))]"
   ]
  },
  {
   "cell_type": "code",
   "execution_count": 55,
   "metadata": {},
   "outputs": [
    {
     "data": {
      "text/plain": [
       "LogisticRegression(C=0.001, class_weight=None, dual=False, fit_intercept=True,\n",
       "          intercept_scaling=1, max_iter=100, multi_class='ovr', n_jobs=1,\n",
       "          penalty='l2', random_state=None, solver='liblinear', tol=0.0001,\n",
       "          verbose=0, warm_start=False)"
      ]
     },
     "execution_count": 55,
     "metadata": {},
     "output_type": "execute_result"
    }
   ],
   "source": [
    "bow_clf = LogisticRegression(penalty= 'l2',C = bowptl2_optimal_c)\n",
    "bow_clf.fit(bow_x_train, y_train)"
   ]
  },
  {
   "cell_type": "code",
   "execution_count": 56,
   "metadata": {},
   "outputs": [],
   "source": [
    "wgt = bow_clfl2.coef_ \n",
    "wgt_dash = bow_clf.coef_"
   ]
  },
  {
   "cell_type": "code",
   "execution_count": 57,
   "metadata": {},
   "outputs": [],
   "source": [
    "wgt = wgt + 0.000001\n",
    "wgt_dash = wgt_dash + 0.000001"
   ]
  },
  {
   "cell_type": "code",
   "execution_count": 58,
   "metadata": {},
   "outputs": [],
   "source": [
    "delta = []\n",
    "for i in range(len(wgt[0])):\n",
    "    delta.append(((wgt[0][i] - wgt_dash[0][i]) * 100 ) / wgt[0][i] )\n",
    "        "
   ]
  },
  {
   "cell_type": "code",
   "execution_count": 59,
   "metadata": {},
   "outputs": [],
   "source": [
    "sorted_delta = sorted(delta, reverse = True)"
   ]
  },
  {
   "cell_type": "code",
   "execution_count": 60,
   "metadata": {},
   "outputs": [
    {
     "data": {
      "image/png": "[encoded data removed]",
      "text/plain": [
       "<Figure size 432x288 with 1 Axes>"
      ]
     },
     "metadata": {},
     "output_type": "display_data"
    }
   ],
   "source": [
    "plt.scatter(range(0, len(wgt[0])), sorted_delta)\n",
    "plt.xlabel(\"Number of  features \")\n",
    "plt.ylabel(\"sorted delta\")\n",
    "plt.title(\"Multi Colinearity Graph\")\n",
    "plt.grid()\n",
    "plt.show()"
   ]
  },
  {
   "cell_type": "code",
   "execution_count": 64,
   "metadata": {},
   "outputs": [
    {
     "data": {
      "application/vnd.jupyter.widget-view+json": {
       "model_id": "b16d1335fdbe464194e2409df5aca82e",
       "version_major": 2,
       "version_minor": 0
      },
      "text/plain": [
       "HBox(children=(IntProgress(value=0, max=49452), HTML(value='')))"
      ]
     },
     "metadata": {},
     "output_type": "display_data"
    }
   ],
   "source": [
    "from tqdm import tqdm_notebook as tqdm\n",
    "colinear_word = []\n",
    "not_colinear_word  = []\n",
    "thresold_delta = 0\n",
    "for i in tqdm(range(len(delta))):\n",
    "    if thresold_delta == delta[i]:\n",
    "        not_colinear_word.append(bow_vect.get_feature_names()[i])\n",
    "    else:\n",
    "        colinear_word.append(bow_vect.get_feature_names()[i])"
   ]
  },
  {
   "cell_type": "code",
   "execution_count": 65,
   "metadata": {},
   "outputs": [
    {
     "name": "stdout",
     "output_type": "stream",
     "text": [
      "Total number of colinear words :  49452\n",
      "Total number of Not colinear words :  0\n"
     ]
    }
   ],
   "source": [
    "print(\"Total number of colinear words : \", len(colinear_word))\n",
    "print(\"Total number of Not colinear words : \", len(not_colinear_word))"
   ]
  },
  {
   "cell_type": "code",
   "execution_count": 66,
   "metadata": {},
   "outputs": [
    {
     "name": "stdout",
     "output_type": "stream",
     "text": [
      "50 colinear words :\n",
      " ['aa', 'aaa', 'aaaa', 'aaaaa', 'aaaaaa', 'aaaaaaaaaaaaa', 'aaaaaaaaaaaaaaa', 'aaaaaaaaagghh', 'aaaaaah', 'aaaaah', 'aaaaahhhhhhhhhhhhhhhh', 'aaaah', 'aaah', 'aaahs', 'aachen', 'aad', 'aadp', 'aafco', 'aagh', 'aahhed', 'aahing', 'aand', 'aardvark', 'aash', 'ab', 'aback', 'abandon', 'abandoned', 'abandoning', 'abaolutely', 'abattoir', 'abba', 'abbey', 'abbreviated', 'abbreviation', 'abby', 'abc', 'abcs', 'abcstores', 'abd', 'abdomen', 'abdominal', 'abeneficial', 'aberdeen', 'abernook', 'aberration', 'abhor', 'abhorrent', 'abi', 'abid']\n"
     ]
    }
   ],
   "source": [
    "#printing 50  colinear word \n",
    "print(\"50 colinear words :\\n\", (colinear_word[0:50]))"
   ]
  },
  {
   "cell_type": "code",
   "execution_count": 67,
   "metadata": {},
   "outputs": [
    {
     "name": "stdout",
     "output_type": "stream",
     "text": [
      "50 not colinear words :\n",
      " []\n"
     ]
    }
   ],
   "source": [
    "#printing 50 not colinear word \n",
    "print(\"50 not colinear words :\\n\", (not_colinear_word[0:50]))"
   ]
  },
  {
   "cell_type": "markdown",
   "metadata": {
    "colab_type": "text",
    "id": "eB1rF0BQLPpG"
   },
   "source": [
    "### [5.1.3] Feature Importance on BOW,<font color='red'> SET 1</font>"
   ]
  },
  {
   "cell_type": "markdown",
   "metadata": {
    "colab_type": "text",
    "id": "JZTP19dqLPpI"
   },
   "source": [
    "#### [5.1.3.1] Top 10 important features of positive class from<font color='red'> SET 1</font>"
   ]
  },
  {
   "cell_type": "code",
   "execution_count": 68,
   "metadata": {
    "colab": {},
    "colab_type": "code",
    "id": "oGRpCVJgLPpI"
   },
   "outputs": [],
   "source": [
    "# Please write all the code with proper documentation"
   ]
  },
  {
   "cell_type": "code",
   "execution_count": 69,
   "metadata": {},
   "outputs": [],
   "source": [
    "bow_features_prob = bow_clfl1.coef_"
   ]
  },
  {
   "cell_type": "code",
   "execution_count": 70,
   "metadata": {},
   "outputs": [],
   "source": [
    "bow_pos_df = pd.DataFrame({'log prob': bow_features_prob[0],\n",
    "                   'word': bow_vect.get_feature_names()[:]\n",
    "                  })\n",
    "bow_pos_largest_10= bow_pos_df.nlargest(10, 'log prob')"
   ]
  },
  {
   "cell_type": "code",
   "execution_count": 71,
   "metadata": {},
   "outputs": [
    {
     "name": "stdout",
     "output_type": "stream",
     "text": [
      "Top Ten features belonging to class positive or 1 of BOW using L1\n",
      "+-----------------+--------------------------+-----------+\n",
      "| Top ten fetures | Features Log Probability |    Word   |\n",
      "+-----------------+--------------------------+-----------+\n",
      "|        1        |    0.6760073652707419    |   great   |\n",
      "|        2        |   0.47302788397371226    |    best   |\n",
      "|        3        |    0.432856555143237     | delicious |\n",
      "|        4        |    0.3386292687003001    |  perfect  |\n",
      "|        5        |    0.3362274625456101    |    good   |\n",
      "|        6        |    0.2960099105467483    |    love   |\n",
      "|        7        |    0.2951680756600804    |   loves   |\n",
      "|        8        |   0.29187618819891703    | excellent |\n",
      "|        9        |    0.284933567641483     | wonderful |\n",
      "|        10       |   0.23326601890362525    |    nice   |\n",
      "+-----------------+--------------------------+-----------+\n"
     ]
    }
   ],
   "source": [
    "from prettytable import PrettyTable\n",
    "    \n",
    "x = PrettyTable()\n",
    "print(\"Top Ten features belonging to class positive or 1 of BOW using L1\")\n",
    "x.field_names = [\"Top ten fetures\", \"Features Log Probability\", \"Word\"]\n",
    "for i in range(0, 10):\n",
    "    x.add_row([i+1, bow_pos_largest_10[\"log prob\"].values[i] ,\\\n",
    "               bow_pos_largest_10[\"word\"].values[i]])\n",
    "\n",
    "print(x)"
   ]
  },
  {
   "cell_type": "markdown",
   "metadata": {
    "colab_type": "text",
    "id": "UJLYBE1gLPpJ"
   },
   "source": [
    "#### [5.1.3.2] Top 10 important features of negative class from<font color='red'> SET 1</font>"
   ]
  },
  {
   "cell_type": "code",
   "execution_count": 72,
   "metadata": {
    "colab": {},
    "colab_type": "code",
    "id": "c9r7Zjx1LPpK"
   },
   "outputs": [],
   "source": [
    "# Please write all the code with proper documentation"
   ]
  },
  {
   "cell_type": "code",
   "execution_count": 73,
   "metadata": {},
   "outputs": [],
   "source": [
    "bow_neg_df = pd.DataFrame({'log prob': bow_features_prob[0],\n",
    "                   'word': bow_vect.get_feature_names()[:]\n",
    "                  })\n",
    "bow_neg_largest_10= bow_neg_df.nsmallest(10, 'log prob')\n"
   ]
  },
  {
   "cell_type": "code",
   "execution_count": 74,
   "metadata": {},
   "outputs": [
    {
     "name": "stdout",
     "output_type": "stream",
     "text": [
      "Top Ten features belonging to class negative or 0 of BOW using l1\n",
      "+-----------------+--------------------------+---------------+\n",
      "| Top ten fetures | Features Log Probability |      Word     |\n",
      "+-----------------+--------------------------+---------------+\n",
      "|        1        |   -0.4792746430679479    |      not      |\n",
      "|        2        |   -0.20521999814999095   |     worst     |\n",
      "|        3        |   -0.20485059069053269   |  disappointed |\n",
      "|        4        |   -0.16275897460448785   |    terrible   |\n",
      "|        5        |    -0.15662999684728     |     awful     |\n",
      "|        6        |   -0.1404328756706297    |     bland     |\n",
      "|        7        |   -0.13674852787984992   | disappointing |\n",
      "|        8        |   -0.1356643506921463    |     money     |\n",
      "|        9        |   -0.13523151663298966   | unfortunately |\n",
      "|        10       |   -0.13378959968353477   |    horrible   |\n",
      "+-----------------+--------------------------+---------------+\n"
     ]
    }
   ],
   "source": [
    "from prettytable import PrettyTable\n",
    "    \n",
    "x = PrettyTable()\n",
    "print(\"Top Ten features belonging to class negative or 0 of BOW using l1\")\n",
    "x.field_names = [\"Top ten fetures\", \"Features Log Probability\", \"Word\"]\n",
    "for i in range(0, 10):\n",
    "    x.add_row([i+1, bow_neg_largest_10[\"log prob\"].values[i] , \\\n",
    "                    bow_neg_largest_10[\"word\"].values[i]])\n",
    "\n",
    "print(x)"
   ]
  },
  {
   "cell_type": "markdown",
   "metadata": {
    "colab_type": "text",
    "id": "nKn3VXcZLPpN"
   },
   "source": [
    "## [5.2] Logistic Regression on TFIDF,<font color='red'> SET 2</font>"
   ]
  },
  {
   "cell_type": "markdown",
   "metadata": {
    "colab_type": "text",
    "id": "naTBSzm6LPpN"
   },
   "source": [
    "### [5.2.1] Applying Logistic Regression with L1 regularization on TFIDF,<font color='red'> SET 2</font>"
   ]
  },
  {
   "cell_type": "code",
   "execution_count": 75,
   "metadata": {
    "colab": {},
    "colab_type": "code",
    "id": "PEhaagXXLPpS"
   },
   "outputs": [],
   "source": [
    "# Please write all the code with proper documentation"
   ]
  },
  {
   "cell_type": "code",
   "execution_count": 76,
   "metadata": {},
   "outputs": [],
   "source": [
    "def tfidf(preprocessed_reviews, x_cv, x_test):\n",
    "    tf_idf_vect = TfidfVectorizer()\n",
    "    tfidf_x_train = tf_idf_vect.fit_transform(preprocessed_reviews)\n",
    "    tfidf_x_cv = tf_idf_vect.transform(x_cv)\n",
    "    tfidf_x_test = tf_idf_vect.transform(x_test)\n",
    "    return tfidf_x_train, tfidf_x_cv, tfidf_x_test, tf_idf_vect"
   ]
  },
  {
   "cell_type": "code",
   "execution_count": 77,
   "metadata": {},
   "outputs": [],
   "source": [
    "tfidf_x_train, tfidf_x_cv, tfidf_x_test, tfidfl2_vect = tfidf(x_train, x_cv, x_test)"
   ]
  },
  {
   "cell_type": "code",
   "execution_count": 78,
   "metadata": {},
   "outputs": [],
   "source": [
    "%matplotlib inline\n",
    "import warnings\n",
    "warnings.filterwarnings(\"ignore\")\n",
    "\n",
    "stdize = StandardScaler(with_mean=False)\n",
    "tfidf_x_train = stdize.fit_transform(tfidf_x_train)\n",
    "tfidf_x_cv = stdize.transform(tfidf_x_cv)\n",
    "tfidf_x_test = stdize.transform(tfidf_x_test)"
   ]
  },
  {
   "cell_type": "code",
   "execution_count": 79,
   "metadata": {},
   "outputs": [
    {
     "data": {
      "application/vnd.jupyter.widget-view+json": {
       "model_id": "616b33dd23d144feae65fdc9467c3633",
       "version_major": 2,
       "version_minor": 0
      },
      "text/plain": [
       "HBox(children=(IntProgress(value=0, max=8), HTML(value='')))"
      ]
     },
     "metadata": {},
     "output_type": "display_data"
    }
   ],
   "source": [
    "auc_cv = []\n",
    "auc_test = []\n",
    "c = [0.0001, 0.001, 0.01, 0.1, 1, 10, 100, 1000]\n",
    "for i in tqdm(c):\n",
    "    \n",
    "    # instantiate learning model (k = 30)\n",
    "    clf = LogisticRegression(penalty='l1', C = i)\n",
    "    # fitting the model on crossvalidation train\n",
    "    clf.fit(tfidf_x_train, y_train)\n",
    "    \n",
    "    y_pred_proba = clf.predict_proba(tfidf_x_cv)[::,1]\n",
    "    fpr, tpr, _ = metrics.roc_curve(y_cv,  y_pred_proba)\n",
    "    auc_cv.append(np.round(metrics.roc_auc_score(y_cv, y_pred_proba)*100))\n",
    "    \n",
    "    y_pred_proba1 = clf.predict_proba(tfidf_x_test)[::,1]\n",
    "    fpr, tpr, _ = metrics.roc_curve(y_test,  y_pred_proba1)\n",
    "    auc_test.append(np.round(metrics.roc_auc_score(y_test, y_pred_proba1)*100))\n",
    "    "
   ]
  },
  {
   "cell_type": "code",
   "execution_count": 80,
   "metadata": {},
   "outputs": [],
   "source": [
    "tfidfl1_optimal_c = c[(auc_cv.index(max(auc_cv)))]"
   ]
  },
  {
   "cell_type": "code",
   "execution_count": 81,
   "metadata": {},
   "outputs": [
    {
     "data": {
      "image/png": "[encoded data removed]",
      "text/plain": [
       "<Figure size 432x288 with 1 Axes>"
      ]
     },
     "metadata": {},
     "output_type": "display_data"
    }
   ],
   "source": [
    "#printing all Auc value of corresponding k on validation and test data\n",
    "df = pd.DataFrame({\n",
    "                  'training': auc_cv,\n",
    "                  'test': auc_test\n",
    "                  }, index= log_c )\n",
    "\n",
    "lines = df.plot.line()\n",
    "plt.xlabel(\" Log alpha Hyper Parameter\")\n",
    "plt.ylabel(\"Area under ROC curve\")\n",
    "plt.title(\"ROC curve of tfidf usin l1\")\n",
    "plt.grid()\n",
    "plt.show()"
   ]
  },
  {
   "cell_type": "code",
   "execution_count": 82,
   "metadata": {},
   "outputs": [
    {
     "data": {
      "text/plain": [
       "LogisticRegression(C=0.01, class_weight=None, dual=False, fit_intercept=True,\n",
       "          intercept_scaling=1, max_iter=100, multi_class='ovr', n_jobs=1,\n",
       "          penalty='l1', random_state=None, solver='liblinear', tol=0.0001,\n",
       "          verbose=0, warm_start=False)"
      ]
     },
     "execution_count": 82,
     "metadata": {},
     "output_type": "execute_result"
    }
   ],
   "source": [
    "clf = LogisticRegression(penalty= 'l1',C = tfidfl1_optimal_c)\n",
    "clf.fit(tfidf_x_train, y_train)"
   ]
  },
  {
   "cell_type": "code",
   "execution_count": 83,
   "metadata": {},
   "outputs": [
    {
     "data": {
      "image/png": "[encoded data removed]",
      "text/plain": [
       "<Figure size 432x288 with 1 Axes>"
      ]
     },
     "metadata": {},
     "output_type": "display_data"
    }
   ],
   "source": [
    "#auc curve of optimal k on validation and test data\n",
    "y_predk_proba = clf.predict_proba(tfidf_x_cv)[::,1]\n",
    "fpr, tpr, _ = metrics.roc_curve(y_cv,  y_predk_proba)\n",
    "auc = np.round(metrics.roc_auc_score(y_cv, y_predk_proba)*100, 2)\n",
    "tfidfl1_tr_auc = auc\n",
    "\n",
    "plt.plot(fpr,tpr,label=\"Training Auc = \"+str(auc))\n",
    "y_predk_proba = clf.predict_proba(tfidf_x_test)[::,1]\n",
    "fpr, tpr, _ = metrics.roc_curve(y_test,  y_predk_proba)\n",
    "auc = np.round(metrics.roc_auc_score(y_test, y_predk_proba)*100, 2)\n",
    "tfidfl1_ts_auc = auc\n",
    "\n",
    "plt.plot(fpr,tpr,label=\"Test Auc = \"+str(auc))\n",
    "plt.legend(loc=4)\n",
    "plt.plot([x/10 for x in range(0, 11)],[x/10 for x in range(0, 11)], color='grey')\n",
    "plt.title(\"ROC Curve of tfidf using L1\")\n",
    "plt.axis([0, 1, 0, 1])\n",
    "plt.xlabel(\"False Positive Rate\")\n",
    "plt.ylabel(\"True Positive Rate\")\n",
    "plt.show()"
   ]
  },
  {
   "cell_type": "code",
   "execution_count": 84,
   "metadata": {},
   "outputs": [],
   "source": [
    "y_pred_test = clf.predict(tfidf_x_test)\n",
    "y_pred_cv = clf.predict(tfidf_x_cv)"
   ]
  },
  {
   "cell_type": "code",
   "execution_count": 85,
   "metadata": {},
   "outputs": [
    {
     "data": {
      "image/png": "[encoded data removed]",
      "text/plain": [
       "<Figure size 432x288 with 1 Axes>"
      ]
     },
     "metadata": {},
     "output_type": "display_data"
    }
   ],
   "source": [
    "# http://www.tarekatwan.com/index.php/2017/12/how-to-plot-a-confusion-matrix-in-python/\n",
    "cm = confusion_matrix(y_cv,y_pred_cv)\n",
    "plt.clf()\n",
    "plt.imshow(cm, interpolation='nearest', cmap=plt.cm.Wistia)\n",
    "classNames = ['0','1']\n",
    "plt.title(' Training data : Confusion Matrix of tfidf using L1')\n",
    "plt.ylabel('True label')\n",
    "plt.xlabel('Predicted label')\n",
    "tick_marks = np.arange(len(classNames))\n",
    "plt.xticks(tick_marks, classNames, rotation=45)\n",
    "plt.yticks(tick_marks, classNames)\n",
    "s = [['TN','FP'], ['FN', 'TP']]\n",
    " \n",
    "for i in range(2):\n",
    "    for j in range(2):\n",
    "        plt.text(j,i, str(s[i][j])+\" = \"+str(cm[i][j]))\n",
    "plt.show()"
   ]
  },
  {
   "cell_type": "code",
   "execution_count": 86,
   "metadata": {},
   "outputs": [
    {
     "data": {
      "image/png": "[encoded data removed]",
      "text/plain": [
       "<Figure size 432x288 with 1 Axes>"
      ]
     },
     "metadata": {},
     "output_type": "display_data"
    }
   ],
   "source": [
    "# http://www.tarekatwan.com/index.php/2017/12/how-to-plot-a-confusion-matrix-in-python/\n",
    "cm = confusion_matrix(y_test,y_pred_test)\n",
    "plt.clf()\n",
    "plt.imshow(cm, interpolation='nearest', cmap=plt.cm.Wistia)\n",
    "classNames = ['0','1']\n",
    "plt.title(' Test data : Confusion Matrix of tfidf using L1')\n",
    "plt.ylabel('True label')\n",
    "plt.xlabel('Predicted label')\n",
    "tick_marks = np.arange(len(classNames))\n",
    "plt.xticks(tick_marks, classNames, rotation=45)\n",
    "plt.yticks(tick_marks, classNames)\n",
    "s = [['TN','FP'], ['FN', 'TP']]\n",
    " \n",
    "for i in range(2):\n",
    "    for j in range(2):\n",
    "        plt.text(j,i, str(s[i][j])+\" = \"+str(cm[i][j]))\n",
    "plt.show()"
   ]
  },
  {
   "cell_type": "code",
   "execution_count": null,
   "metadata": {},
   "outputs": [],
   "source": []
  },
  {
   "cell_type": "code",
   "execution_count": null,
   "metadata": {},
   "outputs": [],
   "source": []
  },
  {
   "cell_type": "markdown",
   "metadata": {
    "colab_type": "text",
    "id": "NdFShHQJLPpV"
   },
   "source": [
    "### [5.2.2] Applying Logistic Regression with L2 regularization on TFIDF,<font color='red'> SET 2</font>"
   ]
  },
  {
   "cell_type": "code",
   "execution_count": 87,
   "metadata": {
    "colab": {},
    "colab_type": "code",
    "id": "Jyhq3JDzLPpW"
   },
   "outputs": [],
   "source": [
    "# Please write all the code with proper documentation"
   ]
  },
  {
   "cell_type": "code",
   "execution_count": 88,
   "metadata": {},
   "outputs": [
    {
     "data": {
      "application/vnd.jupyter.widget-view+json": {
       "model_id": "33e90470a13c430cbd779242b9d91175",
       "version_major": 2,
       "version_minor": 0
      },
      "text/plain": [
       "HBox(children=(IntProgress(value=0, max=8), HTML(value='')))"
      ]
     },
     "metadata": {},
     "output_type": "display_data"
    }
   ],
   "source": [
    "auc_cv = []\n",
    "auc_test = []\n",
    "c = [0.0001, 0.001, 0.01, 0.1, 1, 10, 100, 1000]\n",
    "for i in tqdm(c):\n",
    "    \n",
    "    # instantiate learning model (k = 30)\n",
    "    clf = LogisticRegression(penalty='l2', C = i)\n",
    "    # fitting the model on crossvalidation train\n",
    "    clf.fit(tfidf_x_train, y_train)\n",
    "    \n",
    "    y_pred_proba = clf.predict_proba(tfidf_x_cv)[::,1]\n",
    "    fpr, tpr, _ = metrics.roc_curve(y_cv,  y_pred_proba)\n",
    "    auc_cv.append(np.round(metrics.roc_auc_score(y_cv, y_pred_proba)*100))\n",
    "    \n",
    "    y_pred_proba1 = clf.predict_proba(tfidf_x_test)[::,1]\n",
    "    fpr, tpr, _ = metrics.roc_curve(y_test,  y_pred_proba1)\n",
    "    auc_test.append(np.round(metrics.roc_auc_score(y_test, y_pred_proba1)*100))\n",
    "    "
   ]
  },
  {
   "cell_type": "code",
   "execution_count": 89,
   "metadata": {},
   "outputs": [],
   "source": [
    "tfidfl2_optimal_c = c[(auc_cv.index(max(auc_cv)))]"
   ]
  },
  {
   "cell_type": "code",
   "execution_count": 90,
   "metadata": {},
   "outputs": [
    {
     "data": {
      "image/png": "[encoded data removed]",
      "text/plain": [
       "<Figure size 432x288 with 1 Axes>"
      ]
     },
     "metadata": {},
     "output_type": "display_data"
    }
   ],
   "source": [
    "#printing all Auc value of corresponding k on validation and test data\n",
    "df = pd.DataFrame({\n",
    "                  'training': auc_cv,\n",
    "                  'test': auc_test\n",
    "                  }, index= log_c )\n",
    "\n",
    "lines = df.plot.line()\n",
    "plt.xlabel(\" Log alpha Hyper Parameter\")\n",
    "plt.ylabel(\"Area under ROC curve\")\n",
    "plt.title(\"ROC curve of tfidf using L2\")\n",
    "plt.grid()\n",
    "plt.show()"
   ]
  },
  {
   "cell_type": "code",
   "execution_count": 91,
   "metadata": {},
   "outputs": [
    {
     "data": {
      "text/plain": [
       "LogisticRegression(C=0.0001, class_weight=None, dual=False,\n",
       "          fit_intercept=True, intercept_scaling=1, max_iter=100,\n",
       "          multi_class='ovr', n_jobs=1, penalty='l2', random_state=None,\n",
       "          solver='liblinear', tol=0.0001, verbose=0, warm_start=False)"
      ]
     },
     "execution_count": 91,
     "metadata": {},
     "output_type": "execute_result"
    }
   ],
   "source": [
    "clf = LogisticRegression(penalty= 'l2',C = tfidfl2_optimal_c)\n",
    "tfidfl2_clf = clf\n",
    "clf.fit(tfidf_x_train, y_train)"
   ]
  },
  {
   "cell_type": "code",
   "execution_count": 92,
   "metadata": {},
   "outputs": [
    {
     "data": {
      "image/png": "[encoded data removed]",
      "text/plain": [
       "<Figure size 432x288 with 1 Axes>"
      ]
     },
     "metadata": {},
     "output_type": "display_data"
    }
   ],
   "source": [
    "#auc curve of optimal k on validation and test data\n",
    "y_predk_proba = clf.predict_proba(tfidf_x_cv)[::,1]\n",
    "fpr, tpr, _ = metrics.roc_curve(y_cv,  y_predk_proba)\n",
    "auc = np.round(metrics.roc_auc_score(y_cv, y_predk_proba)*100, 2)\n",
    "tfidfl2_tr_auc = auc\n",
    "\n",
    "plt.plot(fpr,tpr,label=\"Training Auc = \"+str(auc))\n",
    "y_predk_proba = clf.predict_proba(tfidf_x_test)[::,1]\n",
    "fpr, tpr, _ = metrics.roc_curve(y_test,  y_predk_proba)\n",
    "auc = np.round(metrics.roc_auc_score(y_test, y_predk_proba)*100, 2)\n",
    "tfidfl2_ts_auc = auc\n",
    "\n",
    "plt.plot(fpr,tpr,label=\"Test Auc = \"+str(auc))\n",
    "plt.legend(loc=4)\n",
    "plt.plot([x/10 for x in range(0, 11)],[x/10 for x in range(0, 11)], color='grey')\n",
    "plt.title(\"ROC Curve of tfidf using L2\")\n",
    "plt.axis([0, 1, 0, 1])\n",
    "plt.xlabel(\"False Positive Rate\")\n",
    "plt.ylabel(\"True Positive Rate\")\n",
    "plt.show()"
   ]
  },
  {
   "cell_type": "code",
   "execution_count": 93,
   "metadata": {},
   "outputs": [],
   "source": [
    "y_pred_test = clf.predict(tfidf_x_test)\n",
    "y_pred_cv = clf.predict(tfidf_x_cv)"
   ]
  },
  {
   "cell_type": "code",
   "execution_count": 94,
   "metadata": {},
   "outputs": [
    {
     "data": {
      "image/png": "[encoded data removed]",
      "text/plain": [
       "<Figure size 432x288 with 1 Axes>"
      ]
     },
     "metadata": {},
     "output_type": "display_data"
    }
   ],
   "source": [
    "# http://www.tarekatwan.com/index.php/2017/12/how-to-plot-a-confusion-matrix-in-python/\n",
    "cm = confusion_matrix(y_cv,y_pred_cv)\n",
    "plt.clf()\n",
    "plt.imshow(cm, interpolation='nearest', cmap=plt.cm.Wistia)\n",
    "classNames = ['0','1']\n",
    "plt.title(' Training data : Confusion Matrix of tfidf using L2')\n",
    "plt.ylabel('True label')\n",
    "plt.xlabel('Predicted label')\n",
    "tick_marks = np.arange(len(classNames))\n",
    "plt.xticks(tick_marks, classNames, rotation=45)\n",
    "plt.yticks(tick_marks, classNames)\n",
    "s = [['TN','FP'], ['FN', 'TP']]\n",
    " \n",
    "for i in range(2):\n",
    "    for j in range(2):\n",
    "        plt.text(j,i, str(s[i][j])+\" = \"+str(cm[i][j]))\n",
    "plt.show()"
   ]
  },
  {
   "cell_type": "code",
   "execution_count": 95,
   "metadata": {},
   "outputs": [
    {
     "data": {
      "image/png": "[encoded data removed]",
      "text/plain": [
       "<Figure size 432x288 with 1 Axes>"
      ]
     },
     "metadata": {},
     "output_type": "display_data"
    }
   ],
   "source": [
    "# http://www.tarekatwan.com/index.php/2017/12/how-to-plot-a-confusion-matrix-in-python/\n",
    "cm = confusion_matrix(y_test,y_pred_test)\n",
    "plt.clf()\n",
    "plt.imshow(cm, interpolation='nearest', cmap=plt.cm.Wistia)\n",
    "classNames = ['0','1']\n",
    "plt.title(' Test data : Confusion Matrix of tfidf using L2')\n",
    "plt.ylabel('True label')\n",
    "plt.xlabel('Predicted label')\n",
    "tick_marks = np.arange(len(classNames))\n",
    "plt.xticks(tick_marks, classNames, rotation=45)\n",
    "plt.yticks(tick_marks, classNames)\n",
    "s = [['TN','FP'], ['FN', 'TP']]\n",
    " \n",
    "for i in range(2):\n",
    "    for j in range(2):\n",
    "        plt.text(j,i, str(s[i][j])+\" = \"+str(cm[i][j]))\n",
    "plt.show()"
   ]
  },
  {
   "cell_type": "code",
   "execution_count": null,
   "metadata": {},
   "outputs": [],
   "source": []
  },
  {
   "cell_type": "markdown",
   "metadata": {
    "colab_type": "text",
    "id": "xeeJ8eVvLPpX"
   },
   "source": [
    "### [5.2.3] Feature Importance on TFIDF,<font color='red'> SET 2</font>"
   ]
  },
  {
   "cell_type": "markdown",
   "metadata": {
    "colab_type": "text",
    "id": "Cj9XEmqQLPpY"
   },
   "source": [
    "#### [5.2.3.1] Top 10 important features of positive class from<font color='red'> SET 2</font>"
   ]
  },
  {
   "cell_type": "code",
   "execution_count": 96,
   "metadata": {
    "colab": {},
    "colab_type": "code",
    "id": "RG10txygLPpb"
   },
   "outputs": [],
   "source": [
    "# Please write all the code with proper documentation"
   ]
  },
  {
   "cell_type": "code",
   "execution_count": 97,
   "metadata": {},
   "outputs": [],
   "source": [
    "tfidfl2_features_prob = tfidfl2_clf.coef_"
   ]
  },
  {
   "cell_type": "code",
   "execution_count": 98,
   "metadata": {},
   "outputs": [
    {
     "data": {
      "text/plain": [
       "49452"
      ]
     },
     "execution_count": 98,
     "metadata": {},
     "output_type": "execute_result"
    }
   ],
   "source": [
    "len(tfidfl2_vect.get_feature_names())"
   ]
  },
  {
   "cell_type": "code",
   "execution_count": 99,
   "metadata": {},
   "outputs": [],
   "source": [
    "tfidfl2_pos_df = pd.DataFrame({'log prob': tfidfl2_features_prob[0],\n",
    "                   'word': tfidfl2_vect.get_feature_names()[:]\n",
    "                  })\n",
    "tfidfl2_pos_largest_10= tfidfl2_pos_df.nlargest(10, 'log prob')\n"
   ]
  },
  {
   "cell_type": "code",
   "execution_count": 100,
   "metadata": {},
   "outputs": [
    {
     "name": "stdout",
     "output_type": "stream",
     "text": [
      "Top Ten features belonging to class positive or 1 of tfidf using l2\n",
      "+-----------------+--------------------------+-----------+\n",
      "| Top ten fetures | Features Log Probability |    Word   |\n",
      "+-----------------+--------------------------+-----------+\n",
      "|        1        |   0.15684622667865805    |   great   |\n",
      "|        2        |   0.11261095545664326    |    best   |\n",
      "|        3        |   0.10788471266296434    |    love   |\n",
      "|        4        |   0.10769985451819789    |    good   |\n",
      "|        5        |   0.08623833725036673    | delicious |\n",
      "|        6        |   0.07118406480734554    |   loves   |\n",
      "|        7        |   0.07000461350858049    | excellent |\n",
      "|        8        |   0.06937757437328612    |  favorite |\n",
      "|        9        |   0.06830439530644257    | wonderful |\n",
      "|        10       |    0.0672583161811224    |  perfect  |\n",
      "+-----------------+--------------------------+-----------+\n"
     ]
    }
   ],
   "source": [
    "from prettytable import PrettyTable\n",
    "    \n",
    "x = PrettyTable()\n",
    "print(\"Top Ten features belonging to class positive or 1 of tfidf using l2\")\n",
    "x.field_names = [\"Top ten fetures\", \"Features Log Probability\", \"Word\"]\n",
    "for i in range(0, 10):\n",
    "    x.add_row([i+1, tfidfl2_pos_largest_10[\"log prob\"].values[i] ,\\\n",
    "               tfidfl2_pos_largest_10[\"word\"].values[i]])\n",
    "\n",
    "print(x)"
   ]
  },
  {
   "cell_type": "markdown",
   "metadata": {
    "colab_type": "text",
    "id": "PowEfns4LPpg"
   },
   "source": [
    "#### [5.2.3.2] Top 10 important features of negative class from<font color='red'> SET 2</font>"
   ]
  },
  {
   "cell_type": "code",
   "execution_count": 101,
   "metadata": {
    "colab": {},
    "colab_type": "code",
    "id": "G7jrma95LPpg"
   },
   "outputs": [],
   "source": [
    "# Please write all the code with proper documentation"
   ]
  },
  {
   "cell_type": "code",
   "execution_count": 102,
   "metadata": {},
   "outputs": [],
   "source": [
    "tfidfl2_neg_df = pd.DataFrame({'log prob': tfidfl2_features_prob[0],\n",
    "                   'word': tfidfl2_vect.get_feature_names()[:]\n",
    "                  })\n",
    "tfidfl2_neg_largest_10= tfidfl2_neg_df.nsmallest(10, 'log prob')\n"
   ]
  },
  {
   "cell_type": "code",
   "execution_count": 103,
   "metadata": {},
   "outputs": [
    {
     "name": "stdout",
     "output_type": "stream",
     "text": [
      "Top Ten features belonging to class negative or 0 of tfidf using l2\n",
      "+-----------------+--------------------------+----------------+\n",
      "| Top ten fetures | Features Log Probability |      Word      |\n",
      "+-----------------+--------------------------+----------------+\n",
      "|        1        |   -0.07091402870810747   |     worst      |\n",
      "|        2        |   -0.06634434642518632   |      not       |\n",
      "|        3        |   -0.06580390339413526   |  disappointed  |\n",
      "|        4        |   -0.06147677551160373   |     awful      |\n",
      "|        5        |   -0.0590706608163739    |    terrible    |\n",
      "|        6        |   -0.05377102425755681   | disappointing  |\n",
      "|        7        |  -0.053467353910719384   |    horrible    |\n",
      "|        8        |   -0.05181994367989067   | disappointment |\n",
      "|        9        |  -0.049112897771353616   |     stale      |\n",
      "|        10       |   -0.04880941572837882   |     bland      |\n",
      "+-----------------+--------------------------+----------------+\n"
     ]
    }
   ],
   "source": [
    "from prettytable import PrettyTable\n",
    "    \n",
    "x = PrettyTable()\n",
    "print(\"Top Ten features belonging to class negative or 0 of tfidf using l2\")\n",
    "x.field_names = [\"Top ten fetures\", \"Features Log Probability\", \"Word\"]\n",
    "for i in range(0, 10):\n",
    "    x.add_row([i+1, tfidfl2_neg_largest_10[\"log prob\"].values[i] , \\\n",
    "                    tfidfl2_neg_largest_10[\"word\"].values[i]])\n",
    "\n",
    "print(x)"
   ]
  },
  {
   "cell_type": "markdown",
   "metadata": {
    "colab_type": "text",
    "id": "sqYadGOgLPpi"
   },
   "source": [
    "## [5.3] Logistic Regression on AVG W2V,<font color='red'> SET 3</font>"
   ]
  },
  {
   "cell_type": "markdown",
   "metadata": {
    "colab_type": "text",
    "id": "kByBCEA1LPpj"
   },
   "source": [
    "### [5.3.1] Applying Logistic Regression with L1 regularization on AVG W2V<font color='red'> SET 3</font>"
   ]
  },
  {
   "cell_type": "code",
   "execution_count": 104,
   "metadata": {
    "colab": {},
    "colab_type": "code",
    "id": "yCQ_4iJkLPpj"
   },
   "outputs": [],
   "source": [
    "# Please write all the code with proper documentation"
   ]
  },
  {
   "cell_type": "code",
   "execution_count": 105,
   "metadata": {},
   "outputs": [],
   "source": [
    "# Please write all the code with proper documentation\n",
    "def avg_w2v(preprocessed_reviews, x, w2v_model):\n",
    "    i=0\n",
    "    list_of_sentance=[]\n",
    "    for sentance in preprocessed_reviews:\n",
    "        list_of_sentance.append(sentance.split())\n",
    "                            \n",
    "    is_your_ram_gt_16g=False\n",
    "    want_to_use_google_w2v = False\n",
    "    want_to_train_w2v = True\n",
    "    if 1 == x:\n",
    "        if want_to_train_w2v:\n",
    "            # min_count = 5 considers only words that occured atleast 5 times\n",
    "            w2v_model=Word2Vec(list_of_sentance,min_count=5,size=50, workers=4)\n",
    "        elif want_to_use_google_w2v and is_your_ram_gt_16g:\n",
    "            if os.path.isfile('GoogleNews-vectors-negative300.bin'):\n",
    "                w2v_model=KeyedVectors.load_word2vec_format('GoogleNews-vectors-negative300.bin', binary=True)\n",
    "                print(w2v_model.wv.most_similar('great'))\n",
    "                print(w2v_model.wv.most_similar('worst'))\n",
    "        else:\n",
    "            print(\"you don't have gogole's word2vec file, keep want_to_train_w2v = True, to train your own w2v \")\n",
    "\n",
    "    w2v_words = list(w2v_model.wv.vocab)                      \n",
    "\n",
    "    # average Word2Vec\n",
    "    # compute average word2vec for each review.\n",
    "    sent_vectors = []; # the avg-w2v for each sentence/review is stored in this list\n",
    "    for sent in tqdm(list_of_sentance): # for each review/sentence\n",
    "        sent_vec = np.zeros(50) # as word vectors are of zero length 50, you might need to change this to 300 if you use google's w2v\n",
    "        cnt_words =0; # num of words with a valid vector in the sentence/review\n",
    "        for word in sent: # for each word in a review/sentence\n",
    "            if word in w2v_words:\n",
    "                vec = w2v_model.wv[word]\n",
    "                sent_vec += vec\n",
    "                cnt_words += 1\n",
    "        if cnt_words != 0:\n",
    "            sent_vec /= cnt_words\n",
    "        sent_vectors.append(sent_vec) \n",
    "    \n",
    "    return sent_vectors, list_of_sentance, w2v_model                          "
   ]
  },
  {
   "cell_type": "code",
   "execution_count": 106,
   "metadata": {},
   "outputs": [
    {
     "data": {
      "application/vnd.jupyter.widget-view+json": {
       "model_id": "ecd882be72004f87ba95696e49e6ea5c",
       "version_major": 2,
       "version_minor": 0
      },
      "text/plain": [
       "HBox(children=(IntProgress(value=0, max=70000), HTML(value='')))"
      ]
     },
     "metadata": {},
     "output_type": "display_data"
    },
    {
     "data": {
      "application/vnd.jupyter.widget-view+json": {
       "model_id": "caea6373733f4fc6bc0f45d07945c695",
       "version_major": 2,
       "version_minor": 0
      },
      "text/plain": [
       "HBox(children=(IntProgress(value=0, max=15000), HTML(value='')))"
      ]
     },
     "metadata": {},
     "output_type": "display_data"
    },
    {
     "data": {
      "application/vnd.jupyter.widget-view+json": {
       "model_id": "668096ba59954c35aa4cf3ef3eb027a6",
       "version_major": 2,
       "version_minor": 0
      },
      "text/plain": [
       "HBox(children=(IntProgress(value=0, max=15000), HTML(value='')))"
      ]
     },
     "metadata": {},
     "output_type": "display_data"
    }
   ],
   "source": [
    "#vectorizing using above function\n",
    "avg_w2v_x_train, los_train, w2v_model = avg_w2v(x_train, 1, None)\n",
    "avg_w2v_x_cv, los_cv, w2v_model = avg_w2v(x_cv, 0, w2v_model)\n",
    "avg_w2v_x_test, los_test, w2v_model = avg_w2v(x_test, 0, w2v_model)"
   ]
  },
  {
   "cell_type": "code",
   "execution_count": 107,
   "metadata": {},
   "outputs": [],
   "source": [
    "%matplotlib inline\n",
    "import warnings\n",
    "warnings.filterwarnings(\"ignore\")\n",
    "\n",
    "stdize = StandardScaler(with_mean=False)\n",
    "avg_w2v_x_train = stdize.fit_transform(avg_w2v_x_train)\n",
    "avg_w2v_x_cv = stdize.transform(avg_w2v_x_cv)\n",
    "avg_w2v_x_test = stdize.transform(avg_w2v_x_test)"
   ]
  },
  {
   "cell_type": "code",
   "execution_count": 108,
   "metadata": {},
   "outputs": [
    {
     "data": {
      "application/vnd.jupyter.widget-view+json": {
       "model_id": "98c1dca48dcd4d0bb3e0411aba9418e2",
       "version_major": 2,
       "version_minor": 0
      },
      "text/plain": [
       "HBox(children=(IntProgress(value=0, max=8), HTML(value='')))"
      ]
     },
     "metadata": {},
     "output_type": "display_data"
    }
   ],
   "source": [
    "auc_cv = []\n",
    "auc_test = []\n",
    "c = [0.0001, 0.001, 0.01, 0.1, 1, 10, 100, 1000]\n",
    "for i in tqdm(c):\n",
    "    \n",
    "    # instantiate learning model (k = 30)\n",
    "    clf = LogisticRegression(penalty='l1', C = i)\n",
    "    # fitting the model on crossvalidation train\n",
    "    clf.fit(avg_w2v_x_train, y_train)\n",
    "    \n",
    "    y_pred_proba = clf.predict_proba(avg_w2v_x_cv)[::,1]\n",
    "    fpr, tpr, _ = metrics.roc_curve(y_cv,  y_pred_proba)\n",
    "    auc_cv.append(np.round(metrics.roc_auc_score(y_cv, y_pred_proba)*100))\n",
    "    \n",
    "    y_pred_proba1 = clf.predict_proba(avg_w2v_x_test)[::,1]\n",
    "    fpr, tpr, _ = metrics.roc_curve(y_test,  y_pred_proba1)\n",
    "    auc_test.append(np.round(metrics.roc_auc_score(y_test, y_pred_proba1)*100))\n",
    "    "
   ]
  },
  {
   "cell_type": "code",
   "execution_count": 109,
   "metadata": {},
   "outputs": [],
   "source": [
    "avg_w2vl1_optimal_c = c[(auc_cv.index(max(auc_cv)))]"
   ]
  },
  {
   "cell_type": "code",
   "execution_count": 110,
   "metadata": {},
   "outputs": [
    {
     "data": {
      "image/png": "[encoded data removed]",
      "text/plain": [
       "<Figure size 432x288 with 1 Axes>"
      ]
     },
     "metadata": {},
     "output_type": "display_data"
    }
   ],
   "source": [
    "#printing all Auc value of corresponding k on validation and test data\n",
    "df = pd.DataFrame({\n",
    "                  'training': auc_cv,\n",
    "                  'test': auc_test\n",
    "                  }, index= log_c )\n",
    "\n",
    "lines = df.plot.line()\n",
    "plt.xlabel(\" Log alpha Hyper Parameter\")\n",
    "plt.ylabel(\"Area under ROC curve\")\n",
    "plt.title(\"ROC curve of avg word2vec using l1\")\n",
    "plt.grid()\n",
    "plt.show()"
   ]
  },
  {
   "cell_type": "code",
   "execution_count": 111,
   "metadata": {},
   "outputs": [
    {
     "data": {
      "text/plain": [
       "LogisticRegression(C=0.01, class_weight=None, dual=False, fit_intercept=True,\n",
       "          intercept_scaling=1, max_iter=100, multi_class='ovr', n_jobs=1,\n",
       "          penalty='l1', random_state=None, solver='liblinear', tol=0.0001,\n",
       "          verbose=0, warm_start=False)"
      ]
     },
     "execution_count": 111,
     "metadata": {},
     "output_type": "execute_result"
    }
   ],
   "source": [
    "clf = LogisticRegression(penalty= 'l1',C = avg_w2vl1_optimal_c)\n",
    "clf.fit(avg_w2v_x_train, y_train)"
   ]
  },
  {
   "cell_type": "code",
   "execution_count": 112,
   "metadata": {},
   "outputs": [
    {
     "data": {
      "image/png": "[encoded data removed]",
      "text/plain": [
       "<Figure size 432x288 with 1 Axes>"
      ]
     },
     "metadata": {},
     "output_type": "display_data"
    }
   ],
   "source": [
    "#auc curve of optimal k on validation and test data\n",
    "y_predk_proba = clf.predict_proba(avg_w2v_x_cv)[::,1]\n",
    "fpr, tpr, _ = metrics.roc_curve(y_cv,  y_predk_proba)\n",
    "auc = np.round(metrics.roc_auc_score(y_cv, y_predk_proba)*100, 2)\n",
    "avg_w2vl1_tr_auc = auc\n",
    "\n",
    "plt.plot(fpr,tpr,label=\"Training Auc = \"+str(auc))\n",
    "y_predk_proba = clf.predict_proba(avg_w2v_x_test)[::,1]\n",
    "fpr, tpr, _ = metrics.roc_curve(y_test,  y_predk_proba)\n",
    "auc = np.round(metrics.roc_auc_score(y_test, y_predk_proba)*100, 2)\n",
    "avg_w2vl1_ts_auc = auc\n",
    "\n",
    "plt.plot(fpr,tpr,label=\"Test Auc = \"+str(auc))\n",
    "plt.legend(loc=4)\n",
    "plt.plot([x/10 for x in range(0, 11)],[x/10 for x in range(0, 11)], color='grey')\n",
    "plt.title(\"ROC Curve of avg word2vec using l1\")\n",
    "plt.axis([0, 1, 0, 1])\n",
    "plt.xlabel(\"False Positive Rate\")\n",
    "plt.ylabel(\"True Positive Rate\")\n",
    "plt.show()"
   ]
  },
  {
   "cell_type": "code",
   "execution_count": 113,
   "metadata": {},
   "outputs": [],
   "source": [
    "y_pred_test = clf.predict(avg_w2v_x_test)\n",
    "y_pred_cv = clf.predict(avg_w2v_x_cv)"
   ]
  },
  {
   "cell_type": "code",
   "execution_count": 114,
   "metadata": {},
   "outputs": [
    {
     "data": {
      "image/png": "[encoded data removed]",
      "text/plain": [
       "<Figure size 432x288 with 1 Axes>"
      ]
     },
     "metadata": {},
     "output_type": "display_data"
    }
   ],
   "source": [
    "# http://www.tarekatwan.com/index.php/2017/12/how-to-plot-a-confusion-matrix-in-python/\n",
    "cm = confusion_matrix(y_cv,y_pred_cv)\n",
    "plt.clf()\n",
    "plt.imshow(cm, interpolation='nearest', cmap=plt.cm.Wistia)\n",
    "classNames = ['0','1']\n",
    "plt.title(' Training data : Confusion Matrix of avg word2vec using l1')\n",
    "plt.ylabel('True label')\n",
    "plt.xlabel('Predicted label')\n",
    "tick_marks = np.arange(len(classNames))\n",
    "plt.xticks(tick_marks, classNames, rotation=45)\n",
    "plt.yticks(tick_marks, classNames)\n",
    "s = [['TN','FP'], ['FN', 'TP']]\n",
    " \n",
    "for i in range(2):\n",
    "    for j in range(2):\n",
    "        plt.text(j,i, str(s[i][j])+\" = \"+str(cm[i][j]))\n",
    "plt.show()"
   ]
  },
  {
   "cell_type": "code",
   "execution_count": 115,
   "metadata": {},
   "outputs": [
    {
     "data": {
      "image/png": "[encoded data removed]",
      "text/plain": [
       "<Figure size 432x288 with 1 Axes>"
      ]
     },
     "metadata": {},
     "output_type": "display_data"
    }
   ],
   "source": [
    "# http://www.tarekatwan.com/index.php/2017/12/how-to-plot-a-confusion-matrix-in-python/\n",
    "cm = confusion_matrix(y_test,y_pred_test)\n",
    "plt.clf()\n",
    "plt.imshow(cm, interpolation='nearest', cmap=plt.cm.Wistia)\n",
    "classNames = ['0','1']\n",
    "plt.title(' Test data : Confusion Matrix of avg word2vec using l1')\n",
    "plt.ylabel('True label')\n",
    "plt.xlabel('Predicted label')\n",
    "tick_marks = np.arange(len(classNames))\n",
    "plt.xticks(tick_marks, classNames, rotation=45)\n",
    "plt.yticks(tick_marks, classNames)\n",
    "s = [['TN','FP'], ['FN', 'TP']]\n",
    " \n",
    "for i in range(2):\n",
    "    for j in range(2):\n",
    "        plt.text(j,i, str(s[i][j])+\" = \"+str(cm[i][j]))\n",
    "plt.show()"
   ]
  },
  {
   "cell_type": "markdown",
   "metadata": {
    "colab_type": "text",
    "id": "O_8Gu2SfLPpn"
   },
   "source": [
    "### [5.3.2] Applying Logistic Regression with L2 regularization on AVG W2V,<font color='red'> SET 3</font>"
   ]
  },
  {
   "cell_type": "code",
   "execution_count": 116,
   "metadata": {
    "colab": {},
    "colab_type": "code",
    "id": "Zy3s4jk1LPpn"
   },
   "outputs": [],
   "source": [
    "# Please write all the code with proper documentation"
   ]
  },
  {
   "cell_type": "code",
   "execution_count": 117,
   "metadata": {},
   "outputs": [
    {
     "data": {
      "application/vnd.jupyter.widget-view+json": {
       "model_id": "1a8f3eb1388f48d9abefc5d9f9a87eeb",
       "version_major": 2,
       "version_minor": 0
      },
      "text/plain": [
       "HBox(children=(IntProgress(value=0, max=8), HTML(value='')))"
      ]
     },
     "metadata": {},
     "output_type": "display_data"
    }
   ],
   "source": [
    "auc_cv = []\n",
    "auc_test = []\n",
    "c = [0.0001, 0.001, 0.01, 0.1, 1, 10, 100, 1000]\n",
    "for i in tqdm(c):\n",
    "    \n",
    "    # instantiate learning model (k = 30)\n",
    "    clf = LogisticRegression(penalty='l2', C = i)\n",
    "    # fitting the model on crossvalidation train\n",
    "    clf.fit(avg_w2v_x_train, y_train)\n",
    "    \n",
    "    y_pred_proba = clf.predict_proba(avg_w2v_x_cv)[::,1]\n",
    "    fpr, tpr, _ = metrics.roc_curve(y_cv,  y_pred_proba)\n",
    "    auc_cv.append(np.round(metrics.roc_auc_score(y_cv, y_pred_proba)*100))\n",
    "    \n",
    "    y_pred_proba1 = clf.predict_proba(avg_w2v_x_test)[::,1]\n",
    "    fpr, tpr, _ = metrics.roc_curve(y_test,  y_pred_proba1)\n",
    "    auc_test.append(np.round(metrics.roc_auc_score(y_test, y_pred_proba1)*100))\n",
    "    "
   ]
  },
  {
   "cell_type": "code",
   "execution_count": 118,
   "metadata": {},
   "outputs": [],
   "source": [
    "avg_w2vl2_optimal_c = c[(auc_cv.index(max(auc_cv)))]"
   ]
  },
  {
   "cell_type": "code",
   "execution_count": 119,
   "metadata": {},
   "outputs": [
    {
     "data": {
      "image/png": "[encoded data removed]",
      "text/plain": [
       "<Figure size 432x288 with 1 Axes>"
      ]
     },
     "metadata": {},
     "output_type": "display_data"
    }
   ],
   "source": [
    "#printing all Auc value of corresponding k on validation and test data\n",
    "df = pd.DataFrame({\n",
    "                  'training': auc_cv,\n",
    "                  'test': auc_test\n",
    "                  }, index= log_c )\n",
    "\n",
    "lines = df.plot.line()\n",
    "plt.xlabel(\" Log alpha Hyper Parameter\")\n",
    "plt.ylabel(\"Area under ROC curve\")\n",
    "plt.title(\"ROC curve of avg word2vec using l2\")\n",
    "plt.grid()\n",
    "plt.show()"
   ]
  },
  {
   "cell_type": "code",
   "execution_count": 120,
   "metadata": {},
   "outputs": [
    {
     "data": {
      "text/plain": [
       "LogisticRegression(C=0.001, class_weight=None, dual=False, fit_intercept=True,\n",
       "          intercept_scaling=1, max_iter=100, multi_class='ovr', n_jobs=1,\n",
       "          penalty='l2', random_state=None, solver='liblinear', tol=0.0001,\n",
       "          verbose=0, warm_start=False)"
      ]
     },
     "execution_count": 120,
     "metadata": {},
     "output_type": "execute_result"
    }
   ],
   "source": [
    "clf = LogisticRegression(penalty= 'l2',C = avg_w2vl2_optimal_c)\n",
    "clf.fit(avg_w2v_x_train, y_train)"
   ]
  },
  {
   "cell_type": "code",
   "execution_count": 121,
   "metadata": {},
   "outputs": [
    {
     "data": {
      "image/png": "[encoded data removed]",
      "text/plain": [
       "<Figure size 432x288 with 1 Axes>"
      ]
     },
     "metadata": {},
     "output_type": "display_data"
    }
   ],
   "source": [
    "#auc curve of optimal k on validation and test data\n",
    "y_predk_proba = clf.predict_proba(avg_w2v_x_cv)[::,1]\n",
    "fpr, tpr, _ = metrics.roc_curve(y_cv,  y_predk_proba)\n",
    "auc = np.round(metrics.roc_auc_score(y_cv, y_predk_proba)*100, 2)\n",
    "avg_w2vl2_tr_auc = auc\n",
    "\n",
    "plt.plot(fpr,tpr,label=\"Training Auc = \"+str(auc))\n",
    "y_predk_proba = clf.predict_proba(avg_w2v_x_test)[::,1]\n",
    "fpr, tpr, _ = metrics.roc_curve(y_test,  y_predk_proba)\n",
    "auc = np.round(metrics.roc_auc_score(y_test, y_predk_proba)*100, 2)\n",
    "avg_w2vl2_ts_auc = auc\n",
    "\n",
    "plt.plot(fpr,tpr,label=\"Test Auc = \"+str(auc))\n",
    "plt.legend(loc=4)\n",
    "plt.plot([x/10 for x in range(0, 11)],[x/10 for x in range(0, 11)], color='grey')\n",
    "plt.title(\"ROC Curve of avg word2vec using l2\")\n",
    "plt.axis([0, 1, 0, 1])\n",
    "plt.xlabel(\"False Positive Rate\")\n",
    "plt.ylabel(\"True Positive Rate\")\n",
    "plt.show()"
   ]
  },
  {
   "cell_type": "code",
   "execution_count": 122,
   "metadata": {},
   "outputs": [],
   "source": [
    "y_pred_test = clf.predict(avg_w2v_x_test)\n",
    "y_pred_cv = clf.predict(avg_w2v_x_cv)"
   ]
  },
  {
   "cell_type": "code",
   "execution_count": 123,
   "metadata": {},
   "outputs": [
    {
     "data": {
      "image/png": "[encoded data removed]",
      "text/plain": [
       "<Figure size 432x288 with 1 Axes>"
      ]
     },
     "metadata": {},
     "output_type": "display_data"
    }
   ],
   "source": [
    "# http://www.tarekatwan.com/index.php/2017/12/how-to-plot-a-confusion-matrix-in-python/\n",
    "cm = confusion_matrix(y_cv,y_pred_cv)\n",
    "plt.clf()\n",
    "plt.imshow(cm, interpolation='nearest', cmap=plt.cm.Wistia)\n",
    "classNames = ['0','1']\n",
    "plt.title(' Training data : Confusion Matrix of avg word2vec using L2')\n",
    "plt.ylabel('True label')\n",
    "plt.xlabel('Predicted label')\n",
    "tick_marks = np.arange(len(classNames))\n",
    "plt.xticks(tick_marks, classNames, rotation=45)\n",
    "plt.yticks(tick_marks, classNames)\n",
    "s = [['TN','FP'], ['FN', 'TP']]\n",
    " \n",
    "for i in range(2):\n",
    "    for j in range(2):\n",
    "        plt.text(j,i, str(s[i][j])+\" = \"+str(cm[i][j]))\n",
    "plt.show()"
   ]
  },
  {
   "cell_type": "code",
   "execution_count": 124,
   "metadata": {},
   "outputs": [
    {
     "data": {
      "image/png": "[encoded data removed]",
      "text/plain": [
       "<Figure size 432x288 with 1 Axes>"
      ]
     },
     "metadata": {},
     "output_type": "display_data"
    }
   ],
   "source": [
    "# http://www.tarekatwan.com/index.php/2017/12/how-to-plot-a-confusion-matrix-in-python/\n",
    "cm = confusion_matrix(y_test,y_pred_test)\n",
    "plt.clf()\n",
    "plt.imshow(cm, interpolation='nearest', cmap=plt.cm.Wistia)\n",
    "classNames = ['0','1']\n",
    "plt.title(' Test data : Confusion Matrix of Agv word2vec using L2')\n",
    "plt.ylabel('True label')\n",
    "plt.xlabel('Predicted label')\n",
    "tick_marks = np.arange(len(classNames))\n",
    "plt.xticks(tick_marks, classNames, rotation=45)\n",
    "plt.yticks(tick_marks, classNames)\n",
    "s = [['TN','FP'], ['FN', 'TP']]\n",
    " \n",
    "for i in range(2):\n",
    "    for j in range(2):\n",
    "        plt.text(j,i, str(s[i][j])+\" = \"+str(cm[i][j]))\n",
    "plt.show()"
   ]
  },
  {
   "cell_type": "markdown",
   "metadata": {
    "colab_type": "text",
    "id": "pdXTwVIPLPpp"
   },
   "source": [
    "## [5.4] Logistic Regression on TFIDF W2V,<font color='red'> SET 4</font>"
   ]
  },
  {
   "cell_type": "markdown",
   "metadata": {
    "colab_type": "text",
    "id": "WP9NjwNSLPpp"
   },
   "source": [
    "### [5.4.1] Applying Logistic Regression with L1 regularization on TFIDF W2V,<font color='red'> SET 4</font>"
   ]
  },
  {
   "cell_type": "code",
   "execution_count": 125,
   "metadata": {
    "colab": {},
    "colab_type": "code",
    "id": "207gYymwLPpq"
   },
   "outputs": [],
   "source": [
    "# Please write all the code with proper documentation"
   ]
  },
  {
   "cell_type": "code",
   "execution_count": 126,
   "metadata": {},
   "outputs": [],
   "source": [
    "def tfidf_w2v(preprocessed_reviews, list_of_sentance, w2v_model, w2v_words, x, model):\n",
    "    if 1 == x:\n",
    "        model = TfidfVectorizer()\n",
    "        tf_idf_matrix = model.fit_transform(preprocessed_reviews)\n",
    "        # we are converting a dictionary with word as a key, and the idf as a value\n",
    "        dictionary = dict(zip(model.get_feature_names(), list(model.idf_)))\n",
    "        # TF-IDF weighted Word2Vec\n",
    "        tfidf_feat = model.get_feature_names() # tfidf words/col-names\n",
    "        # final_tf_idf is the sparse matrix with row= sentence, col=word and cell_val = tfidf\n",
    "    else: \n",
    "        tf_idf_matrix = model.transform(preprocessed_reviews)\n",
    "        dictionary = dict(zip(model.get_feature_names(), list(model.idf_)))\n",
    "        tfidf_feat = model.get_feature_names()\n",
    "        \n",
    "    tfidf_sent_vectors = []; # the tfidf-w2v for each sentence/review is stored in this list\n",
    "    row=0;\n",
    "    for sent in tqdm(list_of_sentance): # for each review/sentence \n",
    "        sent_vec = np.zeros(50) # as word vectors are of zero length\n",
    "        weight_sum =0; # num of words with a valid vector in the sentence/review\n",
    "        for word in sent: # for each word in a review/sentence\n",
    "            if word in w2v_words and word in tfidf_feat:\n",
    "                vec = w2v_model.wv[word]\n",
    "                # tf_idf = tf_idf_matrix[row, tfidf_feat.index(word)]\n",
    "                # to reduce the computation we are  \n",
    "                # dictionary[word] = idf value of word in whole courpus\n",
    "                # sent.count(word) = tf valeus of word in this review\n",
    "                tf_idf = dictionary[word]*(sent.count(word)/len(sent))\n",
    "                sent_vec += (vec * tf_idf)\n",
    "                weight_sum += tf_idf\n",
    "        if weight_sum != 0:\n",
    "            sent_vec /= weight_sum\n",
    "        tfidf_sent_vectors.append(sent_vec)\n",
    "        row += 1\n",
    "    return tfidf_sent_vectors, model                "
   ]
  },
  {
   "cell_type": "code",
   "execution_count": 127,
   "metadata": {},
   "outputs": [
    {
     "data": {
      "application/vnd.jupyter.widget-view+json": {
       "model_id": "0ad87ba743c041e38514626bc6582782",
       "version_major": 2,
       "version_minor": 0
      },
      "text/plain": [
       "HBox(children=(IntProgress(value=0, max=70000), HTML(value='')))"
      ]
     },
     "metadata": {},
     "output_type": "display_data"
    },
    {
     "data": {
      "application/vnd.jupyter.widget-view+json": {
       "model_id": "82184e7aa68f4df0a4e79ac31af2691f",
       "version_major": 2,
       "version_minor": 0
      },
      "text/plain": [
       "HBox(children=(IntProgress(value=0, max=15000), HTML(value='')))"
      ]
     },
     "metadata": {},
     "output_type": "display_data"
    },
    {
     "data": {
      "application/vnd.jupyter.widget-view+json": {
       "model_id": "845a81b2c8504742acbfc238768d6fd3",
       "version_major": 2,
       "version_minor": 0
      },
      "text/plain": [
       "HBox(children=(IntProgress(value=0, max=15000), HTML(value='')))"
      ]
     },
     "metadata": {},
     "output_type": "display_data"
    }
   ],
   "source": [
    "#vectorizing using above function\n",
    "tfidf_w2v_x_train, model = tfidf_w2v(x_train, los_train, w2v_model, list(w2v_model.wv.vocab), 1, None)\n",
    "tfidf_w2v_x_cv, model = tfidf_w2v(x_cv, los_cv, w2v_model, list(w2v_model.wv.vocab), 0, model)\n",
    "tfidf_w2v_x_test, model = tfidf_w2v(x_test, los_test, w2v_model, list(w2v_model.wv.vocab), 0, model)"
   ]
  },
  {
   "cell_type": "code",
   "execution_count": 128,
   "metadata": {},
   "outputs": [],
   "source": [
    "%matplotlib inline\n",
    "import warnings\n",
    "warnings.filterwarnings(\"ignore\")\n",
    "\n",
    "stdize = StandardScaler(with_mean=False)\n",
    "tfidf_w2v_x_train = stdize.fit_transform(tfidf_w2v_x_train)\n",
    "tfidf_w2v_x_cv = stdize.transform(tfidf_w2v_x_cv)\n",
    "tfidf_w2v_x_test = stdize.transform(tfidf_w2v_x_test)"
   ]
  },
  {
   "cell_type": "code",
   "execution_count": 129,
   "metadata": {},
   "outputs": [
    {
     "data": {
      "application/vnd.jupyter.widget-view+json": {
       "model_id": "70ca8442359c4c35af955073e03d3633",
       "version_major": 2,
       "version_minor": 0
      },
      "text/plain": [
       "HBox(children=(IntProgress(value=0, max=8), HTML(value='')))"
      ]
     },
     "metadata": {},
     "output_type": "display_data"
    }
   ],
   "source": [
    "auc_cv = []\n",
    "auc_test = []\n",
    "c = [0.0001, 0.001, 0.01, 0.1, 1, 10, 100, 1000]\n",
    "for i in tqdm(c):\n",
    "    \n",
    "    # instantiate learning model (k = 30)\n",
    "    clf = LogisticRegression(penalty='l1', C = i)\n",
    "    # fitting the model on crossvalidation train\n",
    "    clf.fit(tfidf_w2v_x_train, y_train)\n",
    "    \n",
    "    y_pred_proba = clf.predict_proba(tfidf_w2v_x_cv)[::,1]\n",
    "    fpr, tpr, _ = metrics.roc_curve(y_cv,  y_pred_proba)\n",
    "    auc_cv.append(np.round(metrics.roc_auc_score(y_cv, y_pred_proba)*100))\n",
    "    \n",
    "    y_pred_proba1 = clf.predict_proba(tfidf_w2v_x_test)[::,1]\n",
    "    fpr, tpr, _ = metrics.roc_curve(y_test,  y_pred_proba1)\n",
    "    auc_test.append(np.round(metrics.roc_auc_score(y_test, y_pred_proba1)*100))\n",
    "    "
   ]
  },
  {
   "cell_type": "code",
   "execution_count": 130,
   "metadata": {},
   "outputs": [],
   "source": [
    "tfidf_w2vl1_optimal_c = c[(auc_cv.index(max(auc_cv)))]"
   ]
  },
  {
   "cell_type": "code",
   "execution_count": 131,
   "metadata": {},
   "outputs": [
    {
     "data": {
      "image/png": "[encoded data removed]",
      "text/plain": [
       "<Figure size 432x288 with 1 Axes>"
      ]
     },
     "metadata": {},
     "output_type": "display_data"
    }
   ],
   "source": [
    "#printing all Auc value of corresponding k on validation and test data\n",
    "df = pd.DataFrame({\n",
    "                  'training': auc_cv,\n",
    "                  'test': auc_test\n",
    "                  }, index= log_c )\n",
    "\n",
    "lines = df.plot.line()\n",
    "plt.xlabel(\" Log alpha Hyper Parameter\")\n",
    "plt.ylabel(\"Area under ROC curve\")\n",
    "plt.title(\"ROC curve of tfidf word2vec using l1\")\n",
    "plt.grid()\n",
    "plt.show()"
   ]
  },
  {
   "cell_type": "code",
   "execution_count": 132,
   "metadata": {},
   "outputs": [
    {
     "data": {
      "text/plain": [
       "LogisticRegression(C=0.01, class_weight=None, dual=False, fit_intercept=True,\n",
       "          intercept_scaling=1, max_iter=100, multi_class='ovr', n_jobs=1,\n",
       "          penalty='l1', random_state=None, solver='liblinear', tol=0.0001,\n",
       "          verbose=0, warm_start=False)"
      ]
     },
     "execution_count": 132,
     "metadata": {},
     "output_type": "execute_result"
    }
   ],
   "source": [
    "clf = LogisticRegression(penalty= 'l1',C = tfidf_w2vl1_optimal_c)\n",
    "clf.fit(tfidf_w2v_x_train, y_train)"
   ]
  },
  {
   "cell_type": "code",
   "execution_count": 133,
   "metadata": {},
   "outputs": [
    {
     "data": {
      "image/png": "[encoded data removed]",
      "text/plain": [
       "<Figure size 432x288 with 1 Axes>"
      ]
     },
     "metadata": {},
     "output_type": "display_data"
    }
   ],
   "source": [
    "#auc curve of optimal k on validation and test data\n",
    "y_predk_proba = clf.predict_proba(tfidf_w2v_x_cv)[::,1]\n",
    "fpr, tpr, _ = metrics.roc_curve(y_cv,  y_predk_proba)\n",
    "auc = np.round(metrics.roc_auc_score(y_cv, y_predk_proba)*100, 2)\n",
    "tfidf_w2vl1_tr_auc = auc\n",
    "\n",
    "plt.plot(fpr,tpr,label=\"Training Auc = \"+str(auc))\n",
    "y_predk_proba = clf.predict_proba(tfidf_w2v_x_test)[::,1]\n",
    "fpr, tpr, _ = metrics.roc_curve(y_test,  y_predk_proba)\n",
    "auc = np.round(metrics.roc_auc_score(y_test, y_predk_proba)*100, 2)\n",
    "tfidf_w2vl1_ts_auc = auc\n",
    "\n",
    "plt.plot(fpr,tpr,label=\"Test Auc = \"+str(auc))\n",
    "plt.legend(loc=4)\n",
    "plt.plot([x/10 for x in range(0, 11)],[x/10 for x in range(0, 11)], color='grey')\n",
    "plt.title(\"ROC Curve of tfidf word2vec using l1\")\n",
    "plt.axis([0, 1, 0, 1])\n",
    "plt.xlabel(\"False Positive Rate\")\n",
    "plt.ylabel(\"True Positive Rate\")\n",
    "plt.show()"
   ]
  },
  {
   "cell_type": "code",
   "execution_count": 134,
   "metadata": {},
   "outputs": [],
   "source": [
    "y_pred_test = clf.predict(tfidf_w2v_x_test)\n",
    "y_pred_cv = clf.predict(tfidf_w2v_x_cv)"
   ]
  },
  {
   "cell_type": "code",
   "execution_count": 135,
   "metadata": {},
   "outputs": [
    {
     "data": {
      "image/png": "[encoded data removed]",
      "text/plain": [
       "<Figure size 432x288 with 1 Axes>"
      ]
     },
     "metadata": {},
     "output_type": "display_data"
    }
   ],
   "source": [
    "# http://www.tarekatwan.com/index.php/2017/12/how-to-plot-a-confusion-matrix-in-python/\n",
    "cm = confusion_matrix(y_cv,y_pred_cv)\n",
    "plt.clf()\n",
    "plt.imshow(cm, interpolation='nearest', cmap=plt.cm.Wistia)\n",
    "classNames = ['0','1']\n",
    "plt.title(' Training data : Confusion Matrix of tfidf word2vec using l1')\n",
    "plt.ylabel('True label')\n",
    "plt.xlabel('Predicted label')\n",
    "tick_marks = np.arange(len(classNames))\n",
    "plt.xticks(tick_marks, classNames, rotation=45)\n",
    "plt.yticks(tick_marks, classNames)\n",
    "s = [['TN','FP'], ['FN', 'TP']]\n",
    " \n",
    "for i in range(2):\n",
    "    for j in range(2):\n",
    "        plt.text(j,i, str(s[i][j])+\" = \"+str(cm[i][j]))\n",
    "plt.show()"
   ]
  },
  {
   "cell_type": "code",
   "execution_count": 136,
   "metadata": {},
   "outputs": [
    {
     "data": {
      "image/png": "[encoded data removed]",
      "text/plain": [
       "<Figure size 432x288 with 1 Axes>"
      ]
     },
     "metadata": {},
     "output_type": "display_data"
    }
   ],
   "source": [
    "# http://www.tarekatwan.com/index.php/2017/12/how-to-plot-a-confusion-matrix-in-python/\n",
    "cm = confusion_matrix(y_test,y_pred_test)\n",
    "plt.clf()\n",
    "plt.imshow(cm, interpolation='nearest', cmap=plt.cm.Wistia)\n",
    "classNames = ['0','1']\n",
    "plt.title(' Test data : Confusion Matrix of tfidf word2vec using l1')\n",
    "plt.ylabel('True label')\n",
    "plt.xlabel('Predicted label')\n",
    "tick_marks = np.arange(len(classNames))\n",
    "plt.xticks(tick_marks, classNames, rotation=45)\n",
    "plt.yticks(tick_marks, classNames)\n",
    "s = [['TN','FP'], ['FN', 'TP']]\n",
    " \n",
    "for i in range(2):\n",
    "    for j in range(2):\n",
    "        plt.text(j,i, str(s[i][j])+\" = \"+str(cm[i][j]))\n",
    "plt.show()"
   ]
  },
  {
   "cell_type": "markdown",
   "metadata": {
    "colab_type": "text",
    "id": "ynUK2tYDLPps"
   },
   "source": [
    "### [5.4.2] Applying Logistic Regression with L2 regularization on TFIDF W2V,<font color='red'> SET 4</font>"
   ]
  },
  {
   "cell_type": "code",
   "execution_count": 137,
   "metadata": {
    "colab": {},
    "colab_type": "code",
    "id": "hVYuiXl2LPpt"
   },
   "outputs": [],
   "source": [
    "# Please write all the code with proper documentation"
   ]
  },
  {
   "cell_type": "code",
   "execution_count": 138,
   "metadata": {},
   "outputs": [
    {
     "data": {
      "application/vnd.jupyter.widget-view+json": {
       "model_id": "ac87984e43354c019589f3941ff7361b",
       "version_major": 2,
       "version_minor": 0
      },
      "text/plain": [
       "HBox(children=(IntProgress(value=0, max=8), HTML(value='')))"
      ]
     },
     "metadata": {},
     "output_type": "display_data"
    }
   ],
   "source": [
    "auc_cv = []\n",
    "auc_test = []\n",
    "c = [0.0001, 0.001, 0.01, 0.1, 1, 10, 100, 1000]\n",
    "for i in tqdm(c):\n",
    "    \n",
    "    # instantiate learning model (k = 30)\n",
    "    clf = LogisticRegression(penalty='l2', C = i)\n",
    "    # fitting the model on crossvalidation train\n",
    "    clf.fit(tfidf_w2v_x_train, y_train)\n",
    "    \n",
    "    y_pred_proba = clf.predict_proba(tfidf_w2v_x_cv)[::,1]\n",
    "    fpr, tpr, _ = metrics.roc_curve(y_cv,  y_pred_proba)\n",
    "    auc_cv.append(np.round(metrics.roc_auc_score(y_cv, y_pred_proba)*100))\n",
    "    \n",
    "    y_pred_proba1 = clf.predict_proba(tfidf_w2v_x_test)[::,1]\n",
    "    fpr, tpr, _ = metrics.roc_curve(y_test,  y_pred_proba1)\n",
    "    auc_test.append(np.round(metrics.roc_auc_score(y_test, y_pred_proba1)*100))\n",
    "    "
   ]
  },
  {
   "cell_type": "code",
   "execution_count": 139,
   "metadata": {},
   "outputs": [],
   "source": [
    "tfidf_w2vl2_optimal_c = c[(auc_cv.index(max(auc_cv)))]"
   ]
  },
  {
   "cell_type": "code",
   "execution_count": 140,
   "metadata": {},
   "outputs": [
    {
     "data": {
      "image/png": "[encoded data removed]",
      "text/plain": [
       "<Figure size 432x288 with 1 Axes>"
      ]
     },
     "metadata": {},
     "output_type": "display_data"
    }
   ],
   "source": [
    "#printing all Auc value of corresponding k on validation and test data\n",
    "df = pd.DataFrame({\n",
    "                  'training': auc_cv,\n",
    "                  'test': auc_test\n",
    "                  }, index= log_c )\n",
    "\n",
    "lines = df.plot.line()\n",
    "plt.xlabel(\" Log alpha Hyper Parameter\")\n",
    "plt.ylabel(\"Area under ROC curve\")\n",
    "plt.title(\"ROC curve of tfidf word2vec using l2\")\n",
    "plt.grid()\n",
    "plt.show()"
   ]
  },
  {
   "cell_type": "code",
   "execution_count": 141,
   "metadata": {},
   "outputs": [
    {
     "data": {
      "text/plain": [
       "LogisticRegression(C=0.001, class_weight=None, dual=False, fit_intercept=True,\n",
       "          intercept_scaling=1, max_iter=100, multi_class='ovr', n_jobs=1,\n",
       "          penalty='l2', random_state=None, solver='liblinear', tol=0.0001,\n",
       "          verbose=0, warm_start=False)"
      ]
     },
     "execution_count": 141,
     "metadata": {},
     "output_type": "execute_result"
    }
   ],
   "source": [
    "clf = LogisticRegression(penalty= 'l2',C = tfidf_w2vl2_optimal_c)\n",
    "clf.fit(tfidf_w2v_x_train, y_train)"
   ]
  },
  {
   "cell_type": "code",
   "execution_count": 142,
   "metadata": {},
   "outputs": [
    {
     "data": {
      "image/png": "[encoded data removed]",
      "text/plain": [
       "<Figure size 432x288 with 1 Axes>"
      ]
     },
     "metadata": {},
     "output_type": "display_data"
    }
   ],
   "source": [
    "#auc curve of optimal k on validation and test data\n",
    "y_predk_proba = clf.predict_proba(tfidf_w2v_x_cv)[::,1]\n",
    "fpr, tpr, _ = metrics.roc_curve(y_cv,  y_predk_proba)\n",
    "auc = np.round(metrics.roc_auc_score(y_cv, y_predk_proba)*100, 2)\n",
    "tfidf_w2vl2_tr_auc = auc\n",
    "\n",
    "plt.plot(fpr,tpr,label=\"Training Auc = \"+str(auc))\n",
    "y_predk_proba = clf.predict_proba(tfidf_w2v_x_test)[::,1]\n",
    "fpr, tpr, _ = metrics.roc_curve(y_test,  y_predk_proba)\n",
    "auc = np.round(metrics.roc_auc_score(y_test, y_predk_proba)*100, 2)\n",
    "tfidf_w2vl2_ts_auc = auc\n",
    "\n",
    "plt.plot(fpr,tpr,label=\"Test Auc = \"+str(auc))\n",
    "plt.legend(loc=4)\n",
    "plt.plot([x/10 for x in range(0, 11)],[x/10 for x in range(0, 11)], color='grey')\n",
    "plt.title(\"ROC Curve of tfidf word2vec using l2\")\n",
    "plt.axis([0, 1, 0, 1])\n",
    "plt.xlabel(\"False Positive Rate\")\n",
    "plt.ylabel(\"True Positive Rate\")\n",
    "plt.show()"
   ]
  },
  {
   "cell_type": "code",
   "execution_count": 143,
   "metadata": {},
   "outputs": [],
   "source": [
    "y_pred_test = clf.predict(tfidf_w2v_x_test)\n",
    "y_pred_cv = clf.predict(tfidf_w2v_x_cv)"
   ]
  },
  {
   "cell_type": "code",
   "execution_count": 144,
   "metadata": {},
   "outputs": [
    {
     "data": {
      "image/png": "[encoded data removed]",
      "text/plain": [
       "<Figure size 432x288 with 1 Axes>"
      ]
     },
     "metadata": {},
     "output_type": "display_data"
    }
   ],
   "source": [
    "# http://www.tarekatwan.com/index.php/2017/12/how-to-plot-a-confusion-matrix-in-python/\n",
    "cm = confusion_matrix(y_cv,y_pred_cv)\n",
    "plt.clf()\n",
    "plt.imshow(cm, interpolation='nearest', cmap=plt.cm.Wistia)\n",
    "classNames = ['0','1']\n",
    "plt.title(' Training data : Confusion Matrix of tfidf word2vec using l2')\n",
    "plt.ylabel('True label')\n",
    "plt.xlabel('Predicted label')\n",
    "tick_marks = np.arange(len(classNames))\n",
    "plt.xticks(tick_marks, classNames, rotation=45)\n",
    "plt.yticks(tick_marks, classNames)\n",
    "s = [['TN','FP'], ['FN', 'TP']]\n",
    " \n",
    "for i in range(2):\n",
    "    for j in range(2):\n",
    "        plt.text(j,i, str(s[i][j])+\" = \"+str(cm[i][j]))\n",
    "plt.show()"
   ]
  },
  {
   "cell_type": "code",
   "execution_count": 145,
   "metadata": {},
   "outputs": [
    {
     "data": {
      "image/png": "[encoded data removed]",
      "text/plain": [
       "<Figure size 432x288 with 1 Axes>"
      ]
     },
     "metadata": {},
     "output_type": "display_data"
    }
   ],
   "source": [
    "# http://www.tarekatwan.com/index.php/2017/12/how-to-plot-a-confusion-matrix-in-python/\n",
    "cm = confusion_matrix(y_test,y_pred_test)\n",
    "plt.clf()\n",
    "plt.imshow(cm, interpolation='nearest', cmap=plt.cm.Wistia)\n",
    "classNames = ['0','1']\n",
    "plt.title(' Test data : Confusion Matrix of tfidf word2vec using l2')\n",
    "plt.ylabel('True label')\n",
    "plt.xlabel('Predicted label')\n",
    "tick_marks = np.arange(len(classNames))\n",
    "plt.xticks(tick_marks, classNames, rotation=45)\n",
    "plt.yticks(tick_marks, classNames)\n",
    "s = [['TN','FP'], ['FN', 'TP']]\n",
    " \n",
    "for i in range(2):\n",
    "    for j in range(2):\n",
    "        plt.text(j,i, str(s[i][j])+\" = \"+str(cm[i][j]))\n",
    "plt.show()"
   ]
  },
  {
   "cell_type": "markdown",
   "metadata": {
    "colab_type": "text",
    "id": "nOvsBNf2LPpv"
   },
   "source": [
    "# [6] Conclusions"
   ]
  },
  {
   "cell_type": "code",
   "execution_count": 146,
   "metadata": {
    "colab": {},
    "colab_type": "code",
    "id": "T7VxD0q2LPpw"
   },
   "outputs": [],
   "source": [
    "# Please compare all your models using Prettytable library"
   ]
  },
  {
   "cell_type": "code",
   "execution_count": 147,
   "metadata": {},
   "outputs": [
    {
     "name": "stdout",
     "output_type": "stream",
     "text": [
      "+-----------------+----------------+--------+--------------+----------+\n",
      "| Model Technique | Regularization |   C    | Training Auc | Test Auc |\n",
      "+-----------------+----------------+--------+--------------+----------+\n",
      "|       BoW       |       L1       |  0.01  |    93.57     |  93.47   |\n",
      "|       BoW       |       L2       | 0.001  |    90.57     |  90.68   |\n",
      "|      TfIdf      |       L1       |  0.01  |    94.36     |  94.15   |\n",
      "|      TfIdf      |       L2       | 0.0001 |    91.62     |  91.35   |\n",
      "|   Avg Word2vec  |       L1       |  0.01  |    90.73     |  90.26   |\n",
      "|   Avg Word2vec  |       L2       | 0.001  |    90.67     |  90.27   |\n",
      "|  TfIdf Word2vec |       L1       |  0.01  |    88.23     |  87.68   |\n",
      "|  TfIdf word2vec |       L2       | 0.001  |    88.07     |  87.57   |\n",
      "+-----------------+----------------+--------+--------------+----------+\n"
     ]
    }
   ],
   "source": [
    "from prettytable import PrettyTable\n",
    "    \n",
    "x = PrettyTable()\n",
    "\n",
    "x.field_names = [\"Model Technique\",'Regularization', \" C \", \"Training Auc\", \"Test Auc\"]\n",
    " \n",
    "x.add_row([\"BoW\",\"L1\", bowl1_optimal_c, bowl1_tr_auc, bowl1_ts_auc ])\n",
    "x.add_row([\"BoW\",\"L2\", bowl2_optimal_c, bowl2_tr_auc, bowl2_ts_auc ])\n",
    "x.add_row([\"TfIdf\",\"L1\", tfidfl1_optimal_c, tfidfl1_tr_auc, tfidfl1_ts_auc ])\n",
    "x.add_row([\"TfIdf\",\"L2\", tfidfl2_optimal_c, tfidfl2_tr_auc, tfidfl2_ts_auc ])\n",
    "x.add_row([\"Avg Word2vec\",\"L1\", avg_w2vl1_optimal_c, avg_w2vl1_tr_auc, avg_w2vl1_ts_auc ])\n",
    "x.add_row([\"Avg Word2vec\",\"L2\", avg_w2vl2_optimal_c, avg_w2vl2_tr_auc, avg_w2vl2_ts_auc ])\n",
    "x.add_row([\"TfIdf Word2vec\",\"L1\", tfidf_w2vl1_optimal_c, tfidf_w2vl1_tr_auc, tfidf_w2vl1_ts_auc ])\n",
    "x.add_row([\"TfIdf word2vec\",\"L2\", tfidf_w2vl2_optimal_c, tfidf_w2vl2_tr_auc, tfidf_w2vl2_ts_auc ])\n",
    "\n",
    "print(x)\n",
    "\n"
   ]
  },
  {
   "cell_type": "markdown",
   "metadata": {},
   "source": [
    "# Step for all code:"
   ]
  },
  {
   "cell_type": "markdown",
   "metadata": {},
   "source": [
    "Preprocessing of the code:\n",
    "    1. Importing all important library\n",
    "    2. Loading data using sqlite3\n",
    "    3. Making balanced data set\n",
    "    4. Removing html, punctuation, from text and so on to fit into model\n",
    "    5. dividing data into 3 part train test cv\n",
    "Bow(l1 and l2) :\n",
    "    1. fitting train to bow model and transforming with train and cv and test\n",
    "    2. taking  c value from 0.0001 to 1000 with increement  multiple of 10\n",
    "    4. ploting all alpha with corresponding with auc so thatcan visualize optimal alpha\n",
    "    3. finding c optimal \n",
    "    4. plotting roc curve of cv and test \n",
    "    5. plottinng confusion matrix of cv and test     \n",
    "    6. finding the sparse weight using l1 regularization.\n",
    "    7. checking multicolinearity using l2 regularization.\n",
    "Tfidf and Avg word2vec and Tfidf word2vec(L1 and L2):\n",
    "    1. fitting train to bow model and transforming with train and cv and test\n",
    "    2. taking  c value from 0.0001 to 1000 with increement  multiple of 10\n",
    "    4. ploting all alpha with corresponding with auc so thatcan visualize optimal alpha\n",
    "    3. finding c optimal \n",
    "    4. plotting roc curve of cv and test \n",
    "    5. plottinng confusion matrix of cv and test\n",
    "\n",
    "    "
   ]
  },
  {
   "cell_type": "code",
   "execution_count": null,
   "metadata": {},
   "outputs": [],
   "source": []
  }
 ],
 "metadata": {
  "colab": {
   "name": "05 Amazon Fine Food Reviews Analysis_Logistic Regression.ipynb",
   "provenance": [],
   "version": "0.3.2"
  },
  "kernelspec": {
   "display_name": "Python 3",
   "language": "python",
   "name": "python3"
  },
  "language_info": {
   "codemirror_mode": {
    "name": "ipython",
    "version": 3
   },
   "file_extension": ".py",
   "mimetype": "text/x-python",
   "name": "python",
   "nbconvert_exporter": "python",
   "pygments_lexer": "ipython3",
   "version": "3.6.5"
  }
 },
 "nbformat": 4,
 "nbformat_minor": 1
}
