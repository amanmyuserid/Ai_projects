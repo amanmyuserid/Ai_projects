{
 "cells": [
  {
   "cell_type": "markdown",
   "metadata": {},
   "source": [
    "# Resizing Images "
   ]
  },
  {
   "cell_type": "code",
   "execution_count": 1,
   "metadata": {},
   "outputs": [],
   "source": [
    "from tqdm import tqdm\n",
    "import glob\n",
    "import cv2\n",
    "import os\n",
    "\n",
    "#pretrainedmodels.model_names"
   ]
  },
  {
   "cell_type": "code",
   "execution_count": 2,
   "metadata": {},
   "outputs": [],
   "source": [
    "def resize_image(inp_path, saving_path, loc_len):\n",
    "    \n",
    "    \n",
    "    for img_path in tqdm(glob.glob(inp_path)[:]):\n",
    "        \n",
    "        \n",
    "        image_name =  img_path[loc_len:] \n",
    "\n",
    "        img = cv2.imread(img_path)\n",
    "        \n",
    "\n",
    "        width = int(128)\n",
    "        height = int(128)\n",
    "        dim = (width, height)\n",
    "        \n",
    "        # resize image\n",
    "        resized_img = cv2.resize(img, dim)\n",
    " \n",
    "\n",
    "        cv2.imwrite(os.path.join(saving_path, image_name), resized_img)       "
   ]
  },
  {
   "cell_type": "code",
   "execution_count": 3,
   "metadata": {},
   "outputs": [
    {
     "name": "stderr",
     "output_type": "stream",
     "text": [
      "100%|██████████| 950/950 [01:06<00:00, 14.32it/s]\n"
     ]
    }
   ],
   "source": [
    "inp_path = '/home/harsh/amk/quality_check_dataset/Test/Bad Quality/*'\n",
    "saving_path = r'/home/harsh/amk/64*64_Resized_imgs_of_good_bad/Test/Bad Quality/'\n",
    "loc_len = 55\n",
    "resize_image(inp_path, saving_path, loc_len)"
   ]
  },
  {
   "cell_type": "code",
   "execution_count": 4,
   "metadata": {},
   "outputs": [
    {
     "name": "stderr",
     "output_type": "stream",
     "text": [
      "100%|██████████| 6997/6997 [11:09<00:00, 10.45it/s]\n"
     ]
    }
   ],
   "source": [
    "inp_path = '/home/harsh/amk/quality_check_dataset/Train/Good Quality/*'\n",
    "saving_path = r'/home/harsh/amk/64*64_Resized_imgs_of_good_bad/Train/Good Quality/'\n",
    "loc_len = 57\n",
    "resize_image(inp_path, saving_path, loc_len)"
   ]
  },
  {
   "cell_type": "code",
   "execution_count": 5,
   "metadata": {},
   "outputs": [
    {
     "name": "stderr",
     "output_type": "stream",
     "text": [
      "100%|██████████| 5174/5174 [06:33<00:00, 13.14it/s]\n"
     ]
    }
   ],
   "source": [
    "inp_path = '/home/harsh/amk/quality_check_dataset/Train/Bad Quality/*'\n",
    "saving_path = r'/home/harsh/amk/64*64_Resized_imgs_of_good_bad/Train/Bad Quality/'\n",
    "loc_len = 56\n",
    "resize_image(inp_path, saving_path, loc_len)"
   ]
  },
  {
   "cell_type": "code",
   "execution_count": 6,
   "metadata": {},
   "outputs": [
    {
     "name": "stderr",
     "output_type": "stream",
     "text": [
      "100%|██████████| 950/950 [01:08<00:00, 13.95it/s]\n"
     ]
    }
   ],
   "source": [
    "inp_path = '/home/harsh/amk/quality_check_dataset/Test/Good Quality/*'\n",
    "saving_path = r'/home/harsh/amk/64*64_Resized_imgs_of_good_bad/Test/Good Quality/'\n",
    "loc_len = 56\n",
    "resize_image(inp_path, saving_path, loc_len)"
   ]
  },
  {
   "cell_type": "markdown",
   "metadata": {},
   "source": [
    "# Delete the Resized Images as per folder"
   ]
  },
  {
   "cell_type": "code",
   "execution_count": 42,
   "metadata": {},
   "outputs": [],
   "source": [
    "def delete_resized_img(do_you_want_run):\n",
    "    if do_you_want_run == False:\n",
    "        return \n",
    "        \n",
    "    for f in glob.glob('/home/harsh/amk/Resized_imgs_of_good_bad/Train/Bad Quality/*'):\n",
    "        os.remove(f)\n",
    "    \n",
    "    for f in glob.glob('/home/harsh/amk/Resized_imgs_of_good_bad/Train/Good Quality/*'):\n",
    "        os.remove(f)\n",
    "        \n",
    "    for f in glob.glob('/home/harsh/amk/Resized_imgs_of_good_bad/Test/Good Quality/*'):\n",
    "        os.remove(f)\n",
    "    \n",
    "    for f in glob.glob('/home/harsh/amk/Resized_imgs_of_good_bad/Test/Bad Quality/*'):\n",
    "        os.remove(f)\n",
    "        \n",
    "delete_resized_img(do_you_want_run = True)\n",
    "        "
   ]
  },
  {
   "cell_type": "code",
   "execution_count": null,
   "metadata": {},
   "outputs": [],
   "source": []
  },
  {
   "cell_type": "code",
   "execution_count": null,
   "metadata": {},
   "outputs": [],
   "source": []
  },
  {
   "cell_type": "code",
   "execution_count": null,
   "metadata": {},
   "outputs": [],
   "source": []
  },
  {
   "cell_type": "code",
   "execution_count": null,
   "metadata": {},
   "outputs": [],
   "source": []
  },
  {
   "cell_type": "code",
   "execution_count": null,
   "metadata": {},
   "outputs": [],
   "source": []
  },
  {
   "cell_type": "code",
   "execution_count": null,
   "metadata": {},
   "outputs": [],
   "source": []
  },
  {
   "cell_type": "code",
   "execution_count": null,
   "metadata": {},
   "outputs": [],
   "source": []
  },
  {
   "cell_type": "code",
   "execution_count": null,
   "metadata": {},
   "outputs": [],
   "source": []
  },
  {
   "cell_type": "code",
   "execution_count": null,
   "metadata": {},
   "outputs": [],
   "source": []
  },
  {
   "cell_type": "markdown",
   "metadata": {},
   "source": [
    "# resnet18"
   ]
  },
  {
   "cell_type": "code",
   "execution_count": 3,
   "metadata": {},
   "outputs": [],
   "source": [
    "def cadene_model(model_name):\n",
    "    def my_model(pretrained = True, **kwargs):\n",
    "        return pretrainedmodels.__dict__[model_name](num_classes=1000, pretrained='imagenet')\n",
    "    return my_model"
   ]
  },
  {
   "cell_type": "code",
   "execution_count": 4,
   "metadata": {},
   "outputs": [
    {
     "ename": "NameError",
     "evalue": "name 'data' is not defined",
     "output_type": "error",
     "traceback": [
      "\u001b[0;31m---------------------------------------------------------------------------\u001b[0m",
      "\u001b[0;31mNameError\u001b[0m                                 Traceback (most recent call last)",
      "\u001b[0;32m<ipython-input-4-f42c71e52b42>\u001b[0m in \u001b[0;36m<module>\u001b[0;34m\u001b[0m\n\u001b[1;32m      1\u001b[0m \u001b[0mmodel\u001b[0m \u001b[0;34m=\u001b[0m \u001b[0mcadene_model\u001b[0m\u001b[0;34m(\u001b[0m\u001b[0;34m\"resnet34\"\u001b[0m\u001b[0;34m)\u001b[0m\u001b[0;34m\u001b[0m\u001b[0;34m\u001b[0m\u001b[0m\n\u001b[0;32m----> 2\u001b[0;31m learn = cnn_learner(data, model, pretrained = True, callback_fns=ShowGraph, \\\n\u001b[0m\u001b[1;32m      3\u001b[0m                          metrics=[error_rate, accuracy, AUROC(), Recall(), \\\n\u001b[1;32m      4\u001b[0m                          Precision(),MatthewsCorreff()])\n",
      "\u001b[0;31mNameError\u001b[0m: name 'data' is not defined"
     ]
    }
   ],
   "source": [
    "model = cadene_model(\"resnet34\")\n",
    "learn = cnn_learner(data, model, pretrained = True, callback_fns=ShowGraph, \\\n",
    "                         metrics=[error_rate, accuracy, AUROC(), Recall(), \\\n",
    "                         Precision(),MatthewsCorreff()])"
   ]
  },
  {
   "cell_type": "code",
   "execution_count": null,
   "metadata": {},
   "outputs": [],
   "source": []
  },
  {
   "cell_type": "markdown",
   "metadata": {},
   "source": [
    "# Deep Learning"
   ]
  },
  {
   "cell_type": "code",
   "execution_count": 1,
   "metadata": {},
   "outputs": [],
   "source": [
    "from tqdm import tqdm\n",
    "import glob\n",
    "import cv2\n",
    "import os\n",
    "from fastai.vision import *\n",
    "from fastai.vision.models import *\n",
    "import python_utils\n",
    "from utils import *\n",
    "import torch\n",
    "import pretrainedmodels.utils as utils \n",
    "from torchvision import models\n",
    "import torch\n",
    "from sklearn.metrics import roc_curve\n",
    "from sklearn.metrics import roc_auc_score\n",
    "import pretrainedmodels\n",
    "#pretrainedmodels.model_names"
   ]
  },
  {
   "cell_type": "code",
   "execution_count": 2,
   "metadata": {},
   "outputs": [],
   "source": [
    "#dir(models)"
   ]
  },
  {
   "cell_type": "code",
   "execution_count": 167,
   "metadata": {},
   "outputs": [],
   "source": [
    "pole_path_dir = '/home/harsh/amk/Resized_imgs_of_good_bad/'\n",
    "pole_path = Path(pole_path_dir)\n"
   ]
  },
  {
   "cell_type": "code",
   "execution_count": 172,
   "metadata": {},
   "outputs": [],
   "source": [
    "data =  ImageDataBunch.from_folder(pole_path, train = 'Train', test = 'Test', \n",
    "                                         valid_pct=0.2, \\\n",
    "                                         #ds_tfms=get_transforms(), \\\n",
    "                                         size = (128,128), \\\n",
    "                                         bs = 10, num_workers=4).normalize(imagenet_stats)"
   ]
  },
  {
   "cell_type": "code",
   "execution_count": null,
   "metadata": {},
   "outputs": [],
   "source": []
  },
  {
   "cell_type": "code",
   "execution_count": 173,
   "metadata": {},
   "outputs": [],
   "source": [
    "rn18_learn = cnn_learner(data, models.resnet18, callback_fns=ShowGraph, \\\n",
    "                         metrics=[error_rate, accuracy, AUROC(), Recall(), \\\n",
    "                         Precision(),MatthewsCorreff()])"
   ]
  },
  {
   "cell_type": "code",
   "execution_count": 176,
   "metadata": {},
   "outputs": [
    {
     "data": {
      "text/html": [
       "<table border=\"1\" class=\"dataframe\">\n",
       "  <thead>\n",
       "    <tr style=\"text-align: left;\">\n",
       "      <th>epoch</th>\n",
       "      <th>train_loss</th>\n",
       "      <th>valid_loss</th>\n",
       "      <th>error_rate</th>\n",
       "      <th>accuracy</th>\n",
       "      <th>auroc</th>\n",
       "      <th>recall</th>\n",
       "      <th>precision</th>\n",
       "      <th>matthews_correff</th>\n",
       "      <th>time</th>\n",
       "    </tr>\n",
       "  </thead>\n",
       "  <tbody>\n",
       "    <tr>\n",
       "      <td>0</td>\n",
       "      <td>0.093650</td>\n",
       "      <td>0.124634</td>\n",
       "      <td>0.037082</td>\n",
       "      <td>0.962918</td>\n",
       "      <td>0.991968</td>\n",
       "      <td>0.985263</td>\n",
       "      <td>0.952510</td>\n",
       "      <td>0.924133</td>\n",
       "      <td>00:17</td>\n",
       "    </tr>\n",
       "    <tr>\n",
       "      <td>1</td>\n",
       "      <td>0.092438</td>\n",
       "      <td>0.140177</td>\n",
       "      <td>0.040750</td>\n",
       "      <td>0.959250</td>\n",
       "      <td>0.991430</td>\n",
       "      <td>0.987368</td>\n",
       "      <td>0.944929</td>\n",
       "      <td>0.916931</td>\n",
       "      <td>00:17</td>\n",
       "    </tr>\n",
       "    <tr>\n",
       "      <td>2</td>\n",
       "      <td>0.119427</td>\n",
       "      <td>0.134788</td>\n",
       "      <td>0.037490</td>\n",
       "      <td>0.962510</td>\n",
       "      <td>0.990355</td>\n",
       "      <td>0.971228</td>\n",
       "      <td>0.964460</td>\n",
       "      <td>0.922944</td>\n",
       "      <td>00:17</td>\n",
       "    </tr>\n",
       "    <tr>\n",
       "      <td>3</td>\n",
       "      <td>0.108767</td>\n",
       "      <td>0.108257</td>\n",
       "      <td>0.035860</td>\n",
       "      <td>0.964140</td>\n",
       "      <td>0.992349</td>\n",
       "      <td>0.977544</td>\n",
       "      <td>0.961353</td>\n",
       "      <td>0.926311</td>\n",
       "      <td>00:17</td>\n",
       "    </tr>\n",
       "    <tr>\n",
       "      <td>4</td>\n",
       "      <td>0.117704</td>\n",
       "      <td>0.109558</td>\n",
       "      <td>0.038712</td>\n",
       "      <td>0.961288</td>\n",
       "      <td>0.991901</td>\n",
       "      <td>0.969825</td>\n",
       "      <td>0.963738</td>\n",
       "      <td>0.920435</td>\n",
       "      <td>00:17</td>\n",
       "    </tr>\n",
       "    <tr>\n",
       "      <td>5</td>\n",
       "      <td>0.129979</td>\n",
       "      <td>0.224196</td>\n",
       "      <td>0.038712</td>\n",
       "      <td>0.961288</td>\n",
       "      <td>0.985607</td>\n",
       "      <td>0.969825</td>\n",
       "      <td>0.963738</td>\n",
       "      <td>0.920435</td>\n",
       "      <td>00:17</td>\n",
       "    </tr>\n",
       "    <tr>\n",
       "      <td>6</td>\n",
       "      <td>0.139614</td>\n",
       "      <td>0.105323</td>\n",
       "      <td>0.035452</td>\n",
       "      <td>0.964548</td>\n",
       "      <td>0.992442</td>\n",
       "      <td>0.974035</td>\n",
       "      <td>0.965230</td>\n",
       "      <td>0.927127</td>\n",
       "      <td>00:17</td>\n",
       "    </tr>\n",
       "  </tbody>\n",
       "</table>"
      ],
      "text/plain": [
       "<IPython.core.display.HTML object>"
      ]
     },
     "metadata": {},
     "output_type": "display_data"
    },
    {
     "data": {
      "image/png": "[encoded data removed]",
      "text/plain": [
       "<Figure size 432x288 with 1 Axes>"
      ]
     },
     "metadata": {},
     "output_type": "display_data"
    },
    {
     "name": "stdout",
     "output_type": "stream",
     "text": [
      "Better model found at epoch 0 with auroc value: 0.9919683933258057.\n",
      "Better model found at epoch 3 with auroc value: 0.992348849773407.\n",
      "Better model found at epoch 6 with auroc value: 0.9924423098564148.\n"
     ]
    }
   ],
   "source": [
    "defaults.device = torch.device('cuda') #makes sure the gpu is used\n",
    "rn18_learn.fit_one_cycle(7, callbacks = callbacks.SaveModelCallback(rn18_learn,monitor='auroc',mode='max'))"
   ]
  },
  {
   "cell_type": "code",
   "execution_count": null,
   "metadata": {},
   "outputs": [],
   "source": []
  },
  {
   "cell_type": "markdown",
   "metadata": {},
   "source": [
    "# Testing Images with databunch"
   ]
  },
  {
   "cell_type": "code",
   "execution_count": 5,
   "metadata": {},
   "outputs": [],
   "source": [
    "rn18_learn = load_learner(\"/home/harsh/amk/Resized_imgs_of_good_bad/\", 'Image_Quality_Classifier.pkl')"
   ]
  },
  {
   "cell_type": "code",
   "execution_count": 177,
   "metadata": {},
   "outputs": [
    {
     "data": {
      "text/html": [],
      "text/plain": [
       "<IPython.core.display.HTML object>"
      ]
     },
     "metadata": {},
     "output_type": "display_data"
    },
    {
     "name": "stderr",
     "output_type": "stream",
     "text": [
      "100%|██████████| 1800/1800 [00:02<00:00, 624.48it/s]\n"
     ]
    }
   ],
   "source": [
    "preds, _= rn18_learn.get_preds(ds_type=DatasetType.Test)\n",
    "\n",
    "pred = torch.max(preds, dim = -1)\n",
    "\n",
    "pred_probability = pred.values.numpy()\n",
    "pred_label = pred.indices.numpy()\n",
    "\n",
    "df_result = pd.DataFrame(columns = [ 'Actual', 'Predicted', \"Probability on Prediction Class\", \\\n",
    "                                    \"Probability on Actual Class\", 'Image Path'])\n",
    "tn = 0\n",
    "tp = 0\n",
    "fp = 0\n",
    "fn = 0\n",
    "y_test = []\n",
    "\n",
    "for i, img_path in enumerate(tqdm(data.test_ds.items)):\n",
    "    df_result.loc[i, 'Image Path'] = img_path\n",
    "    df_result.loc[i, 'Probability on Prediction Class'] = pred_probability[i]\n",
    "    if str(img_path)[46:58] == 'Good Quality':\n",
    "        y_test.append(1)\n",
    "        df_result.loc[i, 'Probability on Actual Class'] = preds.numpy()[i][1]\n",
    "        df_result.loc[i, 'Actual'] = \"Good Quality\"\n",
    "        if pred_label[i] == 1:\n",
    "            df_result.loc[i, 'Predicted'] = \"Good Quality\"\n",
    "            tp +=1\n",
    "        else: \n",
    "            df_result.loc[i, 'Predicted'] = \"Bad Quality\"\n",
    "            fn += 1\n",
    "        \n",
    "    else: \n",
    "        y_test.append(0)\n",
    "        df_result.loc[i, 'Probability on Actual Class'] = preds.numpy()[i][0]\n",
    "        df_result.loc[i, 'Actual'] = \"Bad Quality\"\n",
    "        if pred_label[i] == 0 :\n",
    "            df_result.loc[i, 'Predicted'] = \"Bad Quality\"\n",
    "            tn += 1\n",
    "        else :    \n",
    "            df_result.loc[i, 'Predicted'] = \"Good Quality\"\n",
    "            tp += 1\n",
    "        "
   ]
  },
  {
   "cell_type": "code",
   "execution_count": 178,
   "metadata": {},
   "outputs": [
    {
     "data": {
      "text/html": [
       "<div>\n",
       "<style scoped>\n",
       "    .dataframe tbody tr th:only-of-type {\n",
       "        vertical-align: middle;\n",
       "    }\n",
       "\n",
       "    .dataframe tbody tr th {\n",
       "        vertical-align: top;\n",
       "    }\n",
       "\n",
       "    .dataframe thead th {\n",
       "        text-align: right;\n",
       "    }\n",
       "</style>\n",
       "<table border=\"1\" class=\"dataframe\">\n",
       "  <thead>\n",
       "    <tr style=\"text-align: right;\">\n",
       "      <th></th>\n",
       "      <th>Actual</th>\n",
       "      <th>Predicted</th>\n",
       "      <th>Probability on Prediction Class</th>\n",
       "      <th>Probability on Actual Class</th>\n",
       "      <th>Image Path</th>\n",
       "    </tr>\n",
       "  </thead>\n",
       "  <tbody>\n",
       "    <tr>\n",
       "      <td>0</td>\n",
       "      <td>Good Quality</td>\n",
       "      <td>Good Quality</td>\n",
       "      <td>1</td>\n",
       "      <td>1</td>\n",
       "      <td>/home/harsh/amk/Resized_imgs_of_good_bad/Test/...</td>\n",
       "    </tr>\n",
       "    <tr>\n",
       "      <td>1</td>\n",
       "      <td>Good Quality</td>\n",
       "      <td>Good Quality</td>\n",
       "      <td>0.996031</td>\n",
       "      <td>0.996031</td>\n",
       "      <td>/home/harsh/amk/Resized_imgs_of_good_bad/Test/...</td>\n",
       "    </tr>\n",
       "    <tr>\n",
       "      <td>2</td>\n",
       "      <td>Good Quality</td>\n",
       "      <td>Good Quality</td>\n",
       "      <td>1</td>\n",
       "      <td>1</td>\n",
       "      <td>/home/harsh/amk/Resized_imgs_of_good_bad/Test/...</td>\n",
       "    </tr>\n",
       "    <tr>\n",
       "      <td>3</td>\n",
       "      <td>Good Quality</td>\n",
       "      <td>Good Quality</td>\n",
       "      <td>1</td>\n",
       "      <td>1</td>\n",
       "      <td>/home/harsh/amk/Resized_imgs_of_good_bad/Test/...</td>\n",
       "    </tr>\n",
       "    <tr>\n",
       "      <td>4</td>\n",
       "      <td>Good Quality</td>\n",
       "      <td>Good Quality</td>\n",
       "      <td>1</td>\n",
       "      <td>1</td>\n",
       "      <td>/home/harsh/amk/Resized_imgs_of_good_bad/Test/...</td>\n",
       "    </tr>\n",
       "    <tr>\n",
       "      <td>...</td>\n",
       "      <td>...</td>\n",
       "      <td>...</td>\n",
       "      <td>...</td>\n",
       "      <td>...</td>\n",
       "      <td>...</td>\n",
       "    </tr>\n",
       "    <tr>\n",
       "      <td>1795</td>\n",
       "      <td>Bad Quality</td>\n",
       "      <td>Bad Quality</td>\n",
       "      <td>0.992945</td>\n",
       "      <td>0.992945</td>\n",
       "      <td>/home/harsh/amk/Resized_imgs_of_good_bad/Test/...</td>\n",
       "    </tr>\n",
       "    <tr>\n",
       "      <td>1796</td>\n",
       "      <td>Bad Quality</td>\n",
       "      <td>Bad Quality</td>\n",
       "      <td>0.999694</td>\n",
       "      <td>0.999694</td>\n",
       "      <td>/home/harsh/amk/Resized_imgs_of_good_bad/Test/...</td>\n",
       "    </tr>\n",
       "    <tr>\n",
       "      <td>1797</td>\n",
       "      <td>Bad Quality</td>\n",
       "      <td>Bad Quality</td>\n",
       "      <td>0.990375</td>\n",
       "      <td>0.990375</td>\n",
       "      <td>/home/harsh/amk/Resized_imgs_of_good_bad/Test/...</td>\n",
       "    </tr>\n",
       "    <tr>\n",
       "      <td>1798</td>\n",
       "      <td>Bad Quality</td>\n",
       "      <td>Bad Quality</td>\n",
       "      <td>0.999667</td>\n",
       "      <td>0.999667</td>\n",
       "      <td>/home/harsh/amk/Resized_imgs_of_good_bad/Test/...</td>\n",
       "    </tr>\n",
       "    <tr>\n",
       "      <td>1799</td>\n",
       "      <td>Bad Quality</td>\n",
       "      <td>Bad Quality</td>\n",
       "      <td>0.999743</td>\n",
       "      <td>0.999743</td>\n",
       "      <td>/home/harsh/amk/Resized_imgs_of_good_bad/Test/...</td>\n",
       "    </tr>\n",
       "  </tbody>\n",
       "</table>\n",
       "<p>1800 rows × 5 columns</p>\n",
       "</div>"
      ],
      "text/plain": [
       "            Actual     Predicted Probability on Prediction Class  \\\n",
       "0     Good Quality  Good Quality                               1   \n",
       "1     Good Quality  Good Quality                        0.996031   \n",
       "2     Good Quality  Good Quality                               1   \n",
       "3     Good Quality  Good Quality                               1   \n",
       "4     Good Quality  Good Quality                               1   \n",
       "...            ...           ...                             ...   \n",
       "1795   Bad Quality   Bad Quality                        0.992945   \n",
       "1796   Bad Quality   Bad Quality                        0.999694   \n",
       "1797   Bad Quality   Bad Quality                        0.990375   \n",
       "1798   Bad Quality   Bad Quality                        0.999667   \n",
       "1799   Bad Quality   Bad Quality                        0.999743   \n",
       "\n",
       "     Probability on Actual Class  \\\n",
       "0                              1   \n",
       "1                       0.996031   \n",
       "2                              1   \n",
       "3                              1   \n",
       "4                              1   \n",
       "...                          ...   \n",
       "1795                    0.992945   \n",
       "1796                    0.999694   \n",
       "1797                    0.990375   \n",
       "1798                    0.999667   \n",
       "1799                    0.999743   \n",
       "\n",
       "                                             Image Path  \n",
       "0     /home/harsh/amk/Resized_imgs_of_good_bad/Test/...  \n",
       "1     /home/harsh/amk/Resized_imgs_of_good_bad/Test/...  \n",
       "2     /home/harsh/amk/Resized_imgs_of_good_bad/Test/...  \n",
       "3     /home/harsh/amk/Resized_imgs_of_good_bad/Test/...  \n",
       "4     /home/harsh/amk/Resized_imgs_of_good_bad/Test/...  \n",
       "...                                                 ...  \n",
       "1795  /home/harsh/amk/Resized_imgs_of_good_bad/Test/...  \n",
       "1796  /home/harsh/amk/Resized_imgs_of_good_bad/Test/...  \n",
       "1797  /home/harsh/amk/Resized_imgs_of_good_bad/Test/...  \n",
       "1798  /home/harsh/amk/Resized_imgs_of_good_bad/Test/...  \n",
       "1799  /home/harsh/amk/Resized_imgs_of_good_bad/Test/...  \n",
       "\n",
       "[1800 rows x 5 columns]"
      ]
     },
     "execution_count": 178,
     "metadata": {},
     "output_type": "execute_result"
    }
   ],
   "source": [
    "df_result"
   ]
  },
  {
   "cell_type": "code",
   "execution_count": 179,
   "metadata": {},
   "outputs": [],
   "source": [
    "wrong_predicted = df_result[df_result[\"Actual\"] != df_result[\"Predicted\"]]"
   ]
  },
  {
   "cell_type": "code",
   "execution_count": 180,
   "metadata": {},
   "outputs": [
    {
     "data": {
      "text/html": [
       "<div>\n",
       "<style scoped>\n",
       "    .dataframe tbody tr th:only-of-type {\n",
       "        vertical-align: middle;\n",
       "    }\n",
       "\n",
       "    .dataframe tbody tr th {\n",
       "        vertical-align: top;\n",
       "    }\n",
       "\n",
       "    .dataframe thead th {\n",
       "        text-align: right;\n",
       "    }\n",
       "</style>\n",
       "<table border=\"1\" class=\"dataframe\">\n",
       "  <thead>\n",
       "    <tr style=\"text-align: right;\">\n",
       "      <th></th>\n",
       "      <th>Actual</th>\n",
       "      <th>Predicted</th>\n",
       "      <th>Probability on Prediction Class</th>\n",
       "      <th>Probability on Actual Class</th>\n",
       "      <th>Image Path</th>\n",
       "    </tr>\n",
       "  </thead>\n",
       "  <tbody>\n",
       "    <tr>\n",
       "      <td>87</td>\n",
       "      <td>Good Quality</td>\n",
       "      <td>Bad Quality</td>\n",
       "      <td>0.652542</td>\n",
       "      <td>0.347458</td>\n",
       "      <td>/home/harsh/amk/Resized_imgs_of_good_bad/Test/...</td>\n",
       "    </tr>\n",
       "    <tr>\n",
       "      <td>102</td>\n",
       "      <td>Good Quality</td>\n",
       "      <td>Bad Quality</td>\n",
       "      <td>0.800992</td>\n",
       "      <td>0.199008</td>\n",
       "      <td>/home/harsh/amk/Resized_imgs_of_good_bad/Test/...</td>\n",
       "    </tr>\n",
       "    <tr>\n",
       "      <td>108</td>\n",
       "      <td>Good Quality</td>\n",
       "      <td>Bad Quality</td>\n",
       "      <td>0.583508</td>\n",
       "      <td>0.416492</td>\n",
       "      <td>/home/harsh/amk/Resized_imgs_of_good_bad/Test/...</td>\n",
       "    </tr>\n",
       "    <tr>\n",
       "      <td>114</td>\n",
       "      <td>Good Quality</td>\n",
       "      <td>Bad Quality</td>\n",
       "      <td>0.630854</td>\n",
       "      <td>0.369146</td>\n",
       "      <td>/home/harsh/amk/Resized_imgs_of_good_bad/Test/...</td>\n",
       "    </tr>\n",
       "    <tr>\n",
       "      <td>124</td>\n",
       "      <td>Good Quality</td>\n",
       "      <td>Bad Quality</td>\n",
       "      <td>0.553371</td>\n",
       "      <td>0.446629</td>\n",
       "      <td>/home/harsh/amk/Resized_imgs_of_good_bad/Test/...</td>\n",
       "    </tr>\n",
       "    <tr>\n",
       "      <td>141</td>\n",
       "      <td>Good Quality</td>\n",
       "      <td>Bad Quality</td>\n",
       "      <td>0.746649</td>\n",
       "      <td>0.253351</td>\n",
       "      <td>/home/harsh/amk/Resized_imgs_of_good_bad/Test/...</td>\n",
       "    </tr>\n",
       "    <tr>\n",
       "      <td>183</td>\n",
       "      <td>Good Quality</td>\n",
       "      <td>Bad Quality</td>\n",
       "      <td>0.757441</td>\n",
       "      <td>0.242559</td>\n",
       "      <td>/home/harsh/amk/Resized_imgs_of_good_bad/Test/...</td>\n",
       "    </tr>\n",
       "    <tr>\n",
       "      <td>192</td>\n",
       "      <td>Good Quality</td>\n",
       "      <td>Bad Quality</td>\n",
       "      <td>0.951023</td>\n",
       "      <td>0.0489769</td>\n",
       "      <td>/home/harsh/amk/Resized_imgs_of_good_bad/Test/...</td>\n",
       "    </tr>\n",
       "    <tr>\n",
       "      <td>207</td>\n",
       "      <td>Good Quality</td>\n",
       "      <td>Bad Quality</td>\n",
       "      <td>0.644355</td>\n",
       "      <td>0.355645</td>\n",
       "      <td>/home/harsh/amk/Resized_imgs_of_good_bad/Test/...</td>\n",
       "    </tr>\n",
       "    <tr>\n",
       "      <td>340</td>\n",
       "      <td>Good Quality</td>\n",
       "      <td>Bad Quality</td>\n",
       "      <td>0.897185</td>\n",
       "      <td>0.102815</td>\n",
       "      <td>/home/harsh/amk/Resized_imgs_of_good_bad/Test/...</td>\n",
       "    </tr>\n",
       "    <tr>\n",
       "      <td>381</td>\n",
       "      <td>Good Quality</td>\n",
       "      <td>Bad Quality</td>\n",
       "      <td>0.950235</td>\n",
       "      <td>0.0497652</td>\n",
       "      <td>/home/harsh/amk/Resized_imgs_of_good_bad/Test/...</td>\n",
       "    </tr>\n",
       "    <tr>\n",
       "      <td>423</td>\n",
       "      <td>Good Quality</td>\n",
       "      <td>Bad Quality</td>\n",
       "      <td>0.575219</td>\n",
       "      <td>0.424781</td>\n",
       "      <td>/home/harsh/amk/Resized_imgs_of_good_bad/Test/...</td>\n",
       "    </tr>\n",
       "    <tr>\n",
       "      <td>459</td>\n",
       "      <td>Good Quality</td>\n",
       "      <td>Bad Quality</td>\n",
       "      <td>0.804802</td>\n",
       "      <td>0.195198</td>\n",
       "      <td>/home/harsh/amk/Resized_imgs_of_good_bad/Test/...</td>\n",
       "    </tr>\n",
       "    <tr>\n",
       "      <td>518</td>\n",
       "      <td>Good Quality</td>\n",
       "      <td>Bad Quality</td>\n",
       "      <td>0.738522</td>\n",
       "      <td>0.261478</td>\n",
       "      <td>/home/harsh/amk/Resized_imgs_of_good_bad/Test/...</td>\n",
       "    </tr>\n",
       "    <tr>\n",
       "      <td>551</td>\n",
       "      <td>Good Quality</td>\n",
       "      <td>Bad Quality</td>\n",
       "      <td>0.770617</td>\n",
       "      <td>0.229383</td>\n",
       "      <td>/home/harsh/amk/Resized_imgs_of_good_bad/Test/...</td>\n",
       "    </tr>\n",
       "    <tr>\n",
       "      <td>610</td>\n",
       "      <td>Good Quality</td>\n",
       "      <td>Bad Quality</td>\n",
       "      <td>0.926641</td>\n",
       "      <td>0.0733591</td>\n",
       "      <td>/home/harsh/amk/Resized_imgs_of_good_bad/Test/...</td>\n",
       "    </tr>\n",
       "    <tr>\n",
       "      <td>613</td>\n",
       "      <td>Good Quality</td>\n",
       "      <td>Bad Quality</td>\n",
       "      <td>0.527699</td>\n",
       "      <td>0.472301</td>\n",
       "      <td>/home/harsh/amk/Resized_imgs_of_good_bad/Test/...</td>\n",
       "    </tr>\n",
       "    <tr>\n",
       "      <td>640</td>\n",
       "      <td>Good Quality</td>\n",
       "      <td>Bad Quality</td>\n",
       "      <td>0.77485</td>\n",
       "      <td>0.22515</td>\n",
       "      <td>/home/harsh/amk/Resized_imgs_of_good_bad/Test/...</td>\n",
       "    </tr>\n",
       "    <tr>\n",
       "      <td>660</td>\n",
       "      <td>Good Quality</td>\n",
       "      <td>Bad Quality</td>\n",
       "      <td>0.526242</td>\n",
       "      <td>0.473758</td>\n",
       "      <td>/home/harsh/amk/Resized_imgs_of_good_bad/Test/...</td>\n",
       "    </tr>\n",
       "    <tr>\n",
       "      <td>672</td>\n",
       "      <td>Good Quality</td>\n",
       "      <td>Bad Quality</td>\n",
       "      <td>0.828103</td>\n",
       "      <td>0.171897</td>\n",
       "      <td>/home/harsh/amk/Resized_imgs_of_good_bad/Test/...</td>\n",
       "    </tr>\n",
       "    <tr>\n",
       "      <td>843</td>\n",
       "      <td>Good Quality</td>\n",
       "      <td>Bad Quality</td>\n",
       "      <td>0.821346</td>\n",
       "      <td>0.178654</td>\n",
       "      <td>/home/harsh/amk/Resized_imgs_of_good_bad/Test/...</td>\n",
       "    </tr>\n",
       "    <tr>\n",
       "      <td>887</td>\n",
       "      <td>Good Quality</td>\n",
       "      <td>Bad Quality</td>\n",
       "      <td>0.525394</td>\n",
       "      <td>0.474606</td>\n",
       "      <td>/home/harsh/amk/Resized_imgs_of_good_bad/Test/...</td>\n",
       "    </tr>\n",
       "    <tr>\n",
       "      <td>1468</td>\n",
       "      <td>Bad Quality</td>\n",
       "      <td>Good Quality</td>\n",
       "      <td>0.999902</td>\n",
       "      <td>9.7821e-05</td>\n",
       "      <td>/home/harsh/amk/Resized_imgs_of_good_bad/Test/...</td>\n",
       "    </tr>\n",
       "  </tbody>\n",
       "</table>\n",
       "</div>"
      ],
      "text/plain": [
       "            Actual     Predicted Probability on Prediction Class  \\\n",
       "87    Good Quality   Bad Quality                        0.652542   \n",
       "102   Good Quality   Bad Quality                        0.800992   \n",
       "108   Good Quality   Bad Quality                        0.583508   \n",
       "114   Good Quality   Bad Quality                        0.630854   \n",
       "124   Good Quality   Bad Quality                        0.553371   \n",
       "141   Good Quality   Bad Quality                        0.746649   \n",
       "183   Good Quality   Bad Quality                        0.757441   \n",
       "192   Good Quality   Bad Quality                        0.951023   \n",
       "207   Good Quality   Bad Quality                        0.644355   \n",
       "340   Good Quality   Bad Quality                        0.897185   \n",
       "381   Good Quality   Bad Quality                        0.950235   \n",
       "423   Good Quality   Bad Quality                        0.575219   \n",
       "459   Good Quality   Bad Quality                        0.804802   \n",
       "518   Good Quality   Bad Quality                        0.738522   \n",
       "551   Good Quality   Bad Quality                        0.770617   \n",
       "610   Good Quality   Bad Quality                        0.926641   \n",
       "613   Good Quality   Bad Quality                        0.527699   \n",
       "640   Good Quality   Bad Quality                         0.77485   \n",
       "660   Good Quality   Bad Quality                        0.526242   \n",
       "672   Good Quality   Bad Quality                        0.828103   \n",
       "843   Good Quality   Bad Quality                        0.821346   \n",
       "887   Good Quality   Bad Quality                        0.525394   \n",
       "1468   Bad Quality  Good Quality                        0.999902   \n",
       "\n",
       "     Probability on Actual Class  \\\n",
       "87                      0.347458   \n",
       "102                     0.199008   \n",
       "108                     0.416492   \n",
       "114                     0.369146   \n",
       "124                     0.446629   \n",
       "141                     0.253351   \n",
       "183                     0.242559   \n",
       "192                    0.0489769   \n",
       "207                     0.355645   \n",
       "340                     0.102815   \n",
       "381                    0.0497652   \n",
       "423                     0.424781   \n",
       "459                     0.195198   \n",
       "518                     0.261478   \n",
       "551                     0.229383   \n",
       "610                    0.0733591   \n",
       "613                     0.472301   \n",
       "640                      0.22515   \n",
       "660                     0.473758   \n",
       "672                     0.171897   \n",
       "843                     0.178654   \n",
       "887                     0.474606   \n",
       "1468                  9.7821e-05   \n",
       "\n",
       "                                             Image Path  \n",
       "87    /home/harsh/amk/Resized_imgs_of_good_bad/Test/...  \n",
       "102   /home/harsh/amk/Resized_imgs_of_good_bad/Test/...  \n",
       "108   /home/harsh/amk/Resized_imgs_of_good_bad/Test/...  \n",
       "114   /home/harsh/amk/Resized_imgs_of_good_bad/Test/...  \n",
       "124   /home/harsh/amk/Resized_imgs_of_good_bad/Test/...  \n",
       "141   /home/harsh/amk/Resized_imgs_of_good_bad/Test/...  \n",
       "183   /home/harsh/amk/Resized_imgs_of_good_bad/Test/...  \n",
       "192   /home/harsh/amk/Resized_imgs_of_good_bad/Test/...  \n",
       "207   /home/harsh/amk/Resized_imgs_of_good_bad/Test/...  \n",
       "340   /home/harsh/amk/Resized_imgs_of_good_bad/Test/...  \n",
       "381   /home/harsh/amk/Resized_imgs_of_good_bad/Test/...  \n",
       "423   /home/harsh/amk/Resized_imgs_of_good_bad/Test/...  \n",
       "459   /home/harsh/amk/Resized_imgs_of_good_bad/Test/...  \n",
       "518   /home/harsh/amk/Resized_imgs_of_good_bad/Test/...  \n",
       "551   /home/harsh/amk/Resized_imgs_of_good_bad/Test/...  \n",
       "610   /home/harsh/amk/Resized_imgs_of_good_bad/Test/...  \n",
       "613   /home/harsh/amk/Resized_imgs_of_good_bad/Test/...  \n",
       "640   /home/harsh/amk/Resized_imgs_of_good_bad/Test/...  \n",
       "660   /home/harsh/amk/Resized_imgs_of_good_bad/Test/...  \n",
       "672   /home/harsh/amk/Resized_imgs_of_good_bad/Test/...  \n",
       "843   /home/harsh/amk/Resized_imgs_of_good_bad/Test/...  \n",
       "887   /home/harsh/amk/Resized_imgs_of_good_bad/Test/...  \n",
       "1468  /home/harsh/amk/Resized_imgs_of_good_bad/Test/...  "
      ]
     },
     "execution_count": 180,
     "metadata": {},
     "output_type": "execute_result"
    }
   ],
   "source": [
    "wrong_predicted"
   ]
  },
  {
   "cell_type": "code",
   "execution_count": 181,
   "metadata": {},
   "outputs": [
    {
     "data": {
      "text/plain": [
       "23"
      ]
     },
     "execution_count": 181,
     "metadata": {},
     "output_type": "execute_result"
    }
   ],
   "source": [
    "len(wrong_predicted[\"Actual\"])"
   ]
  },
  {
   "cell_type": "code",
   "execution_count": 182,
   "metadata": {},
   "outputs": [],
   "source": [
    "specificity = tn / (tn+fp)\n",
    "sensitivity = tp / (tp+fn)"
   ]
  },
  {
   "cell_type": "code",
   "execution_count": 183,
   "metadata": {},
   "outputs": [
    {
     "name": "stdout",
     "output_type": "stream",
     "text": [
      "Specificity on Test data 1.0\n",
      "Sensitivity on Test data 0.9755826859045506\n"
     ]
    }
   ],
   "source": [
    "print(\"Specificity on Test data\", specificity)\n",
    "print(\"Sensitivity on Test data\", sensitivity)"
   ]
  },
  {
   "cell_type": "code",
   "execution_count": 188,
   "metadata": {},
   "outputs": [],
   "source": [
    "precision = tp / (tp + fp)"
   ]
  },
  {
   "cell_type": "code",
   "execution_count": 189,
   "metadata": {},
   "outputs": [
    {
     "name": "stdout",
     "output_type": "stream",
     "text": [
      "Precision on Test data 1.0\n"
     ]
    }
   ],
   "source": [
    "print(\"Precision on Test data\", precision)"
   ]
  },
  {
   "cell_type": "code",
   "execution_count": 190,
   "metadata": {},
   "outputs": [],
   "source": [
    "F1_score = 2*(sensitivity * precision)/ (sensitivity + precision)"
   ]
  },
  {
   "cell_type": "code",
   "execution_count": 191,
   "metadata": {},
   "outputs": [
    {
     "name": "stdout",
     "output_type": "stream",
     "text": [
      "F1 score  on Test data 0.9876404494382022\n"
     ]
    }
   ],
   "source": [
    "print(\"F1 score  on Test data\", F1_score)"
   ]
  },
  {
   "cell_type": "code",
   "execution_count": 192,
   "metadata": {},
   "outputs": [],
   "source": [
    "mcc = ((tp*tn) - (fp*fn)) / np.sqrt( (tp+fp)*(tp+fn)*(tn+fp)*(tn+fn) )"
   ]
  },
  {
   "cell_type": "code",
   "execution_count": 193,
   "metadata": {},
   "outputs": [
    {
     "name": "stdout",
     "output_type": "stream",
     "text": [
      " Matthews Correlation Coefficient  on Test data 0.9758477673080128\n"
     ]
    }
   ],
   "source": [
    "print(\" Matthews Correlation Coefficient  on Test data\", mcc)"
   ]
  },
  {
   "cell_type": "code",
   "execution_count": null,
   "metadata": {},
   "outputs": [],
   "source": []
  },
  {
   "cell_type": "code",
   "execution_count": null,
   "metadata": {},
   "outputs": [],
   "source": []
  },
  {
   "cell_type": "code",
   "execution_count": 184,
   "metadata": {},
   "outputs": [],
   "source": [
    "def plot_roc_curve(fpr, tpr):\n",
    "    plt.plot(fpr, tpr, color='orange', label=\"Test Auc = \"+str(auc))\n",
    "    plt.plot([0, 1], [0, 1], color='darkblue', linestyle='--')\n",
    "    plt.xlabel('False Positive Rate or (1-Specificity)')\n",
    "    plt.ylabel('True Positive Rate or Recall or Sensitivity')\n",
    "    plt.title('Receiver Operating Characteristic (ROC) Curve')\n",
    "    plt.legend()\n",
    "    plt.show()"
   ]
  },
  {
   "cell_type": "code",
   "execution_count": 185,
   "metadata": {},
   "outputs": [
    {
     "name": "stdout",
     "output_type": "stream",
     "text": [
      "AUC: 1.00\n"
     ]
    }
   ],
   "source": [
    "auc = roc_auc_score(y_test, preds[:, 1])\n",
    "print('AUC: %.2f' % auc)"
   ]
  },
  {
   "cell_type": "code",
   "execution_count": 31,
   "metadata": {},
   "outputs": [],
   "source": [
    "fpr, tpr, thresholds = roc_curve(y_test,preds[:, 1] )"
   ]
  },
  {
   "cell_type": "code",
   "execution_count": 32,
   "metadata": {},
   "outputs": [
    {
     "data": {
      "image/png": "[encoded data removed]",
      "text/plain": [
       "<Figure size 432x288 with 1 Axes>"
      ]
     },
     "metadata": {
      "needs_background": "light"
     },
     "output_type": "display_data"
    }
   ],
   "source": [
    "plot_roc_curve(fpr, tpr)"
   ]
  },
  {
   "cell_type": "markdown",
   "metadata": {},
   "source": [
    "# Image check one by one"
   ]
  },
  {
   "cell_type": "code",
   "execution_count": 33,
   "metadata": {},
   "outputs": [
    {
     "name": "stderr",
     "output_type": "stream",
     "text": [
      "100%|██████████| 50/50 [00:00<00:00, 215.67it/s]\n"
     ]
    }
   ],
   "source": [
    "        "
   ]
  },
  {
   "cell_type": "code",
   "execution_count": 34,
   "metadata": {},
   "outputs": [
    {
     "data": {
      "text/plain": [
       "0"
      ]
     },
     "execution_count": 34,
     "metadata": {},
     "output_type": "execute_result"
    }
   ],
   "source": [
    "wrong_count"
   ]
  },
  {
   "cell_type": "markdown",
   "metadata": {},
   "source": [
    "# Prediction on single image"
   ]
  },
  {
   "cell_type": "code",
   "execution_count": 57,
   "metadata": {},
   "outputs": [],
   "source": [
    "# Saving Model\n",
    "#rn18_learn.export('Image_Quality_Classifier_ImgSize_128_ResNet18_auroc_99.60_Recall_98_Precision_97_MathewsCoeff_94_with_ImagenetStatsNormalization.pkl', destroy=False)"
   ]
  },
  {
   "cell_type": "code",
   "execution_count": 58,
   "metadata": {},
   "outputs": [],
   "source": [
    "learn = load_learner(\"/home/harsh/amk/Resized_imgs_of_good_bad/\", 'Image_Quality_Classifier_ImgSize_128_ResNet18_auroc_99.60_Recall_98_Precision_97_MathewsCoeff_94_with_ImagenetStatsNormalization.pkl')"
   ]
  },
  {
   "cell_type": "code",
   "execution_count": 69,
   "metadata": {},
   "outputs": [],
   "source": [
    "img = open_image('/home/harsh/amk/Resized_imgs_of_good_bad/Hand_Test/Good Quality/after.jpeg')"
   ]
  },
  {
   "cell_type": "code",
   "execution_count": 70,
   "metadata": {},
   "outputs": [],
   "source": [
    "result = learn.predict(img)"
   ]
  },
  {
   "cell_type": "code",
   "execution_count": null,
   "metadata": {},
   "outputs": [],
   "source": []
  },
  {
   "cell_type": "code",
   "execution_count": 71,
   "metadata": {},
   "outputs": [
    {
     "name": "stdout",
     "output_type": "stream",
     "text": [
      "This image is of Good Quality and probability of prediction is  0.8678467\n"
     ]
    }
   ],
   "source": [
    "(print(\"This image is of\",result[0],\"and probability of prediction is \", result[2].numpy().max()))"
   ]
  },
  {
   "cell_type": "markdown",
   "metadata": {},
   "source": [
    "# Prediction on Multiple Images"
   ]
  },
  {
   "cell_type": "code",
   "execution_count": 2,
   "metadata": {},
   "outputs": [],
   "source": [
    "learn = load_learner(\"/home/harsh/amk/Resized_imgs_of_good_bad/\", 'Image_Quality_Classifier_ImgSize_128_ResNet18_auroc_99.60_Recall_98_Precision_97_MathewsCoeff_94_with_ImagenetStatsNormalization.pkl')"
   ]
  },
  {
   "cell_type": "code",
   "execution_count": 16,
   "metadata": {},
   "outputs": [],
   "source": [
    "learn = rn18_learn"
   ]
  },
  {
   "cell_type": "code",
   "execution_count": null,
   "metadata": {},
   "outputs": [],
   "source": []
  },
  {
   "cell_type": "code",
   "execution_count": null,
   "metadata": {},
   "outputs": [],
   "source": []
  },
  {
   "cell_type": "code",
   "execution_count": 21,
   "metadata": {},
   "outputs": [
    {
     "name": "stderr",
     "output_type": "stream",
     "text": [
      "100%|██████████| 1000/1000 [00:11<00:00, 85.90it/s]\n"
     ]
    }
   ],
   "source": [
    "result_of_pred = []\n",
    "for img_path in tqdm(glob.glob('/home/harsh/Harsh/small_dataset_25000/Images/*')[6000:7000]):\n",
    "    img = open_image(img_path)\n",
    "    result = learn.predict(img)\n",
    "    result_of_pred.append(str(result[0]))\n",
    "    \n",
    "    if str(result[0]) == \"Good Quality\":\n",
    "        shutil.copy(img_path, '/home/harsh/amk/good_bad_imgs_by_classifier/Good Quality/')\n",
    "    else: \n",
    "        shutil.copy(img_path, '/home/harsh/amk/good_bad_imgs_by_classifier/Bad Quality/')\n",
    "     \n",
    "    "
   ]
  },
  {
   "cell_type": "code",
   "execution_count": 22,
   "metadata": {},
   "outputs": [],
   "source": [
    "total_good_imgs = 0\n",
    "total_bad_imgs = 0\n",
    "good_idx = []\n",
    "bad_idx = []\n",
    "for idx, val in enumerate(result_of_pred):\n",
    "    if str(val) == 'Good Quality':\n",
    "        total_good_imgs += 1\n",
    "        good_idx.append(idx)\n",
    "        \n",
    "    else:\n",
    "        total_bad_imgs += 1\n",
    "        bad_idx.append(idx)"
   ]
  },
  {
   "cell_type": "code",
   "execution_count": 23,
   "metadata": {},
   "outputs": [
    {
     "data": {
      "text/plain": [
       "80.4"
      ]
     },
     "execution_count": 23,
     "metadata": {},
     "output_type": "execute_result"
    }
   ],
   "source": [
    "(total_good_imgs/(total_bad_imgs+total_good_imgs))*100"
   ]
  },
  {
   "cell_type": "code",
   "execution_count": null,
   "metadata": {},
   "outputs": [],
   "source": []
  },
  {
   "cell_type": "code",
   "execution_count": null,
   "metadata": {},
   "outputs": [],
   "source": []
  },
  {
   "cell_type": "code",
   "execution_count": null,
   "metadata": {},
   "outputs": [],
   "source": []
  },
  {
   "cell_type": "code",
   "execution_count": null,
   "metadata": {},
   "outputs": [],
   "source": []
  },
  {
   "cell_type": "code",
   "execution_count": 25,
   "metadata": {},
   "outputs": [],
   "source": [
    "img = open_image('/home/harsh/amk/Resized_imgs_of_good_bad/Hand_Test/Good Quality/after.jpeg')"
   ]
  },
  {
   "cell_type": "code",
   "execution_count": 26,
   "metadata": {},
   "outputs": [],
   "source": [
    "result = learn.predict(img)"
   ]
  },
  {
   "cell_type": "code",
   "execution_count": 35,
   "metadata": {},
   "outputs": [
    {
     "data": {
      "text/plain": [
       "0.1321533"
      ]
     },
     "execution_count": 35,
     "metadata": {},
     "output_type": "execute_result"
    }
   ],
   "source": [
    "result[2].numpy()[1]"
   ]
  },
  {
   "cell_type": "code",
   "execution_count": 14,
   "metadata": {},
   "outputs": [],
   "source": [
    "good_img_path = '/home/harsh/amk/Resized_imgs_of_good_bad/Test/Good Quality/*'\n",
    "bad_img_path = '/home/harsh/amk/Resized_imgs_of_good_bad/Test/Bad Quality/*'"
   ]
  },
  {
   "cell_type": "code",
   "execution_count": 15,
   "metadata": {},
   "outputs": [
    {
     "name": "stderr",
     "output_type": "stream",
     "text": [
      "100%|██████████| 1800/1800 [00:18<00:00, 96.40it/s] \n"
     ]
    }
   ],
   "source": [
    "\n",
    "\n",
    "df_result = pd.DataFrame(columns = [ 'Actual', 'Predicted', \"Probability on Prediction Class\", \\\n",
    "                                    \"Probability on Actual Class\", 'Image Path'])\n",
    "\n",
    "\n",
    "for i, img_path in enumerate(tqdm(glob.glob(good_img_path) + glob.glob(bad_img_path) )):\n",
    "    df_result.loc[i, 'Image Path'] = img_path\n",
    "    img = open_image(img_path)\n",
    "    result = learn.predict(img)\n",
    "    \n",
    "    if i < len(glob.glob(good_img_path)):\n",
    "        df_result.loc[i, 'Actual'] = 'Good Quality'\n",
    "        df_result.loc[i, 'Predicted'] = str(result[0])\n",
    "        df_result.loc[i, 'Probability on Prediction Class'] = max(result[2].numpy())\n",
    "    else:\n",
    "        df_result.loc[i, 'Actual'] = 'Bad Quality'\n",
    "        df_result.loc[i, 'Predicted'] = str(result[0])\n",
    "        df_result.loc[i, 'Probability on Prediction Class'] = max(result[2].numpy())\n",
    "        "
   ]
  },
  {
   "cell_type": "markdown",
   "metadata": {},
   "source": [
    "# Prediction on 25k Dataset"
   ]
  },
  {
   "cell_type": "code",
   "execution_count": 19,
   "metadata": {},
   "outputs": [
    {
     "name": "stderr",
     "output_type": "stream",
     "text": [
      "100%|██████████| 21330/21330 [06:20<00:00, 56.03it/s]\n"
     ]
    }
   ],
   "source": [
    "\n",
    "\n",
    "df_good_imgs_result = pd.DataFrame(columns = [ 'Actual', 'Predicted', \"Probability on Prediction Class\", \\\n",
    "                                     'Image Path'])\n",
    "df_bad_imgs_result = pd.DataFrame(columns = [ 'Actual', 'Predicted', \"Probability on Prediction Class\", \\\n",
    "                                     'Image Path'])\n",
    "\n",
    "for i, img_path in enumerate(tqdm(glob.glob('/home/harsh/amk/25k_Images/*'))):\n",
    "    \n",
    "    img = open_image(img_path)\n",
    "    result = learn.predict(img)\n",
    "    \n",
    "    if str(result[0]) == 'Good Quality':\n",
    "        shutil.copy(img_path, '/home/harsh/amk/25k_images_Prediction_Result/Good Quality/')                     \n",
    "        df_good_imgs_result.loc[i, 'Image Path'] = img_path\n",
    "        df_good_imgs_result.loc[i, 'Predicted'] = str(result[0])\n",
    "        df_good_imgs_result.loc[i, 'Probability on Prediction Class'] = max(result[2].numpy())\n",
    "        \n",
    "    else:\n",
    "        shutil.copy(img_path, '/home/harsh/amk/25k_images_Prediction_Result/Bad Quality/')                     \n",
    "        df_bad_imgs_result.loc[i, 'Image Path'] = img_path\n",
    "        df_bad_imgs_result.loc[i, 'Predicted'] = str(result[0])\n",
    "        df_bad_imgs_result.loc[i, 'Probability on Prediction Class'] = max(result[2].numpy())\n",
    "        "
   ]
  },
  {
   "cell_type": "markdown",
   "metadata": {},
   "source": [
    "# Hand Prediction of Good Images and copy images which is really doubtfull"
   ]
  },
  {
   "cell_type": "code",
   "execution_count": 2,
   "metadata": {},
   "outputs": [
    {
     "name": "stderr",
     "output_type": "stream",
     "text": [
      "100%|██████████| 8045/8045 [3:05:08<00:00,  1.38s/it]   \n"
     ]
    }
   ],
   "source": [
    "import shutil\n",
    "import os\n",
    "itr = 0\n",
    "for i, img_path in enumerate(tqdm(glob.glob('/home/harsh/amk/25k_images_Prediction_Result/Good Quality/*')[8882:])):\n",
    "    #saving iteration number\n",
    "    itr = i\n",
    "    \n",
    "    img = cv2.imread(img_path)\n",
    "    #imS = cv2.resize(img, (512, 512)) \n",
    "    \n",
    "    cv2.imshow(\"Images \", img)\n",
    "    key = cv2.waitKey(0)\n",
    "    # press b for Bad cases\n",
    "    if key == 98:\n",
    "        shutil.move(img_path, '/home/harsh/amk/DoubtFull_25k_Image/Good Quality/')\n",
    "        \n",
    "    # press n for Normal cases    \n",
    "    if key == 110:\n",
    "        shutil.move(img_path, '/home/harsh/amk/DoubtFull_25k_Image/Not Doubtfull Good Quality/')\n",
    "    \n",
    "    # press s for Subtle cases    \n",
    "    if key == 115:\n",
    "        shutil.move(img_path, '/home/harsh/amk/DoubtFull_25k_Image/Not Doubtfull Good Quality/')\n",
    "        \n",
    "    # press l to out from loop or break this image showing loop\n",
    "    if key == 108:\n",
    "        cv2.destroyAllWindows()\n",
    "        break\n",
    "    cv2.destroyAllWindows()\n",
    "    \n",
    "     \n",
    "    \n",
    "    "
   ]
  },
  {
   "cell_type": "markdown",
   "metadata": {},
   "source": [
    "itr"
   ]
  },
  {
   "cell_type": "markdown",
   "metadata": {},
   "source": [
    "# Hand Prediction of Bad Images and copy images which is really doubtfull"
   ]
  },
  {
   "cell_type": "code",
   "execution_count": 3,
   "metadata": {},
   "outputs": [
    {
     "name": "stderr",
     "output_type": "stream",
     "text": [
      "100%|██████████| 4403/4403 [1:26:18<00:00,  1.18s/it]    \n"
     ]
    }
   ],
   "source": [
    "for i, img_path in enumerate(tqdm(glob.glob('/home/harsh/amk/25k_images_Prediction_Result/Bad Quality/*')[:])):\n",
    "    \n",
    "    img = cv2.imread(img_path)\n",
    "    #imS = cv2.resize(img, (512, 512)) \n",
    "    \n",
    "    cv2.imshow(\"Images \", img)\n",
    "    key = cv2.waitKey(0)\n",
    "    # press m for doubtfull cases\n",
    "    if key == 109:\n",
    "        shutil.copy(img_path, '/home/harsh/amk/DoubtFull_25k_Image/Bad Quality/')\n",
    "        \n",
    "    # press n for Not doubtfull cases    \n",
    "    if key == 110:\n",
    "        shutil.copy(img_path, '/home/harsh/amk/DoubtFull_25k_Image/Not Doubtfull Bad Quality/')    \n",
    "        \n",
    "    # press l to out from loop\n",
    "    if key == 108:\n",
    "        cv2.destroyAllWindows()\n",
    "        break\n",
    "    cv2.destroyAllWindows()"
   ]
  },
  {
   "cell_type": "code",
   "execution_count": null,
   "metadata": {},
   "outputs": [],
   "source": []
  },
  {
   "cell_type": "code",
   "execution_count": 5,
   "metadata": {},
   "outputs": [
    {
     "data": {
      "text/html": [
       "<div>\n",
       "<style scoped>\n",
       "    .dataframe tbody tr th:only-of-type {\n",
       "        vertical-align: middle;\n",
       "    }\n",
       "\n",
       "    .dataframe tbody tr th {\n",
       "        vertical-align: top;\n",
       "    }\n",
       "\n",
       "    .dataframe thead th {\n",
       "        text-align: right;\n",
       "    }\n",
       "</style>\n",
       "<table border=\"1\" class=\"dataframe\">\n",
       "  <thead>\n",
       "    <tr style=\"text-align: right;\">\n",
       "      <th></th>\n",
       "      <th>Actual</th>\n",
       "      <th>Predicted</th>\n",
       "      <th>Probability on Prediction Class</th>\n",
       "      <th>Probability on Actual Class</th>\n",
       "      <th>Image Path</th>\n",
       "    </tr>\n",
       "  </thead>\n",
       "  <tbody>\n",
       "    <tr>\n",
       "      <td>0</td>\n",
       "      <td>Good Quality</td>\n",
       "      <td>Good Quality</td>\n",
       "      <td>0.999999</td>\n",
       "      <td>NaN</td>\n",
       "      <td>/home/harsh/amk/Resized_imgs_of_good_bad/Test/...</td>\n",
       "    </tr>\n",
       "    <tr>\n",
       "      <td>1</td>\n",
       "      <td>Good Quality</td>\n",
       "      <td>Good Quality</td>\n",
       "      <td>0.999599</td>\n",
       "      <td>NaN</td>\n",
       "      <td>/home/harsh/amk/Resized_imgs_of_good_bad/Test/...</td>\n",
       "    </tr>\n",
       "    <tr>\n",
       "      <td>2</td>\n",
       "      <td>Good Quality</td>\n",
       "      <td>Good Quality</td>\n",
       "      <td>0.999493</td>\n",
       "      <td>NaN</td>\n",
       "      <td>/home/harsh/amk/Resized_imgs_of_good_bad/Test/...</td>\n",
       "    </tr>\n",
       "    <tr>\n",
       "      <td>3</td>\n",
       "      <td>Good Quality</td>\n",
       "      <td>Good Quality</td>\n",
       "      <td>1</td>\n",
       "      <td>NaN</td>\n",
       "      <td>/home/harsh/amk/Resized_imgs_of_good_bad/Test/...</td>\n",
       "    </tr>\n",
       "    <tr>\n",
       "      <td>4</td>\n",
       "      <td>Good Quality</td>\n",
       "      <td>Good Quality</td>\n",
       "      <td>1</td>\n",
       "      <td>NaN</td>\n",
       "      <td>/home/harsh/amk/Resized_imgs_of_good_bad/Test/...</td>\n",
       "    </tr>\n",
       "    <tr>\n",
       "      <td>...</td>\n",
       "      <td>...</td>\n",
       "      <td>...</td>\n",
       "      <td>...</td>\n",
       "      <td>...</td>\n",
       "      <td>...</td>\n",
       "    </tr>\n",
       "    <tr>\n",
       "      <td>1795</td>\n",
       "      <td>Bad Quality</td>\n",
       "      <td>Bad Quality</td>\n",
       "      <td>0.999972</td>\n",
       "      <td>NaN</td>\n",
       "      <td>/home/harsh/amk/Resized_imgs_of_good_bad/Test/...</td>\n",
       "    </tr>\n",
       "    <tr>\n",
       "      <td>1796</td>\n",
       "      <td>Bad Quality</td>\n",
       "      <td>Bad Quality</td>\n",
       "      <td>0.999872</td>\n",
       "      <td>NaN</td>\n",
       "      <td>/home/harsh/amk/Resized_imgs_of_good_bad/Test/...</td>\n",
       "    </tr>\n",
       "    <tr>\n",
       "      <td>1797</td>\n",
       "      <td>Bad Quality</td>\n",
       "      <td>Bad Quality</td>\n",
       "      <td>0.99991</td>\n",
       "      <td>NaN</td>\n",
       "      <td>/home/harsh/amk/Resized_imgs_of_good_bad/Test/...</td>\n",
       "    </tr>\n",
       "    <tr>\n",
       "      <td>1798</td>\n",
       "      <td>Bad Quality</td>\n",
       "      <td>Bad Quality</td>\n",
       "      <td>0.999568</td>\n",
       "      <td>NaN</td>\n",
       "      <td>/home/harsh/amk/Resized_imgs_of_good_bad/Test/...</td>\n",
       "    </tr>\n",
       "    <tr>\n",
       "      <td>1799</td>\n",
       "      <td>Bad Quality</td>\n",
       "      <td>Bad Quality</td>\n",
       "      <td>0.999979</td>\n",
       "      <td>NaN</td>\n",
       "      <td>/home/harsh/amk/Resized_imgs_of_good_bad/Test/...</td>\n",
       "    </tr>\n",
       "  </tbody>\n",
       "</table>\n",
       "<p>1800 rows × 5 columns</p>\n",
       "</div>"
      ],
      "text/plain": [
       "            Actual     Predicted Probability on Prediction Class  \\\n",
       "0     Good Quality  Good Quality                        0.999999   \n",
       "1     Good Quality  Good Quality                        0.999599   \n",
       "2     Good Quality  Good Quality                        0.999493   \n",
       "3     Good Quality  Good Quality                               1   \n",
       "4     Good Quality  Good Quality                               1   \n",
       "...            ...           ...                             ...   \n",
       "1795   Bad Quality   Bad Quality                        0.999972   \n",
       "1796   Bad Quality   Bad Quality                        0.999872   \n",
       "1797   Bad Quality   Bad Quality                         0.99991   \n",
       "1798   Bad Quality   Bad Quality                        0.999568   \n",
       "1799   Bad Quality   Bad Quality                        0.999979   \n",
       "\n",
       "     Probability on Actual Class  \\\n",
       "0                            NaN   \n",
       "1                            NaN   \n",
       "2                            NaN   \n",
       "3                            NaN   \n",
       "4                            NaN   \n",
       "...                          ...   \n",
       "1795                         NaN   \n",
       "1796                         NaN   \n",
       "1797                         NaN   \n",
       "1798                         NaN   \n",
       "1799                         NaN   \n",
       "\n",
       "                                             Image Path  \n",
       "0     /home/harsh/amk/Resized_imgs_of_good_bad/Test/...  \n",
       "1     /home/harsh/amk/Resized_imgs_of_good_bad/Test/...  \n",
       "2     /home/harsh/amk/Resized_imgs_of_good_bad/Test/...  \n",
       "3     /home/harsh/amk/Resized_imgs_of_good_bad/Test/...  \n",
       "4     /home/harsh/amk/Resized_imgs_of_good_bad/Test/...  \n",
       "...                                                 ...  \n",
       "1795  /home/harsh/amk/Resized_imgs_of_good_bad/Test/...  \n",
       "1796  /home/harsh/amk/Resized_imgs_of_good_bad/Test/...  \n",
       "1797  /home/harsh/amk/Resized_imgs_of_good_bad/Test/...  \n",
       "1798  /home/harsh/amk/Resized_imgs_of_good_bad/Test/...  \n",
       "1799  /home/harsh/amk/Resized_imgs_of_good_bad/Test/...  \n",
       "\n",
       "[1800 rows x 5 columns]"
      ]
     },
     "execution_count": 5,
     "metadata": {},
     "output_type": "execute_result"
    }
   ],
   "source": [
    "df_result"
   ]
  },
  {
   "cell_type": "code",
   "execution_count": 9,
   "metadata": {},
   "outputs": [],
   "source": [
    "DoubtFull_Prediction = df_result[(df_result[\"Predicted\"] == 'Good Quality') & \n",
    "                                 (df_result[\"Probability on Prediction Class\"] < 1)&\n",
    "                                 (df_result[\"Probability on Prediction Class\"] > .9950)\n",
    "                                ]\n"
   ]
  },
  {
   "cell_type": "code",
   "execution_count": 10,
   "metadata": {},
   "outputs": [
    {
     "data": {
      "text/html": [
       "<div>\n",
       "<style scoped>\n",
       "    .dataframe tbody tr th:only-of-type {\n",
       "        vertical-align: middle;\n",
       "    }\n",
       "\n",
       "    .dataframe tbody tr th {\n",
       "        vertical-align: top;\n",
       "    }\n",
       "\n",
       "    .dataframe thead th {\n",
       "        text-align: right;\n",
       "    }\n",
       "</style>\n",
       "<table border=\"1\" class=\"dataframe\">\n",
       "  <thead>\n",
       "    <tr style=\"text-align: right;\">\n",
       "      <th></th>\n",
       "      <th>Actual</th>\n",
       "      <th>Predicted</th>\n",
       "      <th>Probability on Prediction Class</th>\n",
       "      <th>Probability on Actual Class</th>\n",
       "      <th>Image Path</th>\n",
       "    </tr>\n",
       "  </thead>\n",
       "  <tbody>\n",
       "    <tr>\n",
       "      <td>0</td>\n",
       "      <td>Good Quality</td>\n",
       "      <td>Good Quality</td>\n",
       "      <td>0.999999</td>\n",
       "      <td>NaN</td>\n",
       "      <td>/home/harsh/amk/Resized_imgs_of_good_bad/Test/...</td>\n",
       "    </tr>\n",
       "    <tr>\n",
       "      <td>1</td>\n",
       "      <td>Good Quality</td>\n",
       "      <td>Good Quality</td>\n",
       "      <td>0.999599</td>\n",
       "      <td>NaN</td>\n",
       "      <td>/home/harsh/amk/Resized_imgs_of_good_bad/Test/...</td>\n",
       "    </tr>\n",
       "    <tr>\n",
       "      <td>2</td>\n",
       "      <td>Good Quality</td>\n",
       "      <td>Good Quality</td>\n",
       "      <td>0.999493</td>\n",
       "      <td>NaN</td>\n",
       "      <td>/home/harsh/amk/Resized_imgs_of_good_bad/Test/...</td>\n",
       "    </tr>\n",
       "    <tr>\n",
       "      <td>5</td>\n",
       "      <td>Good Quality</td>\n",
       "      <td>Good Quality</td>\n",
       "      <td>0.999974</td>\n",
       "      <td>NaN</td>\n",
       "      <td>/home/harsh/amk/Resized_imgs_of_good_bad/Test/...</td>\n",
       "    </tr>\n",
       "    <tr>\n",
       "      <td>7</td>\n",
       "      <td>Good Quality</td>\n",
       "      <td>Good Quality</td>\n",
       "      <td>0.996848</td>\n",
       "      <td>NaN</td>\n",
       "      <td>/home/harsh/amk/Resized_imgs_of_good_bad/Test/...</td>\n",
       "    </tr>\n",
       "    <tr>\n",
       "      <td>...</td>\n",
       "      <td>...</td>\n",
       "      <td>...</td>\n",
       "      <td>...</td>\n",
       "      <td>...</td>\n",
       "      <td>...</td>\n",
       "    </tr>\n",
       "    <tr>\n",
       "      <td>889</td>\n",
       "      <td>Good Quality</td>\n",
       "      <td>Good Quality</td>\n",
       "      <td>0.999992</td>\n",
       "      <td>NaN</td>\n",
       "      <td>/home/harsh/amk/Resized_imgs_of_good_bad/Test/...</td>\n",
       "    </tr>\n",
       "    <tr>\n",
       "      <td>892</td>\n",
       "      <td>Good Quality</td>\n",
       "      <td>Good Quality</td>\n",
       "      <td>0.999479</td>\n",
       "      <td>NaN</td>\n",
       "      <td>/home/harsh/amk/Resized_imgs_of_good_bad/Test/...</td>\n",
       "    </tr>\n",
       "    <tr>\n",
       "      <td>893</td>\n",
       "      <td>Good Quality</td>\n",
       "      <td>Good Quality</td>\n",
       "      <td>1</td>\n",
       "      <td>NaN</td>\n",
       "      <td>/home/harsh/amk/Resized_imgs_of_good_bad/Test/...</td>\n",
       "    </tr>\n",
       "    <tr>\n",
       "      <td>896</td>\n",
       "      <td>Good Quality</td>\n",
       "      <td>Good Quality</td>\n",
       "      <td>0.999979</td>\n",
       "      <td>NaN</td>\n",
       "      <td>/home/harsh/amk/Resized_imgs_of_good_bad/Test/...</td>\n",
       "    </tr>\n",
       "    <tr>\n",
       "      <td>897</td>\n",
       "      <td>Good Quality</td>\n",
       "      <td>Good Quality</td>\n",
       "      <td>1</td>\n",
       "      <td>NaN</td>\n",
       "      <td>/home/harsh/amk/Resized_imgs_of_good_bad/Test/...</td>\n",
       "    </tr>\n",
       "  </tbody>\n",
       "</table>\n",
       "<p>428 rows × 5 columns</p>\n",
       "</div>"
      ],
      "text/plain": [
       "           Actual     Predicted Probability on Prediction Class  \\\n",
       "0    Good Quality  Good Quality                        0.999999   \n",
       "1    Good Quality  Good Quality                        0.999599   \n",
       "2    Good Quality  Good Quality                        0.999493   \n",
       "5    Good Quality  Good Quality                        0.999974   \n",
       "7    Good Quality  Good Quality                        0.996848   \n",
       "..            ...           ...                             ...   \n",
       "889  Good Quality  Good Quality                        0.999992   \n",
       "892  Good Quality  Good Quality                        0.999479   \n",
       "893  Good Quality  Good Quality                               1   \n",
       "896  Good Quality  Good Quality                        0.999979   \n",
       "897  Good Quality  Good Quality                               1   \n",
       "\n",
       "    Probability on Actual Class  \\\n",
       "0                           NaN   \n",
       "1                           NaN   \n",
       "2                           NaN   \n",
       "5                           NaN   \n",
       "7                           NaN   \n",
       "..                          ...   \n",
       "889                         NaN   \n",
       "892                         NaN   \n",
       "893                         NaN   \n",
       "896                         NaN   \n",
       "897                         NaN   \n",
       "\n",
       "                                            Image Path  \n",
       "0    /home/harsh/amk/Resized_imgs_of_good_bad/Test/...  \n",
       "1    /home/harsh/amk/Resized_imgs_of_good_bad/Test/...  \n",
       "2    /home/harsh/amk/Resized_imgs_of_good_bad/Test/...  \n",
       "5    /home/harsh/amk/Resized_imgs_of_good_bad/Test/...  \n",
       "7    /home/harsh/amk/Resized_imgs_of_good_bad/Test/...  \n",
       "..                                                 ...  \n",
       "889  /home/harsh/amk/Resized_imgs_of_good_bad/Test/...  \n",
       "892  /home/harsh/amk/Resized_imgs_of_good_bad/Test/...  \n",
       "893  /home/harsh/amk/Resized_imgs_of_good_bad/Test/...  \n",
       "896  /home/harsh/amk/Resized_imgs_of_good_bad/Test/...  \n",
       "897  /home/harsh/amk/Resized_imgs_of_good_bad/Test/...  \n",
       "\n",
       "[428 rows x 5 columns]"
      ]
     },
     "execution_count": 10,
     "metadata": {},
     "output_type": "execute_result"
    }
   ],
   "source": [
    "DoubtFull_Prediction"
   ]
  },
  {
   "cell_type": "code",
   "execution_count": null,
   "metadata": {},
   "outputs": [],
   "source": []
  },
  {
   "cell_type": "code",
   "execution_count": 13,
   "metadata": {},
   "outputs": [
    {
     "data": {
      "text/plain": [
       "'/home/harsh/amk/Resized_imgs_of_good_bad/Test/Good Quality/ARMD R KARHTI KRISHNAN_K_01-01-1938_0366_(0009).jpg'"
      ]
     },
     "execution_count": 13,
     "metadata": {},
     "output_type": "execute_result"
    }
   ],
   "source": [
    "if DEVI^SMT^TETARI_20161026132442157201005001.png in (glob.glob(good_img_path) + glob.glob(bad_img_path)):\n",
    "    print"
   ]
  },
  {
   "cell_type": "code",
   "execution_count": null,
   "metadata": {},
   "outputs": [],
   "source": []
  },
  {
   "cell_type": "code",
   "execution_count": null,
   "metadata": {},
   "outputs": [],
   "source": []
  },
  {
   "cell_type": "code",
   "execution_count": null,
   "metadata": {},
   "outputs": [],
   "source": []
  },
  {
   "cell_type": "code",
   "execution_count": null,
   "metadata": {},
   "outputs": [],
   "source": []
  },
  {
   "cell_type": "code",
   "execution_count": 85,
   "metadata": {},
   "outputs": [
    {
     "name": "stderr",
     "output_type": "stream",
     "text": [
      "100%|██████████| 344/344 [00:04<00:00, 84.96it/s]\n"
     ]
    }
   ],
   "source": [
    "src_path = '/home/harsh/amk/disease/Valid/CHOROIDITIS/*'\n",
    "des_path = '/home/harsh/amk/prepro_disease/Valid/CHOROIDITIS/'\n",
    "\n",
    "prepro_imgs(src_path, des_path)"
   ]
  },
  {
   "cell_type": "code",
   "execution_count": null,
   "metadata": {},
   "outputs": [],
   "source": []
  },
  {
   "cell_type": "code",
   "execution_count": null,
   "metadata": {},
   "outputs": [],
   "source": []
  },
  {
   "cell_type": "code",
   "execution_count": null,
   "metadata": {},
   "outputs": [],
   "source": []
  },
  {
   "cell_type": "code",
   "execution_count": null,
   "metadata": {},
   "outputs": [],
   "source": []
  },
  {
   "cell_type": "code",
   "execution_count": 64,
   "metadata": {},
   "outputs": [
    {
     "data": {
      "text/plain": [
       "1.0"
      ]
     },
     "execution_count": 64,
     "metadata": {},
     "output_type": "execute_result"
    }
   ],
   "source": [
    "total_bad_imgs/(total_bad_imgs+total_good_imgs)"
   ]
  },
  {
   "cell_type": "code",
   "execution_count": 76,
   "metadata": {},
   "outputs": [
    {
     "data": {
      "text/plain": [
       "'Good Quality'"
      ]
     },
     "execution_count": 76,
     "metadata": {},
     "output_type": "execute_result"
    }
   ],
   "source": [
    "str(result_of_pred[10])"
   ]
  },
  {
   "cell_type": "code",
   "execution_count": null,
   "metadata": {},
   "outputs": [],
   "source": []
  },
  {
   "cell_type": "code",
   "execution_count": null,
   "metadata": {},
   "outputs": [],
   "source": []
  },
  {
   "cell_type": "code",
   "execution_count": null,
   "metadata": {},
   "outputs": [],
   "source": []
  },
  {
   "cell_type": "code",
   "execution_count": null,
   "metadata": {},
   "outputs": [],
   "source": []
  },
  {
   "cell_type": "code",
   "execution_count": null,
   "metadata": {},
   "outputs": [],
   "source": []
  },
  {
   "cell_type": "code",
   "execution_count": null,
   "metadata": {},
   "outputs": [],
   "source": []
  },
  {
   "cell_type": "code",
   "execution_count": null,
   "metadata": {},
   "outputs": [],
   "source": [
    "wrong_predicted_img = cv2.imread(str(wrong_predicted.iloc[18, -1]))\n",
    "cv2.imshow(\"Wrong Predicted Images \", wrong_predicted_img)\n",
    "cv2.waitKey(0)\n",
    "cv2.destroyAllWindows()"
   ]
  },
  {
   "cell_type": "code",
   "execution_count": 143,
   "metadata": {},
   "outputs": [
    {
     "data": {
      "text/plain": [
       "PosixPath('/home/harsh/amk/Resized_imgs_of_good_bad/Test/Good Quality/^RIYAJUDIN_20170105120825164001004001.png')"
      ]
     },
     "execution_count": 143,
     "metadata": {},
     "output_type": "execute_result"
    }
   ],
   "source": [
    "wrong_predicted.iloc[0, -1]"
   ]
  },
  {
   "cell_type": "code",
   "execution_count": 79,
   "metadata": {},
   "outputs": [
    {
     "data": {
      "image/jpeg": "[encoded data removed]",
      "image/png": "[encoded data removed]",
      "text/plain": [
       "Image (3, 128, 128)"
      ]
     },
     "execution_count": 79,
     "metadata": {},
     "output_type": "execute_result"
    }
   ],
   "source": [
    "data.test_ds.x[3]"
   ]
  },
  {
   "cell_type": "code",
   "execution_count": 55,
   "metadata": {},
   "outputs": [],
   "source": [
    "rs18_learn.save(\"rs18_model\")"
   ]
  },
  {
   "cell_type": "code",
   "execution_count": 56,
   "metadata": {},
   "outputs": [
    {
     "data": {
      "text/plain": [
       "Learner(data=ImageDataBunch;\n",
       "\n",
       "Train: LabelList (9737 items)\n",
       "x: ImageList\n",
       "Image (3, 128, 128),Image (3, 128, 128),Image (3, 128, 128),Image (3, 128, 128),Image (3, 128, 128)\n",
       "y: CategoryList\n",
       "Good Quality,Good Quality,Good Quality,Good Quality,Good Quality\n",
       "Path: /home/harsh/amk/Resized_imgs_of_good_bad;\n",
       "\n",
       "Valid: LabelList (2434 items)\n",
       "x: ImageList\n",
       "Image (3, 128, 128),Image (3, 128, 128),Image (3, 128, 128),Image (3, 128, 128),Image (3, 128, 128)\n",
       "y: CategoryList\n",
       "Good Quality,Bad Quality,Good Quality,Bad Quality,Good Quality\n",
       "Path: /home/harsh/amk/Resized_imgs_of_good_bad;\n",
       "\n",
       "Test: LabelList (1900 items)\n",
       "x: ImageList\n",
       "Image (3, 128, 128),Image (3, 128, 128),Image (3, 128, 128),Image (3, 128, 128),Image (3, 128, 128)\n",
       "y: EmptyLabelList\n",
       ",,,,\n",
       "Path: /home/harsh/amk/Resized_imgs_of_good_bad, model=Sequential(\n",
       "  (0): Sequential(\n",
       "    (0): Sequential(\n",
       "      (0): Conv2d(3, 64, kernel_size=(3, 3), stride=(2, 2))\n",
       "      (1): ReLU(inplace=True)\n",
       "      (2): MaxPool2d(kernel_size=3, stride=2, padding=0, dilation=1, ceil_mode=True)\n",
       "      (3): Fire(\n",
       "        (squeeze): Conv2d(64, 16, kernel_size=(1, 1), stride=(1, 1))\n",
       "        (squeeze_activation): ReLU(inplace=True)\n",
       "        (expand1x1): Conv2d(16, 64, kernel_size=(1, 1), stride=(1, 1))\n",
       "        (expand1x1_activation): ReLU(inplace=True)\n",
       "        (expand3x3): Conv2d(16, 64, kernel_size=(3, 3), stride=(1, 1), padding=(1, 1))\n",
       "        (expand3x3_activation): ReLU(inplace=True)\n",
       "      )\n",
       "      (4): Fire(\n",
       "        (squeeze): Conv2d(128, 16, kernel_size=(1, 1), stride=(1, 1))\n",
       "        (squeeze_activation): ReLU(inplace=True)\n",
       "        (expand1x1): Conv2d(16, 64, kernel_size=(1, 1), stride=(1, 1))\n",
       "        (expand1x1_activation): ReLU(inplace=True)\n",
       "        (expand3x3): Conv2d(16, 64, kernel_size=(3, 3), stride=(1, 1), padding=(1, 1))\n",
       "        (expand3x3_activation): ReLU(inplace=True)\n",
       "      )\n",
       "      (5): MaxPool2d(kernel_size=3, stride=2, padding=0, dilation=1, ceil_mode=True)\n",
       "      (6): Fire(\n",
       "        (squeeze): Conv2d(128, 32, kernel_size=(1, 1), stride=(1, 1))\n",
       "        (squeeze_activation): ReLU(inplace=True)\n",
       "        (expand1x1): Conv2d(32, 128, kernel_size=(1, 1), stride=(1, 1))\n",
       "        (expand1x1_activation): ReLU(inplace=True)\n",
       "        (expand3x3): Conv2d(32, 128, kernel_size=(3, 3), stride=(1, 1), padding=(1, 1))\n",
       "        (expand3x3_activation): ReLU(inplace=True)\n",
       "      )\n",
       "      (7): Fire(\n",
       "        (squeeze): Conv2d(256, 32, kernel_size=(1, 1), stride=(1, 1))\n",
       "        (squeeze_activation): ReLU(inplace=True)\n",
       "        (expand1x1): Conv2d(32, 128, kernel_size=(1, 1), stride=(1, 1))\n",
       "        (expand1x1_activation): ReLU(inplace=True)\n",
       "        (expand3x3): Conv2d(32, 128, kernel_size=(3, 3), stride=(1, 1), padding=(1, 1))\n",
       "        (expand3x3_activation): ReLU(inplace=True)\n",
       "      )\n",
       "      (8): MaxPool2d(kernel_size=3, stride=2, padding=0, dilation=1, ceil_mode=True)\n",
       "      (9): Fire(\n",
       "        (squeeze): Conv2d(256, 48, kernel_size=(1, 1), stride=(1, 1))\n",
       "        (squeeze_activation): ReLU(inplace=True)\n",
       "        (expand1x1): Conv2d(48, 192, kernel_size=(1, 1), stride=(1, 1))\n",
       "        (expand1x1_activation): ReLU(inplace=True)\n",
       "        (expand3x3): Conv2d(48, 192, kernel_size=(3, 3), stride=(1, 1), padding=(1, 1))\n",
       "        (expand3x3_activation): ReLU(inplace=True)\n",
       "      )\n",
       "      (10): Fire(\n",
       "        (squeeze): Conv2d(384, 48, kernel_size=(1, 1), stride=(1, 1))\n",
       "        (squeeze_activation): ReLU(inplace=True)\n",
       "        (expand1x1): Conv2d(48, 192, kernel_size=(1, 1), stride=(1, 1))\n",
       "        (expand1x1_activation): ReLU(inplace=True)\n",
       "        (expand3x3): Conv2d(48, 192, kernel_size=(3, 3), stride=(1, 1), padding=(1, 1))\n",
       "        (expand3x3_activation): ReLU(inplace=True)\n",
       "      )\n",
       "      (11): Fire(\n",
       "        (squeeze): Conv2d(384, 64, kernel_size=(1, 1), stride=(1, 1))\n",
       "        (squeeze_activation): ReLU(inplace=True)\n",
       "        (expand1x1): Conv2d(64, 256, kernel_size=(1, 1), stride=(1, 1))\n",
       "        (expand1x1_activation): ReLU(inplace=True)\n",
       "        (expand3x3): Conv2d(64, 256, kernel_size=(3, 3), stride=(1, 1), padding=(1, 1))\n",
       "        (expand3x3_activation): ReLU(inplace=True)\n",
       "      )\n",
       "      (12): Fire(\n",
       "        (squeeze): Conv2d(512, 64, kernel_size=(1, 1), stride=(1, 1))\n",
       "        (squeeze_activation): ReLU(inplace=True)\n",
       "        (expand1x1): Conv2d(64, 256, kernel_size=(1, 1), stride=(1, 1))\n",
       "        (expand1x1_activation): ReLU(inplace=True)\n",
       "        (expand3x3): Conv2d(64, 256, kernel_size=(3, 3), stride=(1, 1), padding=(1, 1))\n",
       "        (expand3x3_activation): ReLU(inplace=True)\n",
       "      )\n",
       "    )\n",
       "  )\n",
       "  (1): Sequential(\n",
       "    (0): AdaptiveConcatPool2d(\n",
       "      (ap): AdaptiveAvgPool2d(output_size=1)\n",
       "      (mp): AdaptiveMaxPool2d(output_size=1)\n",
       "    )\n",
       "    (1): Flatten()\n",
       "    (2): BatchNorm1d(1024, eps=1e-05, momentum=0.1, affine=True, track_running_stats=True)\n",
       "    (3): Dropout(p=0.25, inplace=False)\n",
       "    (4): Linear(in_features=1024, out_features=512, bias=True)\n",
       "    (5): ReLU(inplace=True)\n",
       "    (6): BatchNorm1d(512, eps=1e-05, momentum=0.1, affine=True, track_running_stats=True)\n",
       "    (7): Dropout(p=0.5, inplace=False)\n",
       "    (8): Linear(in_features=512, out_features=2, bias=True)\n",
       "  )\n",
       "), opt_func=functools.partial(<class 'torch.optim.adam.Adam'>, betas=(0.9, 0.99)), loss_func=FlattenedLoss of CrossEntropyLoss(), metrics=[<function error_rate at 0x7f53742b3b00>, <function accuracy at 0x7f53d24e43b0>, AUROC(), Recall(average='binary', pos_label=1, eps=1e-09), Precision(average='binary', pos_label=1, eps=1e-09), MatthewsCorreff()], true_wd=True, bn_wd=True, wd=0.01, train_bn=True, path=PosixPath('/home/harsh/amk/Resized_imgs_of_good_bad'), model_dir='models', callback_fns=[functools.partial(<class 'fastai.basic_train.Recorder'>, add_time=True, silent=False), <class 'fastai.train.ShowGraph'>], callbacks=[], layer_groups=[Sequential(\n",
       "  (0): Conv2d(3, 64, kernel_size=(3, 3), stride=(2, 2))\n",
       "  (1): ReLU(inplace=True)\n",
       "  (2): MaxPool2d(kernel_size=3, stride=2, padding=0, dilation=1, ceil_mode=True)\n",
       "  (3): Conv2d(64, 16, kernel_size=(1, 1), stride=(1, 1))\n",
       "  (4): ReLU(inplace=True)\n",
       "  (5): Conv2d(16, 64, kernel_size=(1, 1), stride=(1, 1))\n",
       "  (6): ReLU(inplace=True)\n",
       "  (7): Conv2d(16, 64, kernel_size=(3, 3), stride=(1, 1), padding=(1, 1))\n",
       "  (8): ReLU(inplace=True)\n",
       "  (9): Conv2d(128, 16, kernel_size=(1, 1), stride=(1, 1))\n",
       "  (10): ReLU(inplace=True)\n",
       "  (11): Conv2d(16, 64, kernel_size=(1, 1), stride=(1, 1))\n",
       "  (12): ReLU(inplace=True)\n",
       "  (13): Conv2d(16, 64, kernel_size=(3, 3), stride=(1, 1), padding=(1, 1))\n",
       "  (14): ReLU(inplace=True)\n",
       "), Sequential(\n",
       "  (0): MaxPool2d(kernel_size=3, stride=2, padding=0, dilation=1, ceil_mode=True)\n",
       "  (1): Conv2d(128, 32, kernel_size=(1, 1), stride=(1, 1))\n",
       "  (2): ReLU(inplace=True)\n",
       "  (3): Conv2d(32, 128, kernel_size=(1, 1), stride=(1, 1))\n",
       "  (4): ReLU(inplace=True)\n",
       "  (5): Conv2d(32, 128, kernel_size=(3, 3), stride=(1, 1), padding=(1, 1))\n",
       "  (6): ReLU(inplace=True)\n",
       "  (7): Conv2d(256, 32, kernel_size=(1, 1), stride=(1, 1))\n",
       "  (8): ReLU(inplace=True)\n",
       "  (9): Conv2d(32, 128, kernel_size=(1, 1), stride=(1, 1))\n",
       "  (10): ReLU(inplace=True)\n",
       "  (11): Conv2d(32, 128, kernel_size=(3, 3), stride=(1, 1), padding=(1, 1))\n",
       "  (12): ReLU(inplace=True)\n",
       "), Sequential(\n",
       "  (0): MaxPool2d(kernel_size=3, stride=2, padding=0, dilation=1, ceil_mode=True)\n",
       "  (1): Conv2d(256, 48, kernel_size=(1, 1), stride=(1, 1))\n",
       "  (2): ReLU(inplace=True)\n",
       "  (3): Conv2d(48, 192, kernel_size=(1, 1), stride=(1, 1))\n",
       "  (4): ReLU(inplace=True)\n",
       "  (5): Conv2d(48, 192, kernel_size=(3, 3), stride=(1, 1), padding=(1, 1))\n",
       "  (6): ReLU(inplace=True)\n",
       "  (7): Conv2d(384, 48, kernel_size=(1, 1), stride=(1, 1))\n",
       "  (8): ReLU(inplace=True)\n",
       "  (9): Conv2d(48, 192, kernel_size=(1, 1), stride=(1, 1))\n",
       "  (10): ReLU(inplace=True)\n",
       "  (11): Conv2d(48, 192, kernel_size=(3, 3), stride=(1, 1), padding=(1, 1))\n",
       "  (12): ReLU(inplace=True)\n",
       "  (13): Conv2d(384, 64, kernel_size=(1, 1), stride=(1, 1))\n",
       "  (14): ReLU(inplace=True)\n",
       "  (15): Conv2d(64, 256, kernel_size=(1, 1), stride=(1, 1))\n",
       "  (16): ReLU(inplace=True)\n",
       "  (17): Conv2d(64, 256, kernel_size=(3, 3), stride=(1, 1), padding=(1, 1))\n",
       "  (18): ReLU(inplace=True)\n",
       "  (19): Conv2d(512, 64, kernel_size=(1, 1), stride=(1, 1))\n",
       "  (20): ReLU(inplace=True)\n",
       "  (21): Conv2d(64, 256, kernel_size=(1, 1), stride=(1, 1))\n",
       "  (22): ReLU(inplace=True)\n",
       "  (23): Conv2d(64, 256, kernel_size=(3, 3), stride=(1, 1), padding=(1, 1))\n",
       "  (24): ReLU(inplace=True)\n",
       "), Sequential(\n",
       "  (0): AdaptiveAvgPool2d(output_size=1)\n",
       "  (1): AdaptiveMaxPool2d(output_size=1)\n",
       "  (2): Flatten()\n",
       "  (3): BatchNorm1d(1024, eps=1e-05, momentum=0.1, affine=True, track_running_stats=True)\n",
       "  (4): Dropout(p=0.25, inplace=False)\n",
       "  (5): Linear(in_features=1024, out_features=512, bias=True)\n",
       "  (6): ReLU(inplace=True)\n",
       "  (7): BatchNorm1d(512, eps=1e-05, momentum=0.1, affine=True, track_running_stats=True)\n",
       "  (8): Dropout(p=0.5, inplace=False)\n",
       "  (9): Linear(in_features=512, out_features=2, bias=True)\n",
       ")], add_time=True, silent=False)"
      ]
     },
     "execution_count": 56,
     "metadata": {},
     "output_type": "execute_result"
    }
   ],
   "source": [
    "rs18_learn.load(\"rs18_model\")"
   ]
  },
  {
   "cell_type": "code",
   "execution_count": null,
   "metadata": {},
   "outputs": [],
   "source": []
  },
  {
   "cell_type": "code",
   "execution_count": null,
   "metadata": {},
   "outputs": [],
   "source": []
  },
  {
   "cell_type": "code",
   "execution_count": null,
   "metadata": {},
   "outputs": [],
   "source": []
  },
  {
   "cell_type": "code",
   "execution_count": null,
   "metadata": {},
   "outputs": [],
   "source": []
  },
  {
   "cell_type": "code",
   "execution_count": null,
   "metadata": {},
   "outputs": [],
   "source": []
  },
  {
   "cell_type": "code",
   "execution_count": 30,
   "metadata": {},
   "outputs": [
    {
     "data": {
      "text/html": [],
      "text/plain": [
       "<IPython.core.display.HTML object>"
      ]
     },
     "metadata": {},
     "output_type": "display_data"
    }
   ],
   "source": [
    "interp = ClassificationInterpretation.from_learner(rs18_learn)\n",
    "#interp.plot_top_losses()"
   ]
  },
  {
   "cell_type": "code",
   "execution_count": 31,
   "metadata": {},
   "outputs": [
    {
     "data": {
      "text/plain": [
       "array([[1022,   69],\n",
       "       [  73, 1270]])"
      ]
     },
     "execution_count": 31,
     "metadata": {},
     "output_type": "execute_result"
    }
   ],
   "source": [
    "interp.confusion_matrix()"
   ]
  },
  {
   "cell_type": "code",
   "execution_count": 46,
   "metadata": {},
   "outputs": [
    {
     "data": {
      "text/html": [],
      "text/plain": [
       "<IPython.core.display.HTML object>"
      ]
     },
     "metadata": {},
     "output_type": "display_data"
    }
   ],
   "source": [
    "interp = ClassificationInterpretation.from_learner(rs18_learn,ds_type= DatasetType.Test)"
   ]
  },
  {
   "cell_type": "code",
   "execution_count": 6,
   "metadata": {},
   "outputs": [],
   "source": [
    "pole_path_dir = '/home/harsh/amk/Resized_imgs_of_good_bad/'\n",
    "pole_path = Path(pole_path_dir)\n"
   ]
  },
  {
   "cell_type": "code",
   "execution_count": null,
   "metadata": {},
   "outputs": [],
   "source": []
  },
  {
   "cell_type": "code",
   "execution_count": null,
   "metadata": {},
   "outputs": [],
   "source": []
  },
  {
   "cell_type": "code",
   "execution_count": null,
   "metadata": {},
   "outputs": [],
   "source": []
  },
  {
   "cell_type": "code",
   "execution_count": null,
   "metadata": {},
   "outputs": [],
   "source": []
  },
  {
   "cell_type": "markdown",
   "metadata": {},
   "source": [
    "# Data Augmentation"
   ]
  },
  {
   "cell_type": "code",
   "execution_count": 120,
   "metadata": {},
   "outputs": [
    {
     "data": {
      "text/plain": [
       "2"
      ]
     },
     "execution_count": 120,
     "metadata": {},
     "output_type": "execute_result"
    }
   ],
   "source": [
    "tfms = get_transforms(do_flip = True, max_rotate=10)\n",
    "len(tfms)\n"
   ]
  },
  {
   "cell_type": "code",
   "execution_count": 121,
   "metadata": {},
   "outputs": [],
   "source": [
    "def get_ex(): return open_image('/home/harsh/amk/Resized_imgs_of_good_bad/Test/Good Quality/0002CR0D (65).jpg')\n",
    "\n",
    "def plots_f(rows, cols, width, height, **kwargs):\n",
    "    [get_ex().apply_tfms(tfms[0], **kwargs).show(ax=ax) for i,ax in enumerate(plt.subplots(\n",
    "        rows,cols,figsize=(width,height))[1].flatten())]"
   ]
  },
  {
   "cell_type": "code",
   "execution_count": 122,
   "metadata": {},
   "outputs": [
    {
     "data": {
      "image/png": "[encoded data removed]",
      "text/plain": [
       "<Figure size 864x432 with 8 Axes>"
      ]
     },
     "metadata": {
      "needs_background": "light"
     },
     "output_type": "display_data"
    }
   ],
   "source": [
    "plots_f(2, 4, 12, 6)"
   ]
  },
  {
   "cell_type": "code",
   "execution_count": null,
   "metadata": {},
   "outputs": [],
   "source": []
  },
  {
   "cell_type": "code",
   "execution_count": null,
   "metadata": {},
   "outputs": [],
   "source": []
  },
  {
   "cell_type": "code",
   "execution_count": null,
   "metadata": {},
   "outputs": [],
   "source": []
  },
  {
   "cell_type": "code",
   "execution_count": null,
   "metadata": {},
   "outputs": [],
   "source": []
  },
  {
   "cell_type": "code",
   "execution_count": null,
   "metadata": {},
   "outputs": [],
   "source": []
  },
  {
   "cell_type": "code",
   "execution_count": null,
   "metadata": {},
   "outputs": [],
   "source": []
  }
 ],
 "metadata": {
  "kernelspec": {
   "display_name": "Python 3",
   "language": "python",
   "name": "python3"
  },
  "language_info": {
   "codemirror_mode": {
    "name": "ipython",
    "version": 3
   },
   "file_extension": ".py",
   "mimetype": "text/x-python",
   "name": "python",
   "nbconvert_exporter": "python",
   "pygments_lexer": "ipython3",
   "version": "3.7.4"
  }
 },
 "nbformat": 4,
 "nbformat_minor": 2
}
