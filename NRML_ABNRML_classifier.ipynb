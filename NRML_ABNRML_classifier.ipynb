{
 "cells": [
  {
   "cell_type": "code",
   "execution_count": 1,
   "metadata": {},
   "outputs": [],
   "source": [
    "from tqdm import tqdm\n",
    "import glob\n",
    "import cv2\n",
    "import os\n",
    "from fastai.vision import *\n",
    "from fastai.vision.models import *\n",
    "import python_utils\n",
    "from utils import *\n",
    "import torch\n",
    "import pretrainedmodels.utils as utils \n",
    "from torchvision import models\n",
    "import torch\n",
    "from sklearn.metrics import roc_curve\n",
    "from sklearn.metrics import roc_auc_score\n",
    "import pretrainedmodels\n",
    "from fastai.callbacks import EarlyStoppingCallback,SaveModelCallback,TerminateOnNaNCallback,OverSamplingCallback,CSVLogger"
   ]
  },
  {
   "cell_type": "code",
   "execution_count": 8,
   "metadata": {},
   "outputs": [],
   "source": [
    "path = '/home/harsh/amk/base_dataset/Train_2/'\n",
    "inp_path = Path(path)\n"
   ]
  },
  {
   "cell_type": "code",
   "execution_count": 9,
   "metadata": {},
   "outputs": [],
   "source": [
    "data =  ImageDataBunch.from_folder(inp_path, train = 'Train_2',\n",
    "                                         valid_pct=0.2, \\\n",
    "                                         #ds_tfms=get_transforms(), \\\n",
    "                                         size = (128,128), \\\n",
    "                                         bs = 10, num_workers=4).normalize(imagenet_stats)"
   ]
  },
  {
   "cell_type": "code",
   "execution_count": 10,
   "metadata": {},
   "outputs": [],
   "source": [
    "#model_list = [models.squeezenet1_0, models.densenet161, models.]\n",
    "learn = cnn_learner(data, models.densenet161,callback_fns=ShowGraph, \\\n",
    "                             metrics=[error_rate, accuracy, AUROC(), Recall(), \\\n",
    "                             Precision(),MatthewsCorreff()])\n",
    "defaults.device = torch.device('cuda')"
   ]
  },
  {
   "cell_type": "code",
   "execution_count": 11,
   "metadata": {},
   "outputs": [
    {
     "data": {
      "text/html": [
       "<table border=\"1\" class=\"dataframe\">\n",
       "  <thead>\n",
       "    <tr style=\"text-align: left;\">\n",
       "      <th>epoch</th>\n",
       "      <th>train_loss</th>\n",
       "      <th>valid_loss</th>\n",
       "      <th>error_rate</th>\n",
       "      <th>accuracy</th>\n",
       "      <th>auroc</th>\n",
       "      <th>recall</th>\n",
       "      <th>precision</th>\n",
       "      <th>matthews_correff</th>\n",
       "      <th>time</th>\n",
       "    </tr>\n",
       "  </thead>\n",
       "  <tbody>\n",
       "    <tr>\n",
       "      <td>0</td>\n",
       "      <td>0.585768</td>\n",
       "      <td>0.717062</td>\n",
       "      <td>0.245250</td>\n",
       "      <td>0.754750</td>\n",
       "      <td>0.099683</td>\n",
       "      <td>0.826223</td>\n",
       "      <td>0.715601</td>\n",
       "      <td>0.599227</td>\n",
       "      <td>01:37</td>\n",
       "    </tr>\n",
       "    <tr>\n",
       "      <td>1</td>\n",
       "      <td>0.415233</td>\n",
       "      <td>0.525758</td>\n",
       "      <td>0.196891</td>\n",
       "      <td>0.803109</td>\n",
       "      <td>0.145220</td>\n",
       "      <td>0.830806</td>\n",
       "      <td>0.771283</td>\n",
       "      <td>0.659632</td>\n",
       "      <td>01:52</td>\n",
       "    </tr>\n",
       "    <tr>\n",
       "      <td>2</td>\n",
       "      <td>0.454788</td>\n",
       "      <td>0.403669</td>\n",
       "      <td>0.168394</td>\n",
       "      <td>0.831606</td>\n",
       "      <td>0.140476</td>\n",
       "      <td>0.842815</td>\n",
       "      <td>0.817500</td>\n",
       "      <td>0.695991</td>\n",
       "      <td>02:04</td>\n",
       "    </tr>\n",
       "    <tr>\n",
       "      <td>3</td>\n",
       "      <td>0.323918</td>\n",
       "      <td>0.522845</td>\n",
       "      <td>0.177893</td>\n",
       "      <td>0.822107</td>\n",
       "      <td>0.183545</td>\n",
       "      <td>0.856660</td>\n",
       "      <td>0.816437</td>\n",
       "      <td>0.691100</td>\n",
       "      <td>02:07</td>\n",
       "    </tr>\n",
       "    <tr>\n",
       "      <td>4</td>\n",
       "      <td>0.239270</td>\n",
       "      <td>0.478487</td>\n",
       "      <td>0.153713</td>\n",
       "      <td>0.846287</td>\n",
       "      <td>0.078342</td>\n",
       "      <td>0.851305</td>\n",
       "      <td>0.835691</td>\n",
       "      <td>0.714682</td>\n",
       "      <td>02:12</td>\n",
       "    </tr>\n",
       "    <tr>\n",
       "      <td>5</td>\n",
       "      <td>0.178429</td>\n",
       "      <td>0.451309</td>\n",
       "      <td>0.157168</td>\n",
       "      <td>0.842832</td>\n",
       "      <td>0.154912</td>\n",
       "      <td>0.840787</td>\n",
       "      <td>0.859181</td>\n",
       "      <td>0.707845</td>\n",
       "      <td>02:19</td>\n",
       "    </tr>\n",
       "    <tr>\n",
       "      <td>6</td>\n",
       "      <td>0.150986</td>\n",
       "      <td>0.483047</td>\n",
       "      <td>0.152850</td>\n",
       "      <td>0.847150</td>\n",
       "      <td>0.152751</td>\n",
       "      <td>0.848781</td>\n",
       "      <td>0.857527</td>\n",
       "      <td>0.714640</td>\n",
       "      <td>02:17</td>\n",
       "    </tr>\n",
       "    <tr>\n",
       "      <td>7</td>\n",
       "      <td>0.128635</td>\n",
       "      <td>0.496452</td>\n",
       "      <td>0.148532</td>\n",
       "      <td>0.851468</td>\n",
       "      <td>0.141905</td>\n",
       "      <td>0.851675</td>\n",
       "      <td>0.858175</td>\n",
       "      <td>0.723343</td>\n",
       "      <td>02:12</td>\n",
       "    </tr>\n",
       "    <tr>\n",
       "      <td>8</td>\n",
       "      <td>0.084800</td>\n",
       "      <td>0.515966</td>\n",
       "      <td>0.145941</td>\n",
       "      <td>0.854059</td>\n",
       "      <td>0.144921</td>\n",
       "      <td>0.865330</td>\n",
       "      <td>0.856489</td>\n",
       "      <td>0.731240</td>\n",
       "      <td>02:09</td>\n",
       "    </tr>\n",
       "    <tr>\n",
       "      <td>9</td>\n",
       "      <td>0.124976</td>\n",
       "      <td>0.531836</td>\n",
       "      <td>0.140760</td>\n",
       "      <td>0.859240</td>\n",
       "      <td>0.131155</td>\n",
       "      <td>0.872558</td>\n",
       "      <td>0.855521</td>\n",
       "      <td>0.740634</td>\n",
       "      <td>02:10</td>\n",
       "    </tr>\n",
       "  </tbody>\n",
       "</table>"
      ],
      "text/plain": [
       "<IPython.core.display.HTML object>"
      ]
     },
     "metadata": {},
     "output_type": "display_data"
    },
    {
     "name": "stderr",
     "output_type": "stream",
     "text": [
      "/home/harsh/anaconda3/lib/python3.7/site-packages/fastai/metrics.py:191: UserWarning: average=`binary` was selected for a non binary case. Value for average has now been set to `macro` instead.\n",
      "  warn(\"average=`binary` was selected for a non binary case. Value for average has now been set to `macro` instead.\")\n"
     ]
    },
    {
     "data": {
      "image/png": "[encoded data removed]",
      "text/plain": [
       "<Figure size 432x288 with 1 Axes>"
      ]
     },
     "metadata": {},
     "output_type": "display_data"
    }
   ],
   "source": [
    "\n",
    "learn.fit_one_cycle(10, callbacks=[OverSamplingCallback(learn),  TerminateOnNaNCallback(),CSVLogger(learn)])"
   ]
  },
  {
   "cell_type": "code",
   "execution_count": 6,
   "metadata": {},
   "outputs": [
    {
     "data": {
      "text/html": [],
      "text/plain": [
       "<IPython.core.display.HTML object>"
      ]
     },
     "metadata": {},
     "output_type": "display_data"
    }
   ],
   "source": [
    "interp = ClassificationInterpretation.from_learner(learn)"
   ]
  },
  {
   "cell_type": "code",
   "execution_count": 7,
   "metadata": {},
   "outputs": [
    {
     "data": {
      "image/png": "[encoded data removed]",
      "text/plain": [
       "<Figure size 432x288 with 1 Axes>"
      ]
     },
     "metadata": {
      "needs_background": "light"
     },
     "output_type": "display_data"
    }
   ],
   "source": [
    "interp.plot_confusion_matrix()"
   ]
  },
  {
   "cell_type": "code",
   "execution_count": 14,
   "metadata": {},
   "outputs": [],
   "source": [
    "from efficientnet_pytorch import EfficientNet"
   ]
  },
  {
   "cell_type": "code",
   "execution_count": 13,
   "metadata": {},
   "outputs": [
    {
     "name": "stdout",
     "output_type": "stream",
     "text": [
      "Collecting efficientnet-pytorch\n",
      "  Downloading https://files.pythonhosted.org/packages/e5/b7/c7cc9d8a95b7cfe4392c28fd5ff1854061aa75e81acf8d7539adb7612f20/efficientnet_pytorch-0.6.1.tar.gz\n",
      "Requirement already satisfied, skipping upgrade: torch in /home/harsh/anaconda3/lib/python3.7/site-packages (from efficientnet-pytorch) (1.3.1)\n",
      "Requirement already satisfied, skipping upgrade: numpy in /home/harsh/anaconda3/lib/python3.7/site-packages (from torch->efficientnet-pytorch) (1.17.4)\n",
      "Building wheels for collected packages: efficientnet-pytorch\n",
      "  Building wheel for efficientnet-pytorch (setup.py) ... \u001b[?25ldone\n",
      "\u001b[?25h  Created wheel for efficientnet-pytorch: filename=efficientnet_pytorch-0.6.1-cp37-none-any.whl size=12408 sha256=3d6732e8de2a1911f7c22a32260f1bae27f159b9c38ae4a90341e6e3095a3f41\n",
      "  Stored in directory: /home/harsh/.cache/pip/wheels/0f/b0/79/1663bc9714b5d88deba05e44f593ce50111bd69305a45df87a\n",
      "Successfully built efficientnet-pytorch\n",
      "Installing collected packages: efficientnet-pytorch\n",
      "Successfully installed efficientnet-pytorch-0.6.1\n",
      "Note: you may need to restart the kernel to use updated packages.\n"
     ]
    }
   ],
   "source": [
    "pip install --upgrade efficientnet-pytorch"
   ]
  },
  {
   "cell_type": "code",
   "execution_count": 15,
   "metadata": {},
   "outputs": [
    {
     "name": "stderr",
     "output_type": "stream",
     "text": [
      "Downloading: \"https://publicmodels.blob.core.windows.net/container/aa/efficientnet-b0-355c32eb.pth\" to /home/harsh/.cache/torch/checkpoints/efficientnet-b0-355c32eb.pth\n",
      "100%|██████████| 20.4M/20.4M [01:31<00:00, 234kB/s] "
     ]
    },
    {
     "name": "stdout",
     "output_type": "stream",
     "text": [
      "Loaded pretrained weights for efficientnet-b0\n"
     ]
    },
    {
     "name": "stderr",
     "output_type": "stream",
     "text": [
      "\n"
     ]
    }
   ],
   "source": [
    "from efficientnet_pytorch import EfficientNet\n",
    "model = EfficientNet.from_pretrained('efficientnet-b0')"
   ]
  },
  {
   "cell_type": "code",
   "execution_count": null,
   "metadata": {},
   "outputs": [],
   "source": []
  },
  {
   "cell_type": "code",
   "execution_count": null,
   "metadata": {},
   "outputs": [],
   "source": []
  },
  {
   "cell_type": "code",
   "execution_count": null,
   "metadata": {},
   "outputs": [],
   "source": []
  },
  {
   "cell_type": "code",
   "execution_count": null,
   "metadata": {},
   "outputs": [],
   "source": []
  },
  {
   "cell_type": "code",
   "execution_count": null,
   "metadata": {},
   "outputs": [],
   "source": []
  },
  {
   "cell_type": "code",
   "execution_count": null,
   "metadata": {},
   "outputs": [],
   "source": []
  }
 ],
 "metadata": {
  "kernelspec": {
   "display_name": "Python 3",
   "language": "python",
   "name": "python3"
  },
  "language_info": {
   "codemirror_mode": {
    "name": "ipython",
    "version": 3
   },
   "file_extension": ".py",
   "mimetype": "text/x-python",
   "name": "python",
   "nbconvert_exporter": "python",
   "pygments_lexer": "ipython3",
   "version": "3.7.4"
  }
 },
 "nbformat": 4,
 "nbformat_minor": 2
}
